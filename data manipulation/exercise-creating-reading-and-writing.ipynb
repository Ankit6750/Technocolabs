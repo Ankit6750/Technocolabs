{
 "cells": [
  {
   "cell_type": "markdown",
   "id": "5494d75f",
   "metadata": {
    "papermill": {
     "duration": 0.018465,
     "end_time": "2021-12-15T12:11:54.911037",
     "exception": false,
     "start_time": "2021-12-15T12:11:54.892572",
     "status": "completed"
    },
    "tags": []
   },
   "source": [
    "**This notebook is an exercise in the [Pandas](https://www.kaggle.com/learn/pandas) course.  You can reference the tutorial at [this link](https://www.kaggle.com/residentmario/creating-reading-and-writing).**\n",
    "\n",
    "---\n"
   ]
  },
  {
   "cell_type": "markdown",
   "id": "ff745d67",
   "metadata": {
    "papermill": {
     "duration": 0.015441,
     "end_time": "2021-12-15T12:11:54.942531",
     "exception": false,
     "start_time": "2021-12-15T12:11:54.927090",
     "status": "completed"
    },
    "tags": []
   },
   "source": [
    "# Introduction\n",
    "\n",
    "The first step in most data analytics projects is reading the data file. In this exercise, you'll create Series and DataFrame objects, both by hand and by reading data files.\n",
    "\n",
    "Run the code cell below to load libraries you will need (including code to check your answers)."
   ]
  },
  {
   "cell_type": "code",
   "execution_count": 1,
   "id": "b3047644",
   "metadata": {
    "execution": {
     "iopub.execute_input": "2021-12-15T12:11:54.982320Z",
     "iopub.status.busy": "2021-12-15T12:11:54.980266Z",
     "iopub.status.idle": "2021-12-15T12:11:56.940725Z",
     "shell.execute_reply": "2021-12-15T12:11:56.939733Z",
     "shell.execute_reply.started": "2021-12-15T12:04:05.234988Z"
    },
    "papermill": {
     "duration": 1.982033,
     "end_time": "2021-12-15T12:11:56.940927",
     "exception": false,
     "start_time": "2021-12-15T12:11:54.958894",
     "status": "completed"
    },
    "tags": []
   },
   "outputs": [
    {
     "name": "stdout",
     "output_type": "stream",
     "text": [
      "Setup complete.\n"
     ]
    }
   ],
   "source": [
    "import pandas as pd\n",
    "pd.set_option('max_rows', 5)\n",
    "from learntools.core import binder; binder.bind(globals())\n",
    "from learntools.pandas.creating_reading_and_writing import *\n",
    "print(\"Setup complete.\")"
   ]
  },
  {
   "cell_type": "markdown",
   "id": "5898a6f1",
   "metadata": {
    "papermill": {
     "duration": 0.016155,
     "end_time": "2021-12-15T12:11:56.975400",
     "exception": false,
     "start_time": "2021-12-15T12:11:56.959245",
     "status": "completed"
    },
    "tags": []
   },
   "source": [
    "# Exercises"
   ]
  },
  {
   "cell_type": "markdown",
   "id": "2b01e67e",
   "metadata": {
    "papermill": {
     "duration": 0.016102,
     "end_time": "2021-12-15T12:11:57.007966",
     "exception": false,
     "start_time": "2021-12-15T12:11:56.991864",
     "status": "completed"
    },
    "tags": []
   },
   "source": [
    "## 1.\n",
    "\n",
    "In the cell below, create a DataFrame `fruits` that looks like this:\n",
    "\n",
    "![](https://i.imgur.com/Ax3pp2A.png)"
   ]
  },
  {
   "cell_type": "code",
   "execution_count": 2,
   "id": "7959fe3d",
   "metadata": {
    "execution": {
     "iopub.execute_input": "2021-12-15T12:11:57.052829Z",
     "iopub.status.busy": "2021-12-15T12:11:57.052054Z",
     "iopub.status.idle": "2021-12-15T12:11:57.066163Z",
     "shell.execute_reply": "2021-12-15T12:11:57.066687Z",
     "shell.execute_reply.started": "2021-12-15T12:04:05.242781Z"
    },
    "papermill": {
     "duration": 0.042441,
     "end_time": "2021-12-15T12:11:57.066867",
     "exception": false,
     "start_time": "2021-12-15T12:11:57.024426",
     "status": "completed"
    },
    "tags": []
   },
   "outputs": [
    {
     "data": {
      "application/javascript": [
       "parent.postMessage({\"jupyterEvent\": \"custom.exercise_interaction\", \"data\": {\"outcomeType\": 1, \"valueTowardsCompletion\": 0.16666666666666666, \"interactionType\": 1, \"questionType\": 1, \"questionId\": \"1_FruitDfCreation\", \"learnToolsVersion\": \"0.3.4\", \"failureMessage\": \"\", \"exceptionClass\": \"\", \"trace\": \"\"}}, \"*\")"
      ],
      "text/plain": [
       "<IPython.core.display.Javascript object>"
      ]
     },
     "metadata": {},
     "output_type": "display_data"
    },
    {
     "data": {
      "text/markdown": [
       "<span style=\"color:#33cc33\">Correct</span>"
      ],
      "text/plain": [
       "Correct"
      ]
     },
     "metadata": {},
     "output_type": "display_data"
    },
    {
     "data": {
      "text/html": [
       "<div>\n",
       "<style scoped>\n",
       "    .dataframe tbody tr th:only-of-type {\n",
       "        vertical-align: middle;\n",
       "    }\n",
       "\n",
       "    .dataframe tbody tr th {\n",
       "        vertical-align: top;\n",
       "    }\n",
       "\n",
       "    .dataframe thead th {\n",
       "        text-align: right;\n",
       "    }\n",
       "</style>\n",
       "<table border=\"1\" class=\"dataframe\">\n",
       "  <thead>\n",
       "    <tr style=\"text-align: right;\">\n",
       "      <th></th>\n",
       "      <th>Apples</th>\n",
       "      <th>Bananas</th>\n",
       "    </tr>\n",
       "  </thead>\n",
       "  <tbody>\n",
       "    <tr>\n",
       "      <th>0</th>\n",
       "      <td>30</td>\n",
       "      <td>21</td>\n",
       "    </tr>\n",
       "  </tbody>\n",
       "</table>\n",
       "</div>"
      ],
      "text/plain": [
       "   Apples  Bananas\n",
       "0      30       21"
      ]
     },
     "execution_count": 2,
     "metadata": {},
     "output_type": "execute_result"
    }
   ],
   "source": [
    "# Your code goes here. Create a dataframe matching the above diagram and assign it to the variable fruits.\n",
    "fruits = pd.DataFrame({'Apples':30,'Bananas':21},index=range(0,1))\n",
    "\n",
    "\n",
    "# Check your answer\n",
    "q1.check()\n",
    "fruits"
   ]
  },
  {
   "cell_type": "code",
   "execution_count": 3,
   "id": "d4310f1c",
   "metadata": {
    "execution": {
     "iopub.execute_input": "2021-12-15T12:11:57.108714Z",
     "iopub.status.busy": "2021-12-15T12:11:57.107838Z",
     "iopub.status.idle": "2021-12-15T12:11:57.111550Z",
     "shell.execute_reply": "2021-12-15T12:11:57.112083Z",
     "shell.execute_reply.started": "2021-12-15T12:04:05.275304Z"
    },
    "papermill": {
     "duration": 0.02646,
     "end_time": "2021-12-15T12:11:57.112325",
     "exception": false,
     "start_time": "2021-12-15T12:11:57.085865",
     "status": "completed"
    },
    "tags": []
   },
   "outputs": [],
   "source": [
    "#q1.hint()\n",
    "#q1.solution()"
   ]
  },
  {
   "cell_type": "markdown",
   "id": "b53aedf5",
   "metadata": {
    "papermill": {
     "duration": 0.020533,
     "end_time": "2021-12-15T12:11:57.152300",
     "exception": false,
     "start_time": "2021-12-15T12:11:57.131767",
     "status": "completed"
    },
    "tags": []
   },
   "source": [
    "## 2.\n",
    "\n",
    "Create a dataframe `fruit_sales` that matches the diagram below:\n",
    "\n",
    "![](https://i.imgur.com/CHPn7ZF.png)"
   ]
  },
  {
   "cell_type": "code",
   "execution_count": 4,
   "id": "ad1a6095",
   "metadata": {
    "execution": {
     "iopub.execute_input": "2021-12-15T12:11:57.195803Z",
     "iopub.status.busy": "2021-12-15T12:11:57.195152Z",
     "iopub.status.idle": "2021-12-15T12:11:57.207069Z",
     "shell.execute_reply": "2021-12-15T12:11:57.206531Z",
     "shell.execute_reply.started": "2021-12-15T12:04:05.281641Z"
    },
    "papermill": {
     "duration": 0.035308,
     "end_time": "2021-12-15T12:11:57.207237",
     "exception": false,
     "start_time": "2021-12-15T12:11:57.171929",
     "status": "completed"
    },
    "tags": []
   },
   "outputs": [
    {
     "data": {
      "application/javascript": [
       "parent.postMessage({\"jupyterEvent\": \"custom.exercise_interaction\", \"data\": {\"outcomeType\": 1, \"valueTowardsCompletion\": 0.16666666666666666, \"interactionType\": 1, \"questionType\": 1, \"questionId\": \"2_FruitSalesDfCreation\", \"learnToolsVersion\": \"0.3.4\", \"failureMessage\": \"\", \"exceptionClass\": \"\", \"trace\": \"\"}}, \"*\")"
      ],
      "text/plain": [
       "<IPython.core.display.Javascript object>"
      ]
     },
     "metadata": {},
     "output_type": "display_data"
    },
    {
     "data": {
      "text/markdown": [
       "<span style=\"color:#33cc33\">Correct</span>"
      ],
      "text/plain": [
       "Correct"
      ]
     },
     "metadata": {},
     "output_type": "display_data"
    },
    {
     "data": {
      "text/html": [
       "<div>\n",
       "<style scoped>\n",
       "    .dataframe tbody tr th:only-of-type {\n",
       "        vertical-align: middle;\n",
       "    }\n",
       "\n",
       "    .dataframe tbody tr th {\n",
       "        vertical-align: top;\n",
       "    }\n",
       "\n",
       "    .dataframe thead th {\n",
       "        text-align: right;\n",
       "    }\n",
       "</style>\n",
       "<table border=\"1\" class=\"dataframe\">\n",
       "  <thead>\n",
       "    <tr style=\"text-align: right;\">\n",
       "      <th></th>\n",
       "      <th>Apples</th>\n",
       "      <th>Bananas</th>\n",
       "    </tr>\n",
       "  </thead>\n",
       "  <tbody>\n",
       "    <tr>\n",
       "      <th>2017 Sales</th>\n",
       "      <td>35</td>\n",
       "      <td>21</td>\n",
       "    </tr>\n",
       "    <tr>\n",
       "      <th>2018 Sales</th>\n",
       "      <td>41</td>\n",
       "      <td>34</td>\n",
       "    </tr>\n",
       "  </tbody>\n",
       "</table>\n",
       "</div>"
      ],
      "text/plain": [
       "            Apples  Bananas\n",
       "2017 Sales      35       21\n",
       "2018 Sales      41       34"
      ]
     },
     "execution_count": 4,
     "metadata": {},
     "output_type": "execute_result"
    }
   ],
   "source": [
    "# Your code goes here. Create a dataframe matching the above diagram and assign it to the variable fruit_sales.\n",
    "fruit_sales = pd.DataFrame({'Apples':[35,41],'Bananas':[21,34]},index=['2017 Sales','2018 Sales'])\n",
    "\n",
    "# Check your answer\n",
    "q2.check()\n",
    "fruit_sales"
   ]
  },
  {
   "cell_type": "code",
   "execution_count": 5,
   "id": "fa38a6fb",
   "metadata": {
    "execution": {
     "iopub.execute_input": "2021-12-15T12:11:57.249983Z",
     "iopub.status.busy": "2021-12-15T12:11:57.249273Z",
     "iopub.status.idle": "2021-12-15T12:11:57.251924Z",
     "shell.execute_reply": "2021-12-15T12:11:57.252956Z",
     "shell.execute_reply.started": "2021-12-15T12:04:05.306768Z"
    },
    "papermill": {
     "duration": 0.026645,
     "end_time": "2021-12-15T12:11:57.253212",
     "exception": false,
     "start_time": "2021-12-15T12:11:57.226567",
     "status": "completed"
    },
    "tags": []
   },
   "outputs": [],
   "source": [
    "#q2.hint()\n",
    "#q2.solution()"
   ]
  },
  {
   "cell_type": "markdown",
   "id": "46ea0548",
   "metadata": {
    "papermill": {
     "duration": 0.018982,
     "end_time": "2021-12-15T12:11:57.294075",
     "exception": false,
     "start_time": "2021-12-15T12:11:57.275093",
     "status": "completed"
    },
    "tags": []
   },
   "source": [
    "## 3.\n",
    "\n",
    "Create a variable `ingredients` with a Series that looks like:\n",
    "\n",
    "```\n",
    "Flour     4 cups\n",
    "Milk       1 cup\n",
    "Eggs     2 large\n",
    "Spam       1 can\n",
    "Name: Dinner, dtype: object\n",
    "```"
   ]
  },
  {
   "cell_type": "code",
   "execution_count": 6,
   "id": "a3c1c5c7",
   "metadata": {
    "execution": {
     "iopub.execute_input": "2021-12-15T12:11:57.338641Z",
     "iopub.status.busy": "2021-12-15T12:11:57.334813Z",
     "iopub.status.idle": "2021-12-15T12:11:57.347903Z",
     "shell.execute_reply": "2021-12-15T12:11:57.348397Z",
     "shell.execute_reply.started": "2021-12-15T12:05:13.394922Z"
    },
    "papermill": {
     "duration": 0.035591,
     "end_time": "2021-12-15T12:11:57.348588",
     "exception": false,
     "start_time": "2021-12-15T12:11:57.312997",
     "status": "completed"
    },
    "tags": []
   },
   "outputs": [
    {
     "data": {
      "application/javascript": [
       "parent.postMessage({\"jupyterEvent\": \"custom.exercise_interaction\", \"data\": {\"outcomeType\": 1, \"valueTowardsCompletion\": 0.16666666666666666, \"interactionType\": 1, \"questionType\": 2, \"questionId\": \"3_RecipeSeriesCreation\", \"learnToolsVersion\": \"0.3.4\", \"failureMessage\": \"\", \"exceptionClass\": \"\", \"trace\": \"\"}}, \"*\")"
      ],
      "text/plain": [
       "<IPython.core.display.Javascript object>"
      ]
     },
     "metadata": {},
     "output_type": "display_data"
    },
    {
     "data": {
      "text/markdown": [
       "<span style=\"color:#33cc33\">Correct</span>"
      ],
      "text/plain": [
       "Correct"
      ]
     },
     "metadata": {},
     "output_type": "display_data"
    },
    {
     "data": {
      "text/plain": [
       "Flour     4 cups\n",
       "Milk       1 cup\n",
       "Eggs     2 large\n",
       "Spam       1 can\n",
       "Name: Dinner, dtype: object"
      ]
     },
     "execution_count": 6,
     "metadata": {},
     "output_type": "execute_result"
    }
   ],
   "source": [
    "ingredients = pd.Series(['4 cups','1 cup','2 large','1 can'],['Flour','Milk','Eggs','Spam'],name='Dinner')\n",
    "\n",
    "# Check your answer\n",
    "q3.check()\n",
    "ingredients"
   ]
  },
  {
   "cell_type": "code",
   "execution_count": 7,
   "id": "ffa1efab",
   "metadata": {
    "execution": {
     "iopub.execute_input": "2021-12-15T12:11:57.396245Z",
     "iopub.status.busy": "2021-12-15T12:11:57.395573Z",
     "iopub.status.idle": "2021-12-15T12:11:57.398136Z",
     "shell.execute_reply": "2021-12-15T12:11:57.397600Z",
     "shell.execute_reply.started": "2021-12-15T12:05:21.763844Z"
    },
    "papermill": {
     "duration": 0.028564,
     "end_time": "2021-12-15T12:11:57.398277",
     "exception": false,
     "start_time": "2021-12-15T12:11:57.369713",
     "status": "completed"
    },
    "tags": []
   },
   "outputs": [],
   "source": [
    "#q3.hint()\n",
    "#q3.solution()"
   ]
  },
  {
   "cell_type": "markdown",
   "id": "d8f3c401",
   "metadata": {
    "papermill": {
     "duration": 0.020688,
     "end_time": "2021-12-15T12:11:57.439433",
     "exception": false,
     "start_time": "2021-12-15T12:11:57.418745",
     "status": "completed"
    },
    "tags": []
   },
   "source": [
    "## 4.\n",
    "\n",
    "Read the following csv dataset of wine reviews into a DataFrame called `reviews`:\n",
    "\n",
    "![](https://i.imgur.com/74RCZtU.png)\n",
    "\n",
    "The filepath to the csv file is `../input/wine-reviews/winemag-data_first150k.csv`. The first few lines look like:\n",
    "\n",
    "```\n",
    ",country,description,designation,points,price,province,region_1,region_2,variety,winery\n",
    "0,US,\"This tremendous 100% varietal wine[...]\",Martha's Vineyard,96,235.0,California,Napa Valley,Napa,Cabernet Sauvignon,Heitz\n",
    "1,Spain,\"Ripe aromas of fig, blackberry and[...]\",Carodorum Selección Especial Reserva,96,110.0,Northern Spain,Toro,,Tinta de Toro,Bodega Carmen Rodríguez\n",
    "```"
   ]
  },
  {
   "cell_type": "code",
   "execution_count": 8,
   "id": "19d1862f",
   "metadata": {
    "execution": {
     "iopub.execute_input": "2021-12-15T12:11:57.487916Z",
     "iopub.status.busy": "2021-12-15T12:11:57.486445Z",
     "iopub.status.idle": "2021-12-15T12:11:58.413881Z",
     "shell.execute_reply": "2021-12-15T12:11:58.413375Z",
     "shell.execute_reply.started": "2021-12-15T12:08:33.801026Z"
    },
    "papermill": {
     "duration": 0.954404,
     "end_time": "2021-12-15T12:11:58.414037",
     "exception": false,
     "start_time": "2021-12-15T12:11:57.459633",
     "status": "completed"
    },
    "tags": []
   },
   "outputs": [
    {
     "data": {
      "application/javascript": [
       "parent.postMessage({\"jupyterEvent\": \"custom.exercise_interaction\", \"data\": {\"outcomeType\": 1, \"valueTowardsCompletion\": 0.16666666666666666, \"interactionType\": 1, \"questionType\": 1, \"questionId\": \"4_ReadWineCsv\", \"learnToolsVersion\": \"0.3.4\", \"failureMessage\": \"\", \"exceptionClass\": \"\", \"trace\": \"\"}}, \"*\")"
      ],
      "text/plain": [
       "<IPython.core.display.Javascript object>"
      ]
     },
     "metadata": {},
     "output_type": "display_data"
    },
    {
     "data": {
      "text/markdown": [
       "<span style=\"color:#33cc33\">Correct</span>"
      ],
      "text/plain": [
       "Correct"
      ]
     },
     "metadata": {},
     "output_type": "display_data"
    },
    {
     "data": {
      "text/html": [
       "<div>\n",
       "<style scoped>\n",
       "    .dataframe tbody tr th:only-of-type {\n",
       "        vertical-align: middle;\n",
       "    }\n",
       "\n",
       "    .dataframe tbody tr th {\n",
       "        vertical-align: top;\n",
       "    }\n",
       "\n",
       "    .dataframe thead th {\n",
       "        text-align: right;\n",
       "    }\n",
       "</style>\n",
       "<table border=\"1\" class=\"dataframe\">\n",
       "  <thead>\n",
       "    <tr style=\"text-align: right;\">\n",
       "      <th></th>\n",
       "      <th>country</th>\n",
       "      <th>description</th>\n",
       "      <th>designation</th>\n",
       "      <th>points</th>\n",
       "      <th>price</th>\n",
       "      <th>province</th>\n",
       "      <th>region_1</th>\n",
       "      <th>region_2</th>\n",
       "      <th>variety</th>\n",
       "      <th>winery</th>\n",
       "    </tr>\n",
       "  </thead>\n",
       "  <tbody>\n",
       "    <tr>\n",
       "      <th>0</th>\n",
       "      <td>US</td>\n",
       "      <td>This tremendous 100% varietal wine hails from ...</td>\n",
       "      <td>Martha's Vineyard</td>\n",
       "      <td>96</td>\n",
       "      <td>235.0</td>\n",
       "      <td>California</td>\n",
       "      <td>Napa Valley</td>\n",
       "      <td>Napa</td>\n",
       "      <td>Cabernet Sauvignon</td>\n",
       "      <td>Heitz</td>\n",
       "    </tr>\n",
       "    <tr>\n",
       "      <th>1</th>\n",
       "      <td>Spain</td>\n",
       "      <td>Ripe aromas of fig, blackberry and cassis are ...</td>\n",
       "      <td>Carodorum Selección Especial Reserva</td>\n",
       "      <td>96</td>\n",
       "      <td>110.0</td>\n",
       "      <td>Northern Spain</td>\n",
       "      <td>Toro</td>\n",
       "      <td>NaN</td>\n",
       "      <td>Tinta de Toro</td>\n",
       "      <td>Bodega Carmen Rodríguez</td>\n",
       "    </tr>\n",
       "    <tr>\n",
       "      <th>...</th>\n",
       "      <td>...</td>\n",
       "      <td>...</td>\n",
       "      <td>...</td>\n",
       "      <td>...</td>\n",
       "      <td>...</td>\n",
       "      <td>...</td>\n",
       "      <td>...</td>\n",
       "      <td>...</td>\n",
       "      <td>...</td>\n",
       "      <td>...</td>\n",
       "    </tr>\n",
       "    <tr>\n",
       "      <th>150928</th>\n",
       "      <td>France</td>\n",
       "      <td>A perfect salmon shade, with scents of peaches...</td>\n",
       "      <td>Grand Brut Rosé</td>\n",
       "      <td>90</td>\n",
       "      <td>52.0</td>\n",
       "      <td>Champagne</td>\n",
       "      <td>Champagne</td>\n",
       "      <td>NaN</td>\n",
       "      <td>Champagne Blend</td>\n",
       "      <td>Gosset</td>\n",
       "    </tr>\n",
       "    <tr>\n",
       "      <th>150929</th>\n",
       "      <td>Italy</td>\n",
       "      <td>More Pinot Grigios should taste like this. A r...</td>\n",
       "      <td>NaN</td>\n",
       "      <td>90</td>\n",
       "      <td>15.0</td>\n",
       "      <td>Northeastern Italy</td>\n",
       "      <td>Alto Adige</td>\n",
       "      <td>NaN</td>\n",
       "      <td>Pinot Grigio</td>\n",
       "      <td>Alois Lageder</td>\n",
       "    </tr>\n",
       "  </tbody>\n",
       "</table>\n",
       "<p>150930 rows × 10 columns</p>\n",
       "</div>"
      ],
      "text/plain": [
       "       country                                        description  \\\n",
       "0           US  This tremendous 100% varietal wine hails from ...   \n",
       "1        Spain  Ripe aromas of fig, blackberry and cassis are ...   \n",
       "...        ...                                                ...   \n",
       "150928  France  A perfect salmon shade, with scents of peaches...   \n",
       "150929   Italy  More Pinot Grigios should taste like this. A r...   \n",
       "\n",
       "                                 designation  points  price  \\\n",
       "0                          Martha's Vineyard      96  235.0   \n",
       "1       Carodorum Selección Especial Reserva      96  110.0   \n",
       "...                                      ...     ...    ...   \n",
       "150928                       Grand Brut Rosé      90   52.0   \n",
       "150929                                   NaN      90   15.0   \n",
       "\n",
       "                  province     region_1 region_2             variety  \\\n",
       "0               California  Napa Valley     Napa  Cabernet Sauvignon   \n",
       "1           Northern Spain         Toro      NaN       Tinta de Toro   \n",
       "...                    ...          ...      ...                 ...   \n",
       "150928           Champagne    Champagne      NaN     Champagne Blend   \n",
       "150929  Northeastern Italy   Alto Adige      NaN        Pinot Grigio   \n",
       "\n",
       "                         winery  \n",
       "0                         Heitz  \n",
       "1       Bodega Carmen Rodríguez  \n",
       "...                         ...  \n",
       "150928                   Gosset  \n",
       "150929            Alois Lageder  \n",
       "\n",
       "[150930 rows x 10 columns]"
      ]
     },
     "execution_count": 8,
     "metadata": {},
     "output_type": "execute_result"
    }
   ],
   "source": [
    "file_path=\"../input/wine-reviews/winemag-data_first150k.csv\"\n",
    "reviews = pd.read_csv(file_path,index_col=0)\n",
    "\n",
    "# Check your answer\n",
    "q4.check()\n",
    "reviews"
   ]
  },
  {
   "cell_type": "code",
   "execution_count": 9,
   "id": "092fa960",
   "metadata": {
    "execution": {
     "iopub.execute_input": "2021-12-15T12:11:58.463343Z",
     "iopub.status.busy": "2021-12-15T12:11:58.462305Z",
     "iopub.status.idle": "2021-12-15T12:11:58.465437Z",
     "shell.execute_reply": "2021-12-15T12:11:58.464731Z",
     "shell.execute_reply.started": "2021-12-15T12:08:40.780235Z"
    },
    "papermill": {
     "duration": 0.02911,
     "end_time": "2021-12-15T12:11:58.465592",
     "exception": false,
     "start_time": "2021-12-15T12:11:58.436482",
     "status": "completed"
    },
    "tags": []
   },
   "outputs": [],
   "source": [
    "#q4.hint()\n",
    "#q4.solution()"
   ]
  },
  {
   "cell_type": "markdown",
   "id": "2e9d8b11",
   "metadata": {
    "papermill": {
     "duration": 0.02222,
     "end_time": "2021-12-15T12:11:58.510031",
     "exception": false,
     "start_time": "2021-12-15T12:11:58.487811",
     "status": "completed"
    },
    "tags": []
   },
   "source": [
    "## 5.\n",
    "\n",
    "Run the cell below to create and display a DataFrame called `animals`:"
   ]
  },
  {
   "cell_type": "code",
   "execution_count": 10,
   "id": "6395eaca",
   "metadata": {
    "execution": {
     "iopub.execute_input": "2021-12-15T12:11:58.568384Z",
     "iopub.status.busy": "2021-12-15T12:11:58.567239Z",
     "iopub.status.idle": "2021-12-15T12:11:58.571101Z",
     "shell.execute_reply": "2021-12-15T12:11:58.571663Z",
     "shell.execute_reply.started": "2021-12-15T12:09:01.153799Z"
    },
    "papermill": {
     "duration": 0.037986,
     "end_time": "2021-12-15T12:11:58.571837",
     "exception": false,
     "start_time": "2021-12-15T12:11:58.533851",
     "status": "completed"
    },
    "tags": []
   },
   "outputs": [
    {
     "data": {
      "text/html": [
       "<div>\n",
       "<style scoped>\n",
       "    .dataframe tbody tr th:only-of-type {\n",
       "        vertical-align: middle;\n",
       "    }\n",
       "\n",
       "    .dataframe tbody tr th {\n",
       "        vertical-align: top;\n",
       "    }\n",
       "\n",
       "    .dataframe thead th {\n",
       "        text-align: right;\n",
       "    }\n",
       "</style>\n",
       "<table border=\"1\" class=\"dataframe\">\n",
       "  <thead>\n",
       "    <tr style=\"text-align: right;\">\n",
       "      <th></th>\n",
       "      <th>Cows</th>\n",
       "      <th>Goats</th>\n",
       "    </tr>\n",
       "  </thead>\n",
       "  <tbody>\n",
       "    <tr>\n",
       "      <th>Year 1</th>\n",
       "      <td>12</td>\n",
       "      <td>22</td>\n",
       "    </tr>\n",
       "    <tr>\n",
       "      <th>Year 2</th>\n",
       "      <td>20</td>\n",
       "      <td>19</td>\n",
       "    </tr>\n",
       "  </tbody>\n",
       "</table>\n",
       "</div>"
      ],
      "text/plain": [
       "        Cows  Goats\n",
       "Year 1    12     22\n",
       "Year 2    20     19"
      ]
     },
     "execution_count": 10,
     "metadata": {},
     "output_type": "execute_result"
    }
   ],
   "source": [
    "animals = pd.DataFrame({'Cows': [12, 20], 'Goats': [22, 19]}, index=['Year 1', 'Year 2'])\n",
    "animals"
   ]
  },
  {
   "cell_type": "markdown",
   "id": "bfb3adf6",
   "metadata": {
    "papermill": {
     "duration": 0.022117,
     "end_time": "2021-12-15T12:11:58.616562",
     "exception": false,
     "start_time": "2021-12-15T12:11:58.594445",
     "status": "completed"
    },
    "tags": []
   },
   "source": [
    "In the cell below, write code to save this DataFrame to disk as a csv file with the name `cows_and_goats.csv`."
   ]
  },
  {
   "cell_type": "code",
   "execution_count": 11,
   "id": "6645b29b",
   "metadata": {
    "execution": {
     "iopub.execute_input": "2021-12-15T12:11:58.670081Z",
     "iopub.status.busy": "2021-12-15T12:11:58.669035Z",
     "iopub.status.idle": "2021-12-15T12:11:58.680339Z",
     "shell.execute_reply": "2021-12-15T12:11:58.680830Z",
     "shell.execute_reply.started": "2021-12-15T12:11:15.925000Z"
    },
    "papermill": {
     "duration": 0.041632,
     "end_time": "2021-12-15T12:11:58.680994",
     "exception": false,
     "start_time": "2021-12-15T12:11:58.639362",
     "status": "completed"
    },
    "tags": []
   },
   "outputs": [
    {
     "data": {
      "application/javascript": [
       "parent.postMessage({\"jupyterEvent\": \"custom.exercise_interaction\", \"data\": {\"outcomeType\": 1, \"valueTowardsCompletion\": 0.16666666666666666, \"interactionType\": 1, \"questionType\": 2, \"questionId\": \"5_SaveAnimalsCsv\", \"learnToolsVersion\": \"0.3.4\", \"failureMessage\": \"\", \"exceptionClass\": \"\", \"trace\": \"\"}}, \"*\")"
      ],
      "text/plain": [
       "<IPython.core.display.Javascript object>"
      ]
     },
     "metadata": {},
     "output_type": "display_data"
    },
    {
     "data": {
      "text/markdown": [
       "<span style=\"color:#33cc33\">Correct</span>"
      ],
      "text/plain": [
       "Correct"
      ]
     },
     "metadata": {},
     "output_type": "display_data"
    }
   ],
   "source": [
    "# Your code goes here\n",
    "animals.to_csv('cows_and_goats.csv')\n",
    "# Check your answer\n",
    "q5.check()"
   ]
  },
  {
   "cell_type": "code",
   "execution_count": 12,
   "id": "f43aed2c",
   "metadata": {
    "execution": {
     "iopub.execute_input": "2021-12-15T12:11:58.732076Z",
     "iopub.status.busy": "2021-12-15T12:11:58.731429Z",
     "iopub.status.idle": "2021-12-15T12:11:58.733958Z",
     "shell.execute_reply": "2021-12-15T12:11:58.734724Z",
     "shell.execute_reply.started": "2021-12-15T12:11:23.540547Z"
    },
    "papermill": {
     "duration": 0.03052,
     "end_time": "2021-12-15T12:11:58.734927",
     "exception": false,
     "start_time": "2021-12-15T12:11:58.704407",
     "status": "completed"
    },
    "tags": []
   },
   "outputs": [],
   "source": [
    "#q5.hint()\n",
    "#q5.solution()"
   ]
  },
  {
   "cell_type": "markdown",
   "id": "93781d68",
   "metadata": {
    "papermill": {
     "duration": 0.023434,
     "end_time": "2021-12-15T12:11:58.783753",
     "exception": false,
     "start_time": "2021-12-15T12:11:58.760319",
     "status": "completed"
    },
    "tags": []
   },
   "source": [
    "# Keep going\n",
    "\n",
    "Move on to learn about **[indexing, selecting and assigning](https://www.kaggle.com/residentmario/indexing-selecting-assigning)**."
   ]
  },
  {
   "cell_type": "markdown",
   "id": "57ddc576",
   "metadata": {
    "papermill": {
     "duration": 0.022981,
     "end_time": "2021-12-15T12:11:58.830145",
     "exception": false,
     "start_time": "2021-12-15T12:11:58.807164",
     "status": "completed"
    },
    "tags": []
   },
   "source": [
    "---\n",
    "\n",
    "\n",
    "\n",
    "\n",
    "*Have questions or comments? Visit the [course discussion forum](https://www.kaggle.com/learn/pandas/discussion) to chat with other learners.*"
   ]
  }
 ],
 "metadata": {
  "kernelspec": {
   "display_name": "Python 3",
   "language": "python",
   "name": "python3"
  },
  "language_info": {
   "codemirror_mode": {
    "name": "ipython",
    "version": 3
   },
   "file_extension": ".py",
   "mimetype": "text/x-python",
   "name": "python",
   "nbconvert_exporter": "python",
   "pygments_lexer": "ipython3",
   "version": "3.7.12"
  },
  "papermill": {
   "default_parameters": {},
   "duration": 16.049552,
   "end_time": "2021-12-15T12:11:59.563861",
   "environment_variables": {},
   "exception": null,
   "input_path": "__notebook__.ipynb",
   "output_path": "__notebook__.ipynb",
   "parameters": {},
   "start_time": "2021-12-15T12:11:43.514309",
   "version": "2.3.3"
  }
 },
 "nbformat": 4,
 "nbformat_minor": 5
}
