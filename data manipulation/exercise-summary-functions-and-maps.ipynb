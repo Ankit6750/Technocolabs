{
 "cells": [
  {
   "cell_type": "markdown",
   "id": "32f8008b",
   "metadata": {
    "papermill": {
     "duration": 0.022459,
     "end_time": "2021-12-16T07:18:50.386130",
     "exception": false,
     "start_time": "2021-12-16T07:18:50.363671",
     "status": "completed"
    },
    "tags": []
   },
   "source": [
    "**This notebook is an exercise in the [Pandas](https://www.kaggle.com/learn/pandas) course.  You can reference the tutorial at [this link](https://www.kaggle.com/residentmario/summary-functions-and-maps).**\n",
    "\n",
    "---\n"
   ]
  },
  {
   "cell_type": "markdown",
   "id": "6a31d357",
   "metadata": {
    "papermill": {
     "duration": 0.020835,
     "end_time": "2021-12-16T07:18:50.428287",
     "exception": false,
     "start_time": "2021-12-16T07:18:50.407452",
     "status": "completed"
    },
    "tags": []
   },
   "source": [
    "# Introduction\n",
    "\n",
    "Now you are ready to get a deeper understanding of your data.\n",
    "\n",
    "Run the following cell to load your data and some utility functions (including code to check your answers)."
   ]
  },
  {
   "cell_type": "code",
   "execution_count": 1,
   "id": "55768741",
   "metadata": {
    "execution": {
     "iopub.execute_input": "2021-12-16T07:18:50.476707Z",
     "iopub.status.busy": "2021-12-16T07:18:50.474886Z",
     "iopub.status.idle": "2021-12-16T07:18:58.610626Z",
     "shell.execute_reply": "2021-12-16T07:18:58.611131Z",
     "shell.execute_reply.started": "2021-12-16T06:48:52.378901Z"
    },
    "papermill": {
     "duration": 8.161971,
     "end_time": "2021-12-16T07:18:58.611408",
     "exception": false,
     "start_time": "2021-12-16T07:18:50.449437",
     "status": "completed"
    },
    "tags": []
   },
   "outputs": [
    {
     "name": "stdout",
     "output_type": "stream",
     "text": [
      "Setup complete.\n"
     ]
    },
    {
     "data": {
      "text/html": [
       "<div>\n",
       "<style scoped>\n",
       "    .dataframe tbody tr th:only-of-type {\n",
       "        vertical-align: middle;\n",
       "    }\n",
       "\n",
       "    .dataframe tbody tr th {\n",
       "        vertical-align: top;\n",
       "    }\n",
       "\n",
       "    .dataframe thead th {\n",
       "        text-align: right;\n",
       "    }\n",
       "</style>\n",
       "<table border=\"1\" class=\"dataframe\">\n",
       "  <thead>\n",
       "    <tr style=\"text-align: right;\">\n",
       "      <th></th>\n",
       "      <th>country</th>\n",
       "      <th>description</th>\n",
       "      <th>designation</th>\n",
       "      <th>points</th>\n",
       "      <th>price</th>\n",
       "      <th>province</th>\n",
       "      <th>region_1</th>\n",
       "      <th>region_2</th>\n",
       "      <th>taster_name</th>\n",
       "      <th>taster_twitter_handle</th>\n",
       "      <th>title</th>\n",
       "      <th>variety</th>\n",
       "      <th>winery</th>\n",
       "    </tr>\n",
       "  </thead>\n",
       "  <tbody>\n",
       "    <tr>\n",
       "      <th>0</th>\n",
       "      <td>Italy</td>\n",
       "      <td>Aromas include tropical fruit, broom, brimston...</td>\n",
       "      <td>Vulkà Bianco</td>\n",
       "      <td>87</td>\n",
       "      <td>NaN</td>\n",
       "      <td>Sicily &amp; Sardinia</td>\n",
       "      <td>Etna</td>\n",
       "      <td>NaN</td>\n",
       "      <td>Kerin O’Keefe</td>\n",
       "      <td>@kerinokeefe</td>\n",
       "      <td>Nicosia 2013 Vulkà Bianco  (Etna)</td>\n",
       "      <td>White Blend</td>\n",
       "      <td>Nicosia</td>\n",
       "    </tr>\n",
       "    <tr>\n",
       "      <th>1</th>\n",
       "      <td>Portugal</td>\n",
       "      <td>This is ripe and fruity, a wine that is smooth...</td>\n",
       "      <td>Avidagos</td>\n",
       "      <td>87</td>\n",
       "      <td>15.0</td>\n",
       "      <td>Douro</td>\n",
       "      <td>NaN</td>\n",
       "      <td>NaN</td>\n",
       "      <td>Roger Voss</td>\n",
       "      <td>@vossroger</td>\n",
       "      <td>Quinta dos Avidagos 2011 Avidagos Red (Douro)</td>\n",
       "      <td>Portuguese Red</td>\n",
       "      <td>Quinta dos Avidagos</td>\n",
       "    </tr>\n",
       "    <tr>\n",
       "      <th>2</th>\n",
       "      <td>US</td>\n",
       "      <td>Tart and snappy, the flavors of lime flesh and...</td>\n",
       "      <td>NaN</td>\n",
       "      <td>87</td>\n",
       "      <td>14.0</td>\n",
       "      <td>Oregon</td>\n",
       "      <td>Willamette Valley</td>\n",
       "      <td>Willamette Valley</td>\n",
       "      <td>Paul Gregutt</td>\n",
       "      <td>@paulgwine</td>\n",
       "      <td>Rainstorm 2013 Pinot Gris (Willamette Valley)</td>\n",
       "      <td>Pinot Gris</td>\n",
       "      <td>Rainstorm</td>\n",
       "    </tr>\n",
       "    <tr>\n",
       "      <th>3</th>\n",
       "      <td>US</td>\n",
       "      <td>Pineapple rind, lemon pith and orange blossom ...</td>\n",
       "      <td>Reserve Late Harvest</td>\n",
       "      <td>87</td>\n",
       "      <td>13.0</td>\n",
       "      <td>Michigan</td>\n",
       "      <td>Lake Michigan Shore</td>\n",
       "      <td>NaN</td>\n",
       "      <td>Alexander Peartree</td>\n",
       "      <td>NaN</td>\n",
       "      <td>St. Julian 2013 Reserve Late Harvest Riesling ...</td>\n",
       "      <td>Riesling</td>\n",
       "      <td>St. Julian</td>\n",
       "    </tr>\n",
       "    <tr>\n",
       "      <th>4</th>\n",
       "      <td>US</td>\n",
       "      <td>Much like the regular bottling from 2012, this...</td>\n",
       "      <td>Vintner's Reserve Wild Child Block</td>\n",
       "      <td>87</td>\n",
       "      <td>65.0</td>\n",
       "      <td>Oregon</td>\n",
       "      <td>Willamette Valley</td>\n",
       "      <td>Willamette Valley</td>\n",
       "      <td>Paul Gregutt</td>\n",
       "      <td>@paulgwine</td>\n",
       "      <td>Sweet Cheeks 2012 Vintner's Reserve Wild Child...</td>\n",
       "      <td>Pinot Noir</td>\n",
       "      <td>Sweet Cheeks</td>\n",
       "    </tr>\n",
       "  </tbody>\n",
       "</table>\n",
       "</div>"
      ],
      "text/plain": [
       "    country                                        description  \\\n",
       "0     Italy  Aromas include tropical fruit, broom, brimston...   \n",
       "1  Portugal  This is ripe and fruity, a wine that is smooth...   \n",
       "2        US  Tart and snappy, the flavors of lime flesh and...   \n",
       "3        US  Pineapple rind, lemon pith and orange blossom ...   \n",
       "4        US  Much like the regular bottling from 2012, this...   \n",
       "\n",
       "                          designation  points  price           province  \\\n",
       "0                        Vulkà Bianco      87    NaN  Sicily & Sardinia   \n",
       "1                            Avidagos      87   15.0              Douro   \n",
       "2                                 NaN      87   14.0             Oregon   \n",
       "3                Reserve Late Harvest      87   13.0           Michigan   \n",
       "4  Vintner's Reserve Wild Child Block      87   65.0             Oregon   \n",
       "\n",
       "              region_1           region_2         taster_name  \\\n",
       "0                 Etna                NaN       Kerin O’Keefe   \n",
       "1                  NaN                NaN          Roger Voss   \n",
       "2    Willamette Valley  Willamette Valley        Paul Gregutt   \n",
       "3  Lake Michigan Shore                NaN  Alexander Peartree   \n",
       "4    Willamette Valley  Willamette Valley        Paul Gregutt   \n",
       "\n",
       "  taster_twitter_handle                                              title  \\\n",
       "0          @kerinokeefe                  Nicosia 2013 Vulkà Bianco  (Etna)   \n",
       "1            @vossroger      Quinta dos Avidagos 2011 Avidagos Red (Douro)   \n",
       "2           @paulgwine       Rainstorm 2013 Pinot Gris (Willamette Valley)   \n",
       "3                   NaN  St. Julian 2013 Reserve Late Harvest Riesling ...   \n",
       "4           @paulgwine   Sweet Cheeks 2012 Vintner's Reserve Wild Child...   \n",
       "\n",
       "          variety               winery  \n",
       "0     White Blend              Nicosia  \n",
       "1  Portuguese Red  Quinta dos Avidagos  \n",
       "2      Pinot Gris            Rainstorm  \n",
       "3        Riesling           St. Julian  \n",
       "4      Pinot Noir         Sweet Cheeks  "
      ]
     },
     "execution_count": 1,
     "metadata": {},
     "output_type": "execute_result"
    }
   ],
   "source": [
    "import pandas as pd\n",
    "pd.set_option(\"display.max_rows\", 5)\n",
    "reviews = pd.read_csv(\"../input/wine-reviews/winemag-data-130k-v2.csv\", index_col=0)\n",
    "\n",
    "from learntools.core import binder; binder.bind(globals())\n",
    "from learntools.pandas.summary_functions_and_maps import *\n",
    "print(\"Setup complete.\")\n",
    "\n",
    "reviews.head()"
   ]
  },
  {
   "cell_type": "markdown",
   "id": "fcd5f30e",
   "metadata": {
    "papermill": {
     "duration": 0.022015,
     "end_time": "2021-12-16T07:18:58.655957",
     "exception": false,
     "start_time": "2021-12-16T07:18:58.633942",
     "status": "completed"
    },
    "tags": []
   },
   "source": [
    "# Exercises"
   ]
  },
  {
   "cell_type": "markdown",
   "id": "dbb0d40a",
   "metadata": {
    "papermill": {
     "duration": 0.023461,
     "end_time": "2021-12-16T07:18:58.701783",
     "exception": false,
     "start_time": "2021-12-16T07:18:58.678322",
     "status": "completed"
    },
    "tags": []
   },
   "source": [
    "## 1.\n",
    "\n",
    "What is the median of the `points` column in the `reviews` DataFrame?"
   ]
  },
  {
   "cell_type": "code",
   "execution_count": 2,
   "id": "7753b0f5",
   "metadata": {
    "execution": {
     "iopub.execute_input": "2021-12-16T07:18:58.752758Z",
     "iopub.status.busy": "2021-12-16T07:18:58.752089Z",
     "iopub.status.idle": "2021-12-16T07:18:58.758610Z",
     "shell.execute_reply": "2021-12-16T07:18:58.758067Z",
     "shell.execute_reply.started": "2021-12-16T06:49:44.808640Z"
    },
    "papermill": {
     "duration": 0.034171,
     "end_time": "2021-12-16T07:18:58.758740",
     "exception": false,
     "start_time": "2021-12-16T07:18:58.724569",
     "status": "completed"
    },
    "tags": []
   },
   "outputs": [
    {
     "data": {
      "application/javascript": [
       "parent.postMessage({\"jupyterEvent\": \"custom.exercise_interaction\", \"data\": {\"outcomeType\": 1, \"valueTowardsCompletion\": 0.14285714285714285, \"interactionType\": 1, \"questionType\": 1, \"questionId\": \"1_MedianPoints\", \"learnToolsVersion\": \"0.3.4\", \"failureMessage\": \"\", \"exceptionClass\": \"\", \"trace\": \"\"}}, \"*\")"
      ],
      "text/plain": [
       "<IPython.core.display.Javascript object>"
      ]
     },
     "metadata": {},
     "output_type": "display_data"
    },
    {
     "data": {
      "text/markdown": [
       "<span style=\"color:#33cc33\">Correct</span>"
      ],
      "text/plain": [
       "Correct"
      ]
     },
     "metadata": {},
     "output_type": "display_data"
    }
   ],
   "source": [
    "median_points = reviews.points.median()\n",
    "median_points\n",
    "# Check your answer\n",
    "q1.check()"
   ]
  },
  {
   "cell_type": "code",
   "execution_count": 3,
   "id": "9fbafeef",
   "metadata": {
    "execution": {
     "iopub.execute_input": "2021-12-16T07:18:58.808783Z",
     "iopub.status.busy": "2021-12-16T07:18:58.808177Z",
     "iopub.status.idle": "2021-12-16T07:18:58.812456Z",
     "shell.execute_reply": "2021-12-16T07:18:58.813048Z",
     "shell.execute_reply.started": "2021-12-16T06:50:05.419184Z"
    },
    "papermill": {
     "duration": 0.031029,
     "end_time": "2021-12-16T07:18:58.813210",
     "exception": false,
     "start_time": "2021-12-16T07:18:58.782181",
     "status": "completed"
    },
    "tags": []
   },
   "outputs": [
    {
     "data": {
      "text/plain": [
       "88.0"
      ]
     },
     "execution_count": 3,
     "metadata": {},
     "output_type": "execute_result"
    }
   ],
   "source": [
    "median_points"
   ]
  },
  {
   "cell_type": "code",
   "execution_count": 4,
   "id": "b824a801",
   "metadata": {
    "execution": {
     "iopub.execute_input": "2021-12-16T07:18:58.863979Z",
     "iopub.status.busy": "2021-12-16T07:18:58.863361Z",
     "iopub.status.idle": "2021-12-16T07:18:58.865724Z",
     "shell.execute_reply": "2021-12-16T07:18:58.866287Z",
     "shell.execute_reply.started": "2021-12-16T06:50:18.661763Z"
    },
    "papermill": {
     "duration": 0.029468,
     "end_time": "2021-12-16T07:18:58.866449",
     "exception": false,
     "start_time": "2021-12-16T07:18:58.836981",
     "status": "completed"
    },
    "tags": []
   },
   "outputs": [],
   "source": [
    "#q1.hint()\n",
    "#q1.solution()"
   ]
  },
  {
   "cell_type": "markdown",
   "id": "7374bb5c",
   "metadata": {
    "papermill": {
     "duration": 0.023096,
     "end_time": "2021-12-16T07:18:58.914141",
     "exception": false,
     "start_time": "2021-12-16T07:18:58.891045",
     "status": "completed"
    },
    "tags": []
   },
   "source": [
    "## 2. \n",
    "What countries are represented in the dataset? (Your answer should not include any duplicates.)"
   ]
  },
  {
   "cell_type": "code",
   "execution_count": 5,
   "id": "c1e812e1",
   "metadata": {
    "execution": {
     "iopub.execute_input": "2021-12-16T07:18:58.964826Z",
     "iopub.status.busy": "2021-12-16T07:18:58.964180Z",
     "iopub.status.idle": "2021-12-16T07:18:58.984449Z",
     "shell.execute_reply": "2021-12-16T07:18:58.984943Z",
     "shell.execute_reply.started": "2021-12-16T06:53:36.150378Z"
    },
    "papermill": {
     "duration": 0.04743,
     "end_time": "2021-12-16T07:18:58.985124",
     "exception": false,
     "start_time": "2021-12-16T07:18:58.937694",
     "status": "completed"
    },
    "tags": []
   },
   "outputs": [
    {
     "data": {
      "application/javascript": [
       "parent.postMessage({\"jupyterEvent\": \"custom.exercise_interaction\", \"data\": {\"outcomeType\": 1, \"valueTowardsCompletion\": 0.14285714285714285, \"interactionType\": 1, \"questionType\": 2, \"questionId\": \"2_UniqueCountries\", \"learnToolsVersion\": \"0.3.4\", \"failureMessage\": \"\", \"exceptionClass\": \"\", \"trace\": \"\"}}, \"*\")"
      ],
      "text/plain": [
       "<IPython.core.display.Javascript object>"
      ]
     },
     "metadata": {},
     "output_type": "display_data"
    },
    {
     "data": {
      "text/markdown": [
       "<span style=\"color:#33cc33\">Correct</span>"
      ],
      "text/plain": [
       "Correct"
      ]
     },
     "metadata": {},
     "output_type": "display_data"
    },
    {
     "data": {
      "text/plain": [
       "array(['Italy', 'Portugal', 'US', 'Spain', 'France', 'Germany',\n",
       "       'Argentina', 'Chile', 'Australia', 'Austria', 'South Africa',\n",
       "       'New Zealand', 'Israel', 'Hungary', 'Greece', 'Romania', 'Mexico',\n",
       "       'Canada', nan, 'Turkey', 'Czech Republic', 'Slovenia',\n",
       "       'Luxembourg', 'Croatia', 'Georgia', 'Uruguay', 'England',\n",
       "       'Lebanon', 'Serbia', 'Brazil', 'Moldova', 'Morocco', 'Peru',\n",
       "       'India', 'Bulgaria', 'Cyprus', 'Armenia', 'Switzerland',\n",
       "       'Bosnia and Herzegovina', 'Ukraine', 'Slovakia', 'Macedonia',\n",
       "       'China', 'Egypt'], dtype=object)"
      ]
     },
     "execution_count": 5,
     "metadata": {},
     "output_type": "execute_result"
    }
   ],
   "source": [
    "countries = reviews.country.unique()\n",
    "\n",
    "# Check your answer\n",
    "q2.check()\n",
    "countries"
   ]
  },
  {
   "cell_type": "code",
   "execution_count": 6,
   "id": "9ae0d17e",
   "metadata": {
    "execution": {
     "iopub.execute_input": "2021-12-16T07:18:59.039600Z",
     "iopub.status.busy": "2021-12-16T07:18:59.038944Z",
     "iopub.status.idle": "2021-12-16T07:18:59.041837Z",
     "shell.execute_reply": "2021-12-16T07:18:59.041334Z",
     "shell.execute_reply.started": "2021-12-16T06:54:05.260905Z"
    },
    "papermill": {
     "duration": 0.031577,
     "end_time": "2021-12-16T07:18:59.041977",
     "exception": false,
     "start_time": "2021-12-16T07:18:59.010400",
     "status": "completed"
    },
    "tags": []
   },
   "outputs": [],
   "source": [
    "#q2.hint()\n",
    "#q2.solution()"
   ]
  },
  {
   "cell_type": "markdown",
   "id": "ec040d44",
   "metadata": {
    "papermill": {
     "duration": 0.024875,
     "end_time": "2021-12-16T07:18:59.091754",
     "exception": false,
     "start_time": "2021-12-16T07:18:59.066879",
     "status": "completed"
    },
    "tags": []
   },
   "source": [
    "## 3.\n",
    "How often does each country appear in the dataset? Create a Series `reviews_per_country` mapping countries to the count of reviews of wines from that country."
   ]
  },
  {
   "cell_type": "code",
   "execution_count": 7,
   "id": "020d783e",
   "metadata": {
    "execution": {
     "iopub.execute_input": "2021-12-16T07:18:59.144631Z",
     "iopub.status.busy": "2021-12-16T07:18:59.144031Z",
     "iopub.status.idle": "2021-12-16T07:18:59.169214Z",
     "shell.execute_reply": "2021-12-16T07:18:59.169800Z",
     "shell.execute_reply.started": "2021-12-16T06:54:46.899377Z"
    },
    "papermill": {
     "duration": 0.053222,
     "end_time": "2021-12-16T07:18:59.169964",
     "exception": false,
     "start_time": "2021-12-16T07:18:59.116742",
     "status": "completed"
    },
    "tags": []
   },
   "outputs": [
    {
     "data": {
      "application/javascript": [
       "parent.postMessage({\"jupyterEvent\": \"custom.exercise_interaction\", \"data\": {\"outcomeType\": 1, \"valueTowardsCompletion\": 0.14285714285714285, \"interactionType\": 1, \"questionType\": 1, \"questionId\": \"3_ReviewsPerCountry\", \"learnToolsVersion\": \"0.3.4\", \"failureMessage\": \"\", \"exceptionClass\": \"\", \"trace\": \"\"}}, \"*\")"
      ],
      "text/plain": [
       "<IPython.core.display.Javascript object>"
      ]
     },
     "metadata": {},
     "output_type": "display_data"
    },
    {
     "data": {
      "text/markdown": [
       "<span style=\"color:#33cc33\">Correct</span>"
      ],
      "text/plain": [
       "Correct"
      ]
     },
     "metadata": {},
     "output_type": "display_data"
    }
   ],
   "source": [
    "reviews_per_country = reviews.country.value_counts()\n",
    "\n",
    "# Check your answer\n",
    "q3.check()"
   ]
  },
  {
   "cell_type": "code",
   "execution_count": 8,
   "id": "a3891f1f",
   "metadata": {
    "execution": {
     "iopub.execute_input": "2021-12-16T07:18:59.225876Z",
     "iopub.status.busy": "2021-12-16T07:18:59.225251Z",
     "iopub.status.idle": "2021-12-16T07:18:59.227880Z",
     "shell.execute_reply": "2021-12-16T07:18:59.228473Z",
     "shell.execute_reply.started": "2021-12-16T06:54:58.479597Z"
    },
    "papermill": {
     "duration": 0.031768,
     "end_time": "2021-12-16T07:18:59.228642",
     "exception": false,
     "start_time": "2021-12-16T07:18:59.196874",
     "status": "completed"
    },
    "tags": []
   },
   "outputs": [],
   "source": [
    "#q3.hint()\n",
    "#q3.solution()"
   ]
  },
  {
   "cell_type": "markdown",
   "id": "288a2cfc",
   "metadata": {
    "papermill": {
     "duration": 0.025664,
     "end_time": "2021-12-16T07:18:59.280228",
     "exception": false,
     "start_time": "2021-12-16T07:18:59.254564",
     "status": "completed"
    },
    "tags": []
   },
   "source": [
    "## 4.\n",
    "Create variable `centered_price` containing a version of the `price` column with the mean price subtracted.\n",
    "\n",
    "(Note: this 'centering' transformation is a common preprocessing step before applying various machine learning algorithms.) "
   ]
  },
  {
   "cell_type": "code",
   "execution_count": 9,
   "id": "4ed7df16",
   "metadata": {
    "execution": {
     "iopub.execute_input": "2021-12-16T07:18:59.335121Z",
     "iopub.status.busy": "2021-12-16T07:18:59.334509Z",
     "iopub.status.idle": "2021-12-16T07:18:59.343146Z",
     "shell.execute_reply": "2021-12-16T07:18:59.343674Z",
     "shell.execute_reply.started": "2021-12-16T06:56:34.019669Z"
    },
    "papermill": {
     "duration": 0.037699,
     "end_time": "2021-12-16T07:18:59.343836",
     "exception": false,
     "start_time": "2021-12-16T07:18:59.306137",
     "status": "completed"
    },
    "tags": []
   },
   "outputs": [
    {
     "data": {
      "application/javascript": [
       "parent.postMessage({\"jupyterEvent\": \"custom.exercise_interaction\", \"data\": {\"outcomeType\": 1, \"valueTowardsCompletion\": 0.14285714285714285, \"interactionType\": 1, \"questionType\": 1, \"questionId\": \"4_CenteredPrice\", \"learnToolsVersion\": \"0.3.4\", \"failureMessage\": \"\", \"exceptionClass\": \"\", \"trace\": \"\"}}, \"*\")"
      ],
      "text/plain": [
       "<IPython.core.display.Javascript object>"
      ]
     },
     "metadata": {},
     "output_type": "display_data"
    },
    {
     "data": {
      "text/markdown": [
       "<span style=\"color:#33cc33\">Correct</span>"
      ],
      "text/plain": [
       "Correct"
      ]
     },
     "metadata": {},
     "output_type": "display_data"
    }
   ],
   "source": [
    "centered_price = reviews.price-reviews.price.mean()\n",
    "\n",
    "# Check your answer\n",
    "q4.check()"
   ]
  },
  {
   "cell_type": "code",
   "execution_count": 10,
   "id": "f197d3f5",
   "metadata": {
    "execution": {
     "iopub.execute_input": "2021-12-16T07:18:59.401899Z",
     "iopub.status.busy": "2021-12-16T07:18:59.401264Z",
     "iopub.status.idle": "2021-12-16T07:18:59.404147Z",
     "shell.execute_reply": "2021-12-16T07:18:59.403535Z",
     "shell.execute_reply.started": "2021-12-16T06:56:41.929664Z"
    },
    "papermill": {
     "duration": 0.033535,
     "end_time": "2021-12-16T07:18:59.404284",
     "exception": false,
     "start_time": "2021-12-16T07:18:59.370749",
     "status": "completed"
    },
    "tags": []
   },
   "outputs": [],
   "source": [
    "#q4.hint()\n",
    "#q4.solution()"
   ]
  },
  {
   "cell_type": "markdown",
   "id": "113570e2",
   "metadata": {
    "papermill": {
     "duration": 0.026701,
     "end_time": "2021-12-16T07:18:59.458053",
     "exception": false,
     "start_time": "2021-12-16T07:18:59.431352",
     "status": "completed"
    },
    "tags": []
   },
   "source": [
    "## 5.\n",
    "I'm an economical wine buyer. Which wine is the \"best bargain\"? Create a variable `bargain_wine` with the title of the wine with the highest points-to-price ratio in the dataset."
   ]
  },
  {
   "cell_type": "code",
   "execution_count": 11,
   "id": "b8b0f08d",
   "metadata": {
    "execution": {
     "iopub.execute_input": "2021-12-16T07:18:59.517061Z",
     "iopub.status.busy": "2021-12-16T07:18:59.516398Z",
     "iopub.status.idle": "2021-12-16T07:18:59.527943Z",
     "shell.execute_reply": "2021-12-16T07:18:59.527361Z",
     "shell.execute_reply.started": "2021-12-16T07:04:20.909762Z"
    },
    "papermill": {
     "duration": 0.043037,
     "end_time": "2021-12-16T07:18:59.528103",
     "exception": false,
     "start_time": "2021-12-16T07:18:59.485066",
     "status": "completed"
    },
    "tags": []
   },
   "outputs": [
    {
     "data": {
      "application/javascript": [
       "parent.postMessage({\"jupyterEvent\": \"custom.exercise_interaction\", \"data\": {\"outcomeType\": 1, \"valueTowardsCompletion\": 0.14285714285714285, \"interactionType\": 1, \"questionType\": 2, \"questionId\": \"5_BargainWine\", \"learnToolsVersion\": \"0.3.4\", \"failureMessage\": \"\", \"exceptionClass\": \"\", \"trace\": \"\"}}, \"*\")"
      ],
      "text/plain": [
       "<IPython.core.display.Javascript object>"
      ]
     },
     "metadata": {},
     "output_type": "display_data"
    },
    {
     "data": {
      "text/markdown": [
       "<span style=\"color:#33cc33\">Correct</span>"
      ],
      "text/plain": [
       "Correct"
      ]
     },
     "metadata": {},
     "output_type": "display_data"
    },
    {
     "data": {
      "text/plain": [
       "'Bandit NV Merlot (California)'"
      ]
     },
     "execution_count": 11,
     "metadata": {},
     "output_type": "execute_result"
    }
   ],
   "source": [
    "bargain_idx = (reviews.points/reviews.price).idxmax()\n",
    "bargain_wine=reviews.loc[bargain_idx,'title']\n",
    "\n",
    "# Check your answer\n",
    "q5.check()\n",
    "bargain_wine"
   ]
  },
  {
   "cell_type": "code",
   "execution_count": 12,
   "id": "abdd08cd",
   "metadata": {
    "execution": {
     "iopub.execute_input": "2021-12-16T07:18:59.587637Z",
     "iopub.status.busy": "2021-12-16T07:18:59.587010Z",
     "iopub.status.idle": "2021-12-16T07:18:59.589621Z",
     "shell.execute_reply": "2021-12-16T07:18:59.590105Z",
     "shell.execute_reply.started": "2021-12-16T06:57:20.158848Z"
    },
    "papermill": {
     "duration": 0.033962,
     "end_time": "2021-12-16T07:18:59.590258",
     "exception": false,
     "start_time": "2021-12-16T07:18:59.556296",
     "status": "completed"
    },
    "tags": []
   },
   "outputs": [],
   "source": [
    "#q5.hint()\n",
    "#q5.solution()"
   ]
  },
  {
   "cell_type": "markdown",
   "id": "196bc050",
   "metadata": {
    "papermill": {
     "duration": 0.027724,
     "end_time": "2021-12-16T07:18:59.646131",
     "exception": false,
     "start_time": "2021-12-16T07:18:59.618407",
     "status": "completed"
    },
    "tags": []
   },
   "source": [
    "## 6.\n",
    "There are only so many words you can use when describing a bottle of wine. Is a wine more likely to be \"tropical\" or \"fruity\"? Create a Series `descriptor_counts` counting how many times each of these two words appears in the `description` column in the dataset."
   ]
  },
  {
   "cell_type": "code",
   "execution_count": 13,
   "id": "50b5382c",
   "metadata": {
    "execution": {
     "iopub.execute_input": "2021-12-16T07:18:59.710338Z",
     "iopub.status.busy": "2021-12-16T07:18:59.709643Z",
     "iopub.status.idle": "2021-12-16T07:18:59.788939Z",
     "shell.execute_reply": "2021-12-16T07:18:59.788429Z",
     "shell.execute_reply.started": "2021-12-16T07:08:11.380169Z"
    },
    "papermill": {
     "duration": 0.114972,
     "end_time": "2021-12-16T07:18:59.789093",
     "exception": false,
     "start_time": "2021-12-16T07:18:59.674121",
     "status": "completed"
    },
    "tags": []
   },
   "outputs": [
    {
     "data": {
      "text/plain": [
       "3607"
      ]
     },
     "execution_count": 13,
     "metadata": {},
     "output_type": "execute_result"
    }
   ],
   "source": [
    "tropi=reviews.description.map(lambda x:'tropical'in x).sum()\n",
    "tropi"
   ]
  },
  {
   "cell_type": "code",
   "execution_count": 14,
   "id": "1ec19c9a",
   "metadata": {
    "execution": {
     "iopub.execute_input": "2021-12-16T07:18:59.854408Z",
     "iopub.status.busy": "2021-12-16T07:18:59.852412Z",
     "iopub.status.idle": "2021-12-16T07:18:59.927142Z",
     "shell.execute_reply": "2021-12-16T07:18:59.926631Z",
     "shell.execute_reply.started": "2021-12-16T07:09:20.644536Z"
    },
    "papermill": {
     "duration": 0.108079,
     "end_time": "2021-12-16T07:18:59.927278",
     "exception": false,
     "start_time": "2021-12-16T07:18:59.819199",
     "status": "completed"
    },
    "tags": []
   },
   "outputs": [
    {
     "data": {
      "text/plain": [
       "9090"
      ]
     },
     "execution_count": 14,
     "metadata": {},
     "output_type": "execute_result"
    }
   ],
   "source": [
    "fruit=reviews.description.map(lambda x : 'fruity' in x).sum()\n",
    "fruit"
   ]
  },
  {
   "cell_type": "code",
   "execution_count": 15,
   "id": "fee006e3",
   "metadata": {
    "execution": {
     "iopub.execute_input": "2021-12-16T07:18:59.989349Z",
     "iopub.status.busy": "2021-12-16T07:18:59.988318Z",
     "iopub.status.idle": "2021-12-16T07:18:59.999802Z",
     "shell.execute_reply": "2021-12-16T07:19:00.000392Z",
     "shell.execute_reply.started": "2021-12-16T07:10:40.938765Z"
    },
    "papermill": {
     "duration": 0.044249,
     "end_time": "2021-12-16T07:19:00.000568",
     "exception": false,
     "start_time": "2021-12-16T07:18:59.956319",
     "status": "completed"
    },
    "tags": []
   },
   "outputs": [
    {
     "data": {
      "application/javascript": [
       "parent.postMessage({\"jupyterEvent\": \"custom.exercise_interaction\", \"data\": {\"outcomeType\": 1, \"valueTowardsCompletion\": 0.14285714285714285, \"interactionType\": 1, \"questionType\": 1, \"questionId\": \"6_DescriptorCounts\", \"learnToolsVersion\": \"0.3.4\", \"failureMessage\": \"\", \"exceptionClass\": \"\", \"trace\": \"\"}}, \"*\")"
      ],
      "text/plain": [
       "<IPython.core.display.Javascript object>"
      ]
     },
     "metadata": {},
     "output_type": "display_data"
    },
    {
     "data": {
      "text/markdown": [
       "<span style=\"color:#33cc33\">Correct</span>"
      ],
      "text/plain": [
       "Correct"
      ]
     },
     "metadata": {},
     "output_type": "display_data"
    },
    {
     "data": {
      "text/plain": [
       "tropical    3607\n",
       "fruity      9090\n",
       "dtype: int64"
      ]
     },
     "execution_count": 15,
     "metadata": {},
     "output_type": "execute_result"
    }
   ],
   "source": [
    "descriptor_counts = pd.Series([tropi,fruit],index=['tropical','fruity'])\n",
    "\n",
    "# Check your answer\n",
    "q6.check()\n",
    "descriptor_counts"
   ]
  },
  {
   "cell_type": "code",
   "execution_count": 16,
   "id": "039f37b0",
   "metadata": {
    "execution": {
     "iopub.execute_input": "2021-12-16T07:19:00.064787Z",
     "iopub.status.busy": "2021-12-16T07:19:00.063856Z",
     "iopub.status.idle": "2021-12-16T07:19:00.066893Z",
     "shell.execute_reply": "2021-12-16T07:19:00.067531Z",
     "shell.execute_reply.started": "2021-12-16T07:10:50.508804Z"
    },
    "papermill": {
     "duration": 0.036866,
     "end_time": "2021-12-16T07:19:00.067747",
     "exception": false,
     "start_time": "2021-12-16T07:19:00.030881",
     "status": "completed"
    },
    "tags": []
   },
   "outputs": [],
   "source": [
    "#q6.hint()\n",
    "#q6.solution()"
   ]
  },
  {
   "cell_type": "markdown",
   "id": "feddef2e",
   "metadata": {
    "papermill": {
     "duration": 0.029963,
     "end_time": "2021-12-16T07:19:00.128006",
     "exception": false,
     "start_time": "2021-12-16T07:19:00.098043",
     "status": "completed"
    },
    "tags": []
   },
   "source": [
    "## 7.\n",
    "We'd like to host these wine reviews on our website, but a rating system ranging from 80 to 100 points is too hard to understand - we'd like to translate them into simple star ratings. A score of 95 or higher counts as 3 stars, a score of at least 85 but less than 95 is 2 stars. Any other score is 1 star.\n",
    "\n",
    "Also, the Canadian Vintners Association bought a lot of ads on the site, so any wines from Canada should automatically get 3 stars, regardless of points.\n",
    "\n",
    "Create a series `star_ratings` with the number of stars corresponding to each review in the dataset."
   ]
  },
  {
   "cell_type": "code",
   "execution_count": 17,
   "id": "b869072b",
   "metadata": {
    "execution": {
     "iopub.execute_input": "2021-12-16T07:19:00.192154Z",
     "iopub.status.busy": "2021-12-16T07:19:00.191191Z",
     "iopub.status.idle": "2021-12-16T07:19:00.195892Z",
     "shell.execute_reply": "2021-12-16T07:19:00.196562Z",
     "shell.execute_reply.started": "2021-12-16T07:17:40.099097Z"
    },
    "papermill": {
     "duration": 0.038411,
     "end_time": "2021-12-16T07:19:00.196724",
     "exception": false,
     "start_time": "2021-12-16T07:19:00.158313",
     "status": "completed"
    },
    "tags": []
   },
   "outputs": [],
   "source": [
    "def rate(row):\n",
    "    if row.country == 'Canada':\n",
    "        return 3\n",
    "    elif row.points >= 95:\n",
    "        return 3\n",
    "    elif row.points >= 85:\n",
    "        return 2\n",
    "    else:\n",
    "        return 1"
   ]
  },
  {
   "cell_type": "code",
   "execution_count": 18,
   "id": "5e3bb872",
   "metadata": {
    "execution": {
     "iopub.execute_input": "2021-12-16T07:19:00.261975Z",
     "iopub.status.busy": "2021-12-16T07:19:00.261009Z",
     "iopub.status.idle": "2021-12-16T07:19:05.105164Z",
     "shell.execute_reply": "2021-12-16T07:19:05.105682Z",
     "shell.execute_reply.started": "2021-12-16T07:17:42.124500Z"
    },
    "papermill": {
     "duration": 4.877618,
     "end_time": "2021-12-16T07:19:05.105847",
     "exception": false,
     "start_time": "2021-12-16T07:19:00.228229",
     "status": "completed"
    },
    "tags": []
   },
   "outputs": [
    {
     "data": {
      "application/javascript": [
       "parent.postMessage({\"jupyterEvent\": \"custom.exercise_interaction\", \"data\": {\"outcomeType\": 1, \"valueTowardsCompletion\": 0.14285714285714285, \"interactionType\": 1, \"questionType\": 1, \"questionId\": \"7_StarRatings\", \"learnToolsVersion\": \"0.3.4\", \"failureMessage\": \"\", \"exceptionClass\": \"\", \"trace\": \"\"}}, \"*\")"
      ],
      "text/plain": [
       "<IPython.core.display.Javascript object>"
      ]
     },
     "metadata": {},
     "output_type": "display_data"
    },
    {
     "data": {
      "text/markdown": [
       "<span style=\"color:#33cc33\">Correct</span>"
      ],
      "text/plain": [
       "Correct"
      ]
     },
     "metadata": {},
     "output_type": "display_data"
    },
    {
     "data": {
      "text/plain": [
       "0         2\n",
       "1         2\n",
       "         ..\n",
       "129969    2\n",
       "129970    2\n",
       "Length: 129971, dtype: int64"
      ]
     },
     "execution_count": 18,
     "metadata": {},
     "output_type": "execute_result"
    }
   ],
   "source": [
    "star_ratings = reviews.apply(rate,axis='columns')\n",
    "# Check your answer\n",
    "q7.check()\n",
    "star_ratings"
   ]
  },
  {
   "cell_type": "code",
   "execution_count": 19,
   "id": "66e859ed",
   "metadata": {
    "execution": {
     "iopub.execute_input": "2021-12-16T07:19:05.176347Z",
     "iopub.status.busy": "2021-12-16T07:19:05.175450Z",
     "iopub.status.idle": "2021-12-16T07:19:05.179011Z",
     "shell.execute_reply": "2021-12-16T07:19:05.179562Z",
     "shell.execute_reply.started": "2021-12-16T07:17:54.542671Z"
    },
    "papermill": {
     "duration": 0.041147,
     "end_time": "2021-12-16T07:19:05.179721",
     "exception": false,
     "start_time": "2021-12-16T07:19:05.138574",
     "status": "completed"
    },
    "tags": []
   },
   "outputs": [],
   "source": [
    "#q7.hint()\n",
    "#q7.solution()"
   ]
  },
  {
   "cell_type": "markdown",
   "id": "123b7778",
   "metadata": {
    "papermill": {
     "duration": 0.032677,
     "end_time": "2021-12-16T07:19:05.246241",
     "exception": false,
     "start_time": "2021-12-16T07:19:05.213564",
     "status": "completed"
    },
    "tags": []
   },
   "source": [
    "# Keep going\n",
    "Continue to **[grouping and sorting](https://www.kaggle.com/residentmario/grouping-and-sorting)**."
   ]
  },
  {
   "cell_type": "markdown",
   "id": "4c6099c5",
   "metadata": {
    "papermill": {
     "duration": 0.031068,
     "end_time": "2021-12-16T07:19:05.308516",
     "exception": false,
     "start_time": "2021-12-16T07:19:05.277448",
     "status": "completed"
    },
    "tags": []
   },
   "source": [
    "---\n",
    "\n",
    "\n",
    "\n",
    "\n",
    "*Have questions or comments? Visit the [course discussion forum](https://www.kaggle.com/learn/pandas/discussion) to chat with other learners.*"
   ]
  }
 ],
 "metadata": {
  "kernelspec": {
   "display_name": "Python 3",
   "language": "python",
   "name": "python3"
  },
  "language_info": {
   "codemirror_mode": {
    "name": "ipython",
    "version": 3
   },
   "file_extension": ".py",
   "mimetype": "text/x-python",
   "name": "python",
   "nbconvert_exporter": "python",
   "pygments_lexer": "ipython3",
   "version": "3.7.12"
  },
  "papermill": {
   "default_parameters": {},
   "duration": 25.431479,
   "end_time": "2021-12-16T07:19:05.949542",
   "environment_variables": {},
   "exception": null,
   "input_path": "__notebook__.ipynb",
   "output_path": "__notebook__.ipynb",
   "parameters": {},
   "start_time": "2021-12-16T07:18:40.518063",
   "version": "2.3.3"
  }
 },
 "nbformat": 4,
 "nbformat_minor": 5
}
