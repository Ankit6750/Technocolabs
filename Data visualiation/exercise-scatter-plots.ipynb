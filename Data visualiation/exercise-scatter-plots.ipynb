{
 "cells": [
  {
   "cell_type": "markdown",
   "id": "4b1e8b5a",
   "metadata": {
    "papermill": {
     "duration": 0.04188,
     "end_time": "2021-12-15T06:47:28.699280",
     "exception": false,
     "start_time": "2021-12-15T06:47:28.657400",
     "status": "completed"
    },
    "tags": []
   },
   "source": [
    "**This notebook is an exercise in the [Data Visualization](https://www.kaggle.com/learn/data-visualization) course.  You can reference the tutorial at [this link](https://www.kaggle.com/alexisbcook/scatter-plots).**\n",
    "\n",
    "---\n"
   ]
  },
  {
   "cell_type": "markdown",
   "id": "d7c00234",
   "metadata": {
    "papermill": {
     "duration": 0.038741,
     "end_time": "2021-12-15T06:47:28.779054",
     "exception": false,
     "start_time": "2021-12-15T06:47:28.740313",
     "status": "completed"
    },
    "tags": []
   },
   "source": [
    "In this exercise, you will use your new knowledge to propose a solution to a real-world scenario.  To succeed, you will need to import data into Python, answer questions using the data, and generate **scatter plots** to understand patterns in the data.\n",
    "\n",
    "## Scenario\n",
    "\n",
    "You work for a major candy producer, and your goal is to write a report that your company can use to guide the design of its next product.  Soon after starting your research, you stumble across this [very interesting dataset](https://fivethirtyeight.com/features/the-ultimate-halloween-candy-power-ranking/) containing results from a fun survey to crowdsource favorite candies.\n",
    "\n",
    "## Setup\n",
    "\n",
    "Run the next cell to import and configure the Python libraries that you need to complete the exercise."
   ]
  },
  {
   "cell_type": "code",
   "execution_count": 1,
   "id": "a381e716",
   "metadata": {
    "execution": {
     "iopub.execute_input": "2021-12-15T06:47:28.869518Z",
     "iopub.status.busy": "2021-12-15T06:47:28.868825Z",
     "iopub.status.idle": "2021-12-15T06:47:29.905038Z",
     "shell.execute_reply": "2021-12-15T06:47:29.905715Z",
     "shell.execute_reply.started": "2021-12-15T05:44:04.149157Z"
    },
    "papermill": {
     "duration": 1.087989,
     "end_time": "2021-12-15T06:47:29.906025",
     "exception": false,
     "start_time": "2021-12-15T06:47:28.818036",
     "status": "completed"
    },
    "tags": []
   },
   "outputs": [
    {
     "name": "stdout",
     "output_type": "stream",
     "text": [
      "Setup Complete\n"
     ]
    }
   ],
   "source": [
    "import pandas as pd\n",
    "pd.plotting.register_matplotlib_converters()\n",
    "import matplotlib.pyplot as plt\n",
    "%matplotlib inline\n",
    "import seaborn as sns\n",
    "print(\"Setup Complete\")"
   ]
  },
  {
   "cell_type": "markdown",
   "id": "ad0e2f9e",
   "metadata": {
    "papermill": {
     "duration": 0.038529,
     "end_time": "2021-12-15T06:47:29.987051",
     "exception": false,
     "start_time": "2021-12-15T06:47:29.948522",
     "status": "completed"
    },
    "tags": []
   },
   "source": [
    "The questions below will give you feedback on your work. Run the following cell to set up our feedback system."
   ]
  },
  {
   "cell_type": "code",
   "execution_count": 2,
   "id": "c8cc60af",
   "metadata": {
    "execution": {
     "iopub.execute_input": "2021-12-15T06:47:30.069282Z",
     "iopub.status.busy": "2021-12-15T06:47:30.068544Z",
     "iopub.status.idle": "2021-12-15T06:47:30.207086Z",
     "shell.execute_reply": "2021-12-15T06:47:30.206503Z",
     "shell.execute_reply.started": "2021-12-15T05:46:08.709785Z"
    },
    "papermill": {
     "duration": 0.181413,
     "end_time": "2021-12-15T06:47:30.207251",
     "exception": false,
     "start_time": "2021-12-15T06:47:30.025838",
     "status": "completed"
    },
    "tags": []
   },
   "outputs": [
    {
     "name": "stdout",
     "output_type": "stream",
     "text": [
      "Setup Complete\n"
     ]
    }
   ],
   "source": [
    "# Set up code checking\n",
    "import os\n",
    "if not os.path.exists(\"../input/candy.csv\"):\n",
    "    os.symlink(\"../input/data-for-datavis/candy.csv\", \"../input/candy.csv\") \n",
    "from learntools.core import binder\n",
    "binder.bind(globals())\n",
    "from learntools.data_viz_to_coder.ex4 import *\n",
    "print(\"Setup Complete\")"
   ]
  },
  {
   "cell_type": "markdown",
   "id": "955e247f",
   "metadata": {
    "papermill": {
     "duration": 0.037163,
     "end_time": "2021-12-15T06:47:30.284970",
     "exception": false,
     "start_time": "2021-12-15T06:47:30.247807",
     "status": "completed"
    },
    "tags": []
   },
   "source": [
    "## Step 1: Load the Data\n",
    "\n",
    "Read the candy data file into `candy_data`.  Use the `\"id\"` column to label the rows."
   ]
  },
  {
   "cell_type": "code",
   "execution_count": 3,
   "id": "ac33c923",
   "metadata": {
    "execution": {
     "iopub.execute_input": "2021-12-15T06:47:30.364945Z",
     "iopub.status.busy": "2021-12-15T06:47:30.363663Z",
     "iopub.status.idle": "2021-12-15T06:47:30.380219Z",
     "shell.execute_reply": "2021-12-15T06:47:30.379538Z",
     "shell.execute_reply.started": "2021-12-15T05:46:17.969648Z"
    },
    "papermill": {
     "duration": 0.05671,
     "end_time": "2021-12-15T06:47:30.380361",
     "exception": false,
     "start_time": "2021-12-15T06:47:30.323651",
     "status": "completed"
    },
    "tags": []
   },
   "outputs": [
    {
     "data": {
      "application/javascript": [
       "parent.postMessage({\"jupyterEvent\": \"custom.exercise_interaction\", \"data\": {\"outcomeType\": 1, \"valueTowardsCompletion\": 0.3333333333333333, \"interactionType\": 1, \"questionType\": 1, \"questionId\": \"1_LoadData\", \"learnToolsVersion\": \"0.3.4\", \"failureMessage\": \"\", \"exceptionClass\": \"\", \"trace\": \"\"}}, \"*\")"
      ],
      "text/plain": [
       "<IPython.core.display.Javascript object>"
      ]
     },
     "metadata": {},
     "output_type": "display_data"
    },
    {
     "data": {
      "text/markdown": [
       "<span style=\"color:#33cc33\">Correct</span>"
      ],
      "text/plain": [
       "Correct"
      ]
     },
     "metadata": {},
     "output_type": "display_data"
    }
   ],
   "source": [
    "# Path of the file to read\n",
    "candy_filepath = \"../input/candy.csv\"\n",
    "\n",
    "# Fill in the line below to read the file into a variable candy_data\n",
    "candy_data = pd.read_csv(candy_filepath,index_col='id')\n",
    "\n",
    "# Run the line below with no changes to check that you've loaded the data correctly\n",
    "step_1.check()"
   ]
  },
  {
   "cell_type": "code",
   "execution_count": 4,
   "id": "7415f131",
   "metadata": {
    "execution": {
     "iopub.execute_input": "2021-12-15T06:47:30.464905Z",
     "iopub.status.busy": "2021-12-15T06:47:30.464131Z",
     "iopub.status.idle": "2021-12-15T06:47:30.486866Z",
     "shell.execute_reply": "2021-12-15T06:47:30.487408Z",
     "shell.execute_reply.started": "2021-12-15T05:47:14.034372Z"
    },
    "papermill": {
     "duration": 0.066973,
     "end_time": "2021-12-15T06:47:30.487602",
     "exception": false,
     "start_time": "2021-12-15T06:47:30.420629",
     "status": "completed"
    },
    "tags": []
   },
   "outputs": [
    {
     "data": {
      "text/html": [
       "<div>\n",
       "<style scoped>\n",
       "    .dataframe tbody tr th:only-of-type {\n",
       "        vertical-align: middle;\n",
       "    }\n",
       "\n",
       "    .dataframe tbody tr th {\n",
       "        vertical-align: top;\n",
       "    }\n",
       "\n",
       "    .dataframe thead th {\n",
       "        text-align: right;\n",
       "    }\n",
       "</style>\n",
       "<table border=\"1\" class=\"dataframe\">\n",
       "  <thead>\n",
       "    <tr style=\"text-align: right;\">\n",
       "      <th></th>\n",
       "      <th>competitorname</th>\n",
       "      <th>chocolate</th>\n",
       "      <th>fruity</th>\n",
       "      <th>caramel</th>\n",
       "      <th>peanutyalmondy</th>\n",
       "      <th>nougat</th>\n",
       "      <th>crispedricewafer</th>\n",
       "      <th>hard</th>\n",
       "      <th>bar</th>\n",
       "      <th>pluribus</th>\n",
       "      <th>sugarpercent</th>\n",
       "      <th>pricepercent</th>\n",
       "      <th>winpercent</th>\n",
       "    </tr>\n",
       "    <tr>\n",
       "      <th>id</th>\n",
       "      <th></th>\n",
       "      <th></th>\n",
       "      <th></th>\n",
       "      <th></th>\n",
       "      <th></th>\n",
       "      <th></th>\n",
       "      <th></th>\n",
       "      <th></th>\n",
       "      <th></th>\n",
       "      <th></th>\n",
       "      <th></th>\n",
       "      <th></th>\n",
       "      <th></th>\n",
       "    </tr>\n",
       "  </thead>\n",
       "  <tbody>\n",
       "    <tr>\n",
       "      <th>78</th>\n",
       "      <td>Twizzlers</td>\n",
       "      <td>No</td>\n",
       "      <td>Yes</td>\n",
       "      <td>No</td>\n",
       "      <td>No</td>\n",
       "      <td>No</td>\n",
       "      <td>No</td>\n",
       "      <td>No</td>\n",
       "      <td>No</td>\n",
       "      <td>No</td>\n",
       "      <td>0.220</td>\n",
       "      <td>0.116</td>\n",
       "      <td>45.466282</td>\n",
       "    </tr>\n",
       "    <tr>\n",
       "      <th>79</th>\n",
       "      <td>Warheads</td>\n",
       "      <td>No</td>\n",
       "      <td>Yes</td>\n",
       "      <td>No</td>\n",
       "      <td>No</td>\n",
       "      <td>No</td>\n",
       "      <td>No</td>\n",
       "      <td>Yes</td>\n",
       "      <td>No</td>\n",
       "      <td>No</td>\n",
       "      <td>0.093</td>\n",
       "      <td>0.116</td>\n",
       "      <td>39.011898</td>\n",
       "    </tr>\n",
       "    <tr>\n",
       "      <th>80</th>\n",
       "      <td>Welch's Fruit Snacks</td>\n",
       "      <td>No</td>\n",
       "      <td>Yes</td>\n",
       "      <td>No</td>\n",
       "      <td>No</td>\n",
       "      <td>No</td>\n",
       "      <td>No</td>\n",
       "      <td>No</td>\n",
       "      <td>No</td>\n",
       "      <td>Yes</td>\n",
       "      <td>0.313</td>\n",
       "      <td>0.313</td>\n",
       "      <td>44.375519</td>\n",
       "    </tr>\n",
       "    <tr>\n",
       "      <th>81</th>\n",
       "      <td>Werther's Original Caramel</td>\n",
       "      <td>No</td>\n",
       "      <td>No</td>\n",
       "      <td>Yes</td>\n",
       "      <td>No</td>\n",
       "      <td>No</td>\n",
       "      <td>No</td>\n",
       "      <td>Yes</td>\n",
       "      <td>No</td>\n",
       "      <td>No</td>\n",
       "      <td>0.186</td>\n",
       "      <td>0.267</td>\n",
       "      <td>41.904308</td>\n",
       "    </tr>\n",
       "    <tr>\n",
       "      <th>82</th>\n",
       "      <td>Whoppers</td>\n",
       "      <td>Yes</td>\n",
       "      <td>No</td>\n",
       "      <td>No</td>\n",
       "      <td>No</td>\n",
       "      <td>No</td>\n",
       "      <td>Yes</td>\n",
       "      <td>No</td>\n",
       "      <td>No</td>\n",
       "      <td>Yes</td>\n",
       "      <td>0.872</td>\n",
       "      <td>0.848</td>\n",
       "      <td>49.524113</td>\n",
       "    </tr>\n",
       "  </tbody>\n",
       "</table>\n",
       "</div>"
      ],
      "text/plain": [
       "                competitorname chocolate fruity caramel peanutyalmondy nougat  \\\n",
       "id                                                                              \n",
       "78                   Twizzlers        No    Yes      No             No     No   \n",
       "79                    Warheads        No    Yes      No             No     No   \n",
       "80        Welch's Fruit Snacks        No    Yes      No             No     No   \n",
       "81  Werther's Original Caramel        No     No     Yes             No     No   \n",
       "82                    Whoppers       Yes     No      No             No     No   \n",
       "\n",
       "   crispedricewafer hard bar pluribus  sugarpercent  pricepercent  winpercent  \n",
       "id                                                                             \n",
       "78               No   No  No       No         0.220         0.116   45.466282  \n",
       "79               No  Yes  No       No         0.093         0.116   39.011898  \n",
       "80               No   No  No      Yes         0.313         0.313   44.375519  \n",
       "81               No  Yes  No       No         0.186         0.267   41.904308  \n",
       "82              Yes   No  No      Yes         0.872         0.848   49.524113  "
      ]
     },
     "execution_count": 4,
     "metadata": {},
     "output_type": "execute_result"
    }
   ],
   "source": [
    "candy_data.tail()"
   ]
  },
  {
   "cell_type": "code",
   "execution_count": 5,
   "id": "0271e6a7",
   "metadata": {
    "execution": {
     "iopub.execute_input": "2021-12-15T06:47:30.568563Z",
     "iopub.status.busy": "2021-12-15T06:47:30.567968Z",
     "iopub.status.idle": "2021-12-15T06:47:30.572530Z",
     "shell.execute_reply": "2021-12-15T06:47:30.573053Z",
     "shell.execute_reply.started": "2021-12-15T05:48:14.209674Z"
    },
    "papermill": {
     "duration": 0.046259,
     "end_time": "2021-12-15T06:47:30.573219",
     "exception": false,
     "start_time": "2021-12-15T06:47:30.526960",
     "status": "completed"
    },
    "tags": []
   },
   "outputs": [
    {
     "data": {
      "text/plain": [
       "(83, 13)"
      ]
     },
     "execution_count": 5,
     "metadata": {},
     "output_type": "execute_result"
    }
   ],
   "source": [
    "candy_data.shape"
   ]
  },
  {
   "cell_type": "code",
   "execution_count": 6,
   "id": "e6380bc9",
   "metadata": {
    "execution": {
     "iopub.execute_input": "2021-12-15T06:47:30.655832Z",
     "iopub.status.busy": "2021-12-15T06:47:30.654838Z",
     "iopub.status.idle": "2021-12-15T06:47:30.661374Z",
     "shell.execute_reply": "2021-12-15T06:47:30.661835Z",
     "shell.execute_reply.started": "2021-12-15T05:48:26.509152Z"
    },
    "papermill": {
     "duration": 0.049137,
     "end_time": "2021-12-15T06:47:30.662014",
     "exception": false,
     "start_time": "2021-12-15T06:47:30.612877",
     "status": "completed"
    },
    "tags": []
   },
   "outputs": [
    {
     "data": {
      "text/plain": [
       "competitorname       object\n",
       "chocolate            object\n",
       "fruity               object\n",
       "caramel              object\n",
       "peanutyalmondy       object\n",
       "nougat               object\n",
       "crispedricewafer     object\n",
       "hard                 object\n",
       "bar                  object\n",
       "pluribus             object\n",
       "sugarpercent        float64\n",
       "pricepercent        float64\n",
       "winpercent          float64\n",
       "dtype: object"
      ]
     },
     "execution_count": 6,
     "metadata": {},
     "output_type": "execute_result"
    }
   ],
   "source": [
    "candy_data.dtypes"
   ]
  },
  {
   "cell_type": "code",
   "execution_count": 7,
   "id": "2a7ff77c",
   "metadata": {
    "execution": {
     "iopub.execute_input": "2021-12-15T06:47:30.747227Z",
     "iopub.status.busy": "2021-12-15T06:47:30.746237Z",
     "iopub.status.idle": "2021-12-15T06:47:30.755949Z",
     "shell.execute_reply": "2021-12-15T06:47:30.756442Z",
     "shell.execute_reply.started": "2021-12-15T05:48:52.926414Z"
    },
    "papermill": {
     "duration": 0.054766,
     "end_time": "2021-12-15T06:47:30.756624",
     "exception": false,
     "start_time": "2021-12-15T06:47:30.701858",
     "status": "completed"
    },
    "tags": []
   },
   "outputs": [
    {
     "data": {
      "text/plain": [
       "competitorname      0\n",
       "chocolate           0\n",
       "fruity              0\n",
       "caramel             0\n",
       "peanutyalmondy      0\n",
       "nougat              0\n",
       "crispedricewafer    0\n",
       "hard                0\n",
       "bar                 0\n",
       "pluribus            0\n",
       "sugarpercent        0\n",
       "pricepercent        0\n",
       "winpercent          0\n",
       "dtype: int64"
      ]
     },
     "execution_count": 7,
     "metadata": {},
     "output_type": "execute_result"
    }
   ],
   "source": [
    "candy_data.isnull().sum()"
   ]
  },
  {
   "cell_type": "code",
   "execution_count": 8,
   "id": "0b84794c",
   "metadata": {
    "execution": {
     "iopub.execute_input": "2021-12-15T06:47:30.840690Z",
     "iopub.status.busy": "2021-12-15T06:47:30.839582Z",
     "iopub.status.idle": "2021-12-15T06:47:30.843706Z",
     "shell.execute_reply": "2021-12-15T06:47:30.843079Z"
    },
    "papermill": {
     "duration": 0.047093,
     "end_time": "2021-12-15T06:47:30.843844",
     "exception": false,
     "start_time": "2021-12-15T06:47:30.796751",
     "status": "completed"
    },
    "tags": []
   },
   "outputs": [],
   "source": [
    "# Lines below will give you a hint or solution code\n",
    "#step_1.hint()\n",
    "#step_1.solution()"
   ]
  },
  {
   "cell_type": "markdown",
   "id": "da6ce217",
   "metadata": {
    "papermill": {
     "duration": 0.039555,
     "end_time": "2021-12-15T06:47:30.923130",
     "exception": false,
     "start_time": "2021-12-15T06:47:30.883575",
     "status": "completed"
    },
    "tags": []
   },
   "source": [
    "## Step 2: Review the data\n",
    "\n",
    "Use a Python command to print the first five rows of the data."
   ]
  },
  {
   "cell_type": "code",
   "execution_count": 9,
   "id": "571299d6",
   "metadata": {
    "execution": {
     "iopub.execute_input": "2021-12-15T06:47:31.008832Z",
     "iopub.status.busy": "2021-12-15T06:47:31.008183Z",
     "iopub.status.idle": "2021-12-15T06:47:31.024516Z",
     "shell.execute_reply": "2021-12-15T06:47:31.025061Z",
     "shell.execute_reply.started": "2021-12-15T05:47:37.309229Z"
    },
    "papermill": {
     "duration": 0.061281,
     "end_time": "2021-12-15T06:47:31.025225",
     "exception": false,
     "start_time": "2021-12-15T06:47:30.963944",
     "status": "completed"
    },
    "tags": []
   },
   "outputs": [
    {
     "data": {
      "text/html": [
       "<div>\n",
       "<style scoped>\n",
       "    .dataframe tbody tr th:only-of-type {\n",
       "        vertical-align: middle;\n",
       "    }\n",
       "\n",
       "    .dataframe tbody tr th {\n",
       "        vertical-align: top;\n",
       "    }\n",
       "\n",
       "    .dataframe thead th {\n",
       "        text-align: right;\n",
       "    }\n",
       "</style>\n",
       "<table border=\"1\" class=\"dataframe\">\n",
       "  <thead>\n",
       "    <tr style=\"text-align: right;\">\n",
       "      <th></th>\n",
       "      <th>competitorname</th>\n",
       "      <th>chocolate</th>\n",
       "      <th>fruity</th>\n",
       "      <th>caramel</th>\n",
       "      <th>peanutyalmondy</th>\n",
       "      <th>nougat</th>\n",
       "      <th>crispedricewafer</th>\n",
       "      <th>hard</th>\n",
       "      <th>bar</th>\n",
       "      <th>pluribus</th>\n",
       "      <th>sugarpercent</th>\n",
       "      <th>pricepercent</th>\n",
       "      <th>winpercent</th>\n",
       "    </tr>\n",
       "    <tr>\n",
       "      <th>id</th>\n",
       "      <th></th>\n",
       "      <th></th>\n",
       "      <th></th>\n",
       "      <th></th>\n",
       "      <th></th>\n",
       "      <th></th>\n",
       "      <th></th>\n",
       "      <th></th>\n",
       "      <th></th>\n",
       "      <th></th>\n",
       "      <th></th>\n",
       "      <th></th>\n",
       "      <th></th>\n",
       "    </tr>\n",
       "  </thead>\n",
       "  <tbody>\n",
       "    <tr>\n",
       "      <th>0</th>\n",
       "      <td>100 Grand</td>\n",
       "      <td>Yes</td>\n",
       "      <td>No</td>\n",
       "      <td>Yes</td>\n",
       "      <td>No</td>\n",
       "      <td>No</td>\n",
       "      <td>Yes</td>\n",
       "      <td>No</td>\n",
       "      <td>Yes</td>\n",
       "      <td>No</td>\n",
       "      <td>0.732</td>\n",
       "      <td>0.860</td>\n",
       "      <td>66.971725</td>\n",
       "    </tr>\n",
       "    <tr>\n",
       "      <th>1</th>\n",
       "      <td>3 Musketeers</td>\n",
       "      <td>Yes</td>\n",
       "      <td>No</td>\n",
       "      <td>No</td>\n",
       "      <td>No</td>\n",
       "      <td>Yes</td>\n",
       "      <td>No</td>\n",
       "      <td>No</td>\n",
       "      <td>Yes</td>\n",
       "      <td>No</td>\n",
       "      <td>0.604</td>\n",
       "      <td>0.511</td>\n",
       "      <td>67.602936</td>\n",
       "    </tr>\n",
       "    <tr>\n",
       "      <th>2</th>\n",
       "      <td>Air Heads</td>\n",
       "      <td>No</td>\n",
       "      <td>Yes</td>\n",
       "      <td>No</td>\n",
       "      <td>No</td>\n",
       "      <td>No</td>\n",
       "      <td>No</td>\n",
       "      <td>No</td>\n",
       "      <td>No</td>\n",
       "      <td>No</td>\n",
       "      <td>0.906</td>\n",
       "      <td>0.511</td>\n",
       "      <td>52.341465</td>\n",
       "    </tr>\n",
       "    <tr>\n",
       "      <th>3</th>\n",
       "      <td>Almond Joy</td>\n",
       "      <td>Yes</td>\n",
       "      <td>No</td>\n",
       "      <td>No</td>\n",
       "      <td>Yes</td>\n",
       "      <td>No</td>\n",
       "      <td>No</td>\n",
       "      <td>No</td>\n",
       "      <td>Yes</td>\n",
       "      <td>No</td>\n",
       "      <td>0.465</td>\n",
       "      <td>0.767</td>\n",
       "      <td>50.347546</td>\n",
       "    </tr>\n",
       "    <tr>\n",
       "      <th>4</th>\n",
       "      <td>Baby Ruth</td>\n",
       "      <td>Yes</td>\n",
       "      <td>No</td>\n",
       "      <td>Yes</td>\n",
       "      <td>Yes</td>\n",
       "      <td>Yes</td>\n",
       "      <td>No</td>\n",
       "      <td>No</td>\n",
       "      <td>Yes</td>\n",
       "      <td>No</td>\n",
       "      <td>0.604</td>\n",
       "      <td>0.767</td>\n",
       "      <td>56.914547</td>\n",
       "    </tr>\n",
       "  </tbody>\n",
       "</table>\n",
       "</div>"
      ],
      "text/plain": [
       "   competitorname chocolate fruity caramel peanutyalmondy nougat  \\\n",
       "id                                                                 \n",
       "0       100 Grand       Yes     No     Yes             No     No   \n",
       "1    3 Musketeers       Yes     No      No             No    Yes   \n",
       "2       Air Heads        No    Yes      No             No     No   \n",
       "3      Almond Joy       Yes     No      No            Yes     No   \n",
       "4       Baby Ruth       Yes     No     Yes            Yes    Yes   \n",
       "\n",
       "   crispedricewafer hard  bar pluribus  sugarpercent  pricepercent  winpercent  \n",
       "id                                                                              \n",
       "0               Yes   No  Yes       No         0.732         0.860   66.971725  \n",
       "1                No   No  Yes       No         0.604         0.511   67.602936  \n",
       "2                No   No   No       No         0.906         0.511   52.341465  \n",
       "3                No   No  Yes       No         0.465         0.767   50.347546  \n",
       "4                No   No  Yes       No         0.604         0.767   56.914547  "
      ]
     },
     "execution_count": 9,
     "metadata": {},
     "output_type": "execute_result"
    }
   ],
   "source": [
    "# Print the first five rows of the data\n",
    "candy_data.head()\n",
    "# Your code here"
   ]
  },
  {
   "cell_type": "markdown",
   "id": "66ef9c91",
   "metadata": {
    "papermill": {
     "duration": 0.040655,
     "end_time": "2021-12-15T06:47:31.106077",
     "exception": false,
     "start_time": "2021-12-15T06:47:31.065422",
     "status": "completed"
    },
    "tags": []
   },
   "source": [
    "The dataset contains 83 rows, where each corresponds to a different candy bar.  There are 13 columns:\n",
    "- `'competitorname'` contains the name of the candy bar. \n",
    "- the next **9** columns (from `'chocolate'` to `'pluribus'`) describe the candy.  For instance, rows with chocolate candies have `\"Yes\"` in the `'chocolate'` column (and candies without chocolate have `\"No\"` in the same column).\n",
    "- `'sugarpercent'` provides some indication of the amount of sugar, where higher values signify higher sugar content.\n",
    "- `'pricepercent'` shows the price per unit, relative to the other candies in the dataset.\n",
    "- `'winpercent'` is calculated from the survey results; higher values indicate that the candy was more popular with survey respondents.\n",
    "\n",
    "Use the first five rows of the data to answer the questions below."
   ]
  },
  {
   "cell_type": "code",
   "execution_count": 10,
   "id": "b79e39c9",
   "metadata": {
    "execution": {
     "iopub.execute_input": "2021-12-15T06:47:31.192641Z",
     "iopub.status.busy": "2021-12-15T06:47:31.191960Z",
     "iopub.status.idle": "2021-12-15T06:47:31.200148Z",
     "shell.execute_reply": "2021-12-15T06:47:31.199491Z",
     "shell.execute_reply.started": "2021-12-15T06:04:35.649232Z"
    },
    "papermill": {
     "duration": 0.052987,
     "end_time": "2021-12-15T06:47:31.200286",
     "exception": false,
     "start_time": "2021-12-15T06:47:31.147299",
     "status": "completed"
    },
    "tags": []
   },
   "outputs": [
    {
     "data": {
      "text/plain": [
       "67.602936"
      ]
     },
     "execution_count": 10,
     "metadata": {},
     "output_type": "execute_result"
    }
   ],
   "source": [
    "candy_data['winpercent'].head().max(axis=0)"
   ]
  },
  {
   "cell_type": "code",
   "execution_count": 11,
   "id": "3d100ba4",
   "metadata": {
    "execution": {
     "iopub.execute_input": "2021-12-15T06:47:31.289178Z",
     "iopub.status.busy": "2021-12-15T06:47:31.288457Z",
     "iopub.status.idle": "2021-12-15T06:47:31.291293Z",
     "shell.execute_reply": "2021-12-15T06:47:31.291861Z",
     "shell.execute_reply.started": "2021-12-15T06:06:11.724524Z"
    },
    "papermill": {
     "duration": 0.050307,
     "end_time": "2021-12-15T06:47:31.292037",
     "exception": false,
     "start_time": "2021-12-15T06:47:31.241730",
     "status": "completed"
    },
    "tags": []
   },
   "outputs": [
    {
     "data": {
      "text/plain": [
       "0.90600002"
      ]
     },
     "execution_count": 11,
     "metadata": {},
     "output_type": "execute_result"
    }
   ],
   "source": [
    "candy_data['sugarpercent'].head().max(axis=0)"
   ]
  },
  {
   "cell_type": "code",
   "execution_count": 12,
   "id": "ce800cb5",
   "metadata": {
    "execution": {
     "iopub.execute_input": "2021-12-15T06:47:31.377956Z",
     "iopub.status.busy": "2021-12-15T06:47:31.377282Z",
     "iopub.status.idle": "2021-12-15T06:47:31.383396Z",
     "shell.execute_reply": "2021-12-15T06:47:31.383982Z",
     "shell.execute_reply.started": "2021-12-15T06:05:45.830332Z"
    },
    "papermill": {
     "duration": 0.050875,
     "end_time": "2021-12-15T06:47:31.384156",
     "exception": false,
     "start_time": "2021-12-15T06:47:31.333281",
     "status": "completed"
    },
    "tags": []
   },
   "outputs": [
    {
     "data": {
      "text/plain": [
       "0.82499999"
      ]
     },
     "execution_count": 12,
     "metadata": {},
     "output_type": "execute_result"
    }
   ],
   "source": [
    "candy_data.loc[20:30]['sugarpercent'].max(axis=0)"
   ]
  },
  {
   "cell_type": "code",
   "execution_count": 13,
   "id": "cb6c964a",
   "metadata": {
    "execution": {
     "iopub.execute_input": "2021-12-15T06:47:31.471028Z",
     "iopub.status.busy": "2021-12-15T06:47:31.470144Z",
     "iopub.status.idle": "2021-12-15T06:47:31.476350Z",
     "shell.execute_reply": "2021-12-15T06:47:31.476884Z",
     "shell.execute_reply.started": "2021-12-15T06:07:12.251296Z"
    },
    "papermill": {
     "duration": 0.050962,
     "end_time": "2021-12-15T06:47:31.477049",
     "exception": false,
     "start_time": "2021-12-15T06:47:31.426087",
     "status": "completed"
    },
    "tags": []
   },
   "outputs": [
    {
     "data": {
      "application/javascript": [
       "parent.postMessage({\"jupyterEvent\": \"custom.exercise_interaction\", \"data\": {\"outcomeType\": 1, \"valueTowardsCompletion\": 0.3333333333333333, \"interactionType\": 1, \"questionType\": 1, \"questionId\": \"2_ReviewData\", \"learnToolsVersion\": \"0.3.4\", \"failureMessage\": \"\", \"exceptionClass\": \"\", \"trace\": \"\"}}, \"*\")"
      ],
      "text/plain": [
       "<IPython.core.display.Javascript object>"
      ]
     },
     "metadata": {},
     "output_type": "display_data"
    },
    {
     "data": {
      "text/markdown": [
       "<span style=\"color:#33cc33\">Correct</span>"
      ],
      "text/plain": [
       "Correct"
      ]
     },
     "metadata": {},
     "output_type": "display_data"
    }
   ],
   "source": [
    "# Fill in the line below: Which candy was more popular with survey respondents:\n",
    "# '3 Musketeers' or 'Almond Joy'?  (Please enclose your answer in single quotes.)\n",
    "more_popular ='3 Musketeers'\n",
    "\n",
    "# Fill in the line below: Which candy has higher sugar content: 'Air Heads'\n",
    "# or 'Baby Ruth'? (Please enclose your answer in single quotes.)\n",
    "more_sugar = 'Air Heads'\n",
    "\n",
    "# Check your answers\n",
    "step_2.check()"
   ]
  },
  {
   "cell_type": "code",
   "execution_count": 14,
   "id": "3ef3a8c0",
   "metadata": {
    "execution": {
     "iopub.execute_input": "2021-12-15T06:47:31.566784Z",
     "iopub.status.busy": "2021-12-15T06:47:31.566041Z",
     "iopub.status.idle": "2021-12-15T06:47:31.568970Z",
     "shell.execute_reply": "2021-12-15T06:47:31.569481Z",
     "shell.execute_reply.started": "2021-12-15T06:07:26.844868Z"
    },
    "papermill": {
     "duration": 0.04855,
     "end_time": "2021-12-15T06:47:31.569669",
     "exception": false,
     "start_time": "2021-12-15T06:47:31.521119",
     "status": "completed"
    },
    "tags": []
   },
   "outputs": [],
   "source": [
    "# Lines below will give you a hint or solution code\n",
    "#step_2.hint()\n",
    "#step_2.solution()"
   ]
  },
  {
   "cell_type": "markdown",
   "id": "37509f89",
   "metadata": {
    "papermill": {
     "duration": 0.044129,
     "end_time": "2021-12-15T06:47:31.658680",
     "exception": false,
     "start_time": "2021-12-15T06:47:31.614551",
     "status": "completed"
    },
    "tags": []
   },
   "source": [
    "## Step 3: The role of sugar\n",
    "\n",
    "Do people tend to prefer candies with higher sugar content?  \n",
    "\n",
    "#### Part A\n",
    "\n",
    "Create a scatter plot that shows the relationship between `'sugarpercent'` (on the horizontal x-axis) and `'winpercent'` (on the vertical y-axis).  _Don't add a regression line just yet -- you'll do that in the next step!_"
   ]
  },
  {
   "cell_type": "code",
   "execution_count": 15,
   "id": "9d245465",
   "metadata": {
    "execution": {
     "iopub.execute_input": "2021-12-15T06:47:31.748773Z",
     "iopub.status.busy": "2021-12-15T06:47:31.748097Z",
     "iopub.status.idle": "2021-12-15T06:47:32.020622Z",
     "shell.execute_reply": "2021-12-15T06:47:32.020076Z",
     "shell.execute_reply.started": "2021-12-15T06:09:10.150198Z"
    },
    "papermill": {
     "duration": 0.318345,
     "end_time": "2021-12-15T06:47:32.020769",
     "exception": false,
     "start_time": "2021-12-15T06:47:31.702424",
     "status": "completed"
    },
    "tags": []
   },
   "outputs": [
    {
     "data": {
      "application/javascript": [
       "parent.postMessage({\"jupyterEvent\": \"custom.exercise_interaction\", \"data\": {\"outcomeType\": 1, \"valueTowardsCompletion\": 0.3333333333333333, \"interactionType\": 1, \"questionType\": 2, \"questionId\": \"3.1_PlotBlueScatter\", \"learnToolsVersion\": \"0.3.4\", \"failureMessage\": \"\", \"exceptionClass\": \"\", \"trace\": \"\"}}, \"*\")"
      ],
      "text/plain": [
       "<IPython.core.display.Javascript object>"
      ]
     },
     "metadata": {},
     "output_type": "display_data"
    },
    {
     "data": {
      "text/markdown": [
       "<span style=\"color:#33cc33\">Correct</span>"
      ],
      "text/plain": [
       "Correct"
      ]
     },
     "metadata": {},
     "output_type": "display_data"
    },
    {
     "data": {
      "image/png": "[encoded data removed]",
      "text/plain": [
       "<Figure size 432x288 with 1 Axes>"
      ]
     },
     "metadata": {
      "needs_background": "light"
     },
     "output_type": "display_data"
    }
   ],
   "source": [
    "# Scatter plot showing the relationship between 'sugarpercent' and 'winpercent'\n",
    "sns.scatterplot(x=\"sugarpercent\",y='winpercent',data=candy_data)\n",
    "# Your code here\n",
    "\n",
    "# Check your answer\n",
    "step_3.a.check()"
   ]
  },
  {
   "cell_type": "code",
   "execution_count": 16,
   "id": "e03d03c1",
   "metadata": {
    "execution": {
     "iopub.execute_input": "2021-12-15T06:47:32.114930Z",
     "iopub.status.busy": "2021-12-15T06:47:32.114266Z",
     "iopub.status.idle": "2021-12-15T06:47:32.117370Z",
     "shell.execute_reply": "2021-12-15T06:47:32.116777Z"
    },
    "papermill": {
     "duration": 0.050519,
     "end_time": "2021-12-15T06:47:32.117505",
     "exception": false,
     "start_time": "2021-12-15T06:47:32.066986",
     "status": "completed"
    },
    "tags": []
   },
   "outputs": [],
   "source": [
    "# Lines below will give you a hint or solution code\n",
    "#step_3.a.hint()\n",
    "#step_3.a.solution_plot()"
   ]
  },
  {
   "cell_type": "markdown",
   "id": "d55db69c",
   "metadata": {
    "papermill": {
     "duration": 0.043666,
     "end_time": "2021-12-15T06:47:32.205221",
     "exception": false,
     "start_time": "2021-12-15T06:47:32.161555",
     "status": "completed"
    },
    "tags": []
   },
   "source": [
    "#### Part B\n",
    "\n",
    "Does the scatter plot show a **strong** correlation between the two variables?  If so, are candies with more sugar relatively more or less popular with the survey respondents?"
   ]
  },
  {
   "cell_type": "markdown",
   "id": "484c6e35",
   "metadata": {
    "papermill": {
     "duration": 0.043728,
     "end_time": "2021-12-15T06:47:32.293708",
     "exception": false,
     "start_time": "2021-12-15T06:47:32.249980",
     "status": "completed"
    },
    "tags": []
   },
   "source": [
    "NO "
   ]
  },
  {
   "cell_type": "markdown",
   "id": "ecdb8fbd",
   "metadata": {
    "papermill": {
     "duration": 0.043561,
     "end_time": "2021-12-15T06:47:32.382029",
     "exception": false,
     "start_time": "2021-12-15T06:47:32.338468",
     "status": "completed"
    },
    "tags": []
   },
   "source": []
  },
  {
   "cell_type": "code",
   "execution_count": 17,
   "id": "3c495495",
   "metadata": {
    "execution": {
     "iopub.execute_input": "2021-12-15T06:47:32.477124Z",
     "iopub.status.busy": "2021-12-15T06:47:32.476434Z",
     "iopub.status.idle": "2021-12-15T06:47:32.478269Z",
     "shell.execute_reply": "2021-12-15T06:47:32.478789Z",
     "shell.execute_reply.started": "2021-12-15T06:10:10.665779Z"
    },
    "papermill": {
     "duration": 0.052224,
     "end_time": "2021-12-15T06:47:32.478959",
     "exception": false,
     "start_time": "2021-12-15T06:47:32.426735",
     "status": "completed"
    },
    "tags": []
   },
   "outputs": [],
   "source": [
    "#step_3.b.hint()"
   ]
  },
  {
   "cell_type": "code",
   "execution_count": 18,
   "id": "18d67d82",
   "metadata": {
    "execution": {
     "iopub.execute_input": "2021-12-15T06:47:32.575360Z",
     "iopub.status.busy": "2021-12-15T06:47:32.574685Z",
     "iopub.status.idle": "2021-12-15T06:47:32.580817Z",
     "shell.execute_reply": "2021-12-15T06:47:32.581415Z",
     "shell.execute_reply.started": "2021-12-15T06:10:12.289519Z"
    },
    "papermill": {
     "duration": 0.05573,
     "end_time": "2021-12-15T06:47:32.581605",
     "exception": false,
     "start_time": "2021-12-15T06:47:32.525875",
     "status": "completed"
    },
    "tags": []
   },
   "outputs": [
    {
     "data": {
      "application/javascript": [
       "parent.postMessage({\"jupyterEvent\": \"custom.exercise_interaction\", \"data\": {\"interactionType\": 3, \"questionType\": 4, \"questionId\": \"3.2_ThinkBlueScatter\", \"learnToolsVersion\": \"0.3.4\", \"valueTowardsCompletion\": 0.0, \"failureMessage\": \"\", \"exceptionClass\": \"\", \"trace\": \"\", \"outcomeType\": 4}}, \"*\")"
      ],
      "text/plain": [
       "<IPython.core.display.Javascript object>"
      ]
     },
     "metadata": {},
     "output_type": "display_data"
    },
    {
     "data": {
      "text/markdown": [
       "<span style=\"color:#33cc99\">Solution:</span> The scatter plot does not show a strong correlation between the two variables. Since there is no clear relationship between the two variables, this tells us that sugar content does not play a strong role in candy popularity."
      ],
      "text/plain": [
       "Solution: The scatter plot does not show a strong correlation between the two variables. Since there is no clear relationship between the two variables, this tells us that sugar content does not play a strong role in candy popularity."
      ]
     },
     "metadata": {},
     "output_type": "display_data"
    }
   ],
   "source": [
    "# Check your answer (Run this code cell to receive credit!)\n",
    "step_3.b.solution()"
   ]
  },
  {
   "cell_type": "markdown",
   "id": "83a1a09d",
   "metadata": {
    "papermill": {
     "duration": 0.04674,
     "end_time": "2021-12-15T06:47:32.675792",
     "exception": false,
     "start_time": "2021-12-15T06:47:32.629052",
     "status": "completed"
    },
    "tags": []
   },
   "source": [
    "## Step 4: Take a closer look\n",
    "\n",
    "#### Part A\n",
    "\n",
    "Create the same scatter plot you created in **Step 3**, but now with a regression line!"
   ]
  },
  {
   "cell_type": "code",
   "execution_count": 19,
   "id": "57b853ed",
   "metadata": {
    "execution": {
     "iopub.execute_input": "2021-12-15T06:47:32.782510Z",
     "iopub.status.busy": "2021-12-15T06:47:32.770630Z",
     "iopub.status.idle": "2021-12-15T06:47:33.114728Z",
     "shell.execute_reply": "2021-12-15T06:47:33.115257Z",
     "shell.execute_reply.started": "2021-12-15T06:11:16.779549Z"
    },
    "papermill": {
     "duration": 0.39246,
     "end_time": "2021-12-15T06:47:33.115427",
     "exception": false,
     "start_time": "2021-12-15T06:47:32.722967",
     "status": "completed"
    },
    "tags": []
   },
   "outputs": [
    {
     "data": {
      "application/javascript": [
       "parent.postMessage({\"jupyterEvent\": \"custom.exercise_interaction\", \"data\": {\"outcomeType\": 1, \"valueTowardsCompletion\": 0.3333333333333333, \"interactionType\": 1, \"questionType\": 2, \"questionId\": \"4.1_PlotBlueReg\", \"learnToolsVersion\": \"0.3.4\", \"failureMessage\": \"\", \"exceptionClass\": \"\", \"trace\": \"\"}}, \"*\")"
      ],
      "text/plain": [
       "<IPython.core.display.Javascript object>"
      ]
     },
     "metadata": {},
     "output_type": "display_data"
    },
    {
     "data": {
      "text/markdown": [
       "<span style=\"color:#33cc33\">Correct</span>"
      ],
      "text/plain": [
       "Correct"
      ]
     },
     "metadata": {},
     "output_type": "display_data"
    },
    {
     "data": {
      "image/png": "[encoded data removed]",
      "text/plain": [
       "<Figure size 432x288 with 1 Axes>"
      ]
     },
     "metadata": {
      "needs_background": "light"
     },
     "output_type": "display_data"
    }
   ],
   "source": [
    "# Scatter plot w/ regression line showing the relationship between 'sugarpercent' and 'winpercent'\n",
    "sns.regplot(x='sugarpercent',y='winpercent',data=candy_data)\n",
    "# Your code here\n",
    "\n",
    "# Check your answer\n",
    "step_4.a.check()"
   ]
  },
  {
   "cell_type": "code",
   "execution_count": 20,
   "id": "cae84aa5",
   "metadata": {
    "execution": {
     "iopub.execute_input": "2021-12-15T06:47:33.213525Z",
     "iopub.status.busy": "2021-12-15T06:47:33.212637Z",
     "iopub.status.idle": "2021-12-15T06:47:33.216928Z",
     "shell.execute_reply": "2021-12-15T06:47:33.216245Z"
    },
    "papermill": {
     "duration": 0.054442,
     "end_time": "2021-12-15T06:47:33.217072",
     "exception": false,
     "start_time": "2021-12-15T06:47:33.162630",
     "status": "completed"
    },
    "tags": []
   },
   "outputs": [],
   "source": [
    "# Lines below will give you a hint or solution code\n",
    "#step_4.a.hint()\n",
    "#step_4.a.solution_plot()"
   ]
  },
  {
   "cell_type": "markdown",
   "id": "ec6c7e56",
   "metadata": {
    "papermill": {
     "duration": 0.048584,
     "end_time": "2021-12-15T06:47:33.316571",
     "exception": false,
     "start_time": "2021-12-15T06:47:33.267987",
     "status": "completed"
    },
    "tags": []
   },
   "source": [
    "#### Part B\n",
    "\n",
    "According to the plot above, is there a **slight** correlation between `'winpercent'` and `'sugarpercent'`?  What does this tell you about the candy that people tend to prefer?"
   ]
  },
  {
   "cell_type": "markdown",
   "id": "ff4dc268",
   "metadata": {
    "papermill": {
     "duration": 0.049596,
     "end_time": "2021-12-15T06:47:33.415650",
     "exception": false,
     "start_time": "2021-12-15T06:47:33.366054",
     "status": "completed"
    },
    "tags": []
   },
   "source": [
    "Not sure but little slope are precent with increase in sugar"
   ]
  },
  {
   "cell_type": "markdown",
   "id": "a7d530dd",
   "metadata": {
    "papermill": {
     "duration": 0.049826,
     "end_time": "2021-12-15T06:47:33.514774",
     "exception": false,
     "start_time": "2021-12-15T06:47:33.464948",
     "status": "completed"
    },
    "tags": []
   },
   "source": []
  },
  {
   "cell_type": "code",
   "execution_count": 21,
   "id": "597c727c",
   "metadata": {
    "execution": {
     "iopub.execute_input": "2021-12-15T06:47:33.614938Z",
     "iopub.status.busy": "2021-12-15T06:47:33.613971Z",
     "iopub.status.idle": "2021-12-15T06:47:33.616497Z",
     "shell.execute_reply": "2021-12-15T06:47:33.616004Z",
     "shell.execute_reply.started": "2021-12-15T06:13:13.610438Z"
    },
    "papermill": {
     "duration": 0.05447,
     "end_time": "2021-12-15T06:47:33.616655",
     "exception": false,
     "start_time": "2021-12-15T06:47:33.562185",
     "status": "completed"
    },
    "tags": []
   },
   "outputs": [],
   "source": [
    "#step_4.b.hint()"
   ]
  },
  {
   "cell_type": "code",
   "execution_count": 22,
   "id": "2e1929e8",
   "metadata": {
    "execution": {
     "iopub.execute_input": "2021-12-15T06:47:33.718173Z",
     "iopub.status.busy": "2021-12-15T06:47:33.717395Z",
     "iopub.status.idle": "2021-12-15T06:47:33.723712Z",
     "shell.execute_reply": "2021-12-15T06:47:33.724289Z",
     "shell.execute_reply.started": "2021-12-15T06:12:19.785873Z"
    },
    "papermill": {
     "duration": 0.06026,
     "end_time": "2021-12-15T06:47:33.724456",
     "exception": false,
     "start_time": "2021-12-15T06:47:33.664196",
     "status": "completed"
    },
    "tags": []
   },
   "outputs": [
    {
     "data": {
      "application/javascript": [
       "parent.postMessage({\"jupyterEvent\": \"custom.exercise_interaction\", \"data\": {\"interactionType\": 3, \"questionType\": 4, \"questionId\": \"4.2_ThinkBlueReg\", \"learnToolsVersion\": \"0.3.4\", \"valueTowardsCompletion\": 0.0, \"failureMessage\": \"\", \"exceptionClass\": \"\", \"trace\": \"\", \"outcomeType\": 4}}, \"*\")"
      ],
      "text/plain": [
       "<IPython.core.display.Javascript object>"
      ]
     },
     "metadata": {},
     "output_type": "display_data"
    },
    {
     "data": {
      "text/markdown": [
       "<span style=\"color:#33cc99\">Solution:</span> Since the regression line has a slightly positive slope, this tells us that there is a slightly positive correlation between `'winpercent'` and `'sugarpercent'`. Thus, people have a slight preference for candies containing relatively more sugar."
      ],
      "text/plain": [
       "Solution: Since the regression line has a slightly positive slope, this tells us that there is a slightly positive correlation between `'winpercent'` and `'sugarpercent'`. Thus, people have a slight preference for candies containing relatively more sugar."
      ]
     },
     "metadata": {},
     "output_type": "display_data"
    }
   ],
   "source": [
    "# Check your answer (Run this code cell to receive credit!)\n",
    "step_4.b.solution()"
   ]
  },
  {
   "cell_type": "markdown",
   "id": "91d56287",
   "metadata": {
    "papermill": {
     "duration": 0.048207,
     "end_time": "2021-12-15T06:47:33.822885",
     "exception": false,
     "start_time": "2021-12-15T06:47:33.774678",
     "status": "completed"
    },
    "tags": []
   },
   "source": [
    "## Step 5: Chocolate!\n",
    "\n",
    "In the code cell below, create a scatter plot to show the relationship between `'pricepercent'` (on the horizontal x-axis) and `'winpercent'` (on the vertical y-axis). Use the `'chocolate'` column to color-code the points.  _Don't add any regression lines just yet -- you'll do that in the next step!_"
   ]
  },
  {
   "cell_type": "code",
   "execution_count": 23,
   "id": "c34334a9",
   "metadata": {
    "execution": {
     "iopub.execute_input": "2021-12-15T06:47:33.935816Z",
     "iopub.status.busy": "2021-12-15T06:47:33.934852Z",
     "iopub.status.idle": "2021-12-15T06:47:34.286409Z",
     "shell.execute_reply": "2021-12-15T06:47:34.287127Z",
     "shell.execute_reply.started": "2021-12-15T06:33:23.205897Z"
    },
    "papermill": {
     "duration": 0.409281,
     "end_time": "2021-12-15T06:47:34.287312",
     "exception": false,
     "start_time": "2021-12-15T06:47:33.878031",
     "status": "completed"
    },
    "tags": []
   },
   "outputs": [
    {
     "data": {
      "application/javascript": [
       "parent.postMessage({\"jupyterEvent\": \"custom.exercise_interaction\", \"data\": {\"outcomeType\": 1, \"valueTowardsCompletion\": 0.3333333333333333, \"interactionType\": 1, \"questionType\": 2, \"questionId\": \"5_ColorScatter\", \"learnToolsVersion\": \"0.3.4\", \"failureMessage\": \"\", \"exceptionClass\": \"\", \"trace\": \"\"}}, \"*\")"
      ],
      "text/plain": [
       "<IPython.core.display.Javascript object>"
      ]
     },
     "metadata": {},
     "output_type": "display_data"
    },
    {
     "data": {
      "text/markdown": [
       "<span style=\"color:#33cc33\">Correct</span>"
      ],
      "text/plain": [
       "Correct"
      ]
     },
     "metadata": {},
     "output_type": "display_data"
    },
    {
     "data": {
      "image/png": "[encoded data removed]",
      "text/plain": [
       "<Figure size 432x288 with 1 Axes>"
      ]
     },
     "metadata": {
      "needs_background": "light"
     },
     "output_type": "display_data"
    }
   ],
   "source": [
    "# Scatter plot showing the relationship between 'pricepercent', 'winpercent', and 'chocolate'\n",
    "sns.scatterplot(x='pricepercent',y='winpercent',hue='chocolate',data=candy_data)\n",
    "# Your code here\n",
    "\n",
    "# Check your answer\n",
    "step_5.check()"
   ]
  },
  {
   "cell_type": "code",
   "execution_count": 24,
   "id": "e99b8450",
   "metadata": {
    "execution": {
     "iopub.execute_input": "2021-12-15T06:47:34.394245Z",
     "iopub.status.busy": "2021-12-15T06:47:34.393084Z",
     "iopub.status.idle": "2021-12-15T06:47:34.395215Z",
     "shell.execute_reply": "2021-12-15T06:47:34.395867Z"
    },
    "papermill": {
     "duration": 0.056992,
     "end_time": "2021-12-15T06:47:34.396051",
     "exception": false,
     "start_time": "2021-12-15T06:47:34.339059",
     "status": "completed"
    },
    "tags": []
   },
   "outputs": [],
   "source": [
    "# Lines below will give you a hint or solution code\n",
    "#step_5.hint()\n",
    "#step_5.solution_plot()"
   ]
  },
  {
   "cell_type": "markdown",
   "id": "c4f22467",
   "metadata": {
    "papermill": {
     "duration": 0.051296,
     "end_time": "2021-12-15T06:47:34.497678",
     "exception": false,
     "start_time": "2021-12-15T06:47:34.446382",
     "status": "completed"
    },
    "tags": []
   },
   "source": [
    "Can you see any interesting patterns in the scatter plot?  We'll investigate this plot further  by adding regression lines in the next step!\n",
    "\n",
    "## Step 6: Investigate chocolate\n",
    "\n",
    "#### Part A\n",
    "\n",
    "Create the same scatter plot you created in **Step 5**, but now with two regression lines, corresponding to (1) chocolate candies and (2) candies without chocolate."
   ]
  },
  {
   "cell_type": "code",
   "execution_count": 25,
   "id": "91907bd3",
   "metadata": {
    "execution": {
     "iopub.execute_input": "2021-12-15T06:47:34.605140Z",
     "iopub.status.busy": "2021-12-15T06:47:34.604156Z",
     "iopub.status.idle": "2021-12-15T06:47:35.323253Z",
     "shell.execute_reply": "2021-12-15T06:47:35.323773Z",
     "shell.execute_reply.started": "2021-12-15T06:40:14.240223Z"
    },
    "papermill": {
     "duration": 0.774406,
     "end_time": "2021-12-15T06:47:35.323970",
     "exception": false,
     "start_time": "2021-12-15T06:47:34.549564",
     "status": "completed"
    },
    "tags": []
   },
   "outputs": [
    {
     "data": {
      "application/javascript": [
       "parent.postMessage({\"jupyterEvent\": \"custom.exercise_interaction\", \"data\": {\"outcomeType\": 1, \"valueTowardsCompletion\": 0.3333333333333333, \"interactionType\": 1, \"questionType\": 2, \"questionId\": \"6.1_PlotColorReg\", \"learnToolsVersion\": \"0.3.4\", \"failureMessage\": \"\", \"exceptionClass\": \"\", \"trace\": \"\"}}, \"*\")"
      ],
      "text/plain": [
       "<IPython.core.display.Javascript object>"
      ]
     },
     "metadata": {},
     "output_type": "display_data"
    },
    {
     "data": {
      "text/markdown": [
       "<span style=\"color:#33cc33\">Correct</span>"
      ],
      "text/plain": [
       "Correct"
      ]
     },
     "metadata": {},
     "output_type": "display_data"
    },
    {
     "data": {
      "image/png": "[encoded data removed]",
      "text/plain": [
       "<Figure size 416.375x360 with 1 Axes>"
      ]
     },
     "metadata": {
      "needs_background": "light"
     },
     "output_type": "display_data"
    }
   ],
   "source": [
    "# Color-coded scatter plot w/ regression lines\n",
    "sns.lmplot(x='pricepercent',y='winpercent',hue='chocolate',data=candy_data)\n",
    "# Your code here\n",
    "\n",
    "# Check your answer\n",
    "step_6.a.check()"
   ]
  },
  {
   "cell_type": "code",
   "execution_count": 26,
   "id": "66737e47",
   "metadata": {
    "execution": {
     "iopub.execute_input": "2021-12-15T06:47:35.436185Z",
     "iopub.status.busy": "2021-12-15T06:47:35.435271Z",
     "iopub.status.idle": "2021-12-15T06:47:35.438333Z",
     "shell.execute_reply": "2021-12-15T06:47:35.438841Z",
     "shell.execute_reply.started": "2021-12-15T06:40:28.170666Z"
    },
    "papermill": {
     "duration": 0.059401,
     "end_time": "2021-12-15T06:47:35.439018",
     "exception": false,
     "start_time": "2021-12-15T06:47:35.379617",
     "status": "completed"
    },
    "tags": []
   },
   "outputs": [],
   "source": [
    "# Lines below will give you a hint or solution code\n",
    "#step_6.a.hint()\n",
    "#step_6.a.solution_plot()"
   ]
  },
  {
   "cell_type": "markdown",
   "id": "5d57015a",
   "metadata": {
    "papermill": {
     "duration": 0.059529,
     "end_time": "2021-12-15T06:47:35.551750",
     "exception": false,
     "start_time": "2021-12-15T06:47:35.492221",
     "status": "completed"
    },
    "tags": []
   },
   "source": [
    "#### Part B\n",
    "\n",
    "Using the regression lines, what conclusions can you draw about the effects of chocolate and price on candy popularity?"
   ]
  },
  {
   "cell_type": "markdown",
   "id": "cf020e49",
   "metadata": {
    "papermill": {
     "duration": 0.052558,
     "end_time": "2021-12-15T06:47:35.656781",
     "exception": false,
     "start_time": "2021-12-15T06:47:35.604223",
     "status": "completed"
    },
    "tags": []
   },
   "source": [
    "with chocolate price increase also winprecent also increase that mean chocolate indrient preffer by people"
   ]
  },
  {
   "cell_type": "code",
   "execution_count": 27,
   "id": "bbe8d319",
   "metadata": {
    "execution": {
     "iopub.execute_input": "2021-12-15T06:47:35.770674Z",
     "iopub.status.busy": "2021-12-15T06:47:35.769705Z",
     "iopub.status.idle": "2021-12-15T06:47:35.772845Z",
     "shell.execute_reply": "2021-12-15T06:47:35.773305Z",
     "shell.execute_reply.started": "2021-12-15T06:40:34.950447Z"
    },
    "papermill": {
     "duration": 0.06218,
     "end_time": "2021-12-15T06:47:35.773482",
     "exception": false,
     "start_time": "2021-12-15T06:47:35.711302",
     "status": "completed"
    },
    "tags": []
   },
   "outputs": [],
   "source": [
    "#step_6.b.hint()"
   ]
  },
  {
   "cell_type": "code",
   "execution_count": 28,
   "id": "bb1bec7c",
   "metadata": {
    "execution": {
     "iopub.execute_input": "2021-12-15T06:47:35.890538Z",
     "iopub.status.busy": "2021-12-15T06:47:35.889536Z",
     "iopub.status.idle": "2021-12-15T06:47:35.896723Z",
     "shell.execute_reply": "2021-12-15T06:47:35.897183Z",
     "shell.execute_reply.started": "2021-12-15T06:42:49.450133Z"
    },
    "papermill": {
     "duration": 0.067528,
     "end_time": "2021-12-15T06:47:35.897352",
     "exception": false,
     "start_time": "2021-12-15T06:47:35.829824",
     "status": "completed"
    },
    "tags": []
   },
   "outputs": [
    {
     "data": {
      "application/javascript": [
       "parent.postMessage({\"jupyterEvent\": \"custom.exercise_interaction\", \"data\": {\"interactionType\": 3, \"questionType\": 4, \"questionId\": \"6.2_ThinkColorReg\", \"learnToolsVersion\": \"0.3.4\", \"valueTowardsCompletion\": 0.0, \"failureMessage\": \"\", \"exceptionClass\": \"\", \"trace\": \"\", \"outcomeType\": 4}}, \"*\")"
      ],
      "text/plain": [
       "<IPython.core.display.Javascript object>"
      ]
     },
     "metadata": {},
     "output_type": "display_data"
    },
    {
     "data": {
      "text/markdown": [
       "<span style=\"color:#33cc99\">Solution:</span> We'll begin with the regression line for chocolate candies. Since this line has a slightly positive slope, we can say that more expensive chocolate candies tend to be more popular (than relatively cheaper chocolate candies).  Likewise, since the regression line for candies without chocolate has a negative slope, we can say that if candies don't contain chocolate, they tend to be more popular when they are cheaper.  One important note, however, is that the dataset is quite small -- so we shouldn't invest too much trust in these patterns!  To inspire more confidence in the results, we should add more candies to the dataset."
      ],
      "text/plain": [
       "Solution: We'll begin with the regression line for chocolate candies. Since this line has a slightly positive slope, we can say that more expensive chocolate candies tend to be more popular (than relatively cheaper chocolate candies).  Likewise, since the regression line for candies without chocolate has a negative slope, we can say that if candies don't contain chocolate, they tend to be more popular when they are cheaper.  One important note, however, is that the dataset is quite small -- so we shouldn't invest too much trust in these patterns!  To inspire more confidence in the results, we should add more candies to the dataset."
      ]
     },
     "metadata": {},
     "output_type": "display_data"
    }
   ],
   "source": [
    "# Check your answer (Run this code cell to receive credit!)\n",
    "step_6.b.solution()"
   ]
  },
  {
   "cell_type": "markdown",
   "id": "fb60495c",
   "metadata": {
    "papermill": {
     "duration": 0.054444,
     "end_time": "2021-12-15T06:47:36.006881",
     "exception": false,
     "start_time": "2021-12-15T06:47:35.952437",
     "status": "completed"
    },
    "tags": []
   },
   "source": [
    "## Step 7: Everybody loves chocolate.\n",
    "\n",
    "#### Part A\n",
    "\n",
    "Create a categorical scatter plot to highlight the relationship between `'chocolate'` and `'winpercent'`.  Put `'chocolate'` on the (horizontal) x-axis, and `'winpercent'` on the (vertical) y-axis."
   ]
  },
  {
   "cell_type": "code",
   "execution_count": 29,
   "id": "92d10fd8",
   "metadata": {
    "execution": {
     "iopub.execute_input": "2021-12-15T06:47:36.122072Z",
     "iopub.status.busy": "2021-12-15T06:47:36.121060Z",
     "iopub.status.idle": "2021-12-15T06:47:36.283278Z",
     "shell.execute_reply": "2021-12-15T06:47:36.283782Z",
     "shell.execute_reply.started": "2021-12-15T06:45:16.547498Z"
    },
    "papermill": {
     "duration": 0.220813,
     "end_time": "2021-12-15T06:47:36.283965",
     "exception": false,
     "start_time": "2021-12-15T06:47:36.063152",
     "status": "completed"
    },
    "tags": []
   },
   "outputs": [
    {
     "data": {
      "application/javascript": [
       "parent.postMessage({\"jupyterEvent\": \"custom.exercise_interaction\", \"data\": {\"outcomeType\": 1, \"valueTowardsCompletion\": 0.3333333333333333, \"interactionType\": 1, \"questionType\": 2, \"questionId\": \"7.1_PlotSwarm\", \"learnToolsVersion\": \"0.3.4\", \"failureMessage\": \"\", \"exceptionClass\": \"\", \"trace\": \"\"}}, \"*\")"
      ],
      "text/plain": [
       "<IPython.core.display.Javascript object>"
      ]
     },
     "metadata": {},
     "output_type": "display_data"
    },
    {
     "data": {
      "text/markdown": [
       "<span style=\"color:#33cc33\">Correct</span>"
      ],
      "text/plain": [
       "Correct"
      ]
     },
     "metadata": {},
     "output_type": "display_data"
    },
    {
     "data": {
      "image/png": "[encoded data removed]",
      "text/plain": [
       "<Figure size 432x288 with 1 Axes>"
      ]
     },
     "metadata": {
      "needs_background": "light"
     },
     "output_type": "display_data"
    }
   ],
   "source": [
    "# Scatter plot showing the relationship between 'chocolate' and 'winpercent'\n",
    "sns.swarmplot(x='chocolate',y='winpercent',data=candy_data)\n",
    "# Your code here\n",
    "\n",
    "# Check your answer\n",
    "step_7.a.check()"
   ]
  },
  {
   "cell_type": "code",
   "execution_count": 30,
   "id": "a0fb739b",
   "metadata": {
    "execution": {
     "iopub.execute_input": "2021-12-15T06:47:36.405444Z",
     "iopub.status.busy": "2021-12-15T06:47:36.404526Z",
     "iopub.status.idle": "2021-12-15T06:47:36.407540Z",
     "shell.execute_reply": "2021-12-15T06:47:36.408029Z"
    },
    "papermill": {
     "duration": 0.066665,
     "end_time": "2021-12-15T06:47:36.408205",
     "exception": false,
     "start_time": "2021-12-15T06:47:36.341540",
     "status": "completed"
    },
    "tags": []
   },
   "outputs": [],
   "source": [
    "# Lines below will give you a hint or solution code\n",
    "#step_7.a.hint()\n",
    "#step_7.a.solution_plot()"
   ]
  },
  {
   "cell_type": "markdown",
   "id": "569b24bb",
   "metadata": {
    "papermill": {
     "duration": 0.060647,
     "end_time": "2021-12-15T06:47:36.527712",
     "exception": false,
     "start_time": "2021-12-15T06:47:36.467065",
     "status": "completed"
    },
    "tags": []
   },
   "source": [
    "#### Part B\n",
    "\n",
    "You decide to dedicate a section of your report to the fact that chocolate candies tend to be more popular than candies without chocolate.  Which plot is more appropriate to tell this story: the plot from **Step 6**, or the plot from **Step 7**?"
   ]
  },
  {
   "cell_type": "markdown",
   "id": "d19955c2",
   "metadata": {
    "papermill": {
     "duration": 0.057059,
     "end_time": "2021-12-15T06:47:36.643196",
     "exception": false,
     "start_time": "2021-12-15T06:47:36.586137",
     "status": "completed"
    },
    "tags": []
   },
   "source": [
    "chocolate candy more popular than others"
   ]
  },
  {
   "cell_type": "markdown",
   "id": "8f9914be",
   "metadata": {
    "papermill": {
     "duration": 0.058991,
     "end_time": "2021-12-15T06:47:36.760981",
     "exception": false,
     "start_time": "2021-12-15T06:47:36.701990",
     "status": "completed"
    },
    "tags": []
   },
   "source": []
  },
  {
   "cell_type": "code",
   "execution_count": 31,
   "id": "49aa83ad",
   "metadata": {
    "execution": {
     "iopub.execute_input": "2021-12-15T06:47:36.887042Z",
     "iopub.status.busy": "2021-12-15T06:47:36.886106Z",
     "iopub.status.idle": "2021-12-15T06:47:36.889513Z",
     "shell.execute_reply": "2021-12-15T06:47:36.890021Z",
     "shell.execute_reply.started": "2021-12-15T06:46:39.089231Z"
    },
    "papermill": {
     "duration": 0.068757,
     "end_time": "2021-12-15T06:47:36.890221",
     "exception": false,
     "start_time": "2021-12-15T06:47:36.821464",
     "status": "completed"
    },
    "tags": []
   },
   "outputs": [],
   "source": [
    "#step_7.b.hint()"
   ]
  },
  {
   "cell_type": "code",
   "execution_count": 32,
   "id": "3f4174f9",
   "metadata": {
    "execution": {
     "iopub.execute_input": "2021-12-15T06:47:37.008723Z",
     "iopub.status.busy": "2021-12-15T06:47:37.007675Z",
     "iopub.status.idle": "2021-12-15T06:47:37.015977Z",
     "shell.execute_reply": "2021-12-15T06:47:37.015292Z",
     "shell.execute_reply.started": "2021-12-15T06:46:41.305546Z"
    },
    "papermill": {
     "duration": 0.069059,
     "end_time": "2021-12-15T06:47:37.016132",
     "exception": false,
     "start_time": "2021-12-15T06:47:36.947073",
     "status": "completed"
    },
    "tags": []
   },
   "outputs": [
    {
     "data": {
      "application/javascript": [
       "parent.postMessage({\"jupyterEvent\": \"custom.exercise_interaction\", \"data\": {\"interactionType\": 3, \"questionType\": 4, \"questionId\": \"7.2_ThinkSwarm\", \"learnToolsVersion\": \"0.3.4\", \"valueTowardsCompletion\": 0.0, \"failureMessage\": \"\", \"exceptionClass\": \"\", \"trace\": \"\", \"outcomeType\": 4}}, \"*\")"
      ],
      "text/plain": [
       "<IPython.core.display.Javascript object>"
      ]
     },
     "metadata": {},
     "output_type": "display_data"
    },
    {
     "data": {
      "text/markdown": [
       "<span style=\"color:#33cc99\">Solution:</span> In this case, the categorical scatter plot from **Step 7** is the more appropriate plot. While both plots tell the desired story, the plot from **Step 6** conveys far more information that could distract from the main point."
      ],
      "text/plain": [
       "Solution: In this case, the categorical scatter plot from **Step 7** is the more appropriate plot. While both plots tell the desired story, the plot from **Step 6** conveys far more information that could distract from the main point."
      ]
     },
     "metadata": {},
     "output_type": "display_data"
    }
   ],
   "source": [
    "# Check your answer (Run this code cell to receive credit!)\n",
    "step_7.b.solution()"
   ]
  },
  {
   "cell_type": "code",
   "execution_count": null,
   "id": "9ed2e985",
   "metadata": {
    "papermill": {
     "duration": 0.056305,
     "end_time": "2021-12-15T06:47:37.132950",
     "exception": false,
     "start_time": "2021-12-15T06:47:37.076645",
     "status": "completed"
    },
    "tags": []
   },
   "outputs": [],
   "source": []
  },
  {
   "cell_type": "markdown",
   "id": "24aad357",
   "metadata": {
    "papermill": {
     "duration": 0.060103,
     "end_time": "2021-12-15T06:47:37.254097",
     "exception": false,
     "start_time": "2021-12-15T06:47:37.193994",
     "status": "completed"
    },
    "tags": []
   },
   "source": [
    "## Keep going\n",
    "\n",
    "Explore **[histograms and density plots](https://www.kaggle.com/alexisbcook/distributions)**."
   ]
  },
  {
   "cell_type": "markdown",
   "id": "cc6ba6de",
   "metadata": {
    "papermill": {
     "duration": 0.05852,
     "end_time": "2021-12-15T06:47:37.374020",
     "exception": false,
     "start_time": "2021-12-15T06:47:37.315500",
     "status": "completed"
    },
    "tags": []
   },
   "source": [
    "---\n",
    "\n",
    "\n",
    "\n",
    "\n",
    "*Have questions or comments? Visit the [course discussion forum](https://www.kaggle.com/learn/data-visualization/discussion) to chat with other learners.*"
   ]
  }
 ],
 "metadata": {
  "kernelspec": {
   "display_name": "Python 3",
   "language": "python",
   "name": "python3"
  },
  "language_info": {
   "codemirror_mode": {
    "name": "ipython",
    "version": 3
   },
   "file_extension": ".py",
   "mimetype": "text/x-python",
   "name": "python",
   "nbconvert_exporter": "python",
   "pygments_lexer": "ipython3",
   "version": "3.7.12"
  },
  "papermill": {
   "default_parameters": {},
   "duration": 20.364737,
   "end_time": "2021-12-15T06:47:38.145502",
   "environment_variables": {},
   "exception": null,
   "input_path": "__notebook__.ipynb",
   "output_path": "__notebook__.ipynb",
   "parameters": {},
   "start_time": "2021-12-15T06:47:17.780765",
   "version": "2.3.3"
  }
 },
 "nbformat": 4,
 "nbformat_minor": 5
}
