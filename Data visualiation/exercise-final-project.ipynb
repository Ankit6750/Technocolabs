{
 "cells": [
  {
   "cell_type": "markdown",
   "id": "c16b4289",
   "metadata": {
    "papermill": {
     "duration": 0.025836,
     "end_time": "2021-12-15T11:48:48.196867",
     "exception": false,
     "start_time": "2021-12-15T11:48:48.171031",
     "status": "completed"
    },
    "tags": []
   },
   "source": [
    "**This notebook is an exercise in the [Data Visualization](https://www.kaggle.com/learn/data-visualization) course.  You can reference the tutorial at [this link](https://www.kaggle.com/alexisbcook/final-project).**\n",
    "\n",
    "---\n"
   ]
  },
  {
   "cell_type": "markdown",
   "id": "40e81d18",
   "metadata": {
    "papermill": {
     "duration": 0.02483,
     "end_time": "2021-12-15T11:48:48.246495",
     "exception": false,
     "start_time": "2021-12-15T11:48:48.221665",
     "status": "completed"
    },
    "tags": []
   },
   "source": [
    "Now it's time for you to demonstrate your new skills with a project of your own!\n",
    "\n",
    "In this exercise, you will work with a dataset of your choosing.  Once you've selected a dataset, you'll design and create your own plot to tell interesting stories behind the data!\n",
    "\n",
    "## Setup\n",
    "\n",
    "Run the next cell to import and configure the Python libraries that you need to complete the exercise."
   ]
  },
  {
   "cell_type": "code",
   "execution_count": 1,
   "id": "fac678d6",
   "metadata": {
    "execution": {
     "iopub.execute_input": "2021-12-15T11:48:48.300065Z",
     "iopub.status.busy": "2021-12-15T11:48:48.298880Z",
     "iopub.status.idle": "2021-12-15T11:48:49.351075Z",
     "shell.execute_reply": "2021-12-15T11:48:49.351593Z",
     "shell.execute_reply.started": "2021-12-15T10:31:47.018479Z"
    },
    "papermill": {
     "duration": 1.080863,
     "end_time": "2021-12-15T11:48:49.351870",
     "exception": false,
     "start_time": "2021-12-15T11:48:48.271007",
     "status": "completed"
    },
    "tags": []
   },
   "outputs": [
    {
     "name": "stdout",
     "output_type": "stream",
     "text": [
      "Setup Complete\n"
     ]
    }
   ],
   "source": [
    "import pandas as pd\n",
    "pd.plotting.register_matplotlib_converters()\n",
    "import matplotlib.pyplot as plt\n",
    "%matplotlib inline\n",
    "import seaborn as sns\n",
    "print(\"Setup Complete\")"
   ]
  },
  {
   "cell_type": "markdown",
   "id": "ff4172e2",
   "metadata": {
    "papermill": {
     "duration": 0.025535,
     "end_time": "2021-12-15T11:48:49.403363",
     "exception": false,
     "start_time": "2021-12-15T11:48:49.377828",
     "status": "completed"
    },
    "tags": []
   },
   "source": [
    "The questions below will give you feedback on your work. Run the following cell to set up the feedback system."
   ]
  },
  {
   "cell_type": "code",
   "execution_count": 2,
   "id": "7ad4963f",
   "metadata": {
    "execution": {
     "iopub.execute_input": "2021-12-15T11:48:49.460152Z",
     "iopub.status.busy": "2021-12-15T11:48:49.459486Z",
     "iopub.status.idle": "2021-12-15T11:48:49.497372Z",
     "shell.execute_reply": "2021-12-15T11:48:49.496862Z",
     "shell.execute_reply.started": "2021-12-15T10:32:21.109402Z"
    },
    "papermill": {
     "duration": 0.068249,
     "end_time": "2021-12-15T11:48:49.497513",
     "exception": false,
     "start_time": "2021-12-15T11:48:49.429264",
     "status": "completed"
    },
    "tags": []
   },
   "outputs": [
    {
     "name": "stdout",
     "output_type": "stream",
     "text": [
      "Setup Complete\n"
     ]
    }
   ],
   "source": [
    "# Set up code checking\n",
    "from learntools.core import binder\n",
    "binder.bind(globals())\n",
    "from learntools.data_viz_to_coder.ex7 import *\n",
    "print(\"Setup Complete\")"
   ]
  },
  {
   "cell_type": "markdown",
   "id": "c19c3b9b",
   "metadata": {
    "papermill": {
     "duration": 0.025131,
     "end_time": "2021-12-15T11:48:49.548009",
     "exception": false,
     "start_time": "2021-12-15T11:48:49.522878",
     "status": "completed"
    },
    "tags": []
   },
   "source": [
    "## Step 1: Attach a dataset to the notebook\n",
    "\n",
    "Begin by selecting a CSV dataset from [Kaggle Datasets](https://www.kaggle.com/datasets).  If you're unsure how to do this, please revisit the instructions in the previous tutorial.\n",
    "\n",
    "Once you have selected a dataset, click on the **[+ Add data]** option in the top right corner.  This will generate a pop-up window that you can use to search for your chosen dataset.  \n",
    "\n",
    "![ex6_search_dataset](https://i.imgur.com/cIIWPUS.png)\n",
    "\n",
    "Once you have found the dataset, click on the **[Add]** button to attach it to the notebook.  You can check that it was successful by looking at the **Data** dropdown menu to the right of the notebook -- look for an **input** folder containing a subfolder that matches the name of the dataset.\n",
    "\n",
    "<center>\n",
    "<img src=\"https://i.imgur.com/nMYc1Nu.png\" width=30%><br/>\n",
    "</center>\n",
    "\n",
    "You can click on the carat to the left of the name of the dataset to double-check that it contains a CSV file.  For instance, the image below shows that the example dataset contains two CSV files: (1) **dc-wikia-data.csv**, and (2) **marvel-wikia-data.csv**.\n",
    "\n",
    "<center>\n",
    "<img src=\"https://i.imgur.com/B4sJkVA.png\" width=30%><br/>\n",
    "</center>\n",
    "\n",
    "Once you've uploaded a dataset with a CSV file, run the code cell below **without changes** to receive credit for your work!"
   ]
  },
  {
   "cell_type": "code",
   "execution_count": 3,
   "id": "c26da2c6",
   "metadata": {
    "execution": {
     "iopub.execute_input": "2021-12-15T11:48:49.603822Z",
     "iopub.status.busy": "2021-12-15T11:48:49.603065Z",
     "iopub.status.idle": "2021-12-15T11:48:49.616110Z",
     "shell.execute_reply": "2021-12-15T11:48:49.616596Z",
     "shell.execute_reply.started": "2021-12-15T10:43:39.296814Z"
    },
    "papermill": {
     "duration": 0.042754,
     "end_time": "2021-12-15T11:48:49.616758",
     "exception": false,
     "start_time": "2021-12-15T11:48:49.574004",
     "status": "completed"
    },
    "tags": []
   },
   "outputs": [
    {
     "data": {
      "application/javascript": [
       "parent.postMessage({\"jupyterEvent\": \"custom.exercise_interaction\", \"data\": {\"outcomeType\": 1, \"valueTowardsCompletion\": 0.25, \"interactionType\": 1, \"questionType\": 2, \"questionId\": \"1_AttachData\", \"learnToolsVersion\": \"0.3.4\", \"failureMessage\": \"\", \"exceptionClass\": \"\", \"trace\": \"\"}}, \"*\")"
      ],
      "text/plain": [
       "<IPython.core.display.Javascript object>"
      ]
     },
     "metadata": {},
     "output_type": "display_data"
    },
    {
     "data": {
      "text/markdown": [
       "<span style=\"color:#33cc33\">Correct:</span> \n",
       "\n"
      ],
      "text/plain": [
       "Correct: \n"
      ]
     },
     "metadata": {},
     "output_type": "display_data"
    }
   ],
   "source": [
    "# Check for a dataset with a CSV file\n",
    "step_1.check()"
   ]
  },
  {
   "cell_type": "markdown",
   "id": "a7718dff",
   "metadata": {
    "papermill": {
     "duration": 0.026899,
     "end_time": "2021-12-15T11:48:49.671436",
     "exception": false,
     "start_time": "2021-12-15T11:48:49.644537",
     "status": "completed"
    },
    "tags": []
   },
   "source": [
    "## Step 2: Specify the filepath\n",
    "\n",
    "Now that the dataset is attached to the notebook, you can find its filepath.  To do this, begin by clicking on the CSV file you'd like to use.  This will open the CSV file in a tab below the notebook.  You can find the filepath towards the top of this new tab.  \n",
    "\n",
    "![ex6_filepath](https://i.imgur.com/fgXQV47.png)\n",
    "\n",
    "After you find the filepath corresponding to your dataset, fill it in as the value for `my_filepath` in the code cell below, and run the code cell to check that you've provided a valid filepath.  For instance, in the case of this example dataset, we would set\n",
    "```\n",
    "my_filepath = \"../input/fivethirtyeight-comic-characters-dataset/dc-wikia-data.csv\"\n",
    "```  \n",
    "Note that **you must enclose the filepath in quotation marks**; otherwise, the code will return an error.\n",
    "\n",
    "Once you've entered the filepath, you can close the tab below the notebook by clicking on the **[X]** at the top of the tab."
   ]
  },
  {
   "cell_type": "code",
   "execution_count": 4,
   "id": "d9d7f34f",
   "metadata": {
    "execution": {
     "iopub.execute_input": "2021-12-15T11:48:49.727266Z",
     "iopub.status.busy": "2021-12-15T11:48:49.726602Z",
     "iopub.status.idle": "2021-12-15T11:48:49.732834Z",
     "shell.execute_reply": "2021-12-15T11:48:49.733399Z",
     "shell.execute_reply.started": "2021-12-15T10:45:33.330189Z"
    },
    "papermill": {
     "duration": 0.035726,
     "end_time": "2021-12-15T11:48:49.733572",
     "exception": false,
     "start_time": "2021-12-15T11:48:49.697846",
     "status": "completed"
    },
    "tags": []
   },
   "outputs": [
    {
     "data": {
      "application/javascript": [
       "parent.postMessage({\"jupyterEvent\": \"custom.exercise_interaction\", \"data\": {\"outcomeType\": 1, \"valueTowardsCompletion\": 0.25, \"interactionType\": 1, \"questionType\": 2, \"questionId\": \"2_Filepath\", \"learnToolsVersion\": \"0.3.4\", \"failureMessage\": \"\", \"exceptionClass\": \"\", \"trace\": \"\"}}, \"*\")"
      ],
      "text/plain": [
       "<IPython.core.display.Javascript object>"
      ]
     },
     "metadata": {},
     "output_type": "display_data"
    },
    {
     "data": {
      "text/markdown": [
       "<span style=\"color:#33cc33\">Correct:</span> \n",
       "\n"
      ],
      "text/plain": [
       "Correct: \n"
      ]
     },
     "metadata": {},
     "output_type": "display_data"
    }
   ],
   "source": [
    "# Fill in the line below: Specify the path of the CSV file to read\n",
    "my_filepath =\"../input/fivethirtyeight-comic-characters-dataset/marvel-wikia-data.csv\"\n",
    "# Check for a valid filepath to a CSV file in a dataset\n",
    "step_2.check()"
   ]
  },
  {
   "cell_type": "markdown",
   "id": "e319c4d1",
   "metadata": {
    "papermill": {
     "duration": 0.02701,
     "end_time": "2021-12-15T11:48:49.787960",
     "exception": false,
     "start_time": "2021-12-15T11:48:49.760950",
     "status": "completed"
    },
    "tags": []
   },
   "source": [
    "## Step 3: Load the data\n",
    "\n",
    "Use the next code cell to load your data file into `my_data`.  Use the filepath that you specified in the previous step."
   ]
  },
  {
   "cell_type": "code",
   "execution_count": 5,
   "id": "f3b24709",
   "metadata": {
    "execution": {
     "iopub.execute_input": "2021-12-15T11:48:49.849726Z",
     "iopub.status.busy": "2021-12-15T11:48:49.848924Z",
     "iopub.status.idle": "2021-12-15T11:48:49.971045Z",
     "shell.execute_reply": "2021-12-15T11:48:49.971605Z",
     "shell.execute_reply.started": "2021-12-15T10:46:56.909506Z"
    },
    "papermill": {
     "duration": 0.155874,
     "end_time": "2021-12-15T11:48:49.971779",
     "exception": false,
     "start_time": "2021-12-15T11:48:49.815905",
     "status": "completed"
    },
    "tags": []
   },
   "outputs": [
    {
     "data": {
      "application/javascript": [
       "parent.postMessage({\"jupyterEvent\": \"custom.exercise_interaction\", \"data\": {\"outcomeType\": 1, \"valueTowardsCompletion\": 0.25, \"interactionType\": 1, \"questionType\": 2, \"questionId\": \"3_LoadData\", \"learnToolsVersion\": \"0.3.4\", \"failureMessage\": \"\", \"exceptionClass\": \"\", \"trace\": \"\"}}, \"*\")"
      ],
      "text/plain": [
       "<IPython.core.display.Javascript object>"
      ]
     },
     "metadata": {},
     "output_type": "display_data"
    },
    {
     "data": {
      "text/markdown": [
       "<span style=\"color:#33cc33\">Correct:</span> \n",
       "\n"
      ],
      "text/plain": [
       "Correct: \n"
      ]
     },
     "metadata": {},
     "output_type": "display_data"
    }
   ],
   "source": [
    "# Fill in the line below: Read the file into a variable my_data\n",
    "my_data =pd.read_csv(my_filepath,index_col='page_id')\n",
    "\n",
    "# Check that a dataset has been uploaded into my_data\n",
    "step_3.check()"
   ]
  },
  {
   "cell_type": "code",
   "execution_count": 6,
   "id": "056a8b72",
   "metadata": {
    "execution": {
     "iopub.execute_input": "2021-12-15T11:48:50.033614Z",
     "iopub.status.busy": "2021-12-15T11:48:50.032942Z",
     "iopub.status.idle": "2021-12-15T11:48:50.062881Z",
     "shell.execute_reply": "2021-12-15T11:48:50.062169Z",
     "shell.execute_reply.started": "2021-12-15T10:47:12.459831Z"
    },
    "papermill": {
     "duration": 0.061675,
     "end_time": "2021-12-15T11:48:50.063033",
     "exception": false,
     "start_time": "2021-12-15T11:48:50.001358",
     "status": "completed"
    },
    "tags": []
   },
   "outputs": [
    {
     "data": {
      "text/html": [
       "<div>\n",
       "<style scoped>\n",
       "    .dataframe tbody tr th:only-of-type {\n",
       "        vertical-align: middle;\n",
       "    }\n",
       "\n",
       "    .dataframe tbody tr th {\n",
       "        vertical-align: top;\n",
       "    }\n",
       "\n",
       "    .dataframe thead th {\n",
       "        text-align: right;\n",
       "    }\n",
       "</style>\n",
       "<table border=\"1\" class=\"dataframe\">\n",
       "  <thead>\n",
       "    <tr style=\"text-align: right;\">\n",
       "      <th></th>\n",
       "      <th>name</th>\n",
       "      <th>urlslug</th>\n",
       "      <th>ID</th>\n",
       "      <th>ALIGN</th>\n",
       "      <th>EYE</th>\n",
       "      <th>HAIR</th>\n",
       "      <th>SEX</th>\n",
       "      <th>GSM</th>\n",
       "      <th>ALIVE</th>\n",
       "      <th>APPEARANCES</th>\n",
       "      <th>FIRST APPEARANCE</th>\n",
       "      <th>Year</th>\n",
       "    </tr>\n",
       "    <tr>\n",
       "      <th>page_id</th>\n",
       "      <th></th>\n",
       "      <th></th>\n",
       "      <th></th>\n",
       "      <th></th>\n",
       "      <th></th>\n",
       "      <th></th>\n",
       "      <th></th>\n",
       "      <th></th>\n",
       "      <th></th>\n",
       "      <th></th>\n",
       "      <th></th>\n",
       "      <th></th>\n",
       "    </tr>\n",
       "  </thead>\n",
       "  <tbody>\n",
       "    <tr>\n",
       "      <th>1678</th>\n",
       "      <td>Spider-Man (Peter Parker)</td>\n",
       "      <td>\\/Spider-Man_(Peter_Parker)</td>\n",
       "      <td>Secret Identity</td>\n",
       "      <td>Good Characters</td>\n",
       "      <td>Hazel Eyes</td>\n",
       "      <td>Brown Hair</td>\n",
       "      <td>Male Characters</td>\n",
       "      <td>NaN</td>\n",
       "      <td>Living Characters</td>\n",
       "      <td>4043.0</td>\n",
       "      <td>Aug-62</td>\n",
       "      <td>1962.0</td>\n",
       "    </tr>\n",
       "    <tr>\n",
       "      <th>7139</th>\n",
       "      <td>Captain America (Steven Rogers)</td>\n",
       "      <td>\\/Captain_America_(Steven_Rogers)</td>\n",
       "      <td>Public Identity</td>\n",
       "      <td>Good Characters</td>\n",
       "      <td>Blue Eyes</td>\n",
       "      <td>White Hair</td>\n",
       "      <td>Male Characters</td>\n",
       "      <td>NaN</td>\n",
       "      <td>Living Characters</td>\n",
       "      <td>3360.0</td>\n",
       "      <td>Mar-41</td>\n",
       "      <td>1941.0</td>\n",
       "    </tr>\n",
       "    <tr>\n",
       "      <th>64786</th>\n",
       "      <td>Wolverine (James \\\"Logan\\\" Howlett)</td>\n",
       "      <td>\\/Wolverine_(James_%22Logan%22_Howlett)</td>\n",
       "      <td>Public Identity</td>\n",
       "      <td>Neutral Characters</td>\n",
       "      <td>Blue Eyes</td>\n",
       "      <td>Black Hair</td>\n",
       "      <td>Male Characters</td>\n",
       "      <td>NaN</td>\n",
       "      <td>Living Characters</td>\n",
       "      <td>3061.0</td>\n",
       "      <td>Oct-74</td>\n",
       "      <td>1974.0</td>\n",
       "    </tr>\n",
       "    <tr>\n",
       "      <th>1868</th>\n",
       "      <td>Iron Man (Anthony \\\"Tony\\\" Stark)</td>\n",
       "      <td>\\/Iron_Man_(Anthony_%22Tony%22_Stark)</td>\n",
       "      <td>Public Identity</td>\n",
       "      <td>Good Characters</td>\n",
       "      <td>Blue Eyes</td>\n",
       "      <td>Black Hair</td>\n",
       "      <td>Male Characters</td>\n",
       "      <td>NaN</td>\n",
       "      <td>Living Characters</td>\n",
       "      <td>2961.0</td>\n",
       "      <td>Mar-63</td>\n",
       "      <td>1963.0</td>\n",
       "    </tr>\n",
       "    <tr>\n",
       "      <th>2460</th>\n",
       "      <td>Thor (Thor Odinson)</td>\n",
       "      <td>\\/Thor_(Thor_Odinson)</td>\n",
       "      <td>No Dual Identity</td>\n",
       "      <td>Good Characters</td>\n",
       "      <td>Blue Eyes</td>\n",
       "      <td>Blond Hair</td>\n",
       "      <td>Male Characters</td>\n",
       "      <td>NaN</td>\n",
       "      <td>Living Characters</td>\n",
       "      <td>2258.0</td>\n",
       "      <td>Nov-50</td>\n",
       "      <td>1950.0</td>\n",
       "    </tr>\n",
       "    <tr>\n",
       "      <th>...</th>\n",
       "      <td>...</td>\n",
       "      <td>...</td>\n",
       "      <td>...</td>\n",
       "      <td>...</td>\n",
       "      <td>...</td>\n",
       "      <td>...</td>\n",
       "      <td>...</td>\n",
       "      <td>...</td>\n",
       "      <td>...</td>\n",
       "      <td>...</td>\n",
       "      <td>...</td>\n",
       "      <td>...</td>\n",
       "    </tr>\n",
       "    <tr>\n",
       "      <th>657508</th>\n",
       "      <td>Ru'ach (Earth-616)</td>\n",
       "      <td>\\/Ru%27ach_(Earth-616)</td>\n",
       "      <td>No Dual Identity</td>\n",
       "      <td>Bad Characters</td>\n",
       "      <td>Green Eyes</td>\n",
       "      <td>No Hair</td>\n",
       "      <td>Male Characters</td>\n",
       "      <td>NaN</td>\n",
       "      <td>Living Characters</td>\n",
       "      <td>NaN</td>\n",
       "      <td>NaN</td>\n",
       "      <td>NaN</td>\n",
       "    </tr>\n",
       "    <tr>\n",
       "      <th>665474</th>\n",
       "      <td>Thane (Thanos' son) (Earth-616)</td>\n",
       "      <td>\\/Thane_(Thanos%27_son)_(Earth-616)</td>\n",
       "      <td>No Dual Identity</td>\n",
       "      <td>Good Characters</td>\n",
       "      <td>Blue Eyes</td>\n",
       "      <td>Bald</td>\n",
       "      <td>Male Characters</td>\n",
       "      <td>NaN</td>\n",
       "      <td>Living Characters</td>\n",
       "      <td>NaN</td>\n",
       "      <td>NaN</td>\n",
       "      <td>NaN</td>\n",
       "    </tr>\n",
       "    <tr>\n",
       "      <th>695217</th>\n",
       "      <td>Tinkerer (Skrull) (Earth-616)</td>\n",
       "      <td>\\/Tinkerer_(Skrull)_(Earth-616)</td>\n",
       "      <td>Secret Identity</td>\n",
       "      <td>Bad Characters</td>\n",
       "      <td>Black Eyes</td>\n",
       "      <td>Bald</td>\n",
       "      <td>Male Characters</td>\n",
       "      <td>NaN</td>\n",
       "      <td>Living Characters</td>\n",
       "      <td>NaN</td>\n",
       "      <td>NaN</td>\n",
       "      <td>NaN</td>\n",
       "    </tr>\n",
       "    <tr>\n",
       "      <th>708811</th>\n",
       "      <td>TK421 (Spiderling) (Earth-616)</td>\n",
       "      <td>\\/TK421_(Spiderling)_(Earth-616)</td>\n",
       "      <td>Secret Identity</td>\n",
       "      <td>Neutral Characters</td>\n",
       "      <td>NaN</td>\n",
       "      <td>NaN</td>\n",
       "      <td>Male Characters</td>\n",
       "      <td>NaN</td>\n",
       "      <td>Living Characters</td>\n",
       "      <td>NaN</td>\n",
       "      <td>NaN</td>\n",
       "      <td>NaN</td>\n",
       "    </tr>\n",
       "    <tr>\n",
       "      <th>673702</th>\n",
       "      <td>Yologarch (Earth-616)</td>\n",
       "      <td>\\/Yologarch_(Earth-616)</td>\n",
       "      <td>NaN</td>\n",
       "      <td>Bad Characters</td>\n",
       "      <td>NaN</td>\n",
       "      <td>NaN</td>\n",
       "      <td>NaN</td>\n",
       "      <td>NaN</td>\n",
       "      <td>Living Characters</td>\n",
       "      <td>NaN</td>\n",
       "      <td>NaN</td>\n",
       "      <td>NaN</td>\n",
       "    </tr>\n",
       "  </tbody>\n",
       "</table>\n",
       "<p>16376 rows × 12 columns</p>\n",
       "</div>"
      ],
      "text/plain": [
       "                                        name  \\\n",
       "page_id                                        \n",
       "1678               Spider-Man (Peter Parker)   \n",
       "7139         Captain America (Steven Rogers)   \n",
       "64786    Wolverine (James \\\"Logan\\\" Howlett)   \n",
       "1868       Iron Man (Anthony \\\"Tony\\\" Stark)   \n",
       "2460                     Thor (Thor Odinson)   \n",
       "...                                      ...   \n",
       "657508                    Ru'ach (Earth-616)   \n",
       "665474       Thane (Thanos' son) (Earth-616)   \n",
       "695217         Tinkerer (Skrull) (Earth-616)   \n",
       "708811        TK421 (Spiderling) (Earth-616)   \n",
       "673702                 Yologarch (Earth-616)   \n",
       "\n",
       "                                         urlslug                ID  \\\n",
       "page_id                                                              \n",
       "1678                 \\/Spider-Man_(Peter_Parker)   Secret Identity   \n",
       "7139           \\/Captain_America_(Steven_Rogers)   Public Identity   \n",
       "64786    \\/Wolverine_(James_%22Logan%22_Howlett)   Public Identity   \n",
       "1868       \\/Iron_Man_(Anthony_%22Tony%22_Stark)   Public Identity   \n",
       "2460                       \\/Thor_(Thor_Odinson)  No Dual Identity   \n",
       "...                                          ...               ...   \n",
       "657508                    \\/Ru%27ach_(Earth-616)  No Dual Identity   \n",
       "665474       \\/Thane_(Thanos%27_son)_(Earth-616)  No Dual Identity   \n",
       "695217           \\/Tinkerer_(Skrull)_(Earth-616)   Secret Identity   \n",
       "708811          \\/TK421_(Spiderling)_(Earth-616)   Secret Identity   \n",
       "673702                   \\/Yologarch_(Earth-616)               NaN   \n",
       "\n",
       "                      ALIGN         EYE        HAIR              SEX  GSM  \\\n",
       "page_id                                                                     \n",
       "1678        Good Characters  Hazel Eyes  Brown Hair  Male Characters  NaN   \n",
       "7139        Good Characters   Blue Eyes  White Hair  Male Characters  NaN   \n",
       "64786    Neutral Characters   Blue Eyes  Black Hair  Male Characters  NaN   \n",
       "1868        Good Characters   Blue Eyes  Black Hair  Male Characters  NaN   \n",
       "2460        Good Characters   Blue Eyes  Blond Hair  Male Characters  NaN   \n",
       "...                     ...         ...         ...              ...  ...   \n",
       "657508       Bad Characters  Green Eyes     No Hair  Male Characters  NaN   \n",
       "665474      Good Characters   Blue Eyes        Bald  Male Characters  NaN   \n",
       "695217       Bad Characters  Black Eyes        Bald  Male Characters  NaN   \n",
       "708811   Neutral Characters         NaN         NaN  Male Characters  NaN   \n",
       "673702       Bad Characters         NaN         NaN              NaN  NaN   \n",
       "\n",
       "                     ALIVE  APPEARANCES FIRST APPEARANCE    Year  \n",
       "page_id                                                           \n",
       "1678     Living Characters       4043.0           Aug-62  1962.0  \n",
       "7139     Living Characters       3360.0           Mar-41  1941.0  \n",
       "64786    Living Characters       3061.0           Oct-74  1974.0  \n",
       "1868     Living Characters       2961.0           Mar-63  1963.0  \n",
       "2460     Living Characters       2258.0           Nov-50  1950.0  \n",
       "...                    ...          ...              ...     ...  \n",
       "657508   Living Characters          NaN              NaN     NaN  \n",
       "665474   Living Characters          NaN              NaN     NaN  \n",
       "695217   Living Characters          NaN              NaN     NaN  \n",
       "708811   Living Characters          NaN              NaN     NaN  \n",
       "673702   Living Characters          NaN              NaN     NaN  \n",
       "\n",
       "[16376 rows x 12 columns]"
      ]
     },
     "execution_count": 6,
     "metadata": {},
     "output_type": "execute_result"
    }
   ],
   "source": [
    "my_data"
   ]
  },
  {
   "cell_type": "code",
   "execution_count": 7,
   "id": "3a51ee32",
   "metadata": {
    "execution": {
     "iopub.execute_input": "2021-12-15T11:48:50.126394Z",
     "iopub.status.busy": "2021-12-15T11:48:50.125706Z",
     "iopub.status.idle": "2021-12-15T11:48:50.131998Z",
     "shell.execute_reply": "2021-12-15T11:48:50.132671Z",
     "shell.execute_reply.started": "2021-12-15T10:49:12.459292Z"
    },
    "papermill": {
     "duration": 0.039729,
     "end_time": "2021-12-15T11:48:50.132846",
     "exception": false,
     "start_time": "2021-12-15T11:48:50.093117",
     "status": "completed"
    },
    "tags": []
   },
   "outputs": [
    {
     "data": {
      "text/plain": [
       "name                 object\n",
       "urlslug              object\n",
       "ID                   object\n",
       "ALIGN                object\n",
       "EYE                  object\n",
       "HAIR                 object\n",
       "SEX                  object\n",
       "GSM                  object\n",
       "ALIVE                object\n",
       "APPEARANCES         float64\n",
       "FIRST APPEARANCE     object\n",
       "Year                float64\n",
       "dtype: object"
      ]
     },
     "execution_count": 7,
     "metadata": {},
     "output_type": "execute_result"
    }
   ],
   "source": [
    "my_data.dtypes"
   ]
  },
  {
   "cell_type": "code",
   "execution_count": 8,
   "id": "6052f545",
   "metadata": {
    "execution": {
     "iopub.execute_input": "2021-12-15T11:48:50.195203Z",
     "iopub.status.busy": "2021-12-15T11:48:50.194597Z",
     "iopub.status.idle": "2021-12-15T11:48:50.218154Z",
     "shell.execute_reply": "2021-12-15T11:48:50.218693Z",
     "shell.execute_reply.started": "2021-12-15T10:49:32.700105Z"
    },
    "papermill": {
     "duration": 0.056433,
     "end_time": "2021-12-15T11:48:50.218865",
     "exception": false,
     "start_time": "2021-12-15T11:48:50.162432",
     "status": "completed"
    },
    "tags": []
   },
   "outputs": [
    {
     "data": {
      "text/plain": [
       "name                    0\n",
       "urlslug                 0\n",
       "ID                   3770\n",
       "ALIGN                2812\n",
       "EYE                  9767\n",
       "HAIR                 4264\n",
       "SEX                   854\n",
       "GSM                 16286\n",
       "ALIVE                   3\n",
       "APPEARANCES          1096\n",
       "FIRST APPEARANCE      815\n",
       "Year                  815\n",
       "dtype: int64"
      ]
     },
     "execution_count": 8,
     "metadata": {},
     "output_type": "execute_result"
    }
   ],
   "source": [
    "my_data.isnull().sum()"
   ]
  },
  {
   "cell_type": "markdown",
   "id": "9e058858",
   "metadata": {
    "papermill": {
     "duration": 0.029598,
     "end_time": "2021-12-15T11:48:50.278513",
     "exception": false,
     "start_time": "2021-12-15T11:48:50.248915",
     "status": "completed"
    },
    "tags": []
   },
   "source": [
    "**_After the code cell above is marked correct_**, run the code cell below without changes to view the first five rows of the data."
   ]
  },
  {
   "cell_type": "code",
   "execution_count": 9,
   "id": "ab24f984",
   "metadata": {
    "execution": {
     "iopub.execute_input": "2021-12-15T11:48:50.356642Z",
     "iopub.status.busy": "2021-12-15T11:48:50.355946Z",
     "iopub.status.idle": "2021-12-15T11:48:50.358744Z",
     "shell.execute_reply": "2021-12-15T11:48:50.359224Z",
     "shell.execute_reply.started": "2021-12-15T10:47:29.709802Z"
    },
    "papermill": {
     "duration": 0.050864,
     "end_time": "2021-12-15T11:48:50.359410",
     "exception": false,
     "start_time": "2021-12-15T11:48:50.308546",
     "status": "completed"
    },
    "tags": []
   },
   "outputs": [
    {
     "data": {
      "text/html": [
       "<div>\n",
       "<style scoped>\n",
       "    .dataframe tbody tr th:only-of-type {\n",
       "        vertical-align: middle;\n",
       "    }\n",
       "\n",
       "    .dataframe tbody tr th {\n",
       "        vertical-align: top;\n",
       "    }\n",
       "\n",
       "    .dataframe thead th {\n",
       "        text-align: right;\n",
       "    }\n",
       "</style>\n",
       "<table border=\"1\" class=\"dataframe\">\n",
       "  <thead>\n",
       "    <tr style=\"text-align: right;\">\n",
       "      <th></th>\n",
       "      <th>name</th>\n",
       "      <th>urlslug</th>\n",
       "      <th>ID</th>\n",
       "      <th>ALIGN</th>\n",
       "      <th>EYE</th>\n",
       "      <th>HAIR</th>\n",
       "      <th>SEX</th>\n",
       "      <th>GSM</th>\n",
       "      <th>ALIVE</th>\n",
       "      <th>APPEARANCES</th>\n",
       "      <th>FIRST APPEARANCE</th>\n",
       "      <th>Year</th>\n",
       "    </tr>\n",
       "    <tr>\n",
       "      <th>page_id</th>\n",
       "      <th></th>\n",
       "      <th></th>\n",
       "      <th></th>\n",
       "      <th></th>\n",
       "      <th></th>\n",
       "      <th></th>\n",
       "      <th></th>\n",
       "      <th></th>\n",
       "      <th></th>\n",
       "      <th></th>\n",
       "      <th></th>\n",
       "      <th></th>\n",
       "    </tr>\n",
       "  </thead>\n",
       "  <tbody>\n",
       "    <tr>\n",
       "      <th>1678</th>\n",
       "      <td>Spider-Man (Peter Parker)</td>\n",
       "      <td>\\/Spider-Man_(Peter_Parker)</td>\n",
       "      <td>Secret Identity</td>\n",
       "      <td>Good Characters</td>\n",
       "      <td>Hazel Eyes</td>\n",
       "      <td>Brown Hair</td>\n",
       "      <td>Male Characters</td>\n",
       "      <td>NaN</td>\n",
       "      <td>Living Characters</td>\n",
       "      <td>4043.0</td>\n",
       "      <td>Aug-62</td>\n",
       "      <td>1962.0</td>\n",
       "    </tr>\n",
       "    <tr>\n",
       "      <th>7139</th>\n",
       "      <td>Captain America (Steven Rogers)</td>\n",
       "      <td>\\/Captain_America_(Steven_Rogers)</td>\n",
       "      <td>Public Identity</td>\n",
       "      <td>Good Characters</td>\n",
       "      <td>Blue Eyes</td>\n",
       "      <td>White Hair</td>\n",
       "      <td>Male Characters</td>\n",
       "      <td>NaN</td>\n",
       "      <td>Living Characters</td>\n",
       "      <td>3360.0</td>\n",
       "      <td>Mar-41</td>\n",
       "      <td>1941.0</td>\n",
       "    </tr>\n",
       "    <tr>\n",
       "      <th>64786</th>\n",
       "      <td>Wolverine (James \\\"Logan\\\" Howlett)</td>\n",
       "      <td>\\/Wolverine_(James_%22Logan%22_Howlett)</td>\n",
       "      <td>Public Identity</td>\n",
       "      <td>Neutral Characters</td>\n",
       "      <td>Blue Eyes</td>\n",
       "      <td>Black Hair</td>\n",
       "      <td>Male Characters</td>\n",
       "      <td>NaN</td>\n",
       "      <td>Living Characters</td>\n",
       "      <td>3061.0</td>\n",
       "      <td>Oct-74</td>\n",
       "      <td>1974.0</td>\n",
       "    </tr>\n",
       "    <tr>\n",
       "      <th>1868</th>\n",
       "      <td>Iron Man (Anthony \\\"Tony\\\" Stark)</td>\n",
       "      <td>\\/Iron_Man_(Anthony_%22Tony%22_Stark)</td>\n",
       "      <td>Public Identity</td>\n",
       "      <td>Good Characters</td>\n",
       "      <td>Blue Eyes</td>\n",
       "      <td>Black Hair</td>\n",
       "      <td>Male Characters</td>\n",
       "      <td>NaN</td>\n",
       "      <td>Living Characters</td>\n",
       "      <td>2961.0</td>\n",
       "      <td>Mar-63</td>\n",
       "      <td>1963.0</td>\n",
       "    </tr>\n",
       "    <tr>\n",
       "      <th>2460</th>\n",
       "      <td>Thor (Thor Odinson)</td>\n",
       "      <td>\\/Thor_(Thor_Odinson)</td>\n",
       "      <td>No Dual Identity</td>\n",
       "      <td>Good Characters</td>\n",
       "      <td>Blue Eyes</td>\n",
       "      <td>Blond Hair</td>\n",
       "      <td>Male Characters</td>\n",
       "      <td>NaN</td>\n",
       "      <td>Living Characters</td>\n",
       "      <td>2258.0</td>\n",
       "      <td>Nov-50</td>\n",
       "      <td>1950.0</td>\n",
       "    </tr>\n",
       "  </tbody>\n",
       "</table>\n",
       "</div>"
      ],
      "text/plain": [
       "                                        name  \\\n",
       "page_id                                        \n",
       "1678               Spider-Man (Peter Parker)   \n",
       "7139         Captain America (Steven Rogers)   \n",
       "64786    Wolverine (James \\\"Logan\\\" Howlett)   \n",
       "1868       Iron Man (Anthony \\\"Tony\\\" Stark)   \n",
       "2460                     Thor (Thor Odinson)   \n",
       "\n",
       "                                         urlslug                ID  \\\n",
       "page_id                                                              \n",
       "1678                 \\/Spider-Man_(Peter_Parker)   Secret Identity   \n",
       "7139           \\/Captain_America_(Steven_Rogers)   Public Identity   \n",
       "64786    \\/Wolverine_(James_%22Logan%22_Howlett)   Public Identity   \n",
       "1868       \\/Iron_Man_(Anthony_%22Tony%22_Stark)   Public Identity   \n",
       "2460                       \\/Thor_(Thor_Odinson)  No Dual Identity   \n",
       "\n",
       "                      ALIGN         EYE        HAIR              SEX  GSM  \\\n",
       "page_id                                                                     \n",
       "1678        Good Characters  Hazel Eyes  Brown Hair  Male Characters  NaN   \n",
       "7139        Good Characters   Blue Eyes  White Hair  Male Characters  NaN   \n",
       "64786    Neutral Characters   Blue Eyes  Black Hair  Male Characters  NaN   \n",
       "1868        Good Characters   Blue Eyes  Black Hair  Male Characters  NaN   \n",
       "2460        Good Characters   Blue Eyes  Blond Hair  Male Characters  NaN   \n",
       "\n",
       "                     ALIVE  APPEARANCES FIRST APPEARANCE    Year  \n",
       "page_id                                                           \n",
       "1678     Living Characters       4043.0           Aug-62  1962.0  \n",
       "7139     Living Characters       3360.0           Mar-41  1941.0  \n",
       "64786    Living Characters       3061.0           Oct-74  1974.0  \n",
       "1868     Living Characters       2961.0           Mar-63  1963.0  \n",
       "2460     Living Characters       2258.0           Nov-50  1950.0  "
      ]
     },
     "execution_count": 9,
     "metadata": {},
     "output_type": "execute_result"
    }
   ],
   "source": [
    "# Print the first five rows of the data\n",
    "my_data.head()"
   ]
  },
  {
   "cell_type": "markdown",
   "id": "c24cd024",
   "metadata": {
    "papermill": {
     "duration": 0.029982,
     "end_time": "2021-12-15T11:48:50.419848",
     "exception": false,
     "start_time": "2021-12-15T11:48:50.389866",
     "status": "completed"
    },
    "tags": []
   },
   "source": [
    "## Step 4: Visualize the data\n",
    "\n",
    "Use the next code cell to create a figure that tells a story behind your dataset.  You can use any chart type (_line chart, bar chart, heatmap, etc_) of your choosing!"
   ]
  },
  {
   "cell_type": "code",
   "execution_count": 10,
   "id": "7416e6ec",
   "metadata": {
    "execution": {
     "iopub.execute_input": "2021-12-15T11:48:50.488695Z",
     "iopub.status.busy": "2021-12-15T11:48:50.483417Z",
     "iopub.status.idle": "2021-12-15T11:48:50.490865Z",
     "shell.execute_reply": "2021-12-15T11:48:50.491350Z",
     "shell.execute_reply.started": "2021-12-15T11:23:32.370294Z"
    },
    "papermill": {
     "duration": 0.041348,
     "end_time": "2021-12-15T11:48:50.491516",
     "exception": false,
     "start_time": "2021-12-15T11:48:50.450168",
     "status": "completed"
    },
    "tags": []
   },
   "outputs": [
    {
     "name": "stdout",
     "output_type": "stream",
     "text": [
      "Setup Complete\n"
     ]
    }
   ],
   "source": [
    "pd.plotting.register_matplotlib_converters()\n",
    "import matplotlib.pyplot as plt\n",
    "%matplotlib inline\n",
    "import seaborn as sns\n",
    "import warnings\n",
    "warnings.filterwarnings('ignore')\n",
    "print(\"Setup Complete\")"
   ]
  },
  {
   "cell_type": "code",
   "execution_count": 11,
   "id": "529979cb",
   "metadata": {
    "execution": {
     "iopub.execute_input": "2021-12-15T11:48:50.556196Z",
     "iopub.status.busy": "2021-12-15T11:48:50.555575Z",
     "iopub.status.idle": "2021-12-15T11:48:50.928533Z",
     "shell.execute_reply": "2021-12-15T11:48:50.929034Z",
     "shell.execute_reply.started": "2021-12-15T11:04:56.109688Z"
    },
    "papermill": {
     "duration": 0.407058,
     "end_time": "2021-12-15T11:48:50.929202",
     "exception": false,
     "start_time": "2021-12-15T11:48:50.522144",
     "status": "completed"
    },
    "tags": []
   },
   "outputs": [
    {
     "data": {
      "application/javascript": [
       "parent.postMessage({\"jupyterEvent\": \"custom.exercise_interaction\", \"data\": {\"outcomeType\": 1, \"valueTowardsCompletion\": 0.25, \"interactionType\": 1, \"questionType\": 2, \"questionId\": \"4_CreatePlot\", \"learnToolsVersion\": \"0.3.4\", \"failureMessage\": \"\", \"exceptionClass\": \"\", \"trace\": \"\"}}, \"*\")"
      ],
      "text/plain": [
       "<IPython.core.display.Javascript object>"
      ]
     },
     "metadata": {},
     "output_type": "display_data"
    },
    {
     "data": {
      "text/markdown": [
       "<span style=\"color:#33cc33\">Correct:</span> \n",
       "\n"
      ],
      "text/plain": [
       "Correct: \n"
      ]
     },
     "metadata": {},
     "output_type": "display_data"
    },
    {
     "data": {
      "image/png": "[encoded data removed]",
      "text/plain": [
       "<Figure size 720x432 with 1 Axes>"
      ]
     },
     "metadata": {
      "needs_background": "light"
     },
     "output_type": "display_data"
    }
   ],
   "source": [
    "# Create a plot\n",
    "\n",
    "# Set the width and height of the figure\n",
    "plt.figure(figsize=(10,6))\n",
    "sns.kdeplot(my_data['APPEARANCES'],shade=True)\n",
    "\n",
    "# Check that a figure appears below\n",
    "step_4.check()"
   ]
  },
  {
   "cell_type": "code",
   "execution_count": 12,
   "id": "95f74542",
   "metadata": {
    "execution": {
     "iopub.execute_input": "2021-12-15T11:48:51.000145Z",
     "iopub.status.busy": "2021-12-15T11:48:50.999513Z",
     "iopub.status.idle": "2021-12-15T11:48:51.110513Z",
     "shell.execute_reply": "2021-12-15T11:48:51.111032Z",
     "shell.execute_reply.started": "2021-12-15T11:10:10.560080Z"
    },
    "papermill": {
     "duration": 0.148052,
     "end_time": "2021-12-15T11:48:51.111231",
     "exception": false,
     "start_time": "2021-12-15T11:48:50.963179",
     "status": "completed"
    },
    "tags": []
   },
   "outputs": [],
   "source": [
    "# for Box-Cox Transformation\n",
    "from scipy import stats\n",
    "\n",
    "# for min_max scaling\n",
    "from mlxtend.preprocessing import minmax_scaling"
   ]
  },
  {
   "cell_type": "code",
   "execution_count": 13,
   "id": "290b5347",
   "metadata": {
    "execution": {
     "iopub.execute_input": "2021-12-15T11:48:51.184127Z",
     "iopub.status.busy": "2021-12-15T11:48:51.183349Z",
     "iopub.status.idle": "2021-12-15T11:48:51.187500Z",
     "shell.execute_reply": "2021-12-15T11:48:51.186928Z",
     "shell.execute_reply.started": "2021-12-15T11:08:43.989759Z"
    },
    "papermill": {
     "duration": 0.043553,
     "end_time": "2021-12-15T11:48:51.187650",
     "exception": false,
     "start_time": "2021-12-15T11:48:51.144097",
     "status": "completed"
    },
    "tags": []
   },
   "outputs": [
    {
     "name": "stdout",
     "output_type": "stream",
     "text": [
      "Original data\n",
      "Preview:\n",
      " page_id\n",
      "1678     4043.0\n",
      "7139     3360.0\n",
      "64786    3061.0\n",
      "1868     2961.0\n",
      "2460     2258.0\n",
      "Name: APPEARANCES, dtype: float64\n",
      "Minimum value: 1.0\n",
      "\n",
      "Maximum value: 4043.0\n"
     ]
    }
   ],
   "source": [
    "print('Original data\\nPreview:\\n', my_data.APPEARANCES.head())\n",
    "print('Minimum value:', my_data.APPEARANCES.min()),\n",
    "print('\\nMaximum value:', my_data.APPEARANCES.max())"
   ]
  },
  {
   "cell_type": "code",
   "execution_count": 14,
   "id": "cfc61569",
   "metadata": {
    "execution": {
     "iopub.execute_input": "2021-12-15T11:48:51.260815Z",
     "iopub.status.busy": "2021-12-15T11:48:51.260103Z",
     "iopub.status.idle": "2021-12-15T11:48:51.627567Z",
     "shell.execute_reply": "2021-12-15T11:48:51.628119Z",
     "shell.execute_reply.started": "2021-12-15T11:13:14.329803Z"
    },
    "papermill": {
     "duration": 0.407399,
     "end_time": "2021-12-15T11:48:51.628289",
     "exception": false,
     "start_time": "2021-12-15T11:48:51.220890",
     "status": "completed"
    },
    "tags": []
   },
   "outputs": [
    {
     "data": {
      "text/plain": [
       "Text(0.5, 1.0, 'Normalized data')"
      ]
     },
     "execution_count": 14,
     "metadata": {},
     "output_type": "execute_result"
    },
    {
     "data": {
      "image/png": "[encoded data removed]",
      "text/plain": [
       "<Figure size 432x288 with 1 Axes>"
      ]
     },
     "metadata": {
      "needs_background": "light"
     },
     "output_type": "display_data"
    }
   ],
   "source": [
    "# get the index of all positive pledges (Box-Cox only takes positive values)\n",
    "index_of_positive = my_data.APPEARANCES > 0\n",
    "\n",
    "# get only positive pledges (using their indexes)\n",
    "positive = my_data.APPEARANCES.loc[index_of_positive]\n",
    "\n",
    "# normalize the pledges (w/ Box-Cox)\n",
    "normalized_pledges = pd.Series(stats.boxcox(positive)[0], \n",
    "                               name='APPEARANCES', index=positive.index)\n",
    "\n",
    "sns.distplot(normalized_pledges,)\n",
    "plt.title(\"Normalized data\")"
   ]
  },
  {
   "cell_type": "code",
   "execution_count": 15,
   "id": "fc0435a3",
   "metadata": {
    "execution": {
     "iopub.execute_input": "2021-12-15T11:48:51.703968Z",
     "iopub.status.busy": "2021-12-15T11:48:51.703077Z",
     "iopub.status.idle": "2021-12-15T11:48:51.707449Z",
     "shell.execute_reply": "2021-12-15T11:48:51.707909Z",
     "shell.execute_reply.started": "2021-12-15T11:15:17.428594Z"
    },
    "papermill": {
     "duration": 0.045025,
     "end_time": "2021-12-15T11:48:51.708159",
     "exception": false,
     "start_time": "2021-12-15T11:48:51.663134",
     "status": "completed"
    },
    "tags": []
   },
   "outputs": [
    {
     "name": "stdout",
     "output_type": "stream",
     "text": [
      "Original data\n",
      "Preview:\n",
      " page_id\n",
      "1678     2.635985\n",
      "7139     2.626387\n",
      "64786    2.621304\n",
      "1868     2.619451\n",
      "2460     2.603473\n",
      "Name: APPEARANCES, dtype: float64\n",
      "Minimum value: 0.0\n",
      "\n",
      "Maximum value: 2.6359854967547376\n"
     ]
    }
   ],
   "source": [
    "print('Original data\\nPreview:\\n', normalized_pledges.head())\n",
    "print('Minimum value:', normalized_pledges.min()),\n",
    "print('\\nMaximum value:', normalized_pledges.max())"
   ]
  },
  {
   "cell_type": "code",
   "execution_count": 16,
   "id": "6c3c9e0c",
   "metadata": {
    "execution": {
     "iopub.execute_input": "2021-12-15T11:48:51.780925Z",
     "iopub.status.busy": "2021-12-15T11:48:51.780186Z",
     "iopub.status.idle": "2021-12-15T11:48:52.102850Z",
     "shell.execute_reply": "2021-12-15T11:48:52.103368Z",
     "shell.execute_reply.started": "2021-12-15T11:15:49.318864Z"
    },
    "papermill": {
     "duration": 0.360834,
     "end_time": "2021-12-15T11:48:52.103539",
     "exception": false,
     "start_time": "2021-12-15T11:48:51.742705",
     "status": "completed"
    },
    "tags": []
   },
   "outputs": [
    {
     "data": {
      "text/plain": [
       "<AxesSubplot:xlabel='APPEARANCES', ylabel='Density'>"
      ]
     },
     "execution_count": 16,
     "metadata": {},
     "output_type": "execute_result"
    },
    {
     "data": {
      "image/png": "[encoded data removed]",
      "text/plain": [
       "<Figure size 720x432 with 1 Axes>"
      ]
     },
     "metadata": {
      "needs_background": "light"
     },
     "output_type": "display_data"
    }
   ],
   "source": [
    "plt.figure(figsize=(10,6))\n",
    "sns.kdeplot(normalized_pledges,shade=True)\n"
   ]
  },
  {
   "cell_type": "code",
   "execution_count": 17,
   "id": "9f46bed6",
   "metadata": {
    "execution": {
     "iopub.execute_input": "2021-12-15T11:48:52.178541Z",
     "iopub.status.busy": "2021-12-15T11:48:52.177554Z",
     "iopub.status.idle": "2021-12-15T11:48:52.407998Z",
     "shell.execute_reply": "2021-12-15T11:48:52.408470Z",
     "shell.execute_reply.started": "2021-12-15T11:28:44.420442Z"
    },
    "papermill": {
     "duration": 0.269631,
     "end_time": "2021-12-15T11:48:52.408643",
     "exception": false,
     "start_time": "2021-12-15T11:48:52.139012",
     "status": "completed"
    },
    "tags": []
   },
   "outputs": [
    {
     "data": {
      "text/plain": [
       "(array([0, 1, 2, 3]),\n",
       " [Text(0, 0, 'Secret Identity'),\n",
       "  Text(1, 0, 'Public Identity'),\n",
       "  Text(2, 0, 'No Dual Identity'),\n",
       "  Text(3, 0, 'Known to Authorities Identity')])"
      ]
     },
     "execution_count": 17,
     "metadata": {},
     "output_type": "execute_result"
    },
    {
     "data": {
      "image/png": "[encoded data removed]",
      "text/plain": [
       "<Figure size 576x432 with 1 Axes>"
      ]
     },
     "metadata": {
      "needs_background": "light"
     },
     "output_type": "display_data"
    }
   ],
   "source": [
    "plt.figure(figsize=(8,6))\n",
    "sns.countplot('ID',data=my_data)\n",
    "plt.xticks(rotation=90)"
   ]
  },
  {
   "cell_type": "code",
   "execution_count": 18,
   "id": "25ca835d",
   "metadata": {
    "execution": {
     "iopub.execute_input": "2021-12-15T11:48:52.485612Z",
     "iopub.status.busy": "2021-12-15T11:48:52.484667Z",
     "iopub.status.idle": "2021-12-15T11:48:53.128006Z",
     "shell.execute_reply": "2021-12-15T11:48:53.128528Z",
     "shell.execute_reply.started": "2021-12-15T11:30:51.199163Z"
    },
    "papermill": {
     "duration": 0.683606,
     "end_time": "2021-12-15T11:48:53.128699",
     "exception": false,
     "start_time": "2021-12-15T11:48:52.445093",
     "status": "completed"
    },
    "tags": []
   },
   "outputs": [
    {
     "data": {
      "image/png": "[encoded data removed]",
      "text/plain": [
       "<Figure size 720x648 with 1 Axes>"
      ]
     },
     "metadata": {
      "needs_background": "light"
     },
     "output_type": "display_data"
    }
   ],
   "source": [
    "plt.figure(figsize=(10,9))\n",
    "sns.countplot(my_data['EYE'],hue=my_data['ID'])\n",
    "plt.xticks(rotation=90)\n",
    "plt.show()"
   ]
  },
  {
   "cell_type": "code",
   "execution_count": 19,
   "id": "52a8dbb1",
   "metadata": {
    "execution": {
     "iopub.execute_input": "2021-12-15T11:48:53.208515Z",
     "iopub.status.busy": "2021-12-15T11:48:53.207392Z",
     "iopub.status.idle": "2021-12-15T11:48:54.014763Z",
     "shell.execute_reply": "2021-12-15T11:48:54.015267Z",
     "shell.execute_reply.started": "2021-12-15T11:33:08.658874Z"
    },
    "papermill": {
     "duration": 0.848828,
     "end_time": "2021-12-15T11:48:54.015453",
     "exception": false,
     "start_time": "2021-12-15T11:48:53.166625",
     "status": "completed"
    },
    "tags": []
   },
   "outputs": [
    {
     "data": {
      "image/png": "[encoded data removed]",
      "text/plain": [
       "<Figure size 720x648 with 1 Axes>"
      ]
     },
     "metadata": {
      "needs_background": "light"
     },
     "output_type": "display_data"
    }
   ],
   "source": [
    "plt.figure(figsize=(10,9))\n",
    "sns.countplot(my_data['HAIR'],hue=my_data['ID'])\n",
    "plt.xticks(rotation=90)\n",
    "plt.show()"
   ]
  },
  {
   "cell_type": "code",
   "execution_count": 20,
   "id": "edfecd0f",
   "metadata": {
    "execution": {
     "iopub.execute_input": "2021-12-15T11:48:54.101942Z",
     "iopub.status.busy": "2021-12-15T11:48:54.101258Z",
     "iopub.status.idle": "2021-12-15T11:48:55.122947Z",
     "shell.execute_reply": "2021-12-15T11:48:55.123461Z",
     "shell.execute_reply.started": "2021-12-15T11:34:36.359912Z"
    },
    "papermill": {
     "duration": 1.068347,
     "end_time": "2021-12-15T11:48:55.123627",
     "exception": false,
     "start_time": "2021-12-15T11:48:54.055280",
     "status": "completed"
    },
    "tags": []
   },
   "outputs": [
    {
     "data": {
      "image/png": "[encoded data removed]",
      "text/plain": [
       "<Figure size 1080x864 with 1 Axes>"
      ]
     },
     "metadata": {
      "needs_background": "light"
     },
     "output_type": "display_data"
    }
   ],
   "source": [
    "plt.figure(figsize=(15,12))\n",
    "sns.countplot(my_data['Year'])\n",
    "plt.xticks(rotation=90)\n",
    "plt.show()"
   ]
  },
  {
   "cell_type": "code",
   "execution_count": 21,
   "id": "55217d1c",
   "metadata": {
    "execution": {
     "iopub.execute_input": "2021-12-15T11:48:55.212472Z",
     "iopub.status.busy": "2021-12-15T11:48:55.211752Z",
     "iopub.status.idle": "2021-12-15T11:48:56.340694Z",
     "shell.execute_reply": "2021-12-15T11:48:56.341198Z",
     "shell.execute_reply.started": "2021-12-15T11:40:23.660838Z"
    },
    "papermill": {
     "duration": 1.176758,
     "end_time": "2021-12-15T11:48:56.341419",
     "exception": false,
     "start_time": "2021-12-15T11:48:55.164661",
     "status": "completed"
    },
    "tags": []
   },
   "outputs": [
    {
     "data": {
      "image/png": "[encoded data removed]",
      "text/plain": [
       "<Figure size 1080x864 with 1 Axes>"
      ]
     },
     "metadata": {
      "needs_background": "light"
     },
     "output_type": "display_data"
    }
   ],
   "source": [
    "plt.figure(figsize=(15,12))\n",
    "sns.countplot(x=\"Year\",data=my_data.loc[my_data[\"ID\"]==\"Secret Identity\"])\n",
    "plt.xticks(rotation=90)\n",
    "plt.show()"
   ]
  },
  {
   "cell_type": "code",
   "execution_count": 22,
   "id": "ad97ee29",
   "metadata": {
    "execution": {
     "iopub.execute_input": "2021-12-15T11:48:56.431414Z",
     "iopub.status.busy": "2021-12-15T11:48:56.430736Z",
     "iopub.status.idle": "2021-12-15T11:48:57.531023Z",
     "shell.execute_reply": "2021-12-15T11:48:57.531491Z",
     "shell.execute_reply.started": "2021-12-15T11:40:44.398941Z"
    },
    "papermill": {
     "duration": 1.145393,
     "end_time": "2021-12-15T11:48:57.531663",
     "exception": false,
     "start_time": "2021-12-15T11:48:56.386270",
     "status": "completed"
    },
    "tags": []
   },
   "outputs": [
    {
     "data": {
      "image/png": "[encoded data removed]",
      "text/plain": [
       "<Figure size 1080x864 with 1 Axes>"
      ]
     },
     "metadata": {
      "needs_background": "light"
     },
     "output_type": "display_data"
    }
   ],
   "source": [
    "plt.figure(figsize=(15,12))\n",
    "sns.countplot(x=\"Year\",data=my_data.loc[my_data[\"ID\"]==\"Public Identity\"])\n",
    "plt.xticks(rotation=90)\n",
    "plt.show()"
   ]
  },
  {
   "cell_type": "code",
   "execution_count": 23,
   "id": "f7a382d0",
   "metadata": {
    "execution": {
     "iopub.execute_input": "2021-12-15T11:48:57.620177Z",
     "iopub.status.busy": "2021-12-15T11:48:57.619216Z",
     "iopub.status.idle": "2021-12-15T11:48:57.803961Z",
     "shell.execute_reply": "2021-12-15T11:48:57.804524Z",
     "shell.execute_reply.started": "2021-12-15T11:48:18.355099Z"
    },
    "papermill": {
     "duration": 0.230986,
     "end_time": "2021-12-15T11:48:57.804692",
     "exception": false,
     "start_time": "2021-12-15T11:48:57.573706",
     "status": "completed"
    },
    "tags": []
   },
   "outputs": [
    {
     "data": {
      "text/plain": [
       "<AxesSubplot:>"
      ]
     },
     "execution_count": 23,
     "metadata": {},
     "output_type": "execute_result"
    },
    {
     "data": {
      "image/png": "[encoded data removed]",
      "text/plain": [
       "<Figure size 432x288 with 1 Axes>"
      ]
     },
     "metadata": {
      "needs_background": "light"
     },
     "output_type": "display_data"
    }
   ],
   "source": [
    "my_data['ALIVE'].value_counts().plot(kind='bar')"
   ]
  },
  {
   "cell_type": "code",
   "execution_count": 24,
   "id": "2bd930cf",
   "metadata": {
    "execution": {
     "iopub.execute_input": "2021-12-15T11:48:57.896002Z",
     "iopub.status.busy": "2021-12-15T11:48:57.895335Z",
     "iopub.status.idle": "2021-12-15T11:48:59.227079Z",
     "shell.execute_reply": "2021-12-15T11:48:59.226550Z",
     "shell.execute_reply.started": "2021-12-15T11:47:56.905469Z"
    },
    "papermill": {
     "duration": 1.378558,
     "end_time": "2021-12-15T11:48:59.227219",
     "exception": false,
     "start_time": "2021-12-15T11:48:57.848661",
     "status": "completed"
    },
    "tags": []
   },
   "outputs": [
    {
     "data": {
      "image/png": "[encoded data removed]",
      "text/plain": [
       "<Figure size 1080x576 with 1 Axes>"
      ]
     },
     "metadata": {
      "needs_background": "light"
     },
     "output_type": "display_data"
    }
   ],
   "source": [
    "plt.figure(figsize=(15,8))\n",
    "sns.countplot( x=\"Year\", hue=my_data['ALIVE'], data=my_data)\n",
    "plt.xticks(rotation=90)\n",
    "plt.show()"
   ]
  },
  {
   "cell_type": "markdown",
   "id": "4957e84e",
   "metadata": {
    "papermill": {
     "duration": 0.044849,
     "end_time": "2021-12-15T11:48:59.317255",
     "exception": false,
     "start_time": "2021-12-15T11:48:59.272406",
     "status": "completed"
    },
    "tags": []
   },
   "source": [
    "## Keep going\n",
    "\n",
    "Learn how to use your skills after completing the micro-course to create data visualizations in a **[final tutorial](https://www.kaggle.com/alexisbcook/creating-your-own-notebooks)**."
   ]
  },
  {
   "cell_type": "markdown",
   "id": "d314e3b4",
   "metadata": {
    "papermill": {
     "duration": 0.044295,
     "end_time": "2021-12-15T11:48:59.406427",
     "exception": false,
     "start_time": "2021-12-15T11:48:59.362132",
     "status": "completed"
    },
    "tags": []
   },
   "source": [
    "---\n",
    "\n",
    "\n",
    "\n",
    "\n",
    "*Have questions or comments? Visit the [course discussion forum](https://www.kaggle.com/learn/data-visualization/discussion) to chat with other learners.*"
   ]
  }
 ],
 "metadata": {
  "kernelspec": {
   "display_name": "Python 3",
   "language": "python",
   "name": "python3"
  },
  "language_info": {
   "codemirror_mode": {
    "name": "ipython",
    "version": 3
   },
   "file_extension": ".py",
   "mimetype": "text/x-python",
   "name": "python",
   "nbconvert_exporter": "python",
   "pygments_lexer": "ipython3",
   "version": "3.7.12"
  },
  "papermill": {
   "default_parameters": {},
   "duration": 21.987678,
   "end_time": "2021-12-15T11:49:00.161233",
   "environment_variables": {},
   "exception": null,
   "input_path": "__notebook__.ipynb",
   "output_path": "__notebook__.ipynb",
   "parameters": {},
   "start_time": "2021-12-15T11:48:38.173555",
   "version": "2.3.3"
  }
 },
 "nbformat": 4,
 "nbformat_minor": 5
}
