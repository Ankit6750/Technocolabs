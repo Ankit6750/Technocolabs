{
 "cells": [
  {
   "cell_type": "markdown",
   "id": "cc4d5d4a",
   "metadata": {
    "papermill": {
     "duration": 0.017057,
     "end_time": "2021-12-14T07:01:30.354887",
     "exception": false,
     "start_time": "2021-12-14T07:01:30.337830",
     "status": "completed"
    },
    "tags": []
   },
   "source": [
    "**This notebook is an exercise in the [Data Cleaning](https://www.kaggle.com/learn/data-cleaning) course.  You can reference the tutorial at [this link](https://www.kaggle.com/alexisbcook/inconsistent-data-entry).**\n",
    "\n",
    "---\n"
   ]
  },
  {
   "cell_type": "markdown",
   "id": "eb3e37fb",
   "metadata": {
    "papermill": {
     "duration": 0.013798,
     "end_time": "2021-12-14T07:01:30.383409",
     "exception": false,
     "start_time": "2021-12-14T07:01:30.369611",
     "status": "completed"
    },
    "tags": []
   },
   "source": [
    "In this exercise, you'll apply what you learned in the **Inconsistent data entry** tutorial.\n",
    "\n",
    "# Setup\n",
    "\n",
    "The questions below will give you feedback on your work. Run the following cell to set up the feedback system."
   ]
  },
  {
   "cell_type": "code",
   "execution_count": 1,
   "id": "0c829d55",
   "metadata": {
    "execution": {
     "iopub.execute_input": "2021-12-14T07:01:30.424823Z",
     "iopub.status.busy": "2021-12-14T07:01:30.424094Z",
     "iopub.status.idle": "2021-12-14T07:01:30.633533Z",
     "shell.execute_reply": "2021-12-14T07:01:30.634077Z",
     "shell.execute_reply.started": "2021-12-14T06:51:14.460027Z"
    },
    "papermill": {
     "duration": 0.237041,
     "end_time": "2021-12-14T07:01:30.634418",
     "exception": false,
     "start_time": "2021-12-14T07:01:30.397377",
     "status": "completed"
    },
    "tags": []
   },
   "outputs": [
    {
     "name": "stdout",
     "output_type": "stream",
     "text": [
      "Setup Complete\n"
     ]
    }
   ],
   "source": [
    "from learntools.core import binder\n",
    "binder.bind(globals())\n",
    "from learntools.data_cleaning.ex5 import *\n",
    "print(\"Setup Complete\")"
   ]
  },
  {
   "cell_type": "markdown",
   "id": "521da5d4",
   "metadata": {
    "papermill": {
     "duration": 0.015007,
     "end_time": "2021-12-14T07:01:30.664400",
     "exception": false,
     "start_time": "2021-12-14T07:01:30.649393",
     "status": "completed"
    },
    "tags": []
   },
   "source": [
    "# Get our environment set up\n",
    "\n",
    "The first thing we'll need to do is load in the libraries and dataset we'll be using.  We use the same dataset from the tutorial."
   ]
  },
  {
   "cell_type": "code",
   "execution_count": 2,
   "id": "baa3cc45",
   "metadata": {
    "execution": {
     "iopub.execute_input": "2021-12-14T07:01:30.698357Z",
     "iopub.status.busy": "2021-12-14T07:01:30.697703Z",
     "iopub.status.idle": "2021-12-14T07:01:30.713233Z",
     "shell.execute_reply": "2021-12-14T07:01:30.712681Z",
     "shell.execute_reply.started": "2021-12-14T06:51:14.470249Z"
    },
    "papermill": {
     "duration": 0.033977,
     "end_time": "2021-12-14T07:01:30.713397",
     "exception": false,
     "start_time": "2021-12-14T07:01:30.679420",
     "status": "completed"
    },
    "tags": []
   },
   "outputs": [],
   "source": [
    "# modules we'll use\n",
    "import pandas as pd\n",
    "import numpy as np\n",
    "\n",
    "# helpful modules\n",
    "import fuzzywuzzy\n",
    "from fuzzywuzzy import process\n",
    "import chardet\n",
    "\n",
    "# read in all our data\n",
    "professors = pd.read_csv(\"../input/pakistan-intellectual-capital/pakistan_intellectual_capital.csv\")\n",
    "\n",
    "# set seed for reproducibility\n",
    "np.random.seed(0)"
   ]
  },
  {
   "cell_type": "markdown",
   "id": "dcea5373",
   "metadata": {
    "papermill": {
     "duration": 0.014047,
     "end_time": "2021-12-14T07:01:30.742358",
     "exception": false,
     "start_time": "2021-12-14T07:01:30.728311",
     "status": "completed"
    },
    "tags": []
   },
   "source": [
    "Next, we'll redo all of the work that we did in the tutorial."
   ]
  },
  {
   "cell_type": "code",
   "execution_count": 3,
   "id": "2b03016b",
   "metadata": {
    "execution": {
     "iopub.execute_input": "2021-12-14T07:01:30.786506Z",
     "iopub.status.busy": "2021-12-14T07:01:30.785009Z",
     "iopub.status.idle": "2021-12-14T07:01:30.788960Z",
     "shell.execute_reply": "2021-12-14T07:01:30.789399Z",
     "shell.execute_reply.started": "2021-12-14T06:51:14.505905Z"
    },
    "papermill": {
     "duration": 0.03269,
     "end_time": "2021-12-14T07:01:30.789558",
     "exception": false,
     "start_time": "2021-12-14T07:01:30.756868",
     "status": "completed"
    },
    "tags": []
   },
   "outputs": [
    {
     "name": "stdout",
     "output_type": "stream",
     "text": [
      "All done!\n"
     ]
    }
   ],
   "source": [
    "# convert to lower case\n",
    "professors['Country'] = professors['Country'].str.lower()\n",
    "# remove trailing white spaces\n",
    "professors['Country'] = professors['Country'].str.strip()\n",
    "\n",
    "# get the top 10 closest matches to \"south korea\"\n",
    "countries = professors['Country'].unique()\n",
    "matches = fuzzywuzzy.process.extract(\"south korea\", countries, limit=10, scorer=fuzzywuzzy.fuzz.token_sort_ratio)\n",
    "\n",
    "def replace_matches_in_column(df, column, string_to_match, min_ratio = 47):\n",
    "    # get a list of unique strings\n",
    "    strings = df[column].unique()\n",
    "    \n",
    "    # get the top 10 closest matches to our input string\n",
    "    matches = fuzzywuzzy.process.extract(string_to_match, strings, \n",
    "                                         limit=10, scorer=fuzzywuzzy.fuzz.token_sort_ratio)\n",
    "\n",
    "    # only get matches with a ratio > 90\n",
    "    close_matches = [matches[0] for matches in matches if matches[1] >= min_ratio]\n",
    "\n",
    "    # get the rows of all the close matches in our dataframe\n",
    "    rows_with_matches = df[column].isin(close_matches)\n",
    "\n",
    "    # replace all rows with close matches with the input matches \n",
    "    df.loc[rows_with_matches, column] = string_to_match\n",
    "    \n",
    "    # let us know the function's done\n",
    "    print(\"All done!\")\n",
    "    \n",
    "replace_matches_in_column(df=professors, column='Country', string_to_match=\"south korea\")\n",
    "countries = professors['Country'].unique()"
   ]
  },
  {
   "cell_type": "markdown",
   "id": "275ef441",
   "metadata": {
    "papermill": {
     "duration": 0.014643,
     "end_time": "2021-12-14T07:01:30.818816",
     "exception": false,
     "start_time": "2021-12-14T07:01:30.804173",
     "status": "completed"
    },
    "tags": []
   },
   "source": [
    "# 1) Examine another column\n",
    "\n",
    "Write code below to take a look at all the unique values in the \"Graduated from\" column."
   ]
  },
  {
   "cell_type": "code",
   "execution_count": 4,
   "id": "f99e8b93",
   "metadata": {
    "execution": {
     "iopub.execute_input": "2021-12-14T07:01:30.853146Z",
     "iopub.status.busy": "2021-12-14T07:01:30.852475Z",
     "iopub.status.idle": "2021-12-14T07:01:30.882296Z",
     "shell.execute_reply": "2021-12-14T07:01:30.881666Z",
     "shell.execute_reply.started": "2021-12-14T06:51:14.528213Z"
    },
    "papermill": {
     "duration": 0.048724,
     "end_time": "2021-12-14T07:01:30.882441",
     "exception": false,
     "start_time": "2021-12-14T07:01:30.833717",
     "status": "completed"
    },
    "tags": []
   },
   "outputs": [
    {
     "data": {
      "text/html": [
       "<div>\n",
       "<style scoped>\n",
       "    .dataframe tbody tr th:only-of-type {\n",
       "        vertical-align: middle;\n",
       "    }\n",
       "\n",
       "    .dataframe tbody tr th {\n",
       "        vertical-align: top;\n",
       "    }\n",
       "\n",
       "    .dataframe thead th {\n",
       "        text-align: right;\n",
       "    }\n",
       "</style>\n",
       "<table border=\"1\" class=\"dataframe\">\n",
       "  <thead>\n",
       "    <tr style=\"text-align: right;\">\n",
       "      <th></th>\n",
       "      <th>Unnamed: 0</th>\n",
       "      <th>S#</th>\n",
       "      <th>Teacher Name</th>\n",
       "      <th>University Currently Teaching</th>\n",
       "      <th>Department</th>\n",
       "      <th>Province University Located</th>\n",
       "      <th>Designation</th>\n",
       "      <th>Terminal Degree</th>\n",
       "      <th>Graduated from</th>\n",
       "      <th>Country</th>\n",
       "      <th>Year</th>\n",
       "      <th>Area of Specialization/Research Interests</th>\n",
       "      <th>Other Information</th>\n",
       "    </tr>\n",
       "  </thead>\n",
       "  <tbody>\n",
       "    <tr>\n",
       "      <th>0</th>\n",
       "      <td>2</td>\n",
       "      <td>3</td>\n",
       "      <td>Dr. Abdul Basit</td>\n",
       "      <td>University of Balochistan</td>\n",
       "      <td>Computer Science &amp; IT</td>\n",
       "      <td>Balochistan</td>\n",
       "      <td>Assistant Professor</td>\n",
       "      <td>PhD</td>\n",
       "      <td>Asian Institute of Technology</td>\n",
       "      <td>thailand</td>\n",
       "      <td>NaN</td>\n",
       "      <td>Software Engineering &amp; DBMS</td>\n",
       "      <td>NaN</td>\n",
       "    </tr>\n",
       "    <tr>\n",
       "      <th>1</th>\n",
       "      <td>4</td>\n",
       "      <td>5</td>\n",
       "      <td>Dr. Waheed Noor</td>\n",
       "      <td>University of Balochistan</td>\n",
       "      <td>Computer Science &amp; IT</td>\n",
       "      <td>Balochistan</td>\n",
       "      <td>Assistant Professor</td>\n",
       "      <td>PhD</td>\n",
       "      <td>Asian Institute of Technology</td>\n",
       "      <td>thailand</td>\n",
       "      <td>NaN</td>\n",
       "      <td>DBMS</td>\n",
       "      <td>NaN</td>\n",
       "    </tr>\n",
       "    <tr>\n",
       "      <th>2</th>\n",
       "      <td>5</td>\n",
       "      <td>6</td>\n",
       "      <td>Dr. Junaid Baber</td>\n",
       "      <td>University of Balochistan</td>\n",
       "      <td>Computer Science &amp; IT</td>\n",
       "      <td>Balochistan</td>\n",
       "      <td>Assistant Professor</td>\n",
       "      <td>PhD</td>\n",
       "      <td>Asian Institute of Technology</td>\n",
       "      <td>thailand</td>\n",
       "      <td>NaN</td>\n",
       "      <td>Information processing, Multimedia mining</td>\n",
       "      <td>NaN</td>\n",
       "    </tr>\n",
       "    <tr>\n",
       "      <th>3</th>\n",
       "      <td>6</td>\n",
       "      <td>7</td>\n",
       "      <td>Dr. Maheen Bakhtyar</td>\n",
       "      <td>University of Balochistan</td>\n",
       "      <td>Computer Science &amp; IT</td>\n",
       "      <td>Balochistan</td>\n",
       "      <td>Assistant Professor</td>\n",
       "      <td>PhD</td>\n",
       "      <td>Asian Institute of Technology</td>\n",
       "      <td>thailand</td>\n",
       "      <td>NaN</td>\n",
       "      <td>NLP, Information Retrieval, Question Answering...</td>\n",
       "      <td>NaN</td>\n",
       "    </tr>\n",
       "    <tr>\n",
       "      <th>4</th>\n",
       "      <td>24</td>\n",
       "      <td>25</td>\n",
       "      <td>Samina Azim</td>\n",
       "      <td>Sardar Bahadur Khan Women's University</td>\n",
       "      <td>Computer Science</td>\n",
       "      <td>Balochistan</td>\n",
       "      <td>Lecturer</td>\n",
       "      <td>BS</td>\n",
       "      <td>Balochistan University of Information Technolo...</td>\n",
       "      <td>pakistan</td>\n",
       "      <td>2005.0</td>\n",
       "      <td>VLSI Electronics DLD Database</td>\n",
       "      <td>NaN</td>\n",
       "    </tr>\n",
       "    <tr>\n",
       "      <th>...</th>\n",
       "      <td>...</td>\n",
       "      <td>...</td>\n",
       "      <td>...</td>\n",
       "      <td>...</td>\n",
       "      <td>...</td>\n",
       "      <td>...</td>\n",
       "      <td>...</td>\n",
       "      <td>...</td>\n",
       "      <td>...</td>\n",
       "      <td>...</td>\n",
       "      <td>...</td>\n",
       "      <td>...</td>\n",
       "      <td>...</td>\n",
       "    </tr>\n",
       "    <tr>\n",
       "      <th>1137</th>\n",
       "      <td>1974</td>\n",
       "      <td>1975</td>\n",
       "      <td>Dr. Ahmar Rashid</td>\n",
       "      <td>Ghulam Ishaq Khan Institute</td>\n",
       "      <td>Computer Science and Engineering</td>\n",
       "      <td>KPK</td>\n",
       "      <td>Associate Professor</td>\n",
       "      <td>PhD</td>\n",
       "      <td>JNU</td>\n",
       "      <td>south korea</td>\n",
       "      <td>NaN</td>\n",
       "      <td>Electrical Impedance Tomography, Inverse algor...</td>\n",
       "      <td>NaN</td>\n",
       "    </tr>\n",
       "    <tr>\n",
       "      <th>1138</th>\n",
       "      <td>1975</td>\n",
       "      <td>1976</td>\n",
       "      <td>Dr. Fawad Hussain</td>\n",
       "      <td>Ghulam Ishaq Khan Institute</td>\n",
       "      <td>Computer Science and Engineering</td>\n",
       "      <td>KPK</td>\n",
       "      <td>Associate Professor</td>\n",
       "      <td>PhD</td>\n",
       "      <td>Grenoble</td>\n",
       "      <td>france</td>\n",
       "      <td>NaN</td>\n",
       "      <td>Machine Learning, Big Data Anaysis, Data Minin...</td>\n",
       "      <td>NaN</td>\n",
       "    </tr>\n",
       "    <tr>\n",
       "      <th>1139</th>\n",
       "      <td>1977</td>\n",
       "      <td>1978</td>\n",
       "      <td>Dr. Rashad M Jillani</td>\n",
       "      <td>Ghulam Ishaq Khan Institute</td>\n",
       "      <td>Computer Science and Engineering</td>\n",
       "      <td>KPK</td>\n",
       "      <td>Assistant Professor</td>\n",
       "      <td>PhD</td>\n",
       "      <td>Florida Atlantic University</td>\n",
       "      <td>usa</td>\n",
       "      <td>2012.0</td>\n",
       "      <td>Digital Multimedia Systems, Video Compression ...</td>\n",
       "      <td>NaN</td>\n",
       "    </tr>\n",
       "    <tr>\n",
       "      <th>1140</th>\n",
       "      <td>1979</td>\n",
       "      <td>1980</td>\n",
       "      <td>Dr. Shahabuddin Ansari</td>\n",
       "      <td>Ghulam Ishaq Khan Institute</td>\n",
       "      <td>Computer Science and Engineering</td>\n",
       "      <td>KPK</td>\n",
       "      <td>Assistant Professor</td>\n",
       "      <td>PhD</td>\n",
       "      <td>Ghulam Ishaq Khan Institute of Science and Tec...</td>\n",
       "      <td>pakistan</td>\n",
       "      <td>NaN</td>\n",
       "      <td>Medical Image Processing and Analysis, Digital...</td>\n",
       "      <td>NaN</td>\n",
       "    </tr>\n",
       "    <tr>\n",
       "      <th>1141</th>\n",
       "      <td>1980</td>\n",
       "      <td>1981</td>\n",
       "      <td>Dr. Sajid Anwar</td>\n",
       "      <td>Ghulam Ishaq Khan Institute</td>\n",
       "      <td>Computer Science and Engineering</td>\n",
       "      <td>KPK</td>\n",
       "      <td>Assistant Professor</td>\n",
       "      <td>PhD</td>\n",
       "      <td>Seoul National University</td>\n",
       "      <td>south korea</td>\n",
       "      <td>NaN</td>\n",
       "      <td>Pruning and Quantizing CNN, GPGPU,</td>\n",
       "      <td>NaN</td>\n",
       "    </tr>\n",
       "  </tbody>\n",
       "</table>\n",
       "<p>1142 rows × 13 columns</p>\n",
       "</div>"
      ],
      "text/plain": [
       "      Unnamed: 0    S#            Teacher Name  \\\n",
       "0              2     3         Dr. Abdul Basit   \n",
       "1              4     5         Dr. Waheed Noor   \n",
       "2              5     6        Dr. Junaid Baber   \n",
       "3              6     7     Dr. Maheen Bakhtyar   \n",
       "4             24    25             Samina Azim   \n",
       "...          ...   ...                     ...   \n",
       "1137        1974  1975        Dr. Ahmar Rashid   \n",
       "1138        1975  1976       Dr. Fawad Hussain   \n",
       "1139        1977  1978    Dr. Rashad M Jillani   \n",
       "1140        1979  1980  Dr. Shahabuddin Ansari   \n",
       "1141        1980  1981         Dr. Sajid Anwar   \n",
       "\n",
       "               University Currently Teaching  \\\n",
       "0                  University of Balochistan   \n",
       "1                  University of Balochistan   \n",
       "2                  University of Balochistan   \n",
       "3                  University of Balochistan   \n",
       "4     Sardar Bahadur Khan Women's University   \n",
       "...                                      ...   \n",
       "1137             Ghulam Ishaq Khan Institute   \n",
       "1138             Ghulam Ishaq Khan Institute   \n",
       "1139             Ghulam Ishaq Khan Institute   \n",
       "1140             Ghulam Ishaq Khan Institute   \n",
       "1141             Ghulam Ishaq Khan Institute   \n",
       "\n",
       "                            Department Province University Located  \\\n",
       "0                Computer Science & IT                 Balochistan   \n",
       "1                Computer Science & IT                 Balochistan   \n",
       "2                Computer Science & IT                 Balochistan   \n",
       "3                Computer Science & IT                 Balochistan   \n",
       "4                     Computer Science                 Balochistan   \n",
       "...                                ...                         ...   \n",
       "1137  Computer Science and Engineering                         KPK   \n",
       "1138  Computer Science and Engineering                         KPK   \n",
       "1139  Computer Science and Engineering                         KPK   \n",
       "1140  Computer Science and Engineering                         KPK   \n",
       "1141  Computer Science and Engineering                         KPK   \n",
       "\n",
       "              Designation Terminal Degree  \\\n",
       "0     Assistant Professor             PhD   \n",
       "1     Assistant Professor             PhD   \n",
       "2     Assistant Professor             PhD   \n",
       "3     Assistant Professor             PhD   \n",
       "4                Lecturer              BS   \n",
       "...                   ...             ...   \n",
       "1137  Associate Professor             PhD   \n",
       "1138  Associate Professor             PhD   \n",
       "1139  Assistant Professor             PhD   \n",
       "1140  Assistant Professor             PhD   \n",
       "1141  Assistant Professor             PhD   \n",
       "\n",
       "                                         Graduated from      Country    Year  \\\n",
       "0                         Asian Institute of Technology     thailand     NaN   \n",
       "1                         Asian Institute of Technology     thailand     NaN   \n",
       "2                         Asian Institute of Technology     thailand     NaN   \n",
       "3                         Asian Institute of Technology     thailand     NaN   \n",
       "4     Balochistan University of Information Technolo...     pakistan  2005.0   \n",
       "...                                                 ...          ...     ...   \n",
       "1137                                                JNU  south korea     NaN   \n",
       "1138                                           Grenoble       france     NaN   \n",
       "1139                        Florida Atlantic University          usa  2012.0   \n",
       "1140  Ghulam Ishaq Khan Institute of Science and Tec...     pakistan     NaN   \n",
       "1141                          Seoul National University  south korea     NaN   \n",
       "\n",
       "              Area of Specialization/Research Interests Other Information  \n",
       "0                           Software Engineering & DBMS               NaN  \n",
       "1                                                  DBMS               NaN  \n",
       "2             Information processing, Multimedia mining               NaN  \n",
       "3     NLP, Information Retrieval, Question Answering...               NaN  \n",
       "4                         VLSI Electronics DLD Database               NaN  \n",
       "...                                                 ...               ...  \n",
       "1137  Electrical Impedance Tomography, Inverse algor...               NaN  \n",
       "1138  Machine Learning, Big Data Anaysis, Data Minin...               NaN  \n",
       "1139  Digital Multimedia Systems, Video Compression ...               NaN  \n",
       "1140  Medical Image Processing and Analysis, Digital...               NaN  \n",
       "1141                 Pruning and Quantizing CNN, GPGPU,               NaN  \n",
       "\n",
       "[1142 rows x 13 columns]"
      ]
     },
     "execution_count": 4,
     "metadata": {},
     "output_type": "execute_result"
    }
   ],
   "source": [
    "professors"
   ]
  },
  {
   "cell_type": "code",
   "execution_count": 5,
   "id": "912d1dc8",
   "metadata": {
    "execution": {
     "iopub.execute_input": "2021-12-14T07:01:30.923223Z",
     "iopub.status.busy": "2021-12-14T07:01:30.922211Z",
     "iopub.status.idle": "2021-12-14T07:01:30.926751Z",
     "shell.execute_reply": "2021-12-14T07:01:30.927325Z",
     "shell.execute_reply.started": "2021-12-14T06:51:14.567772Z"
    },
    "papermill": {
     "duration": 0.028965,
     "end_time": "2021-12-14T07:01:30.927502",
     "exception": false,
     "start_time": "2021-12-14T07:01:30.898537",
     "status": "completed"
    },
    "tags": []
   },
   "outputs": [
    {
     "data": {
      "text/plain": [
       "array([' Columbia University', ' Delft University of Technology',\n",
       "       ' Iowa State University', ' University of Central Florida',\n",
       "       ' University of Innsbruck',\n",
       "       ' University of Texas at Arlington (UTA)', ' University of Turin',\n",
       "       'Abasyn University', 'Abdul Wali Khan University, Mardan',\n",
       "       'Abdus Salam School of Mathematical Sciences,GC University',\n",
       "       'Agricultural University Peshawar', 'Allama Iqbal Open University',\n",
       "       'Asian Institute of Technology', 'Aston University, Birmingham',\n",
       "       'Australian National University, Caneberra', 'BUKC',\n",
       "       'Bahauddin Zakariya University', 'Bahria University',\n",
       "       'Bahria University,Islamabad',\n",
       "       'Balochistan University of Information Technology, Engineering and Management Sciences',\n",
       "       'Barani Institute of Information Technology',\n",
       "       'Beaconhouse National University', 'Beihang University',\n",
       "       'Beijing Institute of Technology',\n",
       "       'Beijing Institute of Technology Beijing',\n",
       "       'Beijing University of Posts & Telecommunications',\n",
       "       'Biztek Institute Of Business & Technology,Karachi',\n",
       "       'Blekinge Institute of Technology', 'Brock University Canada',\n",
       "       'Brunel University',\n",
       "       'CECOS University of Information Technology and Emerging Sciences,Peshawar',\n",
       "       'COMSATS Institute of Information Technology',\n",
       "       'COMSATS Institute of Information Technology,Islamabad',\n",
       "       'COMSATS Institute of Information Technology,Lahore',\n",
       "       'COMSATS Institute of Information Technology,Vehari',\n",
       "       'COMSATS Institute of Information Technology,Wah Cantt',\n",
       "       'California State University',\n",
       "       'Capital University of Science & Technology',\n",
       "       'Capital University of Science and Technology',\n",
       "       'Carnegie Mellon University, Pittsburgh',\n",
       "       'Centre for Advanced Studies in Engineering',\n",
       "       'Chalmers University of Technology', 'Chinese Academy of Sciences',\n",
       "       'Chosun University', 'City University of Science and Technology',\n",
       "       'Colorado State University', 'Colorado Technical University',\n",
       "       'Columbia University', 'Concordia University,Montreal',\n",
       "       'Coventry University', 'Cranfield University', 'DUET,Karachi',\n",
       "       'DePaul University, Chicago',\n",
       "       'Dresden University Of Technology, Dresden\\xa0',\n",
       "       'Eindhoven University of Technology (TU/e)',\n",
       "       'FAST– National University of Computer and Emerging Sciences',\n",
       "       'FAST– National University of Computer and Emerging Sciences,Chiniot-Faisalabad',\n",
       "       'FAST– National University of Computer and Emerging Sciences,Islamabad',\n",
       "       'FAST– National University of Computer and Emerging Sciences,Lahore',\n",
       "       'FAST– National University of Computer and Emerging Sciences,Peshawar',\n",
       "       'Fatima Jinnah Women University, Rawalpindi',\n",
       "       'Fedral Urdu University', 'Florida Atlantic University',\n",
       "       'Foundation University', 'Galilée - Université Paris 13',\n",
       "       'George Mason University', 'George Washington University',\n",
       "       'Georgetown University,DC',\n",
       "       'Ghulam Ishaq Khan Institute of Science and Technology',\n",
       "       'Gomal University', 'Government College University',\n",
       "       'Government College University, Faisalabad',\n",
       "       'Government College University,Faisalabad',\n",
       "       'Graz University of Technology', 'Grenoble', 'Griffith University',\n",
       "       'Griffith University,Nathan Campus', 'Guildford',\n",
       "       'Gwangju Institute of Science and Technology',\n",
       "       'HITEC University,Taxila', 'Hamburg University of Technology',\n",
       "       'Hamdard University', 'Hanyang University, Ansan',\n",
       "       'Harbin Institute of Technology',\n",
       "       'Huazhong University of Science and Technology (HUST), Wuhan',\n",
       "       'IBMS KP Agricultural University Peshawar',\n",
       "       'INRIA Saclay Ile-de-France', 'INSA de Lyon, Rhone',\n",
       "       'IQRA University', 'IQRA University,Islamabad',\n",
       "       'IQRA University,Karachi', 'ISRA University',\n",
       "       'Illinois Institute of Technology',\n",
       "       'Ilmenau University of Technology',\n",
       "       'Imperial College, University of London',\n",
       "       'Information Technology University (ITU)',\n",
       "       'Institute Of Managment Sciences, Peshawar',\n",
       "       'Institute of Business Administration',\n",
       "       'Institute of Business Administration,Karachi',\n",
       "       'Institute of Business Administration,Sukkur',\n",
       "       'Institute of Management Sciences, Peshawar',\n",
       "       'International Islamic University',\n",
       "       'International Islamic University,Islamabad',\n",
       "       'Islamia College University ', 'JKU', 'JNU',\n",
       "       'Jinnah University for Women', 'John Moorse University, Liverpool',\n",
       "       'Jonkoping University', 'KTH Royal Institute of Technology',\n",
       "       'King Abdullah University of Science and Technology',\n",
       "       'Kingston University London',\n",
       "       'Kohat University of Science & Technology, Kohat',\n",
       "       'Kyung Hee University', 'Kyungpook National University',\n",
       "       'Kyushu University,Fukuoka', 'Lahore College for Women University',\n",
       "       'Lahore Leads University',\n",
       "       'Lahore University of Management Sciences', 'Linköping University',\n",
       "       'Liverpool John Moores University', 'London University',\n",
       "       'Loughborough University', 'Manchester Metropolitan University',\n",
       "       'Manchester University', 'Massachusetts Institute of Technology',\n",
       "       'Max Planck Institute for Computer Science',\n",
       "       'Mehran University of Engineering & Technology',\n",
       "       'Mid Sweden University', 'Middle East Technical University',\n",
       "       'Middlesex University', 'Minhaj University Lahore',\n",
       "       'Mohammad Ali Jinnah University', 'Monash University',\n",
       "       'Muroran Institute of Technology,Hokkaido', 'Myongji University',\n",
       "       'NCSU', 'NED University of Engineering And Technology',\n",
       "       'Nancy 2 University', 'Nanyang Tech University',\n",
       "       'National College of Business Administration and Economics',\n",
       "       'National Textile University',\n",
       "       'National University of Modern Languages',\n",
       "       'National University of Modern Languages,Islamabad',\n",
       "       'National University of Sciences and Technology',\n",
       "       'National University of Singapore',\n",
       "       'New York Institute of Technology',\n",
       "       'North Dakota State University', 'Northeastern University,Boston',\n",
       "       'Norwegian University of Science and Technology (NTNU),',\n",
       "       'Nottingham Trent University', 'Oxford Brookes University',\n",
       "       'PAF-Karachi Institute of Economics and Technology',\n",
       "       'Pace University, New York',\n",
       "       'Pakistan Institute of Engineering and Applied Sciences',\n",
       "       'Paris Descartes University', 'Paris Tech University of Eurecom',\n",
       "       'Pir Mehr Ali Shah Arid Agriculture University',\n",
       "       'Pohang University of Science and Technology',\n",
       "       'Politecnico di Milano', 'Politecnico di Torino',\n",
       "       'Pompeu Fabra University Barcelona', 'Preston',\n",
       "       'Punjab University College of Information Technology',\n",
       "       'Purdue University',\n",
       "       'Quaid-e-Awam University of Engineering, Science & Technology',\n",
       "       'Quaid-i-Azam University', 'Queen Mary University of London',\n",
       "       'RWTH Aachen University',\n",
       "       'Razak School of Engineering and Advanced Technology, Universiti Teknologi Malaysia (UTM)',\n",
       "       'Riphah International University',\n",
       "       'Riphah International University,Faisalabad',\n",
       "       'Rutgers State University of New Jersey, NJ',\n",
       "       'SRH Hochschule Heidelberg', 'SSindh Agriculture University',\n",
       "       'Saarland University', 'Sapienza University of Rome',\n",
       "       \"Sardar Bahadur Khan Women's University\",\n",
       "       'Seoul National University',\n",
       "       'Shah Abdul Latif University, Khairpur',\n",
       "       'Shaheed Zulfikar Ali Bhutto Institute of Science and Technology',\n",
       "       'Shaheed Zulfikar Ali Bhutto Institute of Science and Technology,Islamabad',\n",
       "       'Sindh Agriculture University', 'Sindh University',\n",
       "       'Sir Syed University of Engineering and Technology',\n",
       "       'Skolkovo Institute of Science and Technology,\\xa0',\n",
       "       'South Asian University', 'Staffordshire University',\n",
       "       'Stanford University', 'State University of New York System',\n",
       "       'Stockholm University', 'Sungkyunkwan University',\n",
       "       'Superior University, Lahore', 'Swansea',\n",
       "       'Swedish University of Agricultural Sciences, Uppsala',\n",
       "       'Swinburne University Of Technology', 'TU Berlin', 'TU Wien',\n",
       "       'Technical University of Braunschweig',\n",
       "       'Technical University of Graz', 'Temple University',\n",
       "       'The Islamia University of Bahawalpur ',\n",
       "       'The Ohio State University', 'The Queens University of Belfast',\n",
       "       'The State University of New Jersey', 'The University of Auckland',\n",
       "       'The University of Birmingham', 'The University of Cambridge',\n",
       "       'The University of Leeds', 'The University of Manchester',\n",
       "       'The University of Queensland',\n",
       "       'The University of Texas at Austin', 'The University of York',\n",
       "       'Tilburg University', 'Tokyo Institute of Technology',\n",
       "       'Tsinghua University',\n",
       "       'United Nations University International Institute for Software Technology (UNU-IIST)',\n",
       "       'Univ of Porto/Univ of Aveiro Portugal/Uni of Minho',\n",
       "       \"Universite d'Evry Val d'Essonne\",\n",
       "       'Universiti Putra Malaysia Putra', 'Universiti Technologi',\n",
       "       'Universiti Teknologi PETRONAS',\n",
       "       'Universiti Tun Hussein Onn Malaysia',\n",
       "       'University Institute of Information Technology',\n",
       "       'University Of Caen', 'University Of Oslo',\n",
       "       'University Of Salford', 'University Of Southern California',\n",
       "       'University Of Waterloo', 'University Paris',\n",
       "       'University of Abertay Dundee', 'University of Agriculture',\n",
       "       'University of Agriculture Faisalabad',\n",
       "       'University of Agriculture, Faisalabad',\n",
       "       'University of Agriculture, Faisalabad\\xa0',\n",
       "       'University of Arid Agriculture', 'University of Balochistan',\n",
       "       'University of Bath', 'University of Bayreuth',\n",
       "       'University of BedfordShire', 'University of Bedfordshire',\n",
       "       'University of Bergen', 'University of Birmingham',\n",
       "       'University of Bologna', 'University of Bonn',\n",
       "       'University of Bradford', 'University of Bristol',\n",
       "       'University of British Columbia', 'University of Canterbury',\n",
       "       'University of Central Florida', 'University of Central Missouri',\n",
       "       'University of Central Punjab', 'University of Colorado\\xa0',\n",
       "       'University of Dundee', 'University of Engineering & Technology',\n",
       "       'University of Engineering and Technology',\n",
       "       'University of Engineering and Technology,Peshawar',\n",
       "       'University of Engineering and Technology,Taxila',\n",
       "       'University of Essex', 'University of Florida',\n",
       "       'University of Freiburg', 'University of Genova',\n",
       "       'University of Glasgow', 'University of Grenoble',\n",
       "       'University of Gujrat', 'University of Huddersfield',\n",
       "       'University of Illinois', 'University of Innsbruck',\n",
       "       'University of Karachi', 'University of Kent',\n",
       "       'University of Konstanz', 'University of Kuala Lumpur',\n",
       "       'University of Lahore', 'University of Leeds',\n",
       "       'University of Leicester', 'University of Limerick',\n",
       "       'University of Liverpool', 'University of Malaga',\n",
       "       'University of Malaya', 'University of Management and Technology',\n",
       "       'University of Manchester',\n",
       "       'University of Manchester Institute of Science and Technology',\n",
       "       'University of Mississippi\\xa0',\n",
       "       'University of New South Wales, Sydney',\n",
       "       'University of Nice, Sophia Antipolis',\n",
       "       'University of Northampton',\n",
       "       'University of Notre Dame Indiana\\xa0', 'University of Orleans',\n",
       "       'University of Oviedo', 'University of Paisley',\n",
       "       'University of Paris', 'University of Paris-Est',\n",
       "       'University of Patras', 'University of Peshawar',\n",
       "       'University of Pittsburgh', 'University of Plymouth',\n",
       "       'University of Porto', 'University of Regina',\n",
       "       'University of Rochester', 'University of Rome Tor Vergata',\n",
       "       'University of Saarland', 'University of Salford',\n",
       "       'University of Shanghai for Science and Technology',\n",
       "       'University of South Australia', 'University of South Brittany',\n",
       "       'University of South Florida', 'University of Southampton',\n",
       "       'University of Southern California', 'University of Stirling',\n",
       "       'University of Stuttgart', 'University of Sunderland',\n",
       "       'University of Surrey', 'University of Sussex',\n",
       "       'University of Technology', 'University of Trento',\n",
       "       'University of Turbat', 'University of Ulm',\n",
       "       'University of Vienna', 'University of Virginia',\n",
       "       'University of Wales', 'University of Wales,Aberystwyth',\n",
       "       'University of Westminster', 'University of York',\n",
       "       'University of the Punjab', 'University of the Punjab,Gujranwala',\n",
       "       'University of the West Scotland',\n",
       "       'University of\\xa0Liverpool John Moores University',\n",
       "       'Universität Salzburg', 'Université Henri Poincaré, Nancy 1,',\n",
       "       'Université de la Rochelle', 'Universtiy of Karachi',\n",
       "       'Universtiy of Lahore', 'Uppsala University',\n",
       "       'Usman Institute of Technology',\n",
       "       'Usman Institute of Technology (Hamdard University)',\n",
       "       'Vienna University of Technology',\n",
       "       'Virtual University of Pakistan', 'Vrije University, Amsterdam',\n",
       "       'Wayne State University', 'Xiamen university',\n",
       "       'Zhejiang University', '\\xa0Boston University',\n",
       "       '\\xa0Hongik University', '\\xa0Nanyang Technological University',\n",
       "       '\\xa0National University of Sciences and Technology-NIIT',\n",
       "       '\\xa0University of Bedfordshire', '\\xa0University of Bonn',\n",
       "       '\\xa0University of Missouri, KC', '\\xa0University of Windsor',\n",
       "       'Åbo Akademi University,'], dtype=object)"
      ]
     },
     "execution_count": 5,
     "metadata": {},
     "output_type": "execute_result"
    }
   ],
   "source": [
    "# TODO: Your code here\n",
    "unique=professors['Graduated from'].unique()\n",
    "unique.sort()\n",
    "unique"
   ]
  },
  {
   "cell_type": "code",
   "execution_count": 6,
   "id": "b7e4d9ae",
   "metadata": {
    "execution": {
     "iopub.execute_input": "2021-12-14T07:01:30.971923Z",
     "iopub.status.busy": "2021-12-14T07:01:30.970966Z",
     "iopub.status.idle": "2021-12-14T07:01:30.976156Z",
     "shell.execute_reply": "2021-12-14T07:01:30.976622Z",
     "shell.execute_reply.started": "2021-12-14T06:51:14.581660Z"
    },
    "papermill": {
     "duration": 0.032845,
     "end_time": "2021-12-14T07:01:30.976789",
     "exception": false,
     "start_time": "2021-12-14T07:01:30.943944",
     "status": "completed"
    },
    "tags": []
   },
   "outputs": [
    {
     "data": {
      "text/plain": [
       "FAST– National University of Computer and Emerging Sciences                                 67\n",
       "Sir Syed University of Engineering and Technology                                           47\n",
       "National University of Sciences and Technology                                              45\n",
       "NED University of Engineering And Technology                                                34\n",
       "University of the Punjab                                                                    34\n",
       "International Islamic University,Islamabad                                                  32\n",
       "Hamdard University                                                                          31\n",
       "Lahore University of Management Sciences                                                    27\n",
       "University of Engineering and Technology                                                    18\n",
       "Mohammad Ali Jinnah University                                                              18\n",
       "University of Engineering and Technology,Taxila                                             17\n",
       "PAF-Karachi Institute of Economics and Technology                                           16\n",
       "University of Karachi                                                                       15\n",
       "Shaheed Zulfikar Ali Bhutto Institute of Science and Technology                             15\n",
       "Quaid-e-Awam University of Engineering, Science & Technology                                14\n",
       "COMSATS Institute of Information Technology                                                 14\n",
       "Sindh University                                                                            13\n",
       "Quaid-i-Azam University                                                                     13\n",
       "Ghulam Ishaq Khan Institute of Science and Technology                                       13\n",
       "Bahria University,Islamabad                                                                 12\n",
       "Asian Institute of Technology                                                               12\n",
       "Punjab University College of Information Technology                                         12\n",
       "Pir Mehr Ali Shah Arid Agriculture University                                               11\n",
       "University of Peshawar                                                                      11\n",
       "Virtual University of Pakistan                                                              10\n",
       "Bahria University                                                                            9\n",
       "Mehran University of Engineering & Technology                                                9\n",
       "Jinnah University for Women                                                                  9\n",
       "Vienna University of Technology                                                              9\n",
       "University of Agriculture, Faisalabad                                                        9\n",
       "Universiti Teknologi PETRONAS                                                                8\n",
       "University of Central Punjab                                                                 8\n",
       "FAST– National University of Computer and Emerging Sciences,Islamabad                        7\n",
       "National College of Business Administration and Economics                                    7\n",
       "Institute of Business Administration                                                         7\n",
       "Politecnico di Torino                                                                        7\n",
       "University of Technology                                                                     7\n",
       "Institute of Business Administration,Karachi                                                 6\n",
       "COMSATS Institute of Information Technology,Islamabad                                        6\n",
       "National Textile University                                                                  6\n",
       "University of Management and Technology                                                      6\n",
       "University of Leicester                                                                      6\n",
       "Centre for Advanced Studies in Engineering                                                   6\n",
       "FAST– National University of Computer and Emerging Sciences,Lahore                           5\n",
       "University of Leeds                                                                          5\n",
       "University of Essex                                                                          5\n",
       "University of Lahore                                                                         5\n",
       "Institute of Management Sciences, Peshawar                                                   5\n",
       "University of Engineering and Technology,Peshawar                                            5\n",
       "University of Malaya                                                                         5\n",
       "Government College University                                                                5\n",
       "KTH Royal Institute of Technology                                                            5\n",
       "University of Sunderland                                                                     4\n",
       "Pakistan Institute of Engineering and Applied Sciences                                       4\n",
       "University of Manchester                                                                     4\n",
       "ISRA University                                                                              4\n",
       "National University of Modern Languages                                                      4\n",
       "RWTH Aachen University                                                                       4\n",
       "COMSATS Institute of Information Technology,Lahore                                           4\n",
       "City University of Science and Technology                                                    4\n",
       "University of Limerick                                                                       3\n",
       "Brunel University                                                                            3\n",
       "University of Sussex                                                                         3\n",
       "Kyung Hee University                                                                         3\n",
       "University of Grenoble                                                                       3\n",
       "Loughborough University                                                                      3\n",
       "Queen Mary University of London                                                              3\n",
       "Politecnico di Milano                                                                        3\n",
       "Blekinge Institute of Technology                                                             3\n",
       "Lahore Leads University                                                                      3\n",
       "Bahauddin Zakariya University                                                                3\n",
       "University of Innsbruck                                                                      3\n",
       "Purdue University                                                                            3\n",
       "FAST– National University of Computer and Emerging Sciences,Peshawar                         3\n",
       "Sardar Bahadur Khan Women's University                                                       3\n",
       "Liverpool John Moores University                                                             3\n",
       "University of Gujrat                                                                         3\n",
       "Chinese Academy of Sciences                                                                  3\n",
       "COMSATS Institute of Information Technology,Wah Cantt                                        3\n",
       "International Islamic University                                                             2\n",
       "Agricultural University Peshawar                                                             2\n",
       "Linköping University                                                                         2\n",
       "Foundation University                                                                        2\n",
       "North Dakota State University                                                                2\n",
       "Universtiy of Lahore                                                                         2\n",
       "University of Nice, Sophia Antipolis                                                         2\n",
       "University of Surrey                                                                         2\n",
       "Kyungpook National University                                                                2\n",
       "Harbin Institute of Technology                                                               2\n",
       "Capital University of Science & Technology                                                   2\n",
       "George Washington University                                                                 2\n",
       "Abasyn University                                                                            2\n",
       "University of Central Florida                                                                2\n",
       "Vrije University, Amsterdam                                                                  2\n",
       " Columbia University                                                                         2\n",
       "Abdul Wali Khan University, Mardan                                                           2\n",
       "Beaconhouse National University                                                              2\n",
       "Lahore College for Women University                                                          2\n",
       "University of Balochistan                                                                    2\n",
       "Fatima Jinnah Women University, Rawalpindi                                                   2\n",
       "University of Agriculture, Faisalabad                                                        2\n",
       "University of Vienna                                                                         2\n",
       "University of Kent                                                                           2\n",
       "Monash University                                                                            2\n",
       "University of Florida                                                                        2\n",
       "Wayne State University                                                                       2\n",
       "Columbia University                                                                          2\n",
       "Eindhoven University of Technology (TU/e)                                                    2\n",
       "Massachusetts Institute of Technology                                                        2\n",
       "University of South Australia                                                                2\n",
       "Northeastern University,Boston                                                               2\n",
       "University of Paris-Est                                                                      2\n",
       "Balochistan University of Information Technology, Engineering and Management Sciences        2\n",
       "Beijing Institute of Technology                                                              2\n",
       "Max Planck Institute for Computer Science                                                    2\n",
       "University of Southampton                                                                    2\n",
       "Universtiy of Karachi                                                                        2\n",
       "Allama Iqbal Open University                                                                 2\n",
       "Government College University,Faisalabad                                                     2\n",
       "University of Konstanz                                                                       2\n",
       "The Islamia University of Bahawalpur                                                         2\n",
       "IQRA University,Islamabad                                                                    2\n",
       "Paris Descartes University                                                                   2\n",
       "Tsinghua University                                                                          2\n",
       "Government College University, Faisalabad                                                    2\n",
       "Mid Sweden University                                                                        2\n",
       "IQRA University                                                                              2\n",
       "University of Illinois                                                                       2\n",
       "Manchester Metropolitan University                                                           2\n",
       "University of Trento                                                                         2\n",
       "Institute Of Managment Sciences, Peshawar                                                    2\n",
       "University of Birmingham                                                                     2\n",
       "Gwangju Institute of Science and Technology                                                  2\n",
       "The Queens University of Belfast                                                             1\n",
       "Xiamen university                                                                            1\n",
       "Swedish University of Agricultural Sciences, Uppsala                                         1\n",
       "Nottingham Trent University                                                                  1\n",
       "Australian National University, Caneberra                                                    1\n",
       "Riphah International University,Faisalabad                                                   1\n",
       "University of Regina                                                                         1\n",
       "TU Wien                                                                                      1\n",
       "Sungkyunkwan University                                                                      1\n",
       "University of Glasgow                                                                        1\n",
       "Nanyang Tech University                                                                      1\n",
       "Coventry University                                                                          1\n",
       "Griffith University,Nathan Campus                                                            1\n",
       "Swinburne University Of Technology                                                           1\n",
       "Universite d'Evry Val d'Essonne                                                              1\n",
       "New York Institute of Technology                                                             1\n",
       "Fedral Urdu University                                                                       1\n",
       "Illinois Institute of Technology                                                             1\n",
       "University of Shanghai for Science and Technology                                            1\n",
       "Florida Atlantic University                                                                  1\n",
       "The University of Queensland                                                                 1\n",
       "IBMS KP Agricultural University Peshawar                                                     1\n",
       "Middlesex University                                                                         1\n",
       "Beijing Institute of Technology Beijing                                                      1\n",
       "University of Saarland                                                                       1\n",
       "University of Westminster                                                                    1\n",
       "Brock University Canada                                                                      1\n",
       "University of York                                                                           1\n",
       "University Paris                                                                             1\n",
       "Technical University of Graz                                                                 1\n",
       "Grenoble                                                                                     1\n",
       "Swansea                                                                                      1\n",
       "University of Kuala Lumpur                                                                   1\n",
       "Cranfield University                                                                         1\n",
       "JNU                                                                                          1\n",
       "Colorado Technical University                                                                1\n",
       "Staffordshire University                                                                     1\n",
       "DePaul University, Chicago                                                                   1\n",
       "Jonkoping University                                                                         1\n",
       "Concordia University,Montreal                                                                1\n",
       "South Asian University                                                                       1\n",
       "Sindh Agriculture University                                                                 1\n",
       "Shah Abdul Latif University, Khairpur                                                        1\n",
       "The University of Birmingham                                                                 1\n",
       "Capital University of Science and Technology                                                 1\n",
       "Aston University, Birmingham                                                                 1\n",
       "University of South Brittany                                                                 1\n",
       "University of Wales                                                                          1\n",
       "Université de la Rochelle                                                                    1\n",
       "INRIA Saclay Ile-de-France                                                                   1\n",
       "University of Northampton                                                                    1\n",
       "University of Abertay Dundee                                                                 1\n",
       "Biztek Institute Of Business & Technology,Karachi                                            1\n",
       "King Abdullah University of Science and Technology                                           1\n",
       "University of Rochester                                                                      1\n",
       "Kyushu University,Fukuoka                                                                    1\n",
       " Nanyang Technological University                                                            1\n",
       "Tokyo Institute of Technology                                                                1\n",
       "University of Malaga                                                                         1\n",
       "Usman Institute of Technology (Hamdard University)                                           1\n",
       "NCSU                                                                                         1\n",
       "Usman Institute of Technology                                                                1\n",
       "Hanyang University, Ansan                                                                    1\n",
       "BUKC                                                                                         1\n",
       "Pace University, New York                                                                    1\n",
       "University of Huddersfield                                                                   1\n",
       "INSA de Lyon, Rhone                                                                          1\n",
       "University of Mississippi                                                                    1\n",
       "IQRA University,Karachi                                                                      1\n",
       "University of Manchester Institute of Science and Technology                                 1\n",
       "University of Rome Tor Vergata                                                               1\n",
       "Universiti Tun Hussein Onn Malaysia                                                          1\n",
       "University of Dundee                                                                         1\n",
       "Beijing University of Posts & Telecommunications                                             1\n",
       "George Mason University                                                                      1\n",
       "University of Oviedo                                                                         1\n",
       "Temple University                                                                            1\n",
       "University of Bayreuth                                                                       1\n",
       "JKU                                                                                          1\n",
       "Muroran Institute of Technology,Hokkaido                                                     1\n",
       "University of Bologna                                                                        1\n",
       "University of the West Scotland                                                              1\n",
       "Institute of Business Administration,Sukkur                                                  1\n",
       "Myongji University                                                                           1\n",
       "Hamburg University of Technology                                                             1\n",
       "State University of New York System                                                          1\n",
       "CECOS University of Information Technology and Emerging Sciences,Peshawar                    1\n",
       "University of Agriculture Faisalabad                                                         1\n",
       "SSindh Agriculture University                                                                1\n",
       "John Moorse University, Liverpool                                                            1\n",
       "London University                                                                            1\n",
       "Universiti Putra Malaysia Putra                                                              1\n",
       "Islamia College University                                                                   1\n",
       "Information Technology University (ITU)                                                      1\n",
       "Minhaj University Lahore                                                                     1\n",
       "Paris Tech University of Eurecom                                                             1\n",
       "Dresden University Of Technology, Dresden                                                    1\n",
       "COMSATS Institute of Information Technology,Vehari                                           1\n",
       "TU Berlin                                                                                    1\n",
       "The University of Auckland                                                                   1\n",
       "Razak School of Engineering and Advanced Technology, Universiti Teknologi Malaysia (UTM)     1\n",
       "University Institute of Information Technology                                               1\n",
       "University of Arid Agriculture                                                               1\n",
       "Pohang University of Science and Technology                                                  1\n",
       "Uppsala University                                                                           1\n",
       "University of Liverpool                                                                      1\n",
       "Chosun University                                                                            1\n",
       "University of Porto                                                                          1\n",
       "Université Henri Poincaré, Nancy 1,                                                          1\n",
       "Norwegian University of Science and Technology (NTNU),                                       1\n",
       "Universiti Technologi                                                                        1\n",
       "California State University                                                                  1\n",
       "University of Genova                                                                         1\n",
       "University of Liverpool John Moores University                                               1\n",
       "Guildford                                                                                    1\n",
       "University of Bradford                                                                       1\n",
       "Graz University of Technology                                                                1\n",
       "Huazhong University of Science and Technology (HUST), Wuhan                                  1\n",
       "National University of Modern Languages,Islamabad                                            1\n",
       "Manchester University                                                                        1\n",
       "University of Paisley                                                                        1\n",
       "Univ of Porto/Univ of Aveiro Portugal/Uni of Minho                                           1\n",
       "Universität Salzburg                                                                         1\n",
       "University Of Salford                                                                        1\n",
       "University Of Caen                                                                           1\n",
       "University of Virginia                                                                       1\n",
       "University of Stuttgart                                                                      1\n",
       "SRH Hochschule Heidelberg                                                                    1\n",
       "DUET,Karachi                                                                                 1\n",
       "University of Turbat                                                                         1\n",
       "University of Stirling                                                                       1\n",
       "The University of Cambridge                                                                  1\n",
       "The University of York                                                                       1\n",
       "Galilée - Université Paris 13                                                                1\n",
       "University of Bedfordshire                                                                   1\n",
       "The University of Manchester                                                                 1\n",
       "Gomal University                                                                             1\n",
       " University of Missouri, KC                                                                  1\n",
       "University of Bonn                                                                           1\n",
       "University of Paris                                                                          1\n",
       "The University of Leeds                                                                      1\n",
       " University of Windsor                                                                       1\n",
       " National University of Sciences and Technology-NIIT                                         1\n",
       "Stockholm University                                                                         1\n",
       "University of New South Wales, Sydney                                                        1\n",
       "Kingston University London                                                                   1\n",
       "Griffith University                                                                          1\n",
       "University of Salford                                                                        1\n",
       "University of Central Missouri                                                               1\n",
       "Riphah International University                                                              1\n",
       "University of BedfordShire                                                                   1\n",
       "University Of Oslo                                                                           1\n",
       "Nancy 2 University                                                                           1\n",
       "University Of Waterloo                                                                       1\n",
       "Colorado State University                                                                    1\n",
       "University of Orleans                                                                        1\n",
       "University of South Florida                                                                  1\n",
       "University of Patras                                                                         1\n",
       "University of Bristol                                                                        1\n",
       "University of Southern California                                                            1\n",
       "University of Plymouth                                                                       1\n",
       "Stanford University                                                                          1\n",
       "Chalmers University of Technology                                                            1\n",
       "Sapienza University of Rome                                                                  1\n",
       "United Nations University International Institute for Software Technology (UNU-IIST)         1\n",
       "Georgetown University,DC                                                                     1\n",
       "Rutgers State University of New Jersey, NJ                                                   1\n",
       "Technical University of Braunschweig                                                         1\n",
       "Carnegie Mellon University, Pittsburgh                                                       1\n",
       "The Ohio State University                                                                    1\n",
       "National University of Singapore                                                             1\n",
       "University of British Columbia                                                               1\n",
       "University of Pittsburgh                                                                     1\n",
       "The State University of New Jersey                                                           1\n",
       "The University of Texas at Austin                                                            1\n",
       "Imperial College, University of London                                                       1\n",
       "University of Colorado                                                                       1\n",
       "University of Bath                                                                           1\n",
       "Tilburg University                                                                           1\n",
       "Pompeu Fabra University Barcelona                                                            1\n",
       "University of Engineering & Technology                                                       1\n",
       "Kohat University of Science & Technology, Kohat                                              1\n",
       "University of the Punjab,Gujranwala                                                          1\n",
       "Superior University, Lahore                                                                  1\n",
       "Shaheed Zulfikar Ali Bhutto Institute of Science and Technology,Islamabad                    1\n",
       "Middle East Technical University                                                             1\n",
       "University of Canterbury                                                                     1\n",
       "Zhejiang University                                                                          1\n",
       "Oxford Brookes University                                                                    1\n",
       "Barani Institute of Information Technology                                                   1\n",
       "Preston                                                                                      1\n",
       "University of Bergen                                                                         1\n",
       "HITEC University,Taxila                                                                      1\n",
       "University of Wales,Aberystwyth                                                              1\n",
       " University of Bonn                                                                          1\n",
       " Hongik University                                                                           1\n",
       "Skolkovo Institute of Science and Technology,                                                1\n",
       "FAST– National University of Computer and Emerging Sciences,Chiniot-Faisalabad               1\n",
       " Boston University                                                                           1\n",
       " University of Bedfordshire                                                                  1\n",
       "University Of Southern California                                                            1\n",
       "Beihang University                                                                           1\n",
       "Abdus Salam School of Mathematical Sciences,GC University                                    1\n",
       "Åbo Akademi University,                                                                      1\n",
       "University of Ulm                                                                            1\n",
       "University of Agriculture                                                                    1\n",
       "University of Notre Dame Indiana                                                             1\n",
       "Ilmenau University of Technology                                                             1\n",
       " Iowa State University                                                                       1\n",
       " University of Innsbruck                                                                     1\n",
       "University of Freiburg                                                                       1\n",
       " Delft University of Technology                                                              1\n",
       " University of Texas at Arlington (UTA)                                                      1\n",
       " University of Turin                                                                         1\n",
       " University of Central Florida                                                               1\n",
       "Saarland University                                                                          1\n",
       "Seoul National University                                                                    1\n",
       "Name: Graduated from, dtype: int64"
      ]
     },
     "execution_count": 6,
     "metadata": {},
     "output_type": "execute_result"
    }
   ],
   "source": [
    "from IPython.display import display\n",
    "pd.set_option('display.max_rows',400)\n",
    "professors['Graduated from'].value_counts()"
   ]
  },
  {
   "cell_type": "code",
   "execution_count": 7,
   "id": "0ca01716",
   "metadata": {
    "execution": {
     "iopub.execute_input": "2021-12-14T07:01:31.017871Z",
     "iopub.status.busy": "2021-12-14T07:01:31.015548Z",
     "iopub.status.idle": "2021-12-14T07:01:31.020601Z",
     "shell.execute_reply": "2021-12-14T07:01:31.021075Z",
     "shell.execute_reply.started": "2021-12-14T06:51:14.603010Z"
    },
    "papermill": {
     "duration": 0.026089,
     "end_time": "2021-12-14T07:01:31.021238",
     "exception": false,
     "start_time": "2021-12-14T07:01:30.995149",
     "status": "completed"
    },
    "tags": []
   },
   "outputs": [
    {
     "data": {
      "text/plain": [
       "(1142, 13)"
      ]
     },
     "execution_count": 7,
     "metadata": {},
     "output_type": "execute_result"
    }
   ],
   "source": [
    "professors.shape"
   ]
  },
  {
   "cell_type": "code",
   "execution_count": 8,
   "id": "4799b9ea",
   "metadata": {
    "execution": {
     "iopub.execute_input": "2021-12-14T07:01:31.059686Z",
     "iopub.status.busy": "2021-12-14T07:01:31.059077Z",
     "iopub.status.idle": "2021-12-14T07:01:31.064185Z",
     "shell.execute_reply": "2021-12-14T07:01:31.064636Z",
     "shell.execute_reply.started": "2021-12-14T06:51:14.618928Z"
    },
    "papermill": {
     "duration": 0.025974,
     "end_time": "2021-12-14T07:01:31.064821",
     "exception": false,
     "start_time": "2021-12-14T07:01:31.038847",
     "status": "completed"
    },
    "tags": []
   },
   "outputs": [
    {
     "data": {
      "text/plain": [
       "350"
      ]
     },
     "execution_count": 8,
     "metadata": {},
     "output_type": "execute_result"
    }
   ],
   "source": [
    "nunique=professors['Graduated from'].nunique()\n",
    "nunique"
   ]
  },
  {
   "cell_type": "markdown",
   "id": "14a18251",
   "metadata": {
    "papermill": {
     "duration": 0.017626,
     "end_time": "2021-12-14T07:01:31.100331",
     "exception": false,
     "start_time": "2021-12-14T07:01:31.082705",
     "status": "completed"
    },
    "tags": []
   },
   "source": [
    "Do you notice any inconsistencies in the data?  Can any of the inconsistencies in the data be fixed by removing white spaces at the beginning and end of cells?\n",
    "\n",
    "Once you have answered these questions, run the code cell below to get credit for your work."
   ]
  },
  {
   "cell_type": "markdown",
   "id": "92ac8906",
   "metadata": {
    "papermill": {
     "duration": 0.017409,
     "end_time": "2021-12-14T07:01:31.136424",
     "exception": false,
     "start_time": "2021-12-14T07:01:31.119015",
     "status": "completed"
    },
    "tags": []
   },
   "source": [
    "yes"
   ]
  },
  {
   "cell_type": "code",
   "execution_count": 9,
   "id": "6b8365d1",
   "metadata": {
    "execution": {
     "iopub.execute_input": "2021-12-14T07:01:31.175382Z",
     "iopub.status.busy": "2021-12-14T07:01:31.174750Z",
     "iopub.status.idle": "2021-12-14T07:01:31.180849Z",
     "shell.execute_reply": "2021-12-14T07:01:31.181408Z",
     "shell.execute_reply.started": "2021-12-14T06:51:14.635155Z"
    },
    "papermill": {
     "duration": 0.027255,
     "end_time": "2021-12-14T07:01:31.181581",
     "exception": false,
     "start_time": "2021-12-14T07:01:31.154326",
     "status": "completed"
    },
    "tags": []
   },
   "outputs": [
    {
     "data": {
      "application/javascript": [
       "parent.postMessage({\"jupyterEvent\": \"custom.exercise_interaction\", \"data\": {\"outcomeType\": 1, \"valueTowardsCompletion\": 0.3333333333333333, \"interactionType\": 1, \"questionType\": 4, \"questionId\": \"1_ExamineProvince\", \"learnToolsVersion\": \"0.3.4\", \"failureMessage\": \"\", \"exceptionClass\": \"\", \"trace\": \"\"}}, \"*\")"
      ],
      "text/plain": [
       "<IPython.core.display.Javascript object>"
      ]
     },
     "metadata": {},
     "output_type": "display_data"
    },
    {
     "data": {
      "text/markdown": [
       "<span style=\"color:#33cc33\">Correct:</span> \n",
       "\n",
       "There are inconsistencies that can be fixed by removing white spaces at the beginning and end of cells.  For instance, \"University of Central Florida\" and \" University of Central Florida\" both appear in the column."
      ],
      "text/plain": [
       "Correct: \n",
       "\n",
       "There are inconsistencies that can be fixed by removing white spaces at the beginning and end of cells.  For instance, \"University of Central Florida\" and \" University of Central Florida\" both appear in the column."
      ]
     },
     "metadata": {},
     "output_type": "display_data"
    }
   ],
   "source": [
    "# Check your answer (Run this code cell to receive credit!)\n",
    "q1.check()"
   ]
  },
  {
   "cell_type": "code",
   "execution_count": 10,
   "id": "e7b6cc7d",
   "metadata": {
    "execution": {
     "iopub.execute_input": "2021-12-14T07:01:31.224833Z",
     "iopub.status.busy": "2021-12-14T07:01:31.223789Z",
     "iopub.status.idle": "2021-12-14T07:01:31.228652Z",
     "shell.execute_reply": "2021-12-14T07:01:31.229229Z",
     "shell.execute_reply.started": "2021-12-14T06:51:14.652585Z"
    },
    "papermill": {
     "duration": 0.029031,
     "end_time": "2021-12-14T07:01:31.229386",
     "exception": false,
     "start_time": "2021-12-14T07:01:31.200355",
     "status": "completed"
    },
    "tags": []
   },
   "outputs": [
    {
     "data": {
      "application/javascript": [
       "parent.postMessage({\"jupyterEvent\": \"custom.exercise_interaction\", \"data\": {\"interactionType\": 2, \"questionType\": 4, \"questionId\": \"1_ExamineProvince\", \"learnToolsVersion\": \"0.3.4\", \"valueTowardsCompletion\": 0.0, \"failureMessage\": \"\", \"exceptionClass\": \"\", \"trace\": \"\", \"outcomeType\": 4}}, \"*\")"
      ],
      "text/plain": [
       "<IPython.core.display.Javascript object>"
      ]
     },
     "metadata": {},
     "output_type": "display_data"
    },
    {
     "data": {
      "text/markdown": [
       "<span style=\"color:#3366cc\">Hint:</span> Use `unis = professors['Graduated from'].unique()` to take a look at the unique values in the 'Graduated from' column. You may find it useful to sort the data before printing it."
      ],
      "text/plain": [
       "Hint: Use `unis = professors['Graduated from'].unique()` to take a look at the unique values in the 'Graduated from' column. You may find it useful to sort the data before printing it."
      ]
     },
     "metadata": {},
     "output_type": "display_data"
    }
   ],
   "source": [
    "# Line below will give you a hint\n",
    "q1.hint()"
   ]
  },
  {
   "cell_type": "markdown",
   "id": "cc268fe1",
   "metadata": {
    "papermill": {
     "duration": 0.019578,
     "end_time": "2021-12-14T07:01:31.268008",
     "exception": false,
     "start_time": "2021-12-14T07:01:31.248430",
     "status": "completed"
    },
    "tags": []
   },
   "source": [
    "# 2) Do some text pre-processing\n",
    "\n",
    "Convert every entry in the \"Graduated from\" column in the `professors` DataFrame to remove white spaces at the beginning and end of cells."
   ]
  },
  {
   "cell_type": "code",
   "execution_count": 11,
   "id": "9c90d230",
   "metadata": {
    "execution": {
     "iopub.execute_input": "2021-12-14T07:01:31.310594Z",
     "iopub.status.busy": "2021-12-14T07:01:31.309650Z",
     "iopub.status.idle": "2021-12-14T07:01:31.318718Z",
     "shell.execute_reply": "2021-12-14T07:01:31.319227Z",
     "shell.execute_reply.started": "2021-12-14T06:51:14.665841Z"
    },
    "papermill": {
     "duration": 0.032208,
     "end_time": "2021-12-14T07:01:31.319389",
     "exception": false,
     "start_time": "2021-12-14T07:01:31.287181",
     "status": "completed"
    },
    "tags": []
   },
   "outputs": [
    {
     "data": {
      "application/javascript": [
       "parent.postMessage({\"jupyterEvent\": \"custom.exercise_interaction\", \"data\": {\"outcomeType\": 1, \"valueTowardsCompletion\": 0.3333333333333333, \"interactionType\": 1, \"questionType\": 1, \"questionId\": \"2_TextProcessing\", \"learnToolsVersion\": \"0.3.4\", \"failureMessage\": \"\", \"exceptionClass\": \"\", \"trace\": \"\"}}, \"*\")"
      ],
      "text/plain": [
       "<IPython.core.display.Javascript object>"
      ]
     },
     "metadata": {},
     "output_type": "display_data"
    },
    {
     "data": {
      "text/markdown": [
       "<span style=\"color:#33cc33\">Correct</span>"
      ],
      "text/plain": [
       "Correct"
      ]
     },
     "metadata": {},
     "output_type": "display_data"
    }
   ],
   "source": [
    "# TODO: Your code here\n",
    "\n",
    "professors['Graduated from'] = professors['Graduated from'].str.strip()\n",
    "\n",
    "# Check your answer\n",
    "q2.check()"
   ]
  },
  {
   "cell_type": "code",
   "execution_count": 12,
   "id": "d3ef0268",
   "metadata": {
    "execution": {
     "iopub.execute_input": "2021-12-14T07:01:31.364317Z",
     "iopub.status.busy": "2021-12-14T07:01:31.363259Z",
     "iopub.status.idle": "2021-12-14T07:01:31.366648Z",
     "shell.execute_reply": "2021-12-14T07:01:31.367289Z",
     "shell.execute_reply.started": "2021-12-14T06:51:25.149201Z"
    },
    "papermill": {
     "duration": 0.028295,
     "end_time": "2021-12-14T07:01:31.367462",
     "exception": false,
     "start_time": "2021-12-14T07:01:31.339167",
     "status": "completed"
    },
    "tags": []
   },
   "outputs": [],
   "source": [
    "# Lines below will give you a hint or solution code\n",
    "#q2.hint()\n",
    "#q2.solution()"
   ]
  },
  {
   "cell_type": "markdown",
   "id": "daa2fd16",
   "metadata": {
    "papermill": {
     "duration": 0.019884,
     "end_time": "2021-12-14T07:01:31.407600",
     "exception": false,
     "start_time": "2021-12-14T07:01:31.387716",
     "status": "completed"
    },
    "tags": []
   },
   "source": [
    "# 3) Continue working with countries\n",
    "\n",
    "In the tutorial, we focused on cleaning up inconsistencies in the \"Country\" column.  Run the code cell below to view the list of unique values that we ended with."
   ]
  },
  {
   "cell_type": "code",
   "execution_count": 13,
   "id": "906b812c",
   "metadata": {
    "execution": {
     "iopub.execute_input": "2021-12-14T07:01:31.454876Z",
     "iopub.status.busy": "2021-12-14T07:01:31.454202Z",
     "iopub.status.idle": "2021-12-14T07:01:31.456498Z",
     "shell.execute_reply": "2021-12-14T07:01:31.456957Z",
     "shell.execute_reply.started": "2021-12-14T06:51:14.698826Z"
    },
    "papermill": {
     "duration": 0.028593,
     "end_time": "2021-12-14T07:01:31.457119",
     "exception": false,
     "start_time": "2021-12-14T07:01:31.428526",
     "status": "completed"
    },
    "tags": []
   },
   "outputs": [
    {
     "data": {
      "text/plain": [
       "array(['australia', 'austria', 'canada', 'china', 'finland', 'france',\n",
       "       'germany', 'greece', 'hongkong', 'ireland', 'italy', 'japan',\n",
       "       'macau', 'malaysia', 'mauritius', 'netherland', 'new zealand',\n",
       "       'norway', 'pakistan', 'portugal', 'russian federation',\n",
       "       'saudi arabia', 'scotland', 'singapore', 'south korea', 'spain',\n",
       "       'sweden', 'thailand', 'turkey', 'uk', 'urbana', 'usa', 'usofa'],\n",
       "      dtype=object)"
      ]
     },
     "execution_count": 13,
     "metadata": {},
     "output_type": "execute_result"
    }
   ],
   "source": [
    "# get all the unique values in the 'City' column\n",
    "countries = professors['Country'].unique()\n",
    "\n",
    "# sort them alphabetically and then take a closer look\n",
    "countries.sort()\n",
    "countries"
   ]
  },
  {
   "cell_type": "markdown",
   "id": "ee4c6ad9",
   "metadata": {
    "papermill": {
     "duration": 0.020263,
     "end_time": "2021-12-14T07:01:31.497698",
     "exception": false,
     "start_time": "2021-12-14T07:01:31.477435",
     "status": "completed"
    },
    "tags": []
   },
   "source": [
    "Take another look at the \"Country\" column and see if there's any more data cleaning we need to do.\n",
    "\n",
    "It looks like 'usa' and 'usofa' should be the same country.  Correct the \"Country\" column in the dataframe so that 'usofa' appears instead as 'usa'.\n",
    "\n",
    "**Use the most recent version of the DataFrame (with the whitespaces at the beginning and end of cells removed) from question 2.**"
   ]
  },
  {
   "cell_type": "code",
   "execution_count": 14,
   "id": "37e988f1",
   "metadata": {
    "execution": {
     "iopub.execute_input": "2021-12-14T07:01:31.541308Z",
     "iopub.status.busy": "2021-12-14T07:01:31.540656Z",
     "iopub.status.idle": "2021-12-14T07:01:31.551533Z",
     "shell.execute_reply": "2021-12-14T07:01:31.551091Z",
     "shell.execute_reply.started": "2021-12-14T07:00:44.229454Z"
    },
    "papermill": {
     "duration": 0.033677,
     "end_time": "2021-12-14T07:01:31.551681",
     "exception": false,
     "start_time": "2021-12-14T07:01:31.518004",
     "status": "completed"
    },
    "tags": []
   },
   "outputs": [
    {
     "name": "stdout",
     "output_type": "stream",
     "text": [
      "[('usa', 100), ('usofa', 75), ('austria', 60), ('australia', 50), ('spain', 50), ('urbana', 44), ('uk', 40), ('malaysia', 36), ('pakistan', 36), ('portugal', 36)]\n",
      "All done!\n"
     ]
    },
    {
     "data": {
      "application/javascript": [
       "parent.postMessage({\"jupyterEvent\": \"custom.exercise_interaction\", \"data\": {\"outcomeType\": 1, \"valueTowardsCompletion\": 0.3333333333333333, \"interactionType\": 1, \"questionType\": 1, \"questionId\": \"3_WorkingWithCities\", \"learnToolsVersion\": \"0.3.4\", \"failureMessage\": \"\", \"exceptionClass\": \"\", \"trace\": \"\"}}, \"*\")"
      ],
      "text/plain": [
       "<IPython.core.display.Javascript object>"
      ]
     },
     "metadata": {},
     "output_type": "display_data"
    },
    {
     "data": {
      "text/markdown": [
       "<span style=\"color:#33cc33\">Correct</span>"
      ],
      "text/plain": [
       "Correct"
      ]
     },
     "metadata": {},
     "output_type": "display_data"
    }
   ],
   "source": [
    "# TODO: Your code here!\n",
    "match=fuzzywuzzy.process.extract('usa',countries,limit=10,scorer=fuzzywuzzy.fuzz.token_sort_ratio)\n",
    "print(match)\n",
    "replace_matches_in_column(df=professors,column='Country',string_to_match='usa',min_ratio=70)\n",
    "\n",
    "# Check your answer\n",
    "q3.check()"
   ]
  },
  {
   "cell_type": "code",
   "execution_count": 15,
   "id": "d526dfdd",
   "metadata": {
    "execution": {
     "iopub.execute_input": "2021-12-14T07:01:31.596950Z",
     "iopub.status.busy": "2021-12-14T07:01:31.596337Z",
     "iopub.status.idle": "2021-12-14T07:01:31.601790Z",
     "shell.execute_reply": "2021-12-14T07:01:31.602305Z",
     "shell.execute_reply.started": "2021-12-14T07:00:55.479755Z"
    },
    "papermill": {
     "duration": 0.029598,
     "end_time": "2021-12-14T07:01:31.602506",
     "exception": false,
     "start_time": "2021-12-14T07:01:31.572908",
     "status": "completed"
    },
    "tags": []
   },
   "outputs": [
    {
     "data": {
      "application/javascript": [
       "parent.postMessage({\"jupyterEvent\": \"custom.exercise_interaction\", \"data\": {\"interactionType\": 2, \"questionType\": 1, \"questionId\": \"3_WorkingWithCities\", \"learnToolsVersion\": \"0.3.4\", \"valueTowardsCompletion\": 0.0, \"failureMessage\": \"\", \"exceptionClass\": \"\", \"trace\": \"\", \"outcomeType\": 4}}, \"*\")"
      ],
      "text/plain": [
       "<IPython.core.display.Javascript object>"
      ]
     },
     "metadata": {},
     "output_type": "display_data"
    },
    {
     "data": {
      "text/markdown": [
       "<span style=\"color:#3366cc\">Hint:</span> Use the `replace_matches_in_column()` function defined above."
      ],
      "text/plain": [
       "Hint: Use the `replace_matches_in_column()` function defined above."
      ]
     },
     "metadata": {},
     "output_type": "display_data"
    }
   ],
   "source": [
    "# Lines below will give you a hint or solution code\n",
    "q3.hint()\n",
    "#q3.solution()"
   ]
  },
  {
   "cell_type": "markdown",
   "id": "d54a5596",
   "metadata": {
    "papermill": {
     "duration": 0.021767,
     "end_time": "2021-12-14T07:01:31.646273",
     "exception": false,
     "start_time": "2021-12-14T07:01:31.624506",
     "status": "completed"
    },
    "tags": []
   },
   "source": [
    "# Congratulations!\n",
    "\n",
    "Congratulations for completing the **Data Cleaning** course on Kaggle Learn!\n",
    "\n",
    "To practice your new skills, you're encouraged to download and investigate some of [Kaggle's Datasets](https://www.kaggle.com/datasets)."
   ]
  },
  {
   "cell_type": "markdown",
   "id": "4c220601",
   "metadata": {
    "papermill": {
     "duration": 0.022125,
     "end_time": "2021-12-14T07:01:31.690362",
     "exception": false,
     "start_time": "2021-12-14T07:01:31.668237",
     "status": "completed"
    },
    "tags": []
   },
   "source": [
    "---\n",
    "\n",
    "\n",
    "\n",
    "\n",
    "*Have questions or comments? Visit the [course discussion forum](https://www.kaggle.com/learn/data-cleaning/discussion) to chat with other learners.*"
   ]
  }
 ],
 "metadata": {
  "kernelspec": {
   "display_name": "Python 3",
   "language": "python",
   "name": "python3"
  },
  "language_info": {
   "codemirror_mode": {
    "name": "ipython",
    "version": 3
   },
   "file_extension": ".py",
   "mimetype": "text/x-python",
   "name": "python",
   "nbconvert_exporter": "python",
   "pygments_lexer": "ipython3",
   "version": "3.7.12"
  },
  "papermill": {
   "default_parameters": {},
   "duration": 12.487409,
   "end_time": "2021-12-14T07:01:32.321683",
   "environment_variables": {},
   "exception": null,
   "input_path": "__notebook__.ipynb",
   "output_path": "__notebook__.ipynb",
   "parameters": {},
   "start_time": "2021-12-14T07:01:19.834274",
   "version": "2.3.3"
  }
 },
 "nbformat": 4,
 "nbformat_minor": 5
}
