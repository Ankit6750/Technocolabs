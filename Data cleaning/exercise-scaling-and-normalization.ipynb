{
 "cells": [
  {
   "cell_type": "markdown",
   "id": "d3a5eb2f",
   "metadata": {
    "papermill": {
     "duration": 0.023874,
     "end_time": "2021-12-13T10:18:19.442752",
     "exception": false,
     "start_time": "2021-12-13T10:18:19.418878",
     "status": "completed"
    },
    "tags": []
   },
   "source": [
    "**This notebook is an exercise in the [Data Cleaning](https://www.kaggle.com/learn/data-cleaning) course.  You can reference the tutorial at [this link](https://www.kaggle.com/alexisbcook/scaling-and-normalization).**\n",
    "\n",
    "---\n"
   ]
  },
  {
   "cell_type": "markdown",
   "id": "ad7cc243",
   "metadata": {
    "papermill": {
     "duration": 0.022038,
     "end_time": "2021-12-13T10:18:19.490430",
     "exception": false,
     "start_time": "2021-12-13T10:18:19.468392",
     "status": "completed"
    },
    "tags": []
   },
   "source": [
    "In this exercise, you'll apply what you learned in the **Scaling and normalization** tutorial.\n",
    "\n",
    "# Setup\n",
    "\n",
    "The questions below will give you feedback on your work. Run the following cell to set up the feedback system."
   ]
  },
  {
   "cell_type": "code",
   "execution_count": 1,
   "id": "7d1c2b8d",
   "metadata": {
    "execution": {
     "iopub.execute_input": "2021-12-13T10:18:19.539570Z",
     "iopub.status.busy": "2021-12-13T10:18:19.538312Z",
     "iopub.status.idle": "2021-12-13T10:18:23.309718Z",
     "shell.execute_reply": "2021-12-13T10:18:23.309002Z",
     "shell.execute_reply.started": "2021-12-13T09:38:00.521710Z"
    },
    "papermill": {
     "duration": 3.797133,
     "end_time": "2021-12-13T10:18:23.309910",
     "exception": false,
     "start_time": "2021-12-13T10:18:19.512777",
     "status": "completed"
    },
    "tags": []
   },
   "outputs": [
    {
     "name": "stdout",
     "output_type": "stream",
     "text": [
      "Setup Complete\n"
     ]
    }
   ],
   "source": [
    "from learntools.core import binder\n",
    "binder.bind(globals())\n",
    "from learntools.data_cleaning.ex2 import *\n",
    "print(\"Setup Complete\")"
   ]
  },
  {
   "cell_type": "markdown",
   "id": "974b7b0e",
   "metadata": {
    "papermill": {
     "duration": 0.022258,
     "end_time": "2021-12-13T10:18:23.355945",
     "exception": false,
     "start_time": "2021-12-13T10:18:23.333687",
     "status": "completed"
    },
    "tags": []
   },
   "source": [
    "# Get our environment set up\n",
    "\n",
    "To practice scaling and normalization, we're going to use a [dataset of Kickstarter campaigns](https://www.kaggle.com/kemical/kickstarter-projects). (Kickstarter is a website where people can ask people to invest in various projects and concept products.)\n",
    "\n",
    "The next code cell loads in the libraries and dataset we'll be using. "
   ]
  },
  {
   "cell_type": "code",
   "execution_count": 2,
   "id": "fe6b44a4",
   "metadata": {
    "execution": {
     "iopub.execute_input": "2021-12-13T10:18:23.408429Z",
     "iopub.status.busy": "2021-12-13T10:18:23.407711Z",
     "iopub.status.idle": "2021-12-13T10:18:25.226825Z",
     "shell.execute_reply": "2021-12-13T10:18:25.226000Z",
     "shell.execute_reply.started": "2021-12-13T09:38:34.774045Z"
    },
    "papermill": {
     "duration": 1.848361,
     "end_time": "2021-12-13T10:18:25.227003",
     "exception": false,
     "start_time": "2021-12-13T10:18:23.378642",
     "status": "completed"
    },
    "tags": []
   },
   "outputs": [],
   "source": [
    "# modules we'll use\n",
    "import pandas as pd\n",
    "import numpy as np\n",
    "\n",
    "# for Box-Cox Transformation\n",
    "from scipy import stats\n",
    "\n",
    "# for min_max scaling\n",
    "from mlxtend.preprocessing import minmax_scaling\n",
    "\n",
    "# plotting modules\n",
    "import seaborn as sns\n",
    "import matplotlib.pyplot as plt\n",
    "\n",
    "# read in all our data\n",
    "kickstarters_2017 = pd.read_csv(\"../input/kickstarter-projects/ks-projects-201801.csv\")\n",
    "\n",
    "# set seed for reproducibility\n",
    "np.random.seed(0)"
   ]
  },
  {
   "cell_type": "code",
   "execution_count": 3,
   "id": "9310b1e7",
   "metadata": {
    "execution": {
     "iopub.execute_input": "2021-12-13T10:18:25.281199Z",
     "iopub.status.busy": "2021-12-13T10:18:25.280440Z",
     "iopub.status.idle": "2021-12-13T10:18:25.303451Z",
     "shell.execute_reply": "2021-12-13T10:18:25.303976Z",
     "shell.execute_reply.started": "2021-12-13T09:44:08.925661Z"
    },
    "papermill": {
     "duration": 0.054168,
     "end_time": "2021-12-13T10:18:25.304179",
     "exception": false,
     "start_time": "2021-12-13T10:18:25.250011",
     "status": "completed"
    },
    "tags": []
   },
   "outputs": [
    {
     "data": {
      "text/html": [
       "<div>\n",
       "<style scoped>\n",
       "    .dataframe tbody tr th:only-of-type {\n",
       "        vertical-align: middle;\n",
       "    }\n",
       "\n",
       "    .dataframe tbody tr th {\n",
       "        vertical-align: top;\n",
       "    }\n",
       "\n",
       "    .dataframe thead th {\n",
       "        text-align: right;\n",
       "    }\n",
       "</style>\n",
       "<table border=\"1\" class=\"dataframe\">\n",
       "  <thead>\n",
       "    <tr style=\"text-align: right;\">\n",
       "      <th></th>\n",
       "      <th>ID</th>\n",
       "      <th>name</th>\n",
       "      <th>category</th>\n",
       "      <th>main_category</th>\n",
       "      <th>currency</th>\n",
       "      <th>deadline</th>\n",
       "      <th>goal</th>\n",
       "      <th>launched</th>\n",
       "      <th>pledged</th>\n",
       "      <th>state</th>\n",
       "      <th>backers</th>\n",
       "      <th>country</th>\n",
       "      <th>usd pledged</th>\n",
       "      <th>usd_pledged_real</th>\n",
       "      <th>usd_goal_real</th>\n",
       "    </tr>\n",
       "  </thead>\n",
       "  <tbody>\n",
       "    <tr>\n",
       "      <th>0</th>\n",
       "      <td>1000002330</td>\n",
       "      <td>The Songs of Adelaide &amp; Abullah</td>\n",
       "      <td>Poetry</td>\n",
       "      <td>Publishing</td>\n",
       "      <td>GBP</td>\n",
       "      <td>2015-10-09</td>\n",
       "      <td>1000.0</td>\n",
       "      <td>2015-08-11 12:12:28</td>\n",
       "      <td>0.0</td>\n",
       "      <td>failed</td>\n",
       "      <td>0</td>\n",
       "      <td>GB</td>\n",
       "      <td>0.0</td>\n",
       "      <td>0.0</td>\n",
       "      <td>1533.95</td>\n",
       "    </tr>\n",
       "    <tr>\n",
       "      <th>1</th>\n",
       "      <td>1000003930</td>\n",
       "      <td>Greeting From Earth: ZGAC Arts Capsule For ET</td>\n",
       "      <td>Narrative Film</td>\n",
       "      <td>Film &amp; Video</td>\n",
       "      <td>USD</td>\n",
       "      <td>2017-11-01</td>\n",
       "      <td>30000.0</td>\n",
       "      <td>2017-09-02 04:43:57</td>\n",
       "      <td>2421.0</td>\n",
       "      <td>failed</td>\n",
       "      <td>15</td>\n",
       "      <td>US</td>\n",
       "      <td>100.0</td>\n",
       "      <td>2421.0</td>\n",
       "      <td>30000.00</td>\n",
       "    </tr>\n",
       "    <tr>\n",
       "      <th>2</th>\n",
       "      <td>1000004038</td>\n",
       "      <td>Where is Hank?</td>\n",
       "      <td>Narrative Film</td>\n",
       "      <td>Film &amp; Video</td>\n",
       "      <td>USD</td>\n",
       "      <td>2013-02-26</td>\n",
       "      <td>45000.0</td>\n",
       "      <td>2013-01-12 00:20:50</td>\n",
       "      <td>220.0</td>\n",
       "      <td>failed</td>\n",
       "      <td>3</td>\n",
       "      <td>US</td>\n",
       "      <td>220.0</td>\n",
       "      <td>220.0</td>\n",
       "      <td>45000.00</td>\n",
       "    </tr>\n",
       "    <tr>\n",
       "      <th>3</th>\n",
       "      <td>1000007540</td>\n",
       "      <td>ToshiCapital Rekordz Needs Help to Complete Album</td>\n",
       "      <td>Music</td>\n",
       "      <td>Music</td>\n",
       "      <td>USD</td>\n",
       "      <td>2012-04-16</td>\n",
       "      <td>5000.0</td>\n",
       "      <td>2012-03-17 03:24:11</td>\n",
       "      <td>1.0</td>\n",
       "      <td>failed</td>\n",
       "      <td>1</td>\n",
       "      <td>US</td>\n",
       "      <td>1.0</td>\n",
       "      <td>1.0</td>\n",
       "      <td>5000.00</td>\n",
       "    </tr>\n",
       "    <tr>\n",
       "      <th>4</th>\n",
       "      <td>1000011046</td>\n",
       "      <td>Community Film Project: The Art of Neighborhoo...</td>\n",
       "      <td>Film &amp; Video</td>\n",
       "      <td>Film &amp; Video</td>\n",
       "      <td>USD</td>\n",
       "      <td>2015-08-29</td>\n",
       "      <td>19500.0</td>\n",
       "      <td>2015-07-04 08:35:03</td>\n",
       "      <td>1283.0</td>\n",
       "      <td>canceled</td>\n",
       "      <td>14</td>\n",
       "      <td>US</td>\n",
       "      <td>1283.0</td>\n",
       "      <td>1283.0</td>\n",
       "      <td>19500.00</td>\n",
       "    </tr>\n",
       "  </tbody>\n",
       "</table>\n",
       "</div>"
      ],
      "text/plain": [
       "           ID                                               name  \\\n",
       "0  1000002330                    The Songs of Adelaide & Abullah   \n",
       "1  1000003930      Greeting From Earth: ZGAC Arts Capsule For ET   \n",
       "2  1000004038                                     Where is Hank?   \n",
       "3  1000007540  ToshiCapital Rekordz Needs Help to Complete Album   \n",
       "4  1000011046  Community Film Project: The Art of Neighborhoo...   \n",
       "\n",
       "         category main_category currency    deadline     goal  \\\n",
       "0          Poetry    Publishing      GBP  2015-10-09   1000.0   \n",
       "1  Narrative Film  Film & Video      USD  2017-11-01  30000.0   \n",
       "2  Narrative Film  Film & Video      USD  2013-02-26  45000.0   \n",
       "3           Music         Music      USD  2012-04-16   5000.0   \n",
       "4    Film & Video  Film & Video      USD  2015-08-29  19500.0   \n",
       "\n",
       "              launched  pledged     state  backers country  usd pledged  \\\n",
       "0  2015-08-11 12:12:28      0.0    failed        0      GB          0.0   \n",
       "1  2017-09-02 04:43:57   2421.0    failed       15      US        100.0   \n",
       "2  2013-01-12 00:20:50    220.0    failed        3      US        220.0   \n",
       "3  2012-03-17 03:24:11      1.0    failed        1      US          1.0   \n",
       "4  2015-07-04 08:35:03   1283.0  canceled       14      US       1283.0   \n",
       "\n",
       "   usd_pledged_real  usd_goal_real  \n",
       "0               0.0        1533.95  \n",
       "1            2421.0       30000.00  \n",
       "2             220.0       45000.00  \n",
       "3               1.0        5000.00  \n",
       "4            1283.0       19500.00  "
      ]
     },
     "execution_count": 3,
     "metadata": {},
     "output_type": "execute_result"
    }
   ],
   "source": [
    "kickstarters_2017.head()"
   ]
  },
  {
   "cell_type": "code",
   "execution_count": 4,
   "id": "fff7ac6c",
   "metadata": {
    "execution": {
     "iopub.execute_input": "2021-12-13T10:18:25.357299Z",
     "iopub.status.busy": "2021-12-13T10:18:25.354783Z",
     "iopub.status.idle": "2021-12-13T10:18:25.361974Z",
     "shell.execute_reply": "2021-12-13T10:18:25.361282Z",
     "shell.execute_reply.started": "2021-12-13T09:52:25.360623Z"
    },
    "papermill": {
     "duration": 0.033791,
     "end_time": "2021-12-13T10:18:25.362143",
     "exception": false,
     "start_time": "2021-12-13T10:18:25.328352",
     "status": "completed"
    },
    "tags": []
   },
   "outputs": [
    {
     "data": {
      "text/plain": [
       "(378661, 15)"
      ]
     },
     "execution_count": 4,
     "metadata": {},
     "output_type": "execute_result"
    }
   ],
   "source": [
    "kickstarters_2017.shape"
   ]
  },
  {
   "cell_type": "code",
   "execution_count": 5,
   "id": "e3307a74",
   "metadata": {
    "execution": {
     "iopub.execute_input": "2021-12-13T10:18:25.415908Z",
     "iopub.status.busy": "2021-12-13T10:18:25.415151Z",
     "iopub.status.idle": "2021-12-13T10:18:25.901736Z",
     "shell.execute_reply": "2021-12-13T10:18:25.901123Z",
     "shell.execute_reply.started": "2021-12-13T09:58:19.149237Z"
    },
    "papermill": {
     "duration": 0.515484,
     "end_time": "2021-12-13T10:18:25.901898",
     "exception": false,
     "start_time": "2021-12-13T10:18:25.386414",
     "status": "completed"
    },
    "tags": []
   },
   "outputs": [
    {
     "data": {
      "text/plain": [
       "ID                  False\n",
       "name                False\n",
       "category            False\n",
       "main_category       False\n",
       "currency            False\n",
       "deadline            False\n",
       "goal                False\n",
       "launched            False\n",
       "pledged             False\n",
       "state               False\n",
       "backers             False\n",
       "country             False\n",
       "usd pledged         False\n",
       "usd_pledged_real    False\n",
       "usd_goal_real       False\n",
       "dtype: bool"
      ]
     },
     "execution_count": 5,
     "metadata": {},
     "output_type": "execute_result"
    }
   ],
   "source": [
    "(kickstarters_2017).any()<0"
   ]
  },
  {
   "cell_type": "markdown",
   "id": "b5133756",
   "metadata": {
    "papermill": {
     "duration": 0.025186,
     "end_time": "2021-12-13T10:18:25.952726",
     "exception": false,
     "start_time": "2021-12-13T10:18:25.927540",
     "status": "completed"
    },
    "tags": []
   },
   "source": [
    "Let's start by scaling the goals of each campaign, which is how much money they were asking for.  The plots show a histogram of the values in the \"usd_goal_real\" column, both before and after scaling.  "
   ]
  },
  {
   "cell_type": "code",
   "execution_count": 6,
   "id": "91e56151",
   "metadata": {
    "execution": {
     "iopub.execute_input": "2021-12-13T10:18:26.016071Z",
     "iopub.status.busy": "2021-12-13T10:18:26.012166Z",
     "iopub.status.idle": "2021-12-13T10:18:29.332311Z",
     "shell.execute_reply": "2021-12-13T10:18:29.331611Z",
     "shell.execute_reply.started": "2021-12-13T09:39:37.820662Z"
    },
    "papermill": {
     "duration": 3.354359,
     "end_time": "2021-12-13T10:18:29.332486",
     "exception": false,
     "start_time": "2021-12-13T10:18:25.978127",
     "status": "completed"
    },
    "tags": []
   },
   "outputs": [
    {
     "name": "stderr",
     "output_type": "stream",
     "text": [
      "/opt/conda/lib/python3.7/site-packages/seaborn/distributions.py:2619: FutureWarning: `distplot` is a deprecated function and will be removed in a future version. Please adapt your code to use either `displot` (a figure-level function with similar flexibility) or `histplot` (an axes-level function for histograms).\n",
      "  warnings.warn(msg, FutureWarning)\n",
      "/opt/conda/lib/python3.7/site-packages/seaborn/distributions.py:2619: FutureWarning: `distplot` is a deprecated function and will be removed in a future version. Please adapt your code to use either `displot` (a figure-level function with similar flexibility) or `histplot` (an axes-level function for histograms).\n",
      "  warnings.warn(msg, FutureWarning)\n"
     ]
    },
    {
     "data": {
      "text/plain": [
       "Text(0.5, 1.0, 'Scaled data')"
      ]
     },
     "execution_count": 6,
     "metadata": {},
     "output_type": "execute_result"
    },
    {
     "data": {
      "image/png": "[encoded data removed]",
      "text/plain": [
       "<Figure size 1080x216 with 2 Axes>"
      ]
     },
     "metadata": {
      "needs_background": "light"
     },
     "output_type": "display_data"
    }
   ],
   "source": [
    "# select the usd_goal_real column\n",
    "original_data = pd.DataFrame(kickstarters_2017.usd_goal_real)\n",
    "\n",
    "# scale the goals from 0 to 1\n",
    "scaled_data = minmax_scaling(original_data, columns=['usd_goal_real'])\n",
    "\n",
    "# plot the original & scaled data together to compare\n",
    "fig, ax=plt.subplots(1,2,figsize=(15,3))\n",
    "sns.distplot(kickstarters_2017.usd_goal_real, ax=ax[0])\n",
    "ax[0].set_title(\"Original Data\")\n",
    "sns.distplot(scaled_data, ax=ax[1])\n",
    "ax[1].set_title(\"Scaled data\")"
   ]
  },
  {
   "cell_type": "markdown",
   "id": "accf1ecb",
   "metadata": {
    "papermill": {
     "duration": 0.025311,
     "end_time": "2021-12-13T10:18:29.384822",
     "exception": false,
     "start_time": "2021-12-13T10:18:29.359511",
     "status": "completed"
    },
    "tags": []
   },
   "source": [
    "After scaling, all values lie between 0 and 1 (you can read this in the horizontal axis of the second plot above, and we verify in the code cell below)."
   ]
  },
  {
   "cell_type": "code",
   "execution_count": 7,
   "id": "8c257d10",
   "metadata": {
    "execution": {
     "iopub.execute_input": "2021-12-13T10:18:29.446189Z",
     "iopub.status.busy": "2021-12-13T10:18:29.445431Z",
     "iopub.status.idle": "2021-12-13T10:18:29.458870Z",
     "shell.execute_reply": "2021-12-13T10:18:29.458125Z",
     "shell.execute_reply.started": "2021-12-13T09:40:27.429450Z"
    },
    "papermill": {
     "duration": 0.048668,
     "end_time": "2021-12-13T10:18:29.459017",
     "exception": false,
     "start_time": "2021-12-13T10:18:29.410349",
     "status": "completed"
    },
    "tags": []
   },
   "outputs": [
    {
     "name": "stdout",
     "output_type": "stream",
     "text": [
      "Original data\n",
      "Preview:\n",
      "    usd_goal_real\n",
      "0        1533.95\n",
      "1       30000.00\n",
      "2       45000.00\n",
      "3        5000.00\n",
      "4       19500.00\n",
      "Minimum value: 0.01 \n",
      "Maximum value: 166361390.71\n",
      "______________________________\n",
      "\n",
      "Scaled data\n",
      "Preview:\n",
      "    usd_goal_real\n",
      "0       0.000009\n",
      "1       0.000180\n",
      "2       0.000270\n",
      "3       0.000030\n",
      "4       0.000117\n",
      "Minimum value: 0.0 \n",
      "Maximum value: 1.0\n"
     ]
    }
   ],
   "source": [
    "print('Original data\\nPreview:\\n', original_data.head())\n",
    "print('Minimum value:', float(original_data.min()),\n",
    "      '\\nMaximum value:', float(original_data.max()))\n",
    "print('_'*30)\n",
    "\n",
    "print('\\nScaled data\\nPreview:\\n', scaled_data.head())\n",
    "print('Minimum value:', float(scaled_data.min()),\n",
    "      '\\nMaximum value:', float(scaled_data.max()))"
   ]
  },
  {
   "cell_type": "markdown",
   "id": "79effcec",
   "metadata": {
    "papermill": {
     "duration": 0.025611,
     "end_time": "2021-12-13T10:18:29.512773",
     "exception": false,
     "start_time": "2021-12-13T10:18:29.487162",
     "status": "completed"
    },
    "tags": []
   },
   "source": [
    "# 1) Practice scaling\n",
    "\n",
    "We just scaled the \"usd_goal_real\" column. What about the \"goal\" column?\n",
    "\n",
    "Begin by running the code cell below to create a DataFrame `original_goal_data` containing the \"goal\" column."
   ]
  },
  {
   "cell_type": "code",
   "execution_count": 8,
   "id": "355b21ce",
   "metadata": {
    "execution": {
     "iopub.execute_input": "2021-12-13T10:18:29.572737Z",
     "iopub.status.busy": "2021-12-13T10:18:29.572062Z",
     "iopub.status.idle": "2021-12-13T10:18:31.177217Z",
     "shell.execute_reply": "2021-12-13T10:18:31.176539Z",
     "shell.execute_reply.started": "2021-12-13T09:50:09.790442Z"
    },
    "papermill": {
     "duration": 1.638767,
     "end_time": "2021-12-13T10:18:31.177397",
     "exception": false,
     "start_time": "2021-12-13T10:18:29.538630",
     "status": "completed"
    },
    "tags": []
   },
   "outputs": [
    {
     "name": "stderr",
     "output_type": "stream",
     "text": [
      "/opt/conda/lib/python3.7/site-packages/seaborn/distributions.py:2619: FutureWarning: `distplot` is a deprecated function and will be removed in a future version. Please adapt your code to use either `displot` (a figure-level function with similar flexibility) or `histplot` (an axes-level function for histograms).\n",
      "  warnings.warn(msg, FutureWarning)\n"
     ]
    },
    {
     "data": {
      "text/plain": [
       "Text(0.5, 1.0, 'Original data')"
      ]
     },
     "execution_count": 8,
     "metadata": {},
     "output_type": "execute_result"
    },
    {
     "data": {
      "image/png": "[encoded data removed]",
      "text/plain": [
       "<Figure size 432x288 with 1 Axes>"
      ]
     },
     "metadata": {
      "needs_background": "light"
     },
     "output_type": "display_data"
    }
   ],
   "source": [
    "# select the usd_goal_real column\n",
    "original_goal_data = pd.DataFrame(kickstarters_2017.goal)\n",
    "\n",
    "#plot distribution plot of original data\n",
    "\n",
    "sns.distplot(kickstarters_2017.goal)\n",
    "plt.title('Original data')"
   ]
  },
  {
   "cell_type": "markdown",
   "id": "62908047",
   "metadata": {
    "papermill": {
     "duration": 0.027264,
     "end_time": "2021-12-13T10:18:31.235195",
     "exception": false,
     "start_time": "2021-12-13T10:18:31.207931",
     "status": "completed"
    },
    "tags": []
   },
   "source": [
    "Use `original_goal_data` to create a new DataFrame `scaled_goal_data` with values scaled between 0 and 1. You must use the `minmax_scaling()` function."
   ]
  },
  {
   "cell_type": "code",
   "execution_count": 9,
   "id": "97051947",
   "metadata": {
    "execution": {
     "iopub.execute_input": "2021-12-13T10:18:31.295799Z",
     "iopub.status.busy": "2021-12-13T10:18:31.294964Z",
     "iopub.status.idle": "2021-12-13T10:18:32.878280Z",
     "shell.execute_reply": "2021-12-13T10:18:32.877741Z",
     "shell.execute_reply.started": "2021-12-13T09:51:28.890771Z"
    },
    "papermill": {
     "duration": 1.615459,
     "end_time": "2021-12-13T10:18:32.878489",
     "exception": false,
     "start_time": "2021-12-13T10:18:31.263030",
     "status": "completed"
    },
    "tags": []
   },
   "outputs": [
    {
     "name": "stderr",
     "output_type": "stream",
     "text": [
      "/opt/conda/lib/python3.7/site-packages/seaborn/distributions.py:2619: FutureWarning: `distplot` is a deprecated function and will be removed in a future version. Please adapt your code to use either `displot` (a figure-level function with similar flexibility) or `histplot` (an axes-level function for histograms).\n",
      "  warnings.warn(msg, FutureWarning)\n"
     ]
    },
    {
     "data": {
      "application/javascript": [
       "parent.postMessage({\"jupyterEvent\": \"custom.exercise_interaction\", \"data\": {\"outcomeType\": 1, \"valueTowardsCompletion\": 0.3333333333333333, \"interactionType\": 1, \"questionType\": 1, \"questionId\": \"1_TryScaling\", \"learnToolsVersion\": \"0.3.4\", \"failureMessage\": \"\", \"exceptionClass\": \"\", \"trace\": \"\"}}, \"*\")"
      ],
      "text/plain": [
       "<IPython.core.display.Javascript object>"
      ]
     },
     "metadata": {},
     "output_type": "display_data"
    },
    {
     "data": {
      "text/markdown": [
       "<span style=\"color:#33cc33\">Correct</span>"
      ],
      "text/plain": [
       "Correct"
      ]
     },
     "metadata": {},
     "output_type": "display_data"
    },
    {
     "data": {
      "image/png": "[encoded data removed]",
      "text/plain": [
       "<Figure size 432x288 with 1 Axes>"
      ]
     },
     "metadata": {
      "needs_background": "light"
     },
     "output_type": "display_data"
    }
   ],
   "source": [
    "# TODO: Your code here\n",
    "scaled_goal_data = minmax_scaling(original_goal_data,columns=['goal'])\n",
    "\n",
    "# distribution plot of scaled data\n",
    "sns.distplot(scaled_goal_data)\n",
    "plt.title('Sclaed data')\n",
    "\n",
    "\n",
    "# Check your answer\n",
    "q1.check()"
   ]
  },
  {
   "cell_type": "code",
   "execution_count": 10,
   "id": "c924b91c",
   "metadata": {
    "execution": {
     "iopub.execute_input": "2021-12-13T10:18:32.948130Z",
     "iopub.status.busy": "2021-12-13T10:18:32.947061Z",
     "iopub.status.idle": "2021-12-13T10:18:32.957807Z",
     "shell.execute_reply": "2021-12-13T10:18:32.958344Z",
     "shell.execute_reply.started": "2021-12-13T10:01:26.329272Z"
    },
    "papermill": {
     "duration": 0.049845,
     "end_time": "2021-12-13T10:18:32.958566",
     "exception": false,
     "start_time": "2021-12-13T10:18:32.908721",
     "status": "completed"
    },
    "tags": []
   },
   "outputs": [
    {
     "name": "stdout",
     "output_type": "stream",
     "text": [
      "Original data\n",
      "Preview:\n",
      "       goal\n",
      "0   1000.0\n",
      "1  30000.0\n",
      "2  45000.0\n",
      "3   5000.0\n",
      "4  19500.0\n",
      "Minimum value: 0.01 \n",
      "Maximum value: 100000000.0\n",
      "______________________________\n",
      "\n",
      "Scaled data\n",
      "Preview:\n",
      "        goal\n",
      "0  0.000010\n",
      "1  0.000300\n",
      "2  0.000450\n",
      "3  0.000050\n",
      "4  0.000195\n",
      "Minimum value: 0.0 \n",
      "Maximum value: 1.0\n"
     ]
    }
   ],
   "source": [
    "print('Original data\\nPreview:\\n', original_goal_data.head())\n",
    "print('Minimum value:', float(original_goal_data.min()),\n",
    "      '\\nMaximum value:', float(original_goal_data.max()))\n",
    "print('_'*30)\n",
    "\n",
    "print('\\nScaled data\\nPreview:\\n', scaled_goal_data.head())\n",
    "print('Minimum value:', float(scaled_goal_data.min()),\n",
    "      '\\nMaximum value:', float(scaled_goal_data.max()))"
   ]
  },
  {
   "cell_type": "code",
   "execution_count": 11,
   "id": "65a477ec",
   "metadata": {
    "execution": {
     "iopub.execute_input": "2021-12-13T10:18:33.022292Z",
     "iopub.status.busy": "2021-12-13T10:18:33.021662Z",
     "iopub.status.idle": "2021-12-13T10:18:33.024160Z",
     "shell.execute_reply": "2021-12-13T10:18:33.024656Z"
    },
    "papermill": {
     "duration": 0.036642,
     "end_time": "2021-12-13T10:18:33.024817",
     "exception": false,
     "start_time": "2021-12-13T10:18:32.988175",
     "status": "completed"
    },
    "tags": []
   },
   "outputs": [],
   "source": [
    "# Lines below will give you a hint or solution code\n",
    "#q1.hint()\n",
    "#q1.solution()"
   ]
  },
  {
   "cell_type": "markdown",
   "id": "3859f8d9",
   "metadata": {
    "papermill": {
     "duration": 0.029196,
     "end_time": "2021-12-13T10:18:33.084565",
     "exception": false,
     "start_time": "2021-12-13T10:18:33.055369",
     "status": "completed"
    },
    "tags": []
   },
   "source": [
    "# 2) Practice normalization\n",
    "\n",
    "Now you'll practice normalization. We begin by normalizing the amount of money pledged to each campaign."
   ]
  },
  {
   "cell_type": "code",
   "execution_count": 12,
   "id": "d1cd48e4",
   "metadata": {
    "execution": {
     "iopub.execute_input": "2021-12-13T10:18:33.152046Z",
     "iopub.status.busy": "2021-12-13T10:18:33.151394Z",
     "iopub.status.idle": "2021-12-13T10:18:36.353113Z",
     "shell.execute_reply": "2021-12-13T10:18:36.352261Z",
     "shell.execute_reply.started": "2021-12-13T09:59:37.319549Z"
    },
    "papermill": {
     "duration": 3.239279,
     "end_time": "2021-12-13T10:18:36.353269",
     "exception": false,
     "start_time": "2021-12-13T10:18:33.113990",
     "status": "completed"
    },
    "tags": []
   },
   "outputs": [
    {
     "name": "stderr",
     "output_type": "stream",
     "text": [
      "/opt/conda/lib/python3.7/site-packages/seaborn/distributions.py:2619: FutureWarning: `distplot` is a deprecated function and will be removed in a future version. Please adapt your code to use either `displot` (a figure-level function with similar flexibility) or `histplot` (an axes-level function for histograms).\n",
      "  warnings.warn(msg, FutureWarning)\n",
      "/opt/conda/lib/python3.7/site-packages/seaborn/distributions.py:2619: FutureWarning: `distplot` is a deprecated function and will be removed in a future version. Please adapt your code to use either `displot` (a figure-level function with similar flexibility) or `histplot` (an axes-level function for histograms).\n",
      "  warnings.warn(msg, FutureWarning)\n"
     ]
    },
    {
     "data": {
      "text/plain": [
       "Text(0.5, 1.0, 'Normalized data')"
      ]
     },
     "execution_count": 12,
     "metadata": {},
     "output_type": "execute_result"
    },
    {
     "data": {
      "image/png": "[encoded data removed]",
      "text/plain": [
       "<Figure size 1080x216 with 2 Axes>"
      ]
     },
     "metadata": {
      "needs_background": "light"
     },
     "output_type": "display_data"
    }
   ],
   "source": [
    "# get the index of all positive pledges (Box-Cox only takes positive values)\n",
    "index_of_positive_pledges = kickstarters_2017.usd_pledged_real > 0\n",
    "\n",
    "# get only positive pledges (using their indexes)\n",
    "positive_pledges = kickstarters_2017.usd_pledged_real.loc[index_of_positive_pledges]\n",
    "\n",
    "# normalize the pledges (w/ Box-Cox)\n",
    "normalized_pledges = pd.Series(stats.boxcox(positive_pledges)[0], \n",
    "                               name='usd_pledged_real', index=positive_pledges.index)\n",
    "\n",
    "# plot both together to compare\n",
    "fig, ax=plt.subplots(1,2,figsize=(15,3))\n",
    "sns.distplot(positive_pledges, ax=ax[0])\n",
    "ax[0].set_title(\"Original Data\")\n",
    "sns.distplot(normalized_pledges, ax=ax[1])\n",
    "ax[1].set_title(\"Normalized data\")"
   ]
  },
  {
   "cell_type": "markdown",
   "id": "a5779652",
   "metadata": {
    "papermill": {
     "duration": 0.031224,
     "end_time": "2021-12-13T10:18:36.417070",
     "exception": false,
     "start_time": "2021-12-13T10:18:36.385846",
     "status": "completed"
    },
    "tags": []
   },
   "source": [
    "It's not perfect (it looks like a lot pledges got very few pledges) but it is much closer to a normal distribution!"
   ]
  },
  {
   "cell_type": "code",
   "execution_count": 13,
   "id": "1b191f7d",
   "metadata": {
    "execution": {
     "iopub.execute_input": "2021-12-13T10:18:36.488067Z",
     "iopub.status.busy": "2021-12-13T10:18:36.487078Z",
     "iopub.status.idle": "2021-12-13T10:18:36.495362Z",
     "shell.execute_reply": "2021-12-13T10:18:36.494710Z",
     "shell.execute_reply.started": "2021-12-13T09:59:47.909554Z"
    },
    "papermill": {
     "duration": 0.047088,
     "end_time": "2021-12-13T10:18:36.495505",
     "exception": false,
     "start_time": "2021-12-13T10:18:36.448417",
     "status": "completed"
    },
    "tags": []
   },
   "outputs": [
    {
     "name": "stdout",
     "output_type": "stream",
     "text": [
      "Original data\n",
      "Preview:\n",
      " 1     2421.0\n",
      "2      220.0\n",
      "3        1.0\n",
      "4     1283.0\n",
      "5    52375.0\n",
      "Name: usd_pledged_real, dtype: float64\n",
      "Minimum value: 0.45 \n",
      "Maximum value: 20338986.27\n",
      "______________________________\n",
      "\n",
      "Normalized data\n",
      "Preview:\n",
      " 1    10.165142\n",
      "2     6.468598\n",
      "3     0.000000\n",
      "4     9.129277\n",
      "5    15.836853\n",
      "Name: usd_pledged_real, dtype: float64\n",
      "Minimum value: -0.7779954122762203 \n",
      "Maximum value: 30.69054020451361\n"
     ]
    }
   ],
   "source": [
    "print('Original data\\nPreview:\\n', positive_pledges.head())\n",
    "print('Minimum value:', float(positive_pledges.min()),\n",
    "      '\\nMaximum value:', float(positive_pledges.max()))\n",
    "print('_'*30)\n",
    "\n",
    "print('\\nNormalized data\\nPreview:\\n', normalized_pledges.head())\n",
    "print('Minimum value:', float(normalized_pledges.min()),\n",
    "      '\\nMaximum value:', float(normalized_pledges.max()))"
   ]
  },
  {
   "cell_type": "markdown",
   "id": "a99401cb",
   "metadata": {
    "papermill": {
     "duration": 0.031394,
     "end_time": "2021-12-13T10:18:36.558531",
     "exception": false,
     "start_time": "2021-12-13T10:18:36.527137",
     "status": "completed"
    },
    "tags": []
   },
   "source": [
    "We used the \"usd_pledged_real\" column. Follow the same process to normalize the \"pledged\" column. "
   ]
  },
  {
   "cell_type": "code",
   "execution_count": 14,
   "id": "7bfecdfa",
   "metadata": {
    "execution": {
     "iopub.execute_input": "2021-12-13T10:18:36.629724Z",
     "iopub.status.busy": "2021-12-13T10:18:36.628815Z",
     "iopub.status.idle": "2021-12-13T10:18:36.633292Z",
     "shell.execute_reply": "2021-12-13T10:18:36.632792Z",
     "shell.execute_reply.started": "2021-12-13T10:06:44.389001Z"
    },
    "papermill": {
     "duration": 0.041955,
     "end_time": "2021-12-13T10:18:36.633463",
     "exception": false,
     "start_time": "2021-12-13T10:18:36.591508",
     "status": "completed"
    },
    "tags": []
   },
   "outputs": [
    {
     "data": {
      "text/plain": [
       "Index(['ID', 'name', 'category', 'main_category', 'currency', 'deadline',\n",
       "       'goal', 'launched', 'pledged', 'state', 'backers', 'country',\n",
       "       'usd pledged', 'usd_pledged_real', 'usd_goal_real'],\n",
       "      dtype='object')"
      ]
     },
     "execution_count": 14,
     "metadata": {},
     "output_type": "execute_result"
    }
   ],
   "source": [
    "kickstarters_2017.columns"
   ]
  },
  {
   "cell_type": "code",
   "execution_count": 15,
   "id": "c93a4538",
   "metadata": {
    "execution": {
     "iopub.execute_input": "2021-12-13T10:18:36.839902Z",
     "iopub.status.busy": "2021-12-13T10:18:36.701658Z",
     "iopub.status.idle": "2021-12-13T10:18:38.435352Z",
     "shell.execute_reply": "2021-12-13T10:18:38.435969Z",
     "shell.execute_reply.started": "2021-12-13T10:11:23.860187Z"
    },
    "papermill": {
     "duration": 1.770253,
     "end_time": "2021-12-13T10:18:38.436156",
     "exception": false,
     "start_time": "2021-12-13T10:18:36.665903",
     "status": "completed"
    },
    "tags": []
   },
   "outputs": [
    {
     "name": "stderr",
     "output_type": "stream",
     "text": [
      "/opt/conda/lib/python3.7/site-packages/seaborn/distributions.py:2619: FutureWarning: `distplot` is a deprecated function and will be removed in a future version. Please adapt your code to use either `displot` (a figure-level function with similar flexibility) or `histplot` (an axes-level function for histograms).\n",
      "  warnings.warn(msg, FutureWarning)\n"
     ]
    },
    {
     "data": {
      "text/plain": [
       "Text(0.5, 1.0, 'Before normalized')"
      ]
     },
     "execution_count": 15,
     "metadata": {},
     "output_type": "execute_result"
    },
    {
     "data": {
      "image/png": "[encoded data removed]",
      "text/plain": [
       "<Figure size 432x288 with 1 Axes>"
      ]
     },
     "metadata": {
      "needs_background": "light"
     },
     "output_type": "display_data"
    }
   ],
   "source": [
    "# distribution of pleged before normalized\n",
    "sns.distplot(kickstarters_2017.pledged)\n",
    "plt.title('Before normalized')"
   ]
  },
  {
   "cell_type": "code",
   "execution_count": 16,
   "id": "d499e5ba",
   "metadata": {
    "execution": {
     "iopub.execute_input": "2021-12-13T10:18:38.513243Z",
     "iopub.status.busy": "2021-12-13T10:18:38.512547Z",
     "iopub.status.idle": "2021-12-13T10:18:40.455818Z",
     "shell.execute_reply": "2021-12-13T10:18:40.454913Z",
     "shell.execute_reply.started": "2021-12-13T10:14:57.390284Z"
    },
    "papermill": {
     "duration": 1.984524,
     "end_time": "2021-12-13T10:18:40.455971",
     "exception": false,
     "start_time": "2021-12-13T10:18:38.471447",
     "status": "completed"
    },
    "tags": []
   },
   "outputs": [
    {
     "name": "stderr",
     "output_type": "stream",
     "text": [
      "/opt/conda/lib/python3.7/site-packages/seaborn/distributions.py:2619: FutureWarning: `distplot` is a deprecated function and will be removed in a future version. Please adapt your code to use either `displot` (a figure-level function with similar flexibility) or `histplot` (an axes-level function for histograms).\n",
      "  warnings.warn(msg, FutureWarning)\n"
     ]
    },
    {
     "data": {
      "text/plain": [
       "Text(0.5, 1.0, 'After Normalized')"
      ]
     },
     "execution_count": 16,
     "metadata": {},
     "output_type": "execute_result"
    },
    {
     "data": {
      "image/png": "[encoded data removed]",
      "text/plain": [
       "<Figure size 432x288 with 1 Axes>"
      ]
     },
     "metadata": {
      "needs_background": "light"
     },
     "output_type": "display_data"
    }
   ],
   "source": [
    "# TODO: Your code here!\n",
    "# take positive indexing data for box-cox\n",
    "index_pledge=kickstarters_2017.pledged>0\n",
    "positive_pledge_data=kickstarters_2017.pledged.loc[index_pledge]\n",
    "\n",
    "# normalization \n",
    "normalized_pledge=pd.Series(stats.boxcox(positive_pledge_data)[0],name='pledged', index=positive_pledge_data.index)\n",
    "\n",
    "# distribution plot\n",
    "sns.distplot(normalized_pledge)\n",
    "plt.title('After Normalized')"
   ]
  },
  {
   "cell_type": "markdown",
   "id": "0bca82b8",
   "metadata": {
    "papermill": {
     "duration": 0.034709,
     "end_time": "2021-12-13T10:18:40.525659",
     "exception": false,
     "start_time": "2021-12-13T10:18:40.490950",
     "status": "completed"
    },
    "tags": []
   },
   "source": [
    "How does the normalized \"usd_pledged_real\" column look different from when we normalized the \"pledged\" column?  Or, do they look mostly the same?\n",
    "\n",
    "Once you have an answer, run the code cell below."
   ]
  },
  {
   "cell_type": "markdown",
   "id": "20cb2643",
   "metadata": {
    "papermill": {
     "duration": 0.036115,
     "end_time": "2021-12-13T10:18:40.596742",
     "exception": false,
     "start_time": "2021-12-13T10:18:40.560627",
     "status": "completed"
    },
    "tags": []
   },
   "source": [
    "Look mostly the same"
   ]
  },
  {
   "cell_type": "code",
   "execution_count": 17,
   "id": "ea3d1c63",
   "metadata": {
    "execution": {
     "iopub.execute_input": "2021-12-13T10:18:40.673217Z",
     "iopub.status.busy": "2021-12-13T10:18:40.672178Z",
     "iopub.status.idle": "2021-12-13T10:18:40.680058Z",
     "shell.execute_reply": "2021-12-13T10:18:40.679440Z",
     "shell.execute_reply.started": "2021-12-13T10:17:41.789916Z"
    },
    "papermill": {
     "duration": 0.047946,
     "end_time": "2021-12-13T10:18:40.680194",
     "exception": false,
     "start_time": "2021-12-13T10:18:40.632248",
     "status": "completed"
    },
    "tags": []
   },
   "outputs": [
    {
     "data": {
      "application/javascript": [
       "parent.postMessage({\"jupyterEvent\": \"custom.exercise_interaction\", \"data\": {\"outcomeType\": 1, \"valueTowardsCompletion\": 0.3333333333333333, \"interactionType\": 1, \"questionType\": 4, \"questionId\": \"2_TryNormalization\", \"learnToolsVersion\": \"0.3.4\", \"failureMessage\": \"\", \"exceptionClass\": \"\", \"trace\": \"\"}}, \"*\")"
      ],
      "text/plain": [
       "<IPython.core.display.Javascript object>"
      ]
     },
     "metadata": {},
     "output_type": "display_data"
    },
    {
     "data": {
      "text/markdown": [
       "<span style=\"color:#33cc33\">Correct:</span> \n",
       "\n",
       "The distributions in the normalized data look mostly the same."
      ],
      "text/plain": [
       "Correct: \n",
       "\n",
       "The distributions in the normalized data look mostly the same."
      ]
     },
     "metadata": {},
     "output_type": "display_data"
    }
   ],
   "source": [
    "# Check your answer (Run this code cell to receive credit!)\n",
    "q2.check()"
   ]
  },
  {
   "cell_type": "code",
   "execution_count": 18,
   "id": "2756f96d",
   "metadata": {
    "execution": {
     "iopub.execute_input": "2021-12-13T10:18:40.759175Z",
     "iopub.status.busy": "2021-12-13T10:18:40.758473Z",
     "iopub.status.idle": "2021-12-13T10:18:40.761846Z",
     "shell.execute_reply": "2021-12-13T10:18:40.761139Z",
     "shell.execute_reply.started": "2021-12-13T10:17:48.080325Z"
    },
    "papermill": {
     "duration": 0.045036,
     "end_time": "2021-12-13T10:18:40.761999",
     "exception": false,
     "start_time": "2021-12-13T10:18:40.716963",
     "status": "completed"
    },
    "tags": []
   },
   "outputs": [],
   "source": [
    "# Line below will give you a hint\n",
    "#q2.hint()"
   ]
  },
  {
   "cell_type": "markdown",
   "id": "da74bff6",
   "metadata": {
    "papermill": {
     "duration": 0.037928,
     "end_time": "2021-12-13T10:18:40.837756",
     "exception": false,
     "start_time": "2021-12-13T10:18:40.799828",
     "status": "completed"
    },
    "tags": []
   },
   "source": [
    "# (Optional) More practice\n",
    "\n",
    "Try finding a new dataset and pretend you're preparing to perform a [regression analysis](https://www.kaggle.com/rtatman/the-5-day-regression-challenge). \n",
    "\n",
    "[These datasets are a good start!](https://www.kaggle.com/rtatman/datasets-for-regression-analysis)\n",
    "\n",
    "Pick three or four variables and decide if you need to normalize or scale any of them and, if you think you should, practice applying the correct technique.\n",
    "\n",
    "# Keep going\n",
    "\n",
    "In the next lesson, learn how to [**parse dates**](https://www.kaggle.com/alexisbcook/parsing-dates) in a dataset."
   ]
  },
  {
   "cell_type": "markdown",
   "id": "5f0ed1a7",
   "metadata": {
    "papermill": {
     "duration": 0.035786,
     "end_time": "2021-12-13T10:18:40.909692",
     "exception": false,
     "start_time": "2021-12-13T10:18:40.873906",
     "status": "completed"
    },
    "tags": []
   },
   "source": [
    "---\n",
    "\n",
    "\n",
    "\n",
    "\n",
    "*Have questions or comments? Visit the [course discussion forum](https://www.kaggle.com/learn/data-cleaning/discussion) to chat with other learners.*"
   ]
  }
 ],
 "metadata": {
  "kernelspec": {
   "display_name": "Python 3",
   "language": "python",
   "name": "python3"
  },
  "language_info": {
   "codemirror_mode": {
    "name": "ipython",
    "version": 3
   },
   "file_extension": ".py",
   "mimetype": "text/x-python",
   "name": "python",
   "nbconvert_exporter": "python",
   "pygments_lexer": "ipython3",
   "version": "3.7.12"
  },
  "papermill": {
   "default_parameters": {},
   "duration": 33.206407,
   "end_time": "2021-12-13T10:18:41.959138",
   "environment_variables": {},
   "exception": null,
   "input_path": "__notebook__.ipynb",
   "output_path": "__notebook__.ipynb",
   "parameters": {},
   "start_time": "2021-12-13T10:18:08.752731",
   "version": "2.3.3"
  }
 },
 "nbformat": 4,
 "nbformat_minor": 5
}
