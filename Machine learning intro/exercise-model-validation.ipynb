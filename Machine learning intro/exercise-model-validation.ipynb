{
 "cells": [
  {
   "cell_type": "markdown",
   "id": "aebc2b73",
   "metadata": {
    "papermill": {
     "duration": 0.012434,
     "end_time": "2021-12-17T10:52:53.165620",
     "exception": false,
     "start_time": "2021-12-17T10:52:53.153186",
     "status": "completed"
    },
    "tags": []
   },
   "source": [
    "**This notebook is an exercise in the [Introduction to Machine Learning](https://www.kaggle.com/learn/intro-to-machine-learning) course.  You can reference the tutorial at [this link](https://www.kaggle.com/dansbecker/model-validation).**\n",
    "\n",
    "---\n"
   ]
  },
  {
   "cell_type": "markdown",
   "id": "40415423",
   "metadata": {
    "papermill": {
     "duration": 0.010548,
     "end_time": "2021-12-17T10:52:53.188152",
     "exception": false,
     "start_time": "2021-12-17T10:52:53.177604",
     "status": "completed"
    },
    "tags": []
   },
   "source": [
    "## Recap\n",
    "You've built a model. In this exercise you will test how good your model is.\n",
    "\n",
    "Run the cell below to set up your coding environment where the previous exercise left off."
   ]
  },
  {
   "cell_type": "code",
   "execution_count": 1,
   "id": "161cb945",
   "metadata": {
    "execution": {
     "iopub.execute_input": "2021-12-17T10:52:53.215622Z",
     "iopub.status.busy": "2021-12-17T10:52:53.213937Z",
     "iopub.status.idle": "2021-12-17T10:52:54.455918Z",
     "shell.execute_reply": "2021-12-17T10:52:54.455249Z",
     "shell.execute_reply.started": "2021-12-17T10:39:29.401563Z"
    },
    "papermill": {
     "duration": 1.257196,
     "end_time": "2021-12-17T10:52:54.456082",
     "exception": false,
     "start_time": "2021-12-17T10:52:53.198886",
     "status": "completed"
    },
    "tags": []
   },
   "outputs": [
    {
     "name": "stdout",
     "output_type": "stream",
     "text": [
      "First in-sample predictions: [208500. 181500. 223500. 140000. 250000.]\n",
      "Actual target values for those homes: [208500, 181500, 223500, 140000, 250000]\n",
      "Setup Complete\n"
     ]
    }
   ],
   "source": [
    "# Code you have previously used to load data\n",
    "import pandas as pd\n",
    "from sklearn.tree import DecisionTreeRegressor\n",
    "\n",
    "# Path of the file to read\n",
    "iowa_file_path = '../input/home-data-for-ml-course/train.csv'\n",
    "\n",
    "home_data = pd.read_csv(iowa_file_path)\n",
    "y = home_data.SalePrice\n",
    "feature_columns = ['LotArea', 'YearBuilt', '1stFlrSF', '2ndFlrSF', 'FullBath', 'BedroomAbvGr', 'TotRmsAbvGrd']\n",
    "X = home_data[feature_columns]\n",
    "\n",
    "# Specify Model\n",
    "iowa_model = DecisionTreeRegressor()\n",
    "# Fit Model\n",
    "iowa_model.fit(X, y)\n",
    "\n",
    "print(\"First in-sample predictions:\", iowa_model.predict(X.head()))\n",
    "print(\"Actual target values for those homes:\", y.head().tolist())\n",
    "\n",
    "# Set up code checking\n",
    "from learntools.core import binder\n",
    "binder.bind(globals())\n",
    "from learntools.machine_learning.ex4 import *\n",
    "print(\"Setup Complete\")"
   ]
  },
  {
   "cell_type": "markdown",
   "id": "c989c362",
   "metadata": {
    "papermill": {
     "duration": 0.010872,
     "end_time": "2021-12-17T10:52:54.478604",
     "exception": false,
     "start_time": "2021-12-17T10:52:54.467732",
     "status": "completed"
    },
    "tags": []
   },
   "source": [
    "# Exercises\n",
    "\n",
    "## Step 1: Split Your Data\n",
    "Use the `train_test_split` function to split up your data.\n",
    "\n",
    "Give it the argument `random_state=1` so the `check` functions know what to expect when verifying your code.\n",
    "\n",
    "Recall, your features are loaded in the DataFrame **X** and your target is loaded in **y**.\n"
   ]
  },
  {
   "cell_type": "code",
   "execution_count": 2,
   "id": "9c0a9d4a",
   "metadata": {
    "execution": {
     "iopub.execute_input": "2021-12-17T10:52:54.503399Z",
     "iopub.status.busy": "2021-12-17T10:52:54.502850Z",
     "iopub.status.idle": "2021-12-17T10:52:54.518592Z",
     "shell.execute_reply": "2021-12-17T10:52:54.519129Z",
     "shell.execute_reply.started": "2021-12-17T10:42:22.432179Z"
    },
    "papermill": {
     "duration": 0.029654,
     "end_time": "2021-12-17T10:52:54.519297",
     "exception": false,
     "start_time": "2021-12-17T10:52:54.489643",
     "status": "completed"
    },
    "tags": []
   },
   "outputs": [
    {
     "data": {
      "text/html": [
       "<div>\n",
       "<style scoped>\n",
       "    .dataframe tbody tr th:only-of-type {\n",
       "        vertical-align: middle;\n",
       "    }\n",
       "\n",
       "    .dataframe tbody tr th {\n",
       "        vertical-align: top;\n",
       "    }\n",
       "\n",
       "    .dataframe thead th {\n",
       "        text-align: right;\n",
       "    }\n",
       "</style>\n",
       "<table border=\"1\" class=\"dataframe\">\n",
       "  <thead>\n",
       "    <tr style=\"text-align: right;\">\n",
       "      <th></th>\n",
       "      <th>LotArea</th>\n",
       "      <th>YearBuilt</th>\n",
       "      <th>1stFlrSF</th>\n",
       "      <th>2ndFlrSF</th>\n",
       "      <th>FullBath</th>\n",
       "      <th>BedroomAbvGr</th>\n",
       "      <th>TotRmsAbvGrd</th>\n",
       "    </tr>\n",
       "  </thead>\n",
       "  <tbody>\n",
       "    <tr>\n",
       "      <th>0</th>\n",
       "      <td>8450</td>\n",
       "      <td>2003</td>\n",
       "      <td>856</td>\n",
       "      <td>854</td>\n",
       "      <td>2</td>\n",
       "      <td>3</td>\n",
       "      <td>8</td>\n",
       "    </tr>\n",
       "    <tr>\n",
       "      <th>1</th>\n",
       "      <td>9600</td>\n",
       "      <td>1976</td>\n",
       "      <td>1262</td>\n",
       "      <td>0</td>\n",
       "      <td>2</td>\n",
       "      <td>3</td>\n",
       "      <td>6</td>\n",
       "    </tr>\n",
       "    <tr>\n",
       "      <th>2</th>\n",
       "      <td>11250</td>\n",
       "      <td>2001</td>\n",
       "      <td>920</td>\n",
       "      <td>866</td>\n",
       "      <td>2</td>\n",
       "      <td>3</td>\n",
       "      <td>6</td>\n",
       "    </tr>\n",
       "    <tr>\n",
       "      <th>3</th>\n",
       "      <td>9550</td>\n",
       "      <td>1915</td>\n",
       "      <td>961</td>\n",
       "      <td>756</td>\n",
       "      <td>1</td>\n",
       "      <td>3</td>\n",
       "      <td>7</td>\n",
       "    </tr>\n",
       "    <tr>\n",
       "      <th>4</th>\n",
       "      <td>14260</td>\n",
       "      <td>2000</td>\n",
       "      <td>1145</td>\n",
       "      <td>1053</td>\n",
       "      <td>2</td>\n",
       "      <td>4</td>\n",
       "      <td>9</td>\n",
       "    </tr>\n",
       "    <tr>\n",
       "      <th>...</th>\n",
       "      <td>...</td>\n",
       "      <td>...</td>\n",
       "      <td>...</td>\n",
       "      <td>...</td>\n",
       "      <td>...</td>\n",
       "      <td>...</td>\n",
       "      <td>...</td>\n",
       "    </tr>\n",
       "    <tr>\n",
       "      <th>1455</th>\n",
       "      <td>7917</td>\n",
       "      <td>1999</td>\n",
       "      <td>953</td>\n",
       "      <td>694</td>\n",
       "      <td>2</td>\n",
       "      <td>3</td>\n",
       "      <td>7</td>\n",
       "    </tr>\n",
       "    <tr>\n",
       "      <th>1456</th>\n",
       "      <td>13175</td>\n",
       "      <td>1978</td>\n",
       "      <td>2073</td>\n",
       "      <td>0</td>\n",
       "      <td>2</td>\n",
       "      <td>3</td>\n",
       "      <td>7</td>\n",
       "    </tr>\n",
       "    <tr>\n",
       "      <th>1457</th>\n",
       "      <td>9042</td>\n",
       "      <td>1941</td>\n",
       "      <td>1188</td>\n",
       "      <td>1152</td>\n",
       "      <td>2</td>\n",
       "      <td>4</td>\n",
       "      <td>9</td>\n",
       "    </tr>\n",
       "    <tr>\n",
       "      <th>1458</th>\n",
       "      <td>9717</td>\n",
       "      <td>1950</td>\n",
       "      <td>1078</td>\n",
       "      <td>0</td>\n",
       "      <td>1</td>\n",
       "      <td>2</td>\n",
       "      <td>5</td>\n",
       "    </tr>\n",
       "    <tr>\n",
       "      <th>1459</th>\n",
       "      <td>9937</td>\n",
       "      <td>1965</td>\n",
       "      <td>1256</td>\n",
       "      <td>0</td>\n",
       "      <td>1</td>\n",
       "      <td>3</td>\n",
       "      <td>6</td>\n",
       "    </tr>\n",
       "  </tbody>\n",
       "</table>\n",
       "<p>1460 rows × 7 columns</p>\n",
       "</div>"
      ],
      "text/plain": [
       "      LotArea  YearBuilt  1stFlrSF  2ndFlrSF  FullBath  BedroomAbvGr  \\\n",
       "0        8450       2003       856       854         2             3   \n",
       "1        9600       1976      1262         0         2             3   \n",
       "2       11250       2001       920       866         2             3   \n",
       "3        9550       1915       961       756         1             3   \n",
       "4       14260       2000      1145      1053         2             4   \n",
       "...       ...        ...       ...       ...       ...           ...   \n",
       "1455     7917       1999       953       694         2             3   \n",
       "1456    13175       1978      2073         0         2             3   \n",
       "1457     9042       1941      1188      1152         2             4   \n",
       "1458     9717       1950      1078         0         1             2   \n",
       "1459     9937       1965      1256         0         1             3   \n",
       "\n",
       "      TotRmsAbvGrd  \n",
       "0                8  \n",
       "1                6  \n",
       "2                6  \n",
       "3                7  \n",
       "4                9  \n",
       "...            ...  \n",
       "1455             7  \n",
       "1456             7  \n",
       "1457             9  \n",
       "1458             5  \n",
       "1459             6  \n",
       "\n",
       "[1460 rows x 7 columns]"
      ]
     },
     "execution_count": 2,
     "metadata": {},
     "output_type": "execute_result"
    }
   ],
   "source": [
    "X"
   ]
  },
  {
   "cell_type": "code",
   "execution_count": 3,
   "id": "85bfbcca",
   "metadata": {
    "execution": {
     "iopub.execute_input": "2021-12-17T10:52:54.545576Z",
     "iopub.status.busy": "2021-12-17T10:52:54.544978Z",
     "iopub.status.idle": "2021-12-17T10:52:54.550859Z",
     "shell.execute_reply": "2021-12-17T10:52:54.551342Z",
     "shell.execute_reply.started": "2021-12-17T10:42:36.541486Z"
    },
    "papermill": {
     "duration": 0.020609,
     "end_time": "2021-12-17T10:52:54.551535",
     "exception": false,
     "start_time": "2021-12-17T10:52:54.530926",
     "status": "completed"
    },
    "tags": []
   },
   "outputs": [
    {
     "data": {
      "text/plain": [
       "0       208500\n",
       "1       181500\n",
       "2       223500\n",
       "3       140000\n",
       "4       250000\n",
       "         ...  \n",
       "1455    175000\n",
       "1456    210000\n",
       "1457    266500\n",
       "1458    142125\n",
       "1459    147500\n",
       "Name: SalePrice, Length: 1460, dtype: int64"
      ]
     },
     "execution_count": 3,
     "metadata": {},
     "output_type": "execute_result"
    }
   ],
   "source": [
    "y"
   ]
  },
  {
   "cell_type": "code",
   "execution_count": 4,
   "id": "992c9be8",
   "metadata": {
    "execution": {
     "iopub.execute_input": "2021-12-17T10:52:54.584229Z",
     "iopub.status.busy": "2021-12-17T10:52:54.583598Z",
     "iopub.status.idle": "2021-12-17T10:52:54.593960Z",
     "shell.execute_reply": "2021-12-17T10:52:54.594465Z",
     "shell.execute_reply.started": "2021-12-17T10:44:19.203393Z"
    },
    "papermill": {
     "duration": 0.029732,
     "end_time": "2021-12-17T10:52:54.594626",
     "exception": false,
     "start_time": "2021-12-17T10:52:54.564894",
     "status": "completed"
    },
    "tags": []
   },
   "outputs": [
    {
     "data": {
      "application/javascript": [
       "parent.postMessage({\"jupyterEvent\": \"custom.exercise_interaction\", \"data\": {\"outcomeType\": 1, \"valueTowardsCompletion\": 0.25, \"interactionType\": 1, \"questionType\": 2, \"questionId\": \"1_SplitData\", \"learnToolsVersion\": \"0.3.4\", \"failureMessage\": \"\", \"exceptionClass\": \"\", \"trace\": \"\"}}, \"*\")"
      ],
      "text/plain": [
       "<IPython.core.display.Javascript object>"
      ]
     },
     "metadata": {},
     "output_type": "display_data"
    },
    {
     "data": {
      "text/markdown": [
       "<span style=\"color:#33cc33\">Correct</span>"
      ],
      "text/plain": [
       "Correct"
      ]
     },
     "metadata": {},
     "output_type": "display_data"
    },
    {
     "name": "stdout",
     "output_type": "stream",
     "text": [
      "(1095, 7)\n",
      "(1095,)\n",
      "(365, 7)\n",
      "(365,)\n"
     ]
    }
   ],
   "source": [
    "# Import the train_test_split function and uncomment\n",
    "from sklearn.model_selection import train_test_split\n",
    "\n",
    "# fill in and uncomment\n",
    "train_X, val_X, train_y, val_y = train_test_split(X,y,random_state=1)\n",
    "\n",
    "# Check your answer\n",
    "step_1.check()\n",
    "print(train_X.shape)\n",
    "print(train_y.shape)\n",
    "print(val_X.shape)\n",
    "print(val_y.shape)"
   ]
  },
  {
   "cell_type": "code",
   "execution_count": 5,
   "id": "6f659425",
   "metadata": {
    "execution": {
     "iopub.execute_input": "2021-12-17T10:52:54.624154Z",
     "iopub.status.busy": "2021-12-17T10:52:54.623169Z",
     "iopub.status.idle": "2021-12-17T10:52:54.626373Z",
     "shell.execute_reply": "2021-12-17T10:52:54.626796Z"
    },
    "papermill": {
     "duration": 0.019718,
     "end_time": "2021-12-17T10:52:54.626967",
     "exception": false,
     "start_time": "2021-12-17T10:52:54.607249",
     "status": "completed"
    },
    "tags": []
   },
   "outputs": [],
   "source": [
    "# The lines below will show you a hint or the solution.\n",
    "# step_1.hint() \n",
    "# step_1.solution()\n"
   ]
  },
  {
   "cell_type": "markdown",
   "id": "1e7d2272",
   "metadata": {
    "papermill": {
     "duration": 0.012705,
     "end_time": "2021-12-17T10:52:54.652509",
     "exception": false,
     "start_time": "2021-12-17T10:52:54.639804",
     "status": "completed"
    },
    "tags": []
   },
   "source": [
    "## Step 2: Specify and Fit the Model\n",
    "\n",
    "Create a `DecisionTreeRegressor` model and fit it to the relevant data.\n",
    "Set `random_state` to 1 again when creating the model."
   ]
  },
  {
   "cell_type": "code",
   "execution_count": 6,
   "id": "00b337f9",
   "metadata": {
    "execution": {
     "iopub.execute_input": "2021-12-17T10:52:54.688835Z",
     "iopub.status.busy": "2021-12-17T10:52:54.687876Z",
     "iopub.status.idle": "2021-12-17T10:52:54.725666Z",
     "shell.execute_reply": "2021-12-17T10:52:54.725139Z",
     "shell.execute_reply.started": "2021-12-17T10:46:07.411504Z"
    },
    "papermill": {
     "duration": 0.058018,
     "end_time": "2021-12-17T10:52:54.725808",
     "exception": false,
     "start_time": "2021-12-17T10:52:54.667790",
     "status": "completed"
    },
    "tags": []
   },
   "outputs": [
    {
     "name": "stdout",
     "output_type": "stream",
     "text": [
      "[186500. 184000. 130000.  92000. 164500. 220000. 335000. 144152. 215000.\n",
      " 262000.]\n",
      "[186500. 184000. 130000.  92000. 164500. 220000. 335000. 144152. 215000.\n",
      " 262000.]\n"
     ]
    },
    {
     "data": {
      "application/javascript": [
       "parent.postMessage({\"jupyterEvent\": \"custom.exercise_interaction\", \"data\": {\"outcomeType\": 1, \"valueTowardsCompletion\": 0.25, \"interactionType\": 1, \"questionType\": 2, \"questionId\": \"2_FitModelWithTrain\", \"learnToolsVersion\": \"0.3.4\", \"failureMessage\": \"\", \"exceptionClass\": \"\", \"trace\": \"\"}}, \"*\")"
      ],
      "text/plain": [
       "<IPython.core.display.Javascript object>"
      ]
     },
     "metadata": {},
     "output_type": "display_data"
    },
    {
     "data": {
      "text/markdown": [
       "<span style=\"color:#33cc33\">Correct</span>"
      ],
      "text/plain": [
       "Correct"
      ]
     },
     "metadata": {},
     "output_type": "display_data"
    }
   ],
   "source": [
    "# You imported DecisionTreeRegressor in your last exercise\n",
    "# and that code has been copied to the setup code above. So, no need to\n",
    "# import it again\n",
    "\n",
    "# Specify the model\n",
    "iowa_model = DecisionTreeRegressor(random_state=1)\n",
    "# Fit iowa_model with the trainingdata.\n",
    "iowa_model.fit(train_X,train_y)\n",
    "\n",
    "# Check your answer\n",
    "step_2.check()"
   ]
  },
  {
   "cell_type": "code",
   "execution_count": 7,
   "id": "005aeebb",
   "metadata": {
    "execution": {
     "iopub.execute_input": "2021-12-17T10:52:54.767094Z",
     "iopub.status.busy": "2021-12-17T10:52:54.765966Z",
     "iopub.status.idle": "2021-12-17T10:52:54.769063Z",
     "shell.execute_reply": "2021-12-17T10:52:54.769672Z"
    },
    "papermill": {
     "duration": 0.028572,
     "end_time": "2021-12-17T10:52:54.769850",
     "exception": false,
     "start_time": "2021-12-17T10:52:54.741278",
     "status": "completed"
    },
    "tags": []
   },
   "outputs": [],
   "source": [
    "# step_2.hint()\n",
    "# step_2.solution()"
   ]
  },
  {
   "cell_type": "markdown",
   "id": "c5efdc87",
   "metadata": {
    "papermill": {
     "duration": 0.013815,
     "end_time": "2021-12-17T10:52:54.798126",
     "exception": false,
     "start_time": "2021-12-17T10:52:54.784311",
     "status": "completed"
    },
    "tags": []
   },
   "source": [
    "## Step 3: Make Predictions with Validation data\n"
   ]
  },
  {
   "cell_type": "code",
   "execution_count": 8,
   "id": "7e11df0a",
   "metadata": {
    "execution": {
     "iopub.execute_input": "2021-12-17T10:52:54.829710Z",
     "iopub.status.busy": "2021-12-17T10:52:54.828802Z",
     "iopub.status.idle": "2021-12-17T10:52:54.841510Z",
     "shell.execute_reply": "2021-12-17T10:52:54.842055Z",
     "shell.execute_reply.started": "2021-12-17T10:47:30.791523Z"
    },
    "papermill": {
     "duration": 0.030048,
     "end_time": "2021-12-17T10:52:54.842219",
     "exception": false,
     "start_time": "2021-12-17T10:52:54.812171",
     "status": "completed"
    },
    "tags": []
   },
   "outputs": [
    {
     "data": {
      "application/javascript": [
       "parent.postMessage({\"jupyterEvent\": \"custom.exercise_interaction\", \"data\": {\"outcomeType\": 1, \"valueTowardsCompletion\": 0.25, \"interactionType\": 1, \"questionType\": 2, \"questionId\": \"3_ValPreds\", \"learnToolsVersion\": \"0.3.4\", \"failureMessage\": \"\", \"exceptionClass\": \"\", \"trace\": \"\"}}, \"*\")"
      ],
      "text/plain": [
       "<IPython.core.display.Javascript object>"
      ]
     },
     "metadata": {},
     "output_type": "display_data"
    },
    {
     "data": {
      "text/markdown": [
       "<span style=\"color:#33cc33\">Correct</span>"
      ],
      "text/plain": [
       "Correct"
      ]
     },
     "metadata": {},
     "output_type": "display_data"
    },
    {
     "data": {
      "text/plain": [
       "array([184000., 130000.,  92000., 164500., 220000., 335000., 144152.,\n",
       "       215000., 262000.])"
      ]
     },
     "execution_count": 8,
     "metadata": {},
     "output_type": "execute_result"
    }
   ],
   "source": [
    "# Predict with all validation observations\n",
    "val_predictions = iowa_model.predict(val_X)\n",
    "\n",
    "# Check your answer\n",
    "step_3.check()\n",
    "val_predictions[1:10]"
   ]
  },
  {
   "cell_type": "code",
   "execution_count": 9,
   "id": "b873e729",
   "metadata": {
    "execution": {
     "iopub.execute_input": "2021-12-17T10:52:54.876009Z",
     "iopub.status.busy": "2021-12-17T10:52:54.875060Z",
     "iopub.status.idle": "2021-12-17T10:52:54.878138Z",
     "shell.execute_reply": "2021-12-17T10:52:54.878697Z"
    },
    "papermill": {
     "duration": 0.021744,
     "end_time": "2021-12-17T10:52:54.878861",
     "exception": false,
     "start_time": "2021-12-17T10:52:54.857117",
     "status": "completed"
    },
    "tags": []
   },
   "outputs": [],
   "source": [
    "# step_3.hint()\n",
    "# step_3.solution()"
   ]
  },
  {
   "cell_type": "markdown",
   "id": "50738ccb",
   "metadata": {
    "papermill": {
     "duration": 0.014765,
     "end_time": "2021-12-17T10:52:54.908870",
     "exception": false,
     "start_time": "2021-12-17T10:52:54.894105",
     "status": "completed"
    },
    "tags": []
   },
   "source": [
    "Inspect your predictions and actual values from validation data."
   ]
  },
  {
   "cell_type": "code",
   "execution_count": 10,
   "id": "20c3fb06",
   "metadata": {
    "execution": {
     "iopub.execute_input": "2021-12-17T10:52:54.942826Z",
     "iopub.status.busy": "2021-12-17T10:52:54.941903Z",
     "iopub.status.idle": "2021-12-17T10:52:54.950617Z",
     "shell.execute_reply": "2021-12-17T10:52:54.951051Z",
     "shell.execute_reply.started": "2021-12-17T10:49:49.242274Z"
    },
    "papermill": {
     "duration": 0.027059,
     "end_time": "2021-12-17T10:52:54.951218",
     "exception": false,
     "start_time": "2021-12-17T10:52:54.924159",
     "status": "completed"
    },
    "tags": []
   },
   "outputs": [
    {
     "name": "stdout",
     "output_type": "stream",
     "text": [
      "First validation predictions: [186500. 184000. 130000.  92000. 164500.]\n",
      "Actual target values for those homes: [208500, 181500, 223500, 140000, 250000]\n"
     ]
    }
   ],
   "source": [
    "# print the top few validation predictions\n",
    "print(\"First validation predictions:\", iowa_model.predict(val_X.head()))\n",
    "print(\"Actual target values for those homes:\", y.head().tolist())\n",
    "# print the top few actual prices from validation data"
   ]
  },
  {
   "cell_type": "markdown",
   "id": "a5cd4e1e",
   "metadata": {
    "papermill": {
     "duration": 0.015222,
     "end_time": "2021-12-17T10:52:54.981931",
     "exception": false,
     "start_time": "2021-12-17T10:52:54.966709",
     "status": "completed"
    },
    "tags": []
   },
   "source": [
    "What do you notice that is different from what you saw with in-sample predictions (which are printed after the top code cell in this page).\n",
    "\n",
    "Do you remember why validation predictions differ from in-sample (or training) predictions? This is an important idea from the last lesson.\n",
    "\n",
    "## Step 4: Calculate the Mean Absolute Error in Validation Data\n"
   ]
  },
  {
   "cell_type": "code",
   "execution_count": 11,
   "id": "17403ad2",
   "metadata": {
    "execution": {
     "iopub.execute_input": "2021-12-17T10:52:55.015907Z",
     "iopub.status.busy": "2021-12-17T10:52:55.015267Z",
     "iopub.status.idle": "2021-12-17T10:52:55.024339Z",
     "shell.execute_reply": "2021-12-17T10:52:55.023874Z",
     "shell.execute_reply.started": "2021-12-17T10:51:00.192252Z"
    },
    "papermill": {
     "duration": 0.027085,
     "end_time": "2021-12-17T10:52:55.024483",
     "exception": false,
     "start_time": "2021-12-17T10:52:54.997398",
     "status": "completed"
    },
    "tags": []
   },
   "outputs": [
    {
     "name": "stdout",
     "output_type": "stream",
     "text": [
      "29652.931506849316\n"
     ]
    },
    {
     "data": {
      "application/javascript": [
       "parent.postMessage({\"jupyterEvent\": \"custom.exercise_interaction\", \"data\": {\"outcomeType\": 1, \"valueTowardsCompletion\": 0.25, \"interactionType\": 1, \"questionType\": 1, \"questionId\": \"4_MAE\", \"learnToolsVersion\": \"0.3.4\", \"failureMessage\": \"\", \"exceptionClass\": \"\", \"trace\": \"\"}}, \"*\")"
      ],
      "text/plain": [
       "<IPython.core.display.Javascript object>"
      ]
     },
     "metadata": {},
     "output_type": "display_data"
    },
    {
     "data": {
      "text/markdown": [
       "<span style=\"color:#33cc33\">Correct</span>"
      ],
      "text/plain": [
       "Correct"
      ]
     },
     "metadata": {},
     "output_type": "display_data"
    }
   ],
   "source": [
    "from sklearn.metrics import mean_absolute_error\n",
    "val_mae = mean_absolute_error(val_y,val_predictions)\n",
    "\n",
    "# uncomment following line to see the validation_mae\n",
    "print(val_mae)\n",
    "\n",
    "# Check your answer\n",
    "step_4.check()"
   ]
  },
  {
   "cell_type": "code",
   "execution_count": 12,
   "id": "52b914e3",
   "metadata": {
    "execution": {
     "iopub.execute_input": "2021-12-17T10:52:55.062845Z",
     "iopub.status.busy": "2021-12-17T10:52:55.061100Z",
     "iopub.status.idle": "2021-12-17T10:52:55.064776Z",
     "shell.execute_reply": "2021-12-17T10:52:55.065241Z"
    },
    "papermill": {
     "duration": 0.023583,
     "end_time": "2021-12-17T10:52:55.065431",
     "exception": false,
     "start_time": "2021-12-17T10:52:55.041848",
     "status": "completed"
    },
    "tags": []
   },
   "outputs": [],
   "source": [
    "# step_4.hint()\n",
    "# step_4.solution()"
   ]
  },
  {
   "cell_type": "markdown",
   "id": "27125df6",
   "metadata": {
    "papermill": {
     "duration": 0.01616,
     "end_time": "2021-12-17T10:52:55.098966",
     "exception": false,
     "start_time": "2021-12-17T10:52:55.082806",
     "status": "completed"
    },
    "tags": []
   },
   "source": [
    "Is that MAE good?  There isn't a general rule for what values are good that applies across applications. But you'll see how to use (and improve) this number in the next step.\n",
    "\n",
    "# Keep Going\n",
    "\n",
    "You are ready for **[Underfitting and Overfitting](https://www.kaggle.com/dansbecker/underfitting-and-overfitting).**\n"
   ]
  },
  {
   "cell_type": "markdown",
   "id": "2b8a6f01",
   "metadata": {
    "papermill": {
     "duration": 0.01615,
     "end_time": "2021-12-17T10:52:55.131632",
     "exception": false,
     "start_time": "2021-12-17T10:52:55.115482",
     "status": "completed"
    },
    "tags": []
   },
   "source": [
    "---\n",
    "\n",
    "\n",
    "\n",
    "\n",
    "*Have questions or comments? Visit the [course discussion forum](https://www.kaggle.com/learn/intro-to-machine-learning/discussion) to chat with other learners.*"
   ]
  }
 ],
 "metadata": {
  "kernelspec": {
   "display_name": "Python 3",
   "language": "python",
   "name": "python3"
  },
  "language_info": {
   "codemirror_mode": {
    "name": "ipython",
    "version": 3
   },
   "file_extension": ".py",
   "mimetype": "text/x-python",
   "name": "python",
   "nbconvert_exporter": "python",
   "pygments_lexer": "ipython3",
   "version": "3.7.12"
  },
  "papermill": {
   "default_parameters": {},
   "duration": 10.809014,
   "end_time": "2021-12-17T10:52:55.858746",
   "environment_variables": {},
   "exception": null,
   "input_path": "__notebook__.ipynb",
   "output_path": "__notebook__.ipynb",
   "parameters": {},
   "start_time": "2021-12-17T10:52:45.049732",
   "version": "2.3.3"
  }
 },
 "nbformat": 4,
 "nbformat_minor": 5
}
