{
 "cells": [
  {
   "cell_type": "markdown",
   "id": "42055f8b",
   "metadata": {
    "papermill": {
     "duration": 0.010839,
     "end_time": "2021-12-17T11:55:53.733208",
     "exception": false,
     "start_time": "2021-12-17T11:55:53.722369",
     "status": "completed"
    },
    "tags": []
   },
   "source": [
    "**This notebook is an exercise in the [Introduction to Machine Learning](https://www.kaggle.com/learn/intro-to-machine-learning) course.  You can reference the tutorial at [this link](https://www.kaggle.com/dansbecker/underfitting-and-overfitting).**\n",
    "\n",
    "---\n"
   ]
  },
  {
   "cell_type": "markdown",
   "id": "23f12e64",
   "metadata": {
    "papermill": {
     "duration": 0.009394,
     "end_time": "2021-12-17T11:55:53.752420",
     "exception": false,
     "start_time": "2021-12-17T11:55:53.743026",
     "status": "completed"
    },
    "tags": []
   },
   "source": [
    "## Recap\n",
    "You've built your first model, and now it's time to optimize the size of the tree to make better predictions. Run this cell to set up your coding environment where the previous step left off."
   ]
  },
  {
   "cell_type": "code",
   "execution_count": 1,
   "id": "707f9655",
   "metadata": {
    "execution": {
     "iopub.execute_input": "2021-12-17T11:55:53.780487Z",
     "iopub.status.busy": "2021-12-17T11:55:53.779778Z",
     "iopub.status.idle": "2021-12-17T11:55:55.153677Z",
     "shell.execute_reply": "2021-12-17T11:55:55.154367Z",
     "shell.execute_reply.started": "2021-12-17T11:16:59.113372Z"
    },
    "papermill": {
     "duration": 1.392498,
     "end_time": "2021-12-17T11:55:55.154749",
     "exception": false,
     "start_time": "2021-12-17T11:55:53.762251",
     "status": "completed"
    },
    "tags": []
   },
   "outputs": [
    {
     "name": "stdout",
     "output_type": "stream",
     "text": [
      "Validation MAE: 29,653\n",
      "\n",
      "Setup complete\n"
     ]
    }
   ],
   "source": [
    "# Code you have previously used to load data\n",
    "import pandas as pd\n",
    "from sklearn.metrics import mean_absolute_error\n",
    "from sklearn.model_selection import train_test_split\n",
    "from sklearn.tree import DecisionTreeRegressor\n",
    "\n",
    "\n",
    "# Path of the file to read\n",
    "iowa_file_path = '../input/home-data-for-ml-course/train.csv'\n",
    "\n",
    "home_data = pd.read_csv(iowa_file_path)\n",
    "# Create target object and call it y\n",
    "y = home_data.SalePrice\n",
    "# Create X\n",
    "features = ['LotArea', 'YearBuilt', '1stFlrSF', '2ndFlrSF', 'FullBath', 'BedroomAbvGr', 'TotRmsAbvGrd']\n",
    "X = home_data[features]\n",
    "\n",
    "# Split into validation and training data\n",
    "train_X, val_X, train_y, val_y = train_test_split(X, y, random_state=1)\n",
    "\n",
    "# Specify Model\n",
    "iowa_model = DecisionTreeRegressor(random_state=1)\n",
    "# Fit Model\n",
    "iowa_model.fit(train_X, train_y)\n",
    "\n",
    "# Make validation predictions and calculate mean absolute error\n",
    "val_predictions = iowa_model.predict(val_X)\n",
    "val_mae = mean_absolute_error(val_predictions, val_y)\n",
    "print(\"Validation MAE: {:,.0f}\".format(val_mae))\n",
    "\n",
    "# Set up code checking\n",
    "from learntools.core import binder\n",
    "binder.bind(globals())\n",
    "from learntools.machine_learning.ex5 import *\n",
    "print(\"\\nSetup complete\")"
   ]
  },
  {
   "cell_type": "markdown",
   "id": "ccc8a0fa",
   "metadata": {
    "papermill": {
     "duration": 0.010993,
     "end_time": "2021-12-17T11:55:55.178145",
     "exception": false,
     "start_time": "2021-12-17T11:55:55.167152",
     "status": "completed"
    },
    "tags": []
   },
   "source": [
    "# Exercises\n",
    "You could write the function `get_mae` yourself. For now, we'll supply it. This is the same function you read about in the previous lesson. Just run the cell below."
   ]
  },
  {
   "cell_type": "code",
   "execution_count": 2,
   "id": "c5250cb5",
   "metadata": {
    "execution": {
     "iopub.execute_input": "2021-12-17T11:55:55.202713Z",
     "iopub.status.busy": "2021-12-17T11:55:55.202098Z",
     "iopub.status.idle": "2021-12-17T11:55:55.206433Z",
     "shell.execute_reply": "2021-12-17T11:55:55.206944Z",
     "shell.execute_reply.started": "2021-12-17T11:38:10.183038Z"
    },
    "papermill": {
     "duration": 0.018718,
     "end_time": "2021-12-17T11:55:55.207133",
     "exception": false,
     "start_time": "2021-12-17T11:55:55.188415",
     "status": "completed"
    },
    "tags": []
   },
   "outputs": [],
   "source": [
    "def get_mae(max_leaf_nodes, train_X, val_X, train_y, val_y):\n",
    "    model = DecisionTreeRegressor(max_leaf_nodes=max_leaf_nodes, random_state=0)\n",
    "    model.fit(train_X, train_y)\n",
    "    preds_val = model.predict(val_X)\n",
    "    mae = mean_absolute_error(val_y, preds_val)\n",
    "    return(mae)"
   ]
  },
  {
   "cell_type": "markdown",
   "id": "3a005f52",
   "metadata": {
    "papermill": {
     "duration": 0.009574,
     "end_time": "2021-12-17T11:55:55.226552",
     "exception": false,
     "start_time": "2021-12-17T11:55:55.216978",
     "status": "completed"
    },
    "tags": []
   },
   "source": [
    "## Step 1: Compare Different Tree Sizes\n",
    "Write a loop that tries the following values for *max_leaf_nodes* from a set of possible values.\n",
    "\n",
    "Call the *get_mae* function on each value of max_leaf_nodes. Store the output in some way that allows you to select the value of `max_leaf_nodes` that gives the most accurate model on your data."
   ]
  },
  {
   "cell_type": "code",
   "execution_count": 3,
   "id": "b2872fa0",
   "metadata": {
    "execution": {
     "iopub.execute_input": "2021-12-17T11:55:55.249424Z",
     "iopub.status.busy": "2021-12-17T11:55:55.248801Z",
     "iopub.status.idle": "2021-12-17T11:55:55.299522Z",
     "shell.execute_reply": "2021-12-17T11:55:55.299027Z",
     "shell.execute_reply.started": "2021-12-17T11:47:07.212288Z"
    },
    "papermill": {
     "duration": 0.063212,
     "end_time": "2021-12-17T11:55:55.299667",
     "exception": false,
     "start_time": "2021-12-17T11:55:55.236455",
     "status": "completed"
    },
    "tags": []
   },
   "outputs": [
    {
     "name": "stdout",
     "output_type": "stream",
     "text": [
      "Max leaf nodes: 5  \t\t Mean Absolute Error:  35044\n",
      "Max leaf nodes: 25  \t\t Mean Absolute Error:  29016\n",
      "Max leaf nodes: 50  \t\t Mean Absolute Error:  27405\n",
      "Max leaf nodes: 100  \t\t Mean Absolute Error:  27282\n",
      "Max leaf nodes: 250  \t\t Mean Absolute Error:  27893\n",
      "Max leaf nodes: 500  \t\t Mean Absolute Error:  29454\n"
     ]
    },
    {
     "data": {
      "application/javascript": [
       "parent.postMessage({\"jupyterEvent\": \"custom.exercise_interaction\", \"data\": {\"outcomeType\": 4, \"interactionType\": 1, \"questionType\": 1, \"questionId\": \"1_BestTreeSize\", \"learnToolsVersion\": \"0.3.4\", \"valueTowardsCompletion\": 0.0, \"failureMessage\": \"\", \"exceptionClass\": \"\", \"trace\": \"\"}}, \"*\")"
      ],
      "text/plain": [
       "<IPython.core.display.Javascript object>"
      ]
     },
     "metadata": {},
     "output_type": "display_data"
    },
    {
     "data": {
      "text/markdown": [
       "<span style=\"color:#ccaa33\">Check:</span> When you've updated the starter code, `check()` will tell you whether your code is correct. Remember, you must create the following variable: `best_tree_size`"
      ],
      "text/plain": [
       "Check: When you've updated the starter code, `check()` will tell you whether your code is correct. Remember, you must create the following variable: `best_tree_size`"
      ]
     },
     "metadata": {},
     "output_type": "display_data"
    }
   ],
   "source": [
    "candidate_max_leaf_nodes = [5, 25, 50, 100, 250, 500]\n",
    "# Write loop to find the ideal tree size from candidate_max_leaf_nodes\n",
    "for max_leaf in candidate_max_leaf_nodes:\n",
    "    mae=get_mae(max_leaf,train_X,val_X,train_y,val_y)\n",
    "    print(\"Max leaf nodes: %d  \\t\\t Mean Absolute Error:  %d\" %(max_leaf, mae))\n",
    "    \n",
    "\n",
    "# Store the best value of max_leaf_nodes (it will be either 5, 25, 50, 100, 250 or 500)\n",
    "\n",
    "# Check your answer\n",
    "step_1.check()"
   ]
  },
  {
   "cell_type": "code",
   "execution_count": 4,
   "id": "c8842f6a",
   "metadata": {
    "execution": {
     "iopub.execute_input": "2021-12-17T11:55:55.327326Z",
     "iopub.status.busy": "2021-12-17T11:55:55.324963Z",
     "iopub.status.idle": "2021-12-17T11:55:55.331895Z",
     "shell.execute_reply": "2021-12-17T11:55:55.332470Z",
     "shell.execute_reply.started": "2021-12-17T11:46:30.022825Z"
    },
    "papermill": {
     "duration": 0.022041,
     "end_time": "2021-12-17T11:55:55.332635",
     "exception": false,
     "start_time": "2021-12-17T11:55:55.310594",
     "status": "completed"
    },
    "tags": []
   },
   "outputs": [
    {
     "data": {
      "application/javascript": [
       "parent.postMessage({\"jupyterEvent\": \"custom.exercise_interaction\", \"data\": {\"interactionType\": 3, \"questionType\": 1, \"questionId\": \"1_BestTreeSize\", \"learnToolsVersion\": \"0.3.4\", \"valueTowardsCompletion\": 0.0, \"failureMessage\": \"\", \"exceptionClass\": \"\", \"trace\": \"\", \"outcomeType\": 4}}, \"*\")"
      ],
      "text/plain": [
       "<IPython.core.display.Javascript object>"
      ]
     },
     "metadata": {},
     "output_type": "display_data"
    },
    {
     "data": {
      "text/markdown": [
       "<span style=\"color:#33cc99\">Solution:</span> \n",
       "```python\n",
       "# Here is a short solution with a dict comprehension.\n",
       "# The lesson gives an example of how to do this with an explicit loop.\n",
       "scores = {leaf_size: get_mae(leaf_size, train_X, val_X, train_y, val_y) for leaf_size in candidate_max_leaf_nodes}\n",
       "best_tree_size = min(scores, key=scores.get)\n",
       "\n",
       "```"
      ],
      "text/plain": [
       "Solution: \n",
       "```python\n",
       "# Here is a short solution with a dict comprehension.\n",
       "# The lesson gives an example of how to do this with an explicit loop.\n",
       "scores = {leaf_size: get_mae(leaf_size, train_X, val_X, train_y, val_y) for leaf_size in candidate_max_leaf_nodes}\n",
       "best_tree_size = min(scores, key=scores.get)\n",
       "\n",
       "```"
      ]
     },
     "metadata": {},
     "output_type": "display_data"
    }
   ],
   "source": [
    "# The lines below will show you a hint or the solution.\n",
    "#step_1.hint() \n",
    "step_1.solution()"
   ]
  },
  {
   "cell_type": "code",
   "execution_count": 5,
   "id": "f71e83e8",
   "metadata": {
    "execution": {
     "iopub.execute_input": "2021-12-17T11:55:55.358962Z",
     "iopub.status.busy": "2021-12-17T11:55:55.358347Z",
     "iopub.status.idle": "2021-12-17T11:55:55.402620Z",
     "shell.execute_reply": "2021-12-17T11:55:55.402103Z",
     "shell.execute_reply.started": "2021-12-17T11:45:57.542416Z"
    },
    "papermill": {
     "duration": 0.05857,
     "end_time": "2021-12-17T11:55:55.402773",
     "exception": false,
     "start_time": "2021-12-17T11:55:55.344203",
     "status": "completed"
    },
    "tags": []
   },
   "outputs": [
    {
     "data": {
      "text/plain": [
       "100"
      ]
     },
     "execution_count": 5,
     "metadata": {},
     "output_type": "execute_result"
    }
   ],
   "source": [
    "scores = {leaf_size: get_mae(leaf_size, train_X, val_X, train_y, val_y) for leaf_size in candidate_max_leaf_nodes}\n",
    "best_tree_size = min(scores, key=scores.get)\n",
    "best_tree_size"
   ]
  },
  {
   "cell_type": "markdown",
   "id": "0ee8b413",
   "metadata": {
    "papermill": {
     "duration": 0.01156,
     "end_time": "2021-12-17T11:55:55.427305",
     "exception": false,
     "start_time": "2021-12-17T11:55:55.415745",
     "status": "completed"
    },
    "tags": []
   },
   "source": [
    "## Step 2: Fit Model Using All Data\n",
    "You know the best tree size. If you were going to deploy this model in practice, you would make it even more accurate by using all of the data and keeping that tree size.  That is, you don't need to hold out the validation data now that you've made all your modeling decisions."
   ]
  },
  {
   "cell_type": "code",
   "execution_count": 6,
   "id": "4dd01998",
   "metadata": {
    "execution": {
     "iopub.execute_input": "2021-12-17T11:55:55.458456Z",
     "iopub.status.busy": "2021-12-17T11:55:55.457789Z",
     "iopub.status.idle": "2021-12-17T11:55:55.470683Z",
     "shell.execute_reply": "2021-12-17T11:55:55.470185Z",
     "shell.execute_reply.started": "2021-12-17T11:50:25.39195Z"
    },
    "papermill": {
     "duration": 0.031642,
     "end_time": "2021-12-17T11:55:55.470823",
     "exception": false,
     "start_time": "2021-12-17T11:55:55.439181",
     "status": "completed"
    },
    "tags": []
   },
   "outputs": [
    {
     "data": {
      "application/javascript": [
       "parent.postMessage({\"jupyterEvent\": \"custom.exercise_interaction\", \"data\": {\"outcomeType\": 1, \"valueTowardsCompletion\": 0.5, \"interactionType\": 1, \"questionType\": 2, \"questionId\": \"2_FitModelWithAllData\", \"learnToolsVersion\": \"0.3.4\", \"failureMessage\": \"\", \"exceptionClass\": \"\", \"trace\": \"\"}}, \"*\")"
      ],
      "text/plain": [
       "<IPython.core.display.Javascript object>"
      ]
     },
     "metadata": {},
     "output_type": "display_data"
    },
    {
     "data": {
      "text/markdown": [
       "<span style=\"color:#33cc33\">Correct</span>"
      ],
      "text/plain": [
       "Correct"
      ]
     },
     "metadata": {},
     "output_type": "display_data"
    }
   ],
   "source": [
    "# Fill in argument to make optimal size and uncomment\n",
    "final_model = DecisionTreeRegressor(max_leaf_nodes=100,random_state=0)\n",
    "\n",
    "# fit the final model and uncomment the next two lines\n",
    "final_model.fit(X,y)\n",
    "\n",
    "# Check your answer\n",
    "step_2.check()"
   ]
  },
  {
   "cell_type": "code",
   "execution_count": 7,
   "id": "873c63ec",
   "metadata": {
    "execution": {
     "iopub.execute_input": "2021-12-17T11:55:55.507626Z",
     "iopub.status.busy": "2021-12-17T11:55:55.506926Z",
     "iopub.status.idle": "2021-12-17T11:55:55.510895Z",
     "shell.execute_reply": "2021-12-17T11:55:55.511329Z",
     "shell.execute_reply.started": "2021-12-17T11:52:34.782809Z"
    },
    "papermill": {
     "duration": 0.027601,
     "end_time": "2021-12-17T11:55:55.511500",
     "exception": false,
     "start_time": "2021-12-17T11:55:55.483899",
     "status": "completed"
    },
    "tags": []
   },
   "outputs": [
    {
     "name": "stdout",
     "output_type": "stream",
     "text": [
      "[209133.65384615 146415.0075188  209133.65384615 143297.46666667\n",
      " 270325.        ]\n",
      "[208500, 181500, 223500, 140000, 250000]\n"
     ]
    }
   ],
   "source": [
    "pred=final_model.predict(round(X.head(),1))\n",
    "print(pred)\n",
    "print(y.head().tolist())\n"
   ]
  },
  {
   "cell_type": "code",
   "execution_count": 8,
   "id": "9398c919",
   "metadata": {
    "execution": {
     "iopub.execute_input": "2021-12-17T11:55:55.544633Z",
     "iopub.status.busy": "2021-12-17T11:55:55.543987Z",
     "iopub.status.idle": "2021-12-17T11:55:55.546379Z",
     "shell.execute_reply": "2021-12-17T11:55:55.546830Z",
     "shell.execute_reply.started": "2021-12-17T11:53:58.622643Z"
    },
    "papermill": {
     "duration": 0.0224,
     "end_time": "2021-12-17T11:55:55.546994",
     "exception": false,
     "start_time": "2021-12-17T11:55:55.524594",
     "status": "completed"
    },
    "tags": []
   },
   "outputs": [],
   "source": [
    "pred1=final_model.predict(X)"
   ]
  },
  {
   "cell_type": "code",
   "execution_count": 9,
   "id": "456d74cf",
   "metadata": {
    "execution": {
     "iopub.execute_input": "2021-12-17T11:55:55.579418Z",
     "iopub.status.busy": "2021-12-17T11:55:55.578653Z",
     "iopub.status.idle": "2021-12-17T11:55:55.581616Z",
     "shell.execute_reply": "2021-12-17T11:55:55.582085Z",
     "shell.execute_reply.started": "2021-12-17T11:54:04.263739Z"
    },
    "papermill": {
     "duration": 0.022379,
     "end_time": "2021-12-17T11:55:55.582268",
     "exception": false,
     "start_time": "2021-12-17T11:55:55.559889",
     "status": "completed"
    },
    "tags": []
   },
   "outputs": [
    {
     "name": "stdout",
     "output_type": "stream",
     "text": [
      "16629.182745225255\n"
     ]
    }
   ],
   "source": [
    "print(mean_absolute_error(y,pred1))"
   ]
  },
  {
   "cell_type": "code",
   "execution_count": 10,
   "id": "4b179ed2",
   "metadata": {
    "execution": {
     "iopub.execute_input": "2021-12-17T11:55:55.612794Z",
     "iopub.status.busy": "2021-12-17T11:55:55.611943Z",
     "iopub.status.idle": "2021-12-17T11:55:55.614468Z",
     "shell.execute_reply": "2021-12-17T11:55:55.614870Z",
     "shell.execute_reply.started": "2021-12-17T11:55:00.84352Z"
    },
    "papermill": {
     "duration": 0.019725,
     "end_time": "2021-12-17T11:55:55.615041",
     "exception": false,
     "start_time": "2021-12-17T11:55:55.595316",
     "status": "completed"
    },
    "tags": []
   },
   "outputs": [],
   "source": [
    "#step_2.hint()\n",
    "#step_2.solution()"
   ]
  },
  {
   "cell_type": "markdown",
   "id": "84502bd8",
   "metadata": {
    "papermill": {
     "duration": 0.012852,
     "end_time": "2021-12-17T11:55:55.641166",
     "exception": false,
     "start_time": "2021-12-17T11:55:55.628314",
     "status": "completed"
    },
    "tags": []
   },
   "source": [
    "You've tuned this model and improved your results. But we are still using Decision Tree models, which are not very sophisticated by modern machine learning standards. In the next step you will learn to use Random Forests to improve your models even more.\n",
    "\n",
    "# Keep Going\n",
    "\n",
    "You are ready for **[Random Forests](https://www.kaggle.com/dansbecker/random-forests).**\n"
   ]
  },
  {
   "cell_type": "markdown",
   "id": "b9fa280a",
   "metadata": {
    "papermill": {
     "duration": 0.012595,
     "end_time": "2021-12-17T11:55:55.666861",
     "exception": false,
     "start_time": "2021-12-17T11:55:55.654266",
     "status": "completed"
    },
    "tags": []
   },
   "source": [
    "---\n",
    "\n",
    "\n",
    "\n",
    "\n",
    "*Have questions or comments? Visit the [course discussion forum](https://www.kaggle.com/learn/intro-to-machine-learning/discussion) to chat with other learners.*"
   ]
  }
 ],
 "metadata": {
  "kernelspec": {
   "display_name": "Python 3",
   "language": "python",
   "name": "python3"
  },
  "language_info": {
   "codemirror_mode": {
    "name": "ipython",
    "version": 3
   },
   "file_extension": ".py",
   "mimetype": "text/x-python",
   "name": "python",
   "nbconvert_exporter": "python",
   "pygments_lexer": "ipython3",
   "version": "3.7.12"
  },
  "papermill": {
   "default_parameters": {},
   "duration": 12.234404,
   "end_time": "2021-12-17T11:55:56.491069",
   "environment_variables": {},
   "exception": null,
   "input_path": "__notebook__.ipynb",
   "output_path": "__notebook__.ipynb",
   "parameters": {},
   "start_time": "2021-12-17T11:55:44.256665",
   "version": "2.3.3"
  }
 },
 "nbformat": 4,
 "nbformat_minor": 5
}
