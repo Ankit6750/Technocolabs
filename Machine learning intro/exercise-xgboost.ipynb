{
 "cells": [
  {
   "cell_type": "markdown",
   "id": "cb3e8c85",
   "metadata": {
    "papermill": {
     "duration": 0.019252,
     "end_time": "2021-12-19T09:21:20.208625",
     "exception": false,
     "start_time": "2021-12-19T09:21:20.189373",
     "status": "completed"
    },
    "tags": []
   },
   "source": [
    "**This notebook is an exercise in the [Intermediate Machine Learning](https://www.kaggle.com/learn/intermediate-machine-learning) course.  You can reference the tutorial at [this link](https://www.kaggle.com/alexisbcook/xgboost).**\n",
    "\n",
    "---\n"
   ]
  },
  {
   "cell_type": "markdown",
   "id": "a3825d55",
   "metadata": {
    "papermill": {
     "duration": 0.016739,
     "end_time": "2021-12-19T09:21:20.242785",
     "exception": false,
     "start_time": "2021-12-19T09:21:20.226046",
     "status": "completed"
    },
    "tags": []
   },
   "source": [
    "In this exercise, you will use your new knowledge to train a model with **gradient boosting**.\n",
    "\n",
    "# Setup\n",
    "\n",
    "The questions below will give you feedback on your work. Run the following cell to set up the feedback system."
   ]
  },
  {
   "cell_type": "code",
   "execution_count": 1,
   "id": "860bcc64",
   "metadata": {
    "execution": {
     "iopub.execute_input": "2021-12-19T09:21:20.281176Z",
     "iopub.status.busy": "2021-12-19T09:21:20.279994Z",
     "iopub.status.idle": "2021-12-19T09:21:22.569590Z",
     "shell.execute_reply": "2021-12-19T09:21:22.570223Z",
     "shell.execute_reply.started": "2021-12-19T09:12:10.540491Z"
    },
    "papermill": {
     "duration": 2.310597,
     "end_time": "2021-12-19T09:21:22.570539",
     "exception": false,
     "start_time": "2021-12-19T09:21:20.259942",
     "status": "completed"
    },
    "tags": []
   },
   "outputs": [
    {
     "name": "stdout",
     "output_type": "stream",
     "text": [
      "Setup Complete\n"
     ]
    }
   ],
   "source": [
    "# Set up code checking\n",
    "import os\n",
    "if not os.path.exists(\"../input/train.csv\"):\n",
    "    os.symlink(\"../input/home-data-for-ml-course/train.csv\", \"../input/train.csv\")  \n",
    "    os.symlink(\"../input/home-data-for-ml-course/test.csv\", \"../input/test.csv\") \n",
    "from learntools.core import binder\n",
    "binder.bind(globals())\n",
    "from learntools.ml_intermediate.ex6 import *\n",
    "print(\"Setup Complete\")"
   ]
  },
  {
   "cell_type": "markdown",
   "id": "7d64d364",
   "metadata": {
    "papermill": {
     "duration": 0.017254,
     "end_time": "2021-12-19T09:21:22.606800",
     "exception": false,
     "start_time": "2021-12-19T09:21:22.589546",
     "status": "completed"
    },
    "tags": []
   },
   "source": [
    "You will work with the [Housing Prices Competition for Kaggle Learn Users](https://www.kaggle.com/c/home-data-for-ml-course) dataset from the previous exercise. \n",
    "\n",
    "![Ames Housing dataset image](https://i.imgur.com/lTJVG4e.png)\n",
    "\n",
    "Run the next code cell without changes to load the training and validation sets in `X_train`, `X_valid`, `y_train`, and `y_valid`.  The test set is loaded in `X_test`."
   ]
  },
  {
   "cell_type": "code",
   "execution_count": 2,
   "id": "ced8d097",
   "metadata": {
    "execution": {
     "iopub.execute_input": "2021-12-19T09:21:22.653444Z",
     "iopub.status.busy": "2021-12-19T09:21:22.652543Z",
     "iopub.status.idle": "2021-12-19T09:21:22.834213Z",
     "shell.execute_reply": "2021-12-19T09:21:22.833648Z",
     "shell.execute_reply.started": "2021-12-19T09:12:11.670388Z"
    },
    "papermill": {
     "duration": 0.209995,
     "end_time": "2021-12-19T09:21:22.834345",
     "exception": false,
     "start_time": "2021-12-19T09:21:22.624350",
     "status": "completed"
    },
    "tags": []
   },
   "outputs": [],
   "source": [
    "import pandas as pd\n",
    "from sklearn.model_selection import train_test_split\n",
    "\n",
    "# Read the data\n",
    "X = pd.read_csv('../input/train.csv', index_col='Id')\n",
    "X_test_full = pd.read_csv('../input/test.csv', index_col='Id')\n",
    "\n",
    "# Remove rows with missing target, separate target from predictors\n",
    "X.dropna(axis=0, subset=['SalePrice'], inplace=True)\n",
    "y = X.SalePrice              \n",
    "X.drop(['SalePrice'], axis=1, inplace=True)\n",
    "\n",
    "# Break off validation set from training data\n",
    "X_train_full, X_valid_full, y_train, y_valid = train_test_split(X, y, train_size=0.8, test_size=0.2,\n",
    "                                                                random_state=0)\n",
    "\n",
    "# \"Cardinality\" means the number of unique values in a column\n",
    "# Select categorical columns with relatively low cardinality (convenient but arbitrary)\n",
    "low_cardinality_cols = [cname for cname in X_train_full.columns if X_train_full[cname].nunique() < 10 and \n",
    "                        X_train_full[cname].dtype == \"object\"]\n",
    "\n",
    "# Select numeric columns\n",
    "numeric_cols = [cname for cname in X_train_full.columns if X_train_full[cname].dtype in ['int64', 'float64']]\n",
    "\n",
    "# Keep selected columns only\n",
    "my_cols = low_cardinality_cols + numeric_cols\n",
    "X_train = X_train_full[my_cols].copy()\n",
    "X_valid = X_valid_full[my_cols].copy()\n",
    "X_test = X_test_full[my_cols].copy()\n",
    "\n",
    "# One-hot encode the data (to shorten the code, we use pandas)\n",
    "X_train = pd.get_dummies(X_train)\n",
    "X_valid = pd.get_dummies(X_valid)\n",
    "X_test = pd.get_dummies(X_test)\n",
    "X_train, X_valid = X_train.align(X_valid, join='left', axis=1)\n",
    "X_train, X_test = X_train.align(X_test, join='left', axis=1)"
   ]
  },
  {
   "cell_type": "code",
   "execution_count": 3,
   "id": "186f0145",
   "metadata": {
    "execution": {
     "iopub.execute_input": "2021-12-19T09:21:22.877236Z",
     "iopub.status.busy": "2021-12-19T09:21:22.876613Z",
     "iopub.status.idle": "2021-12-19T09:21:22.897208Z",
     "shell.execute_reply": "2021-12-19T09:21:22.897703Z",
     "shell.execute_reply.started": "2021-12-19T09:12:11.872160Z"
    },
    "papermill": {
     "duration": 0.046047,
     "end_time": "2021-12-19T09:21:22.897862",
     "exception": false,
     "start_time": "2021-12-19T09:21:22.851815",
     "status": "completed"
    },
    "tags": []
   },
   "outputs": [
    {
     "data": {
      "text/html": [
       "<div>\n",
       "<style scoped>\n",
       "    .dataframe tbody tr th:only-of-type {\n",
       "        vertical-align: middle;\n",
       "    }\n",
       "\n",
       "    .dataframe tbody tr th {\n",
       "        vertical-align: top;\n",
       "    }\n",
       "\n",
       "    .dataframe thead th {\n",
       "        text-align: right;\n",
       "    }\n",
       "</style>\n",
       "<table border=\"1\" class=\"dataframe\">\n",
       "  <thead>\n",
       "    <tr style=\"text-align: right;\">\n",
       "      <th></th>\n",
       "      <th>MSSubClass</th>\n",
       "      <th>LotFrontage</th>\n",
       "      <th>LotArea</th>\n",
       "      <th>OverallQual</th>\n",
       "      <th>OverallCond</th>\n",
       "      <th>YearBuilt</th>\n",
       "      <th>YearRemodAdd</th>\n",
       "      <th>MasVnrArea</th>\n",
       "      <th>BsmtFinSF1</th>\n",
       "      <th>BsmtFinSF2</th>\n",
       "      <th>...</th>\n",
       "      <th>SaleType_ConLw</th>\n",
       "      <th>SaleType_New</th>\n",
       "      <th>SaleType_Oth</th>\n",
       "      <th>SaleType_WD</th>\n",
       "      <th>SaleCondition_Abnorml</th>\n",
       "      <th>SaleCondition_AdjLand</th>\n",
       "      <th>SaleCondition_Alloca</th>\n",
       "      <th>SaleCondition_Family</th>\n",
       "      <th>SaleCondition_Normal</th>\n",
       "      <th>SaleCondition_Partial</th>\n",
       "    </tr>\n",
       "    <tr>\n",
       "      <th>Id</th>\n",
       "      <th></th>\n",
       "      <th></th>\n",
       "      <th></th>\n",
       "      <th></th>\n",
       "      <th></th>\n",
       "      <th></th>\n",
       "      <th></th>\n",
       "      <th></th>\n",
       "      <th></th>\n",
       "      <th></th>\n",
       "      <th></th>\n",
       "      <th></th>\n",
       "      <th></th>\n",
       "      <th></th>\n",
       "      <th></th>\n",
       "      <th></th>\n",
       "      <th></th>\n",
       "      <th></th>\n",
       "      <th></th>\n",
       "      <th></th>\n",
       "      <th></th>\n",
       "    </tr>\n",
       "  </thead>\n",
       "  <tbody>\n",
       "    <tr>\n",
       "      <th>619</th>\n",
       "      <td>20</td>\n",
       "      <td>90.0</td>\n",
       "      <td>11694</td>\n",
       "      <td>9</td>\n",
       "      <td>5</td>\n",
       "      <td>2007</td>\n",
       "      <td>2007</td>\n",
       "      <td>452.0</td>\n",
       "      <td>48</td>\n",
       "      <td>0</td>\n",
       "      <td>...</td>\n",
       "      <td>0</td>\n",
       "      <td>1</td>\n",
       "      <td>0</td>\n",
       "      <td>0</td>\n",
       "      <td>0</td>\n",
       "      <td>0</td>\n",
       "      <td>0</td>\n",
       "      <td>0</td>\n",
       "      <td>0</td>\n",
       "      <td>1</td>\n",
       "    </tr>\n",
       "    <tr>\n",
       "      <th>871</th>\n",
       "      <td>20</td>\n",
       "      <td>60.0</td>\n",
       "      <td>6600</td>\n",
       "      <td>5</td>\n",
       "      <td>5</td>\n",
       "      <td>1962</td>\n",
       "      <td>1962</td>\n",
       "      <td>0.0</td>\n",
       "      <td>0</td>\n",
       "      <td>0</td>\n",
       "      <td>...</td>\n",
       "      <td>0</td>\n",
       "      <td>0</td>\n",
       "      <td>0</td>\n",
       "      <td>1</td>\n",
       "      <td>0</td>\n",
       "      <td>0</td>\n",
       "      <td>0</td>\n",
       "      <td>0</td>\n",
       "      <td>1</td>\n",
       "      <td>0</td>\n",
       "    </tr>\n",
       "    <tr>\n",
       "      <th>93</th>\n",
       "      <td>30</td>\n",
       "      <td>80.0</td>\n",
       "      <td>13360</td>\n",
       "      <td>5</td>\n",
       "      <td>7</td>\n",
       "      <td>1921</td>\n",
       "      <td>2006</td>\n",
       "      <td>0.0</td>\n",
       "      <td>713</td>\n",
       "      <td>0</td>\n",
       "      <td>...</td>\n",
       "      <td>0</td>\n",
       "      <td>0</td>\n",
       "      <td>0</td>\n",
       "      <td>1</td>\n",
       "      <td>0</td>\n",
       "      <td>0</td>\n",
       "      <td>0</td>\n",
       "      <td>0</td>\n",
       "      <td>1</td>\n",
       "      <td>0</td>\n",
       "    </tr>\n",
       "    <tr>\n",
       "      <th>818</th>\n",
       "      <td>20</td>\n",
       "      <td>NaN</td>\n",
       "      <td>13265</td>\n",
       "      <td>8</td>\n",
       "      <td>5</td>\n",
       "      <td>2002</td>\n",
       "      <td>2002</td>\n",
       "      <td>148.0</td>\n",
       "      <td>1218</td>\n",
       "      <td>0</td>\n",
       "      <td>...</td>\n",
       "      <td>0</td>\n",
       "      <td>0</td>\n",
       "      <td>0</td>\n",
       "      <td>1</td>\n",
       "      <td>0</td>\n",
       "      <td>0</td>\n",
       "      <td>0</td>\n",
       "      <td>0</td>\n",
       "      <td>1</td>\n",
       "      <td>0</td>\n",
       "    </tr>\n",
       "    <tr>\n",
       "      <th>303</th>\n",
       "      <td>20</td>\n",
       "      <td>118.0</td>\n",
       "      <td>13704</td>\n",
       "      <td>7</td>\n",
       "      <td>5</td>\n",
       "      <td>2001</td>\n",
       "      <td>2002</td>\n",
       "      <td>150.0</td>\n",
       "      <td>0</td>\n",
       "      <td>0</td>\n",
       "      <td>...</td>\n",
       "      <td>0</td>\n",
       "      <td>0</td>\n",
       "      <td>0</td>\n",
       "      <td>1</td>\n",
       "      <td>0</td>\n",
       "      <td>0</td>\n",
       "      <td>0</td>\n",
       "      <td>0</td>\n",
       "      <td>1</td>\n",
       "      <td>0</td>\n",
       "    </tr>\n",
       "  </tbody>\n",
       "</table>\n",
       "<p>5 rows × 227 columns</p>\n",
       "</div>"
      ],
      "text/plain": [
       "     MSSubClass  LotFrontage  LotArea  OverallQual  OverallCond  YearBuilt  \\\n",
       "Id                                                                           \n",
       "619          20         90.0    11694            9            5       2007   \n",
       "871          20         60.0     6600            5            5       1962   \n",
       "93           30         80.0    13360            5            7       1921   \n",
       "818          20          NaN    13265            8            5       2002   \n",
       "303          20        118.0    13704            7            5       2001   \n",
       "\n",
       "     YearRemodAdd  MasVnrArea  BsmtFinSF1  BsmtFinSF2  ...  SaleType_ConLw  \\\n",
       "Id                                                     ...                   \n",
       "619          2007       452.0          48           0  ...               0   \n",
       "871          1962         0.0           0           0  ...               0   \n",
       "93           2006         0.0         713           0  ...               0   \n",
       "818          2002       148.0        1218           0  ...               0   \n",
       "303          2002       150.0           0           0  ...               0   \n",
       "\n",
       "     SaleType_New  SaleType_Oth  SaleType_WD  SaleCondition_Abnorml  \\\n",
       "Id                                                                    \n",
       "619             1             0            0                      0   \n",
       "871             0             0            1                      0   \n",
       "93              0             0            1                      0   \n",
       "818             0             0            1                      0   \n",
       "303             0             0            1                      0   \n",
       "\n",
       "     SaleCondition_AdjLand  SaleCondition_Alloca  SaleCondition_Family  \\\n",
       "Id                                                                       \n",
       "619                      0                     0                     0   \n",
       "871                      0                     0                     0   \n",
       "93                       0                     0                     0   \n",
       "818                      0                     0                     0   \n",
       "303                      0                     0                     0   \n",
       "\n",
       "     SaleCondition_Normal  SaleCondition_Partial  \n",
       "Id                                                \n",
       "619                     0                      1  \n",
       "871                     1                      0  \n",
       "93                      1                      0  \n",
       "818                     1                      0  \n",
       "303                     1                      0  \n",
       "\n",
       "[5 rows x 227 columns]"
      ]
     },
     "execution_count": 3,
     "metadata": {},
     "output_type": "execute_result"
    }
   ],
   "source": [
    "X_train.head()"
   ]
  },
  {
   "cell_type": "markdown",
   "id": "df08e3b4",
   "metadata": {
    "papermill": {
     "duration": 0.017174,
     "end_time": "2021-12-19T09:21:22.932967",
     "exception": false,
     "start_time": "2021-12-19T09:21:22.915793",
     "status": "completed"
    },
    "tags": []
   },
   "source": [
    "# Step 1: Build model\n",
    "\n",
    "### Part A\n",
    "\n",
    "In this step, you'll build and train your first model with gradient boosting.\n",
    "\n",
    "- Begin by setting `my_model_1` to an XGBoost model.  Use the [XGBRegressor](https://xgboost.readthedocs.io/en/latest/python/python_api.html#xgboost.XGBRegressor) class, and set the random seed to 0 (`random_state=0`).  **Leave all other parameters as default.**\n",
    "- Then, fit the model to the training data in `X_train` and `y_train`."
   ]
  },
  {
   "cell_type": "code",
   "execution_count": 4,
   "id": "f7f86cc1",
   "metadata": {
    "execution": {
     "iopub.execute_input": "2021-12-19T09:21:22.970530Z",
     "iopub.status.busy": "2021-12-19T09:21:22.969869Z",
     "iopub.status.idle": "2021-12-19T09:21:23.855316Z",
     "shell.execute_reply": "2021-12-19T09:21:23.854750Z",
     "shell.execute_reply.started": "2021-12-19T09:12:11.901732Z"
    },
    "papermill": {
     "duration": 0.904896,
     "end_time": "2021-12-19T09:21:23.855470",
     "exception": false,
     "start_time": "2021-12-19T09:21:22.950574",
     "status": "completed"
    },
    "tags": []
   },
   "outputs": [
    {
     "data": {
      "application/javascript": [
       "parent.postMessage({\"jupyterEvent\": \"custom.exercise_interaction\", \"data\": {\"outcomeType\": 1, \"valueTowardsCompletion\": 0.5, \"interactionType\": 1, \"questionType\": 2, \"questionId\": \"1.1_Model1A\", \"learnToolsVersion\": \"0.3.4\", \"failureMessage\": \"\", \"exceptionClass\": \"\", \"trace\": \"\"}}, \"*\")"
      ],
      "text/plain": [
       "<IPython.core.display.Javascript object>"
      ]
     },
     "metadata": {},
     "output_type": "display_data"
    },
    {
     "data": {
      "text/markdown": [
       "<span style=\"color:#33cc33\">Correct</span>"
      ],
      "text/plain": [
       "Correct"
      ]
     },
     "metadata": {},
     "output_type": "display_data"
    }
   ],
   "source": [
    "from xgboost import XGBRegressor\n",
    "\n",
    "# Define the model\n",
    "my_model_1 = XGBRegressor(random_state=0)\n",
    "# Your code here\n",
    "\n",
    "# Fit the model\n",
    "my_model_1.fit(X_train,y_train)\n",
    "# Your code here\n",
    "\n",
    "# Check your answer\n",
    "step_1.a.check()"
   ]
  },
  {
   "cell_type": "code",
   "execution_count": 5,
   "id": "53a8c1de",
   "metadata": {
    "execution": {
     "iopub.execute_input": "2021-12-19T09:21:23.896461Z",
     "iopub.status.busy": "2021-12-19T09:21:23.895750Z",
     "iopub.status.idle": "2021-12-19T09:21:23.898449Z",
     "shell.execute_reply": "2021-12-19T09:21:23.898906Z",
     "shell.execute_reply.started": "2021-12-19T09:12:12.831479Z"
    },
    "papermill": {
     "duration": 0.024822,
     "end_time": "2021-12-19T09:21:23.899080",
     "exception": false,
     "start_time": "2021-12-19T09:21:23.874258",
     "status": "completed"
    },
    "tags": []
   },
   "outputs": [],
   "source": [
    "# Lines below will give you a hint or solution code\n",
    "#step_1.a.hint()\n",
    "#step_1.a.solution()"
   ]
  },
  {
   "cell_type": "markdown",
   "id": "c38a2dc9",
   "metadata": {
    "papermill": {
     "duration": 0.019114,
     "end_time": "2021-12-19T09:21:23.937538",
     "exception": false,
     "start_time": "2021-12-19T09:21:23.918424",
     "status": "completed"
    },
    "tags": []
   },
   "source": [
    "### Part B\n",
    "\n",
    "Set `predictions_1` to the model's predictions for the validation data.  Recall that the validation features are stored in `X_valid`."
   ]
  },
  {
   "cell_type": "code",
   "execution_count": 6,
   "id": "4efb815e",
   "metadata": {
    "execution": {
     "iopub.execute_input": "2021-12-19T09:21:23.978836Z",
     "iopub.status.busy": "2021-12-19T09:21:23.978238Z",
     "iopub.status.idle": "2021-12-19T09:21:24.000676Z",
     "shell.execute_reply": "2021-12-19T09:21:24.001833Z",
     "shell.execute_reply.started": "2021-12-19T09:13:11.386906Z"
    },
    "papermill": {
     "duration": 0.045258,
     "end_time": "2021-12-19T09:21:24.002016",
     "exception": false,
     "start_time": "2021-12-19T09:21:23.956758",
     "status": "completed"
    },
    "tags": []
   },
   "outputs": [
    {
     "data": {
      "application/javascript": [
       "parent.postMessage({\"jupyterEvent\": \"custom.exercise_interaction\", \"data\": {\"outcomeType\": 1, \"valueTowardsCompletion\": 0.5, \"interactionType\": 1, \"questionType\": 2, \"questionId\": \"1.2_Model1B\", \"learnToolsVersion\": \"0.3.4\", \"failureMessage\": \"\", \"exceptionClass\": \"\", \"trace\": \"\"}}, \"*\")"
      ],
      "text/plain": [
       "<IPython.core.display.Javascript object>"
      ]
     },
     "metadata": {},
     "output_type": "display_data"
    },
    {
     "data": {
      "text/markdown": [
       "<span style=\"color:#33cc33\">Correct</span>"
      ],
      "text/plain": [
       "Correct"
      ]
     },
     "metadata": {},
     "output_type": "display_data"
    }
   ],
   "source": [
    "from sklearn.metrics import mean_absolute_error\n",
    "\n",
    "# Get predictions\n",
    "predictions_1 = my_model_1.predict(X_valid)\n",
    "# Your code here\n",
    "\n",
    "# Check your answer\n",
    "step_1.b.check()"
   ]
  },
  {
   "cell_type": "code",
   "execution_count": 7,
   "id": "ec28b922",
   "metadata": {
    "execution": {
     "iopub.execute_input": "2021-12-19T09:21:24.051873Z",
     "iopub.status.busy": "2021-12-19T09:21:24.051227Z",
     "iopub.status.idle": "2021-12-19T09:21:24.053720Z",
     "shell.execute_reply": "2021-12-19T09:21:24.054148Z",
     "shell.execute_reply.started": "2021-12-19T09:13:24.849788Z"
    },
    "papermill": {
     "duration": 0.031014,
     "end_time": "2021-12-19T09:21:24.054330",
     "exception": false,
     "start_time": "2021-12-19T09:21:24.023316",
     "status": "completed"
    },
    "tags": []
   },
   "outputs": [
    {
     "data": {
      "text/plain": [
       "array([180517.48 , 147601.61 , 110418.016, 215847.9  ,  91681.88 ,\n",
       "       111870.805, 263483.72 , 148291.75 , 437694.56 , 161465.7  ,\n",
       "       185297.62 , 136833.62 , 233315.   , 121832.3  , 117813.96 ,\n",
       "       146678.56 , 224207.3  , 125697.555, 136710.3  , 192880.52 ,\n",
       "       128928.86 , 143064.06 , 110618.305, 157551.58 , 188069.22 ,\n",
       "       168270.64 , 180631.4  ,  72046.71 , 318782.62 , 101511.87 ,\n",
       "       119958.695, 183278.23 , 140170.33 , 267998.06 , 350595.5  ,\n",
       "       197427.33 , 303507.1  , 117701.734, 220137.88 , 316072.5  ,\n",
       "       238313.42 , 125487.84 , 187199.5  , 300181.97 , 290329.   ,\n",
       "       151480.44 , 123265.336, 131302.06 , 164329.92 ,  94760.18 ,\n",
       "       424280.53 , 144024.98 , 172232.47 ,  77216.875, 219971.62 ,\n",
       "       108312.39 , 144846.08 , 247667.4  , 141727.27 , 102231.555,\n",
       "       128807.63 , 132450.42 , 148109.34 , 164187.42 , 201151.25 ,\n",
       "       162853.72 , 131784.73 , 232565.34 , 120255.62 , 190808.64 ,\n",
       "       183987.61 , 132344.03 ,  78886.01 , 248834.08 ,  95061.55 ,\n",
       "       275745.9  , 120209.72 , 110833.74 , 283469.06 , 164837.05 ,\n",
       "       129709.42 , 129070.79 , 126978.234, 150255.11 , 202975.77 ,\n",
       "       199467.89 , 117296.09 , 197930.36 , 173342.45 , 141598.42 ,\n",
       "       198829.05 , 187153.52 , 185617.08 , 225451.12 , 169115.3  ,\n",
       "       138391.92 , 216383.77 , 167670.17 , 122875.56 , 146312.66 ,\n",
       "       249319.86 , 204821.58 , 122555.17 , 166206.05 ,  98512.914,\n",
       "       288124.7  , 152305.73 ,  99112.68 , 169100.33 , 119560.766,\n",
       "        88610.84 , 117071.24 , 209725.45 , 135692.78 , 164248.9  ,\n",
       "       159659.66 , 463843.34 , 128139.484, 193929.11 , 266226.78 ,\n",
       "       153947.4  , 165009.88 , 130009.516, 191727.45 , 221471.53 ,\n",
       "       212323.61 , 388514.5  , 193271.92 , 236343.25 , 162180.03 ,\n",
       "       168297.   , 195769.44 , 137027.53 , 177320.6  ,  94262.56 ,\n",
       "       227853.97 , 151931.27 , 178064.28 , 110270.86 , 161432.86 ,\n",
       "       146720.14 , 161949.03 , 246835.6  , 145050.2  , 156142.38 ,\n",
       "       171008.84 , 230444.66 , 146319.94 , 269246.   , 237558.94 ,\n",
       "       171928.11 , 375855.4  , 294487.8  , 155698.25 , 212771.1  ,\n",
       "       262385.8  , 128525.2  , 188863.92 , 125986.836, 176248.4  ,\n",
       "       125979.414, 145043.1  , 177991.12 , 108031.5  , 229381.1  ,\n",
       "       131601.27 , 167992.75 , 278273.97 , 184930.12 , 175036.48 ,\n",
       "       184800.83 , 150738.95 , 194736.16 , 166625.92 , 126537.44 ,\n",
       "       108436.62 , 140173.28 , 248892.78 ,  90940.016, 135388.94 ,\n",
       "       255148.28 , 200589.95 , 113114.22 , 307032.34 , 114293.06 ,\n",
       "       185644.92 ,  97640.15 , 195144.72 , 195602.61 , 135324.27 ,\n",
       "       136741.33 , 179384.3  , 205001.66 , 134860.2  , 128181.484,\n",
       "       155333.12 ,  79247.98 , 140153.78 , 172600.1  , 114506.35 ,\n",
       "       123148.055, 210618.16 , 114671.42 , 127186.23 , 135488.08 ,\n",
       "       183149.52 , 143863.55 , 338513.06 , 264386.7  ,  72928.6  ,\n",
       "       144264.34 , 275426.2  ,  92487.69 , 105343.03 , 354612.97 ,\n",
       "       225184.67 , 176059.97 , 297495.53 , 263818.5  ,  79240.67 ,\n",
       "       189836.56 , 148291.42 , 138269.19 , 120598.85 , 213279.2  ,\n",
       "       265941.8  , 236022.64 , 227716.12 , 131154.5  , 175107.81 ,\n",
       "        94839.68 , 153391.8  ,  96470.35 , 134738.05 , 235598.61 ,\n",
       "       129303.95 , 128798.48 , 119262.36 ,  87119.84 , 172380.   ,\n",
       "       108871.7  , 198369.38 , 193379.92 , 208486.22 , 173693.08 ,\n",
       "       170677.4  , 222781.67 , 188734.22 , 143519.5  , 198512.84 ,\n",
       "       179081.84 , 277090.75 ,  88492.125, 437903.38 , 248599.2  ,\n",
       "       229395.97 , 102154.945, 200606.27 , 376231.3  , 240874.9  ,\n",
       "       235062.66 , 109102.46 , 130005.48 , 104644.91 , 418331.97 ,\n",
       "       328011.06 , 356338.16 ,  74192.26 , 230947.44 , 265552.75 ,\n",
       "       131763.19 , 257006.05 , 148668.19 , 177287.08 , 117225.27 ,\n",
       "       241551.28 , 245856.98 , 184725.92 , 220352.66 , 117282.49 ,\n",
       "       126877.41 , 361860.2  , 166568.66 , 100755.58 , 192121.23 ,\n",
       "       158833.31 , 122723.336, 266899.66 , 473221.66 , 168579.64 ,\n",
       "        81060.09 ,  92210.27 ], dtype=float32)"
      ]
     },
     "execution_count": 7,
     "metadata": {},
     "output_type": "execute_result"
    }
   ],
   "source": [
    "predictions_1"
   ]
  },
  {
   "cell_type": "code",
   "execution_count": 8,
   "id": "d84d85b0",
   "metadata": {
    "execution": {
     "iopub.execute_input": "2021-12-19T09:21:24.098614Z",
     "iopub.status.busy": "2021-12-19T09:21:24.097982Z",
     "iopub.status.idle": "2021-12-19T09:21:24.100422Z",
     "shell.execute_reply": "2021-12-19T09:21:24.100855Z",
     "shell.execute_reply.started": "2021-12-19T09:12:42.409879Z"
    },
    "papermill": {
     "duration": 0.026681,
     "end_time": "2021-12-19T09:21:24.101008",
     "exception": false,
     "start_time": "2021-12-19T09:21:24.074327",
     "status": "completed"
    },
    "tags": []
   },
   "outputs": [],
   "source": [
    "# Lines below will give you a hint or solution code\n",
    "#step_1.b.hint()\n",
    "#step_1.b.solution()"
   ]
  },
  {
   "cell_type": "markdown",
   "id": "793f04ee",
   "metadata": {
    "papermill": {
     "duration": 0.019802,
     "end_time": "2021-12-19T09:21:24.141344",
     "exception": false,
     "start_time": "2021-12-19T09:21:24.121542",
     "status": "completed"
    },
    "tags": []
   },
   "source": [
    "### Part C\n",
    "\n",
    "Finally, use the `mean_absolute_error()` function to calculate the mean absolute error (MAE) corresponding to the predictions for the validation set.  Recall that the labels for the validation data are stored in `y_valid`."
   ]
  },
  {
   "cell_type": "code",
   "execution_count": 9,
   "id": "cc5c8a0c",
   "metadata": {
    "execution": {
     "iopub.execute_input": "2021-12-19T09:21:24.183525Z",
     "iopub.status.busy": "2021-12-19T09:21:24.182872Z",
     "iopub.status.idle": "2021-12-19T09:21:24.190188Z",
     "shell.execute_reply": "2021-12-19T09:21:24.190699Z",
     "shell.execute_reply.started": "2021-12-19T09:14:40.440561Z"
    },
    "papermill": {
     "duration": 0.030064,
     "end_time": "2021-12-19T09:21:24.190855",
     "exception": false,
     "start_time": "2021-12-19T09:21:24.160791",
     "status": "completed"
    },
    "tags": []
   },
   "outputs": [
    {
     "name": "stdout",
     "output_type": "stream",
     "text": [
      "Mean Absolute Error: 17662.736729452055\n"
     ]
    },
    {
     "data": {
      "application/javascript": [
       "parent.postMessage({\"jupyterEvent\": \"custom.exercise_interaction\", \"data\": {\"outcomeType\": 1, \"valueTowardsCompletion\": 0.5, \"interactionType\": 1, \"questionType\": 2, \"questionId\": \"1.3_Model1C\", \"learnToolsVersion\": \"0.3.4\", \"failureMessage\": \"\", \"exceptionClass\": \"\", \"trace\": \"\"}}, \"*\")"
      ],
      "text/plain": [
       "<IPython.core.display.Javascript object>"
      ]
     },
     "metadata": {},
     "output_type": "display_data"
    },
    {
     "data": {
      "text/markdown": [
       "<span style=\"color:#33cc33\">Correct</span>"
      ],
      "text/plain": [
       "Correct"
      ]
     },
     "metadata": {},
     "output_type": "display_data"
    }
   ],
   "source": [
    "# Calculate MAE\n",
    "mae_1 = mean_absolute_error(y_valid,predictions_1) # Your code here\n",
    "\n",
    "# Uncomment to print MAE\n",
    "print(\"Mean Absolute Error:\" , mae_1)\n",
    "\n",
    "# Check your answer\n",
    "step_1.c.check()"
   ]
  },
  {
   "cell_type": "code",
   "execution_count": 10,
   "id": "c0092a18",
   "metadata": {
    "execution": {
     "iopub.execute_input": "2021-12-19T09:21:24.236162Z",
     "iopub.status.busy": "2021-12-19T09:21:24.235553Z",
     "iopub.status.idle": "2021-12-19T09:21:24.241677Z",
     "shell.execute_reply": "2021-12-19T09:21:24.242123Z",
     "shell.execute_reply.started": "2021-12-19T09:14:47.546969Z"
    },
    "papermill": {
     "duration": 0.030182,
     "end_time": "2021-12-19T09:21:24.242307",
     "exception": false,
     "start_time": "2021-12-19T09:21:24.212125",
     "status": "completed"
    },
    "tags": []
   },
   "outputs": [
    {
     "data": {
      "application/javascript": [
       "parent.postMessage({\"jupyterEvent\": \"custom.exercise_interaction\", \"data\": {\"interactionType\": 2, \"questionType\": 2, \"questionId\": \"1.3_Model1C\", \"learnToolsVersion\": \"0.3.4\", \"valueTowardsCompletion\": 0.0, \"failureMessage\": \"\", \"exceptionClass\": \"\", \"trace\": \"\", \"outcomeType\": 4}}, \"*\")"
      ],
      "text/plain": [
       "<IPython.core.display.Javascript object>"
      ]
     },
     "metadata": {},
     "output_type": "display_data"
    },
    {
     "data": {
      "text/markdown": [
       "<span style=\"color:#3366cc\">Hint:</span> The `mean_absolute_error` function should take the predictions in `predictions_1` and the validation target in `y_valid` as arguments."
      ],
      "text/plain": [
       "Hint: The `mean_absolute_error` function should take the predictions in `predictions_1` and the validation target in `y_valid` as arguments."
      ]
     },
     "metadata": {},
     "output_type": "display_data"
    }
   ],
   "source": [
    "# Lines below will give you a hint or solution code\n",
    "step_1.c.hint()\n",
    "#step_1.c.solution()"
   ]
  },
  {
   "cell_type": "markdown",
   "id": "639b7f2e",
   "metadata": {
    "papermill": {
     "duration": 0.021838,
     "end_time": "2021-12-19T09:21:24.286398",
     "exception": false,
     "start_time": "2021-12-19T09:21:24.264560",
     "status": "completed"
    },
    "tags": []
   },
   "source": [
    "# Step 2: Improve the model\n",
    "\n",
    "Now that you've trained a default model as baseline, it's time to tinker with the parameters, to see if you can get better performance!\n",
    "- Begin by setting `my_model_2` to an XGBoost model, using the [XGBRegressor](https://xgboost.readthedocs.io/en/latest/python/python_api.html#xgboost.XGBRegressor) class.  Use what you learned in the previous tutorial to figure out how to change the default parameters (like `n_estimators` and `learning_rate`) to get better results.\n",
    "- Then, fit the model to the training data in `X_train` and `y_train`.\n",
    "- Set `predictions_2` to the model's predictions for the validation data.  Recall that the validation features are stored in `X_valid`.\n",
    "- Finally, use the `mean_absolute_error()` function to calculate the mean absolute error (MAE) corresponding to the predictions on the validation set.  Recall that the labels for the validation data are stored in `y_valid`.\n",
    "\n",
    "In order for this step to be marked correct, your model in `my_model_2` must attain lower MAE than the model in `my_model_1`. "
   ]
  },
  {
   "cell_type": "code",
   "execution_count": 11,
   "id": "f774353c",
   "metadata": {
    "execution": {
     "iopub.execute_input": "2021-12-19T09:21:24.333503Z",
     "iopub.status.busy": "2021-12-19T09:21:24.332564Z",
     "iopub.status.idle": "2021-12-19T09:21:33.676930Z",
     "shell.execute_reply": "2021-12-19T09:21:33.677594Z",
     "shell.execute_reply.started": "2021-12-19T09:18:09.401417Z"
    },
    "papermill": {
     "duration": 9.369637,
     "end_time": "2021-12-19T09:21:33.677776",
     "exception": false,
     "start_time": "2021-12-19T09:21:24.308139",
     "status": "completed"
    },
    "tags": []
   },
   "outputs": [
    {
     "name": "stdout",
     "output_type": "stream",
     "text": [
      "Mean Absolute Error: 16688.691513270547\n"
     ]
    },
    {
     "data": {
      "application/javascript": [
       "parent.postMessage({\"jupyterEvent\": \"custom.exercise_interaction\", \"data\": {\"outcomeType\": 1, \"valueTowardsCompletion\": 0.5, \"interactionType\": 1, \"questionType\": 2, \"questionId\": \"2_Model2\", \"learnToolsVersion\": \"0.3.4\", \"failureMessage\": \"\", \"exceptionClass\": \"\", \"trace\": \"\"}}, \"*\")"
      ],
      "text/plain": [
       "<IPython.core.display.Javascript object>"
      ]
     },
     "metadata": {},
     "output_type": "display_data"
    },
    {
     "data": {
      "text/markdown": [
       "<span style=\"color:#33cc33\">Correct</span>"
      ],
      "text/plain": [
       "Correct"
      ]
     },
     "metadata": {},
     "output_type": "display_data"
    }
   ],
   "source": [
    "# Define the model\n",
    "my_model_2 = XGBRegressor(n_estimators=1000,learning_rate=0.05)\n",
    "#your code here\n",
    "\n",
    "# Fit the model\n",
    "my_model_2.fit(X_train,y_train)\n",
    "# Your code here\n",
    "\n",
    "# Get predictions\n",
    "predictions_2 = my_model_2.predict(X_valid) # Your code here\n",
    "\n",
    "# Calculate MAE\n",
    "mae_2 = mean_absolute_error(predictions_2,y_valid) # Your code here\n",
    "\n",
    "# Uncomment to print MAE\n",
    "print(\"Mean Absolute Error:\" , mae_2)\n",
    "\n",
    "# Check your answer\n",
    "step_2.check()"
   ]
  },
  {
   "cell_type": "code",
   "execution_count": 12,
   "id": "6c3daff3",
   "metadata": {
    "execution": {
     "iopub.execute_input": "2021-12-19T09:21:33.733121Z",
     "iopub.status.busy": "2021-12-19T09:21:33.732282Z",
     "iopub.status.idle": "2021-12-19T09:21:33.736761Z",
     "shell.execute_reply": "2021-12-19T09:21:33.737261Z",
     "shell.execute_reply.started": "2021-12-19T09:18:33.764228Z"
    },
    "papermill": {
     "duration": 0.033079,
     "end_time": "2021-12-19T09:21:33.737418",
     "exception": false,
     "start_time": "2021-12-19T09:21:33.704339",
     "status": "completed"
    },
    "tags": []
   },
   "outputs": [
    {
     "data": {
      "application/javascript": [
       "parent.postMessage({\"jupyterEvent\": \"custom.exercise_interaction\", \"data\": {\"interactionType\": 2, \"questionType\": 2, \"questionId\": \"2_Model2\", \"learnToolsVersion\": \"0.3.4\", \"valueTowardsCompletion\": 0.0, \"failureMessage\": \"\", \"exceptionClass\": \"\", \"trace\": \"\", \"outcomeType\": 4}}, \"*\")"
      ],
      "text/plain": [
       "<IPython.core.display.Javascript object>"
      ]
     },
     "metadata": {},
     "output_type": "display_data"
    },
    {
     "data": {
      "text/markdown": [
       "<span style=\"color:#3366cc\">Hint:</span> In the official solution to this problem, we chose to increase the number of trees in the model (with the `n_estimators` parameter) and decrease the learning rate (with the `learning_rate` parameter)."
      ],
      "text/plain": [
       "Hint: In the official solution to this problem, we chose to increase the number of trees in the model (with the `n_estimators` parameter) and decrease the learning rate (with the `learning_rate` parameter)."
      ]
     },
     "metadata": {},
     "output_type": "display_data"
    }
   ],
   "source": [
    "# Lines below will give you a hint or solution code\n",
    "step_2.hint()\n",
    "#step_2.solution()"
   ]
  },
  {
   "cell_type": "markdown",
   "id": "fb99a5d3",
   "metadata": {
    "papermill": {
     "duration": 0.024235,
     "end_time": "2021-12-19T09:21:33.785804",
     "exception": false,
     "start_time": "2021-12-19T09:21:33.761569",
     "status": "completed"
    },
    "tags": []
   },
   "source": [
    "# Step 3: Break the model\n",
    "\n",
    "In this step, you will create a model that performs worse than the original model in Step 1.  This will help you to develop your intuition for how to set parameters.  You might even find that you accidentally get better performance, which is ultimately a nice problem to have and a valuable learning experience!\n",
    "- Begin by setting `my_model_3` to an XGBoost model, using the [XGBRegressor](https://xgboost.readthedocs.io/en/latest/python/python_api.html#xgboost.XGBRegressor) class.  Use what you learned in the previous tutorial to figure out how to change the default parameters (like `n_estimators` and `learning_rate`) to design a model to get high MAE.\n",
    "- Then, fit the model to the training data in `X_train` and `y_train`.\n",
    "- Set `predictions_3` to the model's predictions for the validation data.  Recall that the validation features are stored in `X_valid`.\n",
    "- Finally, use the `mean_absolute_error()` function to calculate the mean absolute error (MAE) corresponding to the predictions on the validation set.  Recall that the labels for the validation data are stored in `y_valid`.\n",
    "\n",
    "In order for this step to be marked correct, your model in `my_model_3` must attain higher MAE than the model in `my_model_1`. "
   ]
  },
  {
   "cell_type": "code",
   "execution_count": 13,
   "id": "aa5a0bcc",
   "metadata": {
    "execution": {
     "iopub.execute_input": "2021-12-19T09:21:33.838335Z",
     "iopub.status.busy": "2021-12-19T09:21:33.837697Z",
     "iopub.status.idle": "2021-12-19T09:21:33.904128Z",
     "shell.execute_reply": "2021-12-19T09:21:33.904708Z",
     "shell.execute_reply.started": "2021-12-19T09:20:47.155553Z"
    },
    "papermill": {
     "duration": 0.09452,
     "end_time": "2021-12-19T09:21:33.904899",
     "exception": false,
     "start_time": "2021-12-19T09:21:33.810379",
     "status": "completed"
    },
    "tags": []
   },
   "outputs": [
    {
     "name": "stdout",
     "output_type": "stream",
     "text": [
      "Mean Absolute Error: 127895.0828807256\n"
     ]
    },
    {
     "data": {
      "application/javascript": [
       "parent.postMessage({\"jupyterEvent\": \"custom.exercise_interaction\", \"data\": {\"outcomeType\": 1, \"valueTowardsCompletion\": 0.5, \"interactionType\": 1, \"questionType\": 2, \"questionId\": \"3_Model3\", \"learnToolsVersion\": \"0.3.4\", \"failureMessage\": \"\", \"exceptionClass\": \"\", \"trace\": \"\"}}, \"*\")"
      ],
      "text/plain": [
       "<IPython.core.display.Javascript object>"
      ]
     },
     "metadata": {},
     "output_type": "display_data"
    },
    {
     "data": {
      "text/markdown": [
       "<span style=\"color:#33cc33\">Correct</span>"
      ],
      "text/plain": [
       "Correct"
      ]
     },
     "metadata": {},
     "output_type": "display_data"
    }
   ],
   "source": [
    "# Define the model\n",
    "my_model_3 = XGBRegressor(n_estimators=1)\n",
    "\n",
    "# Fit the model\n",
    "my_model_3.fit(X_train,y_train)\n",
    "# Your code here\n",
    "\n",
    "# Get predictions\n",
    "predictions_3 = my_model_3.predict(X_valid)\n",
    "\n",
    "# Calculate MAE\n",
    "mae_3 = mean_absolute_error(predictions_3,y_valid)\n",
    "\n",
    "# Uncomment to print MAE\n",
    "print(\"Mean Absolute Error:\" , mae_3)\n",
    "\n",
    "# Check your answer\n",
    "step_3.check()"
   ]
  },
  {
   "cell_type": "code",
   "execution_count": 14,
   "id": "0303e673",
   "metadata": {
    "execution": {
     "iopub.execute_input": "2021-12-19T09:21:33.961252Z",
     "iopub.status.busy": "2021-12-19T09:21:33.960600Z",
     "iopub.status.idle": "2021-12-19T09:21:33.963309Z",
     "shell.execute_reply": "2021-12-19T09:21:33.963789Z",
     "shell.execute_reply.started": "2021-12-19T09:20:57.615178Z"
    },
    "papermill": {
     "duration": 0.032584,
     "end_time": "2021-12-19T09:21:33.963943",
     "exception": false,
     "start_time": "2021-12-19T09:21:33.931359",
     "status": "completed"
    },
    "tags": []
   },
   "outputs": [],
   "source": [
    "# Lines below will give you a hint or solution code\n",
    "#step_3.hint()\n",
    "#step_3.solution()"
   ]
  },
  {
   "cell_type": "markdown",
   "id": "d725ea30",
   "metadata": {
    "papermill": {
     "duration": 0.025528,
     "end_time": "2021-12-19T09:21:34.015380",
     "exception": false,
     "start_time": "2021-12-19T09:21:33.989852",
     "status": "completed"
    },
    "tags": []
   },
   "source": [
    "# Keep going\n",
    "\n",
    "Continue to learn about **[data leakage](https://www.kaggle.com/alexisbcook/data-leakage)**.  This is an important issue for a data scientist to understand, and it has the potential to ruin your models in subtle and dangerous ways!"
   ]
  },
  {
   "cell_type": "markdown",
   "id": "6e62a40a",
   "metadata": {
    "papermill": {
     "duration": 0.02583,
     "end_time": "2021-12-19T09:21:34.066309",
     "exception": false,
     "start_time": "2021-12-19T09:21:34.040479",
     "status": "completed"
    },
    "tags": []
   },
   "source": [
    "---\n",
    "\n",
    "\n",
    "\n",
    "\n",
    "*Have questions or comments? Visit the [course discussion forum](https://www.kaggle.com/learn/intermediate-machine-learning/discussion) to chat with other learners.*"
   ]
  }
 ],
 "metadata": {
  "kernelspec": {
   "display_name": "Python 3",
   "language": "python",
   "name": "python3"
  },
  "language_info": {
   "codemirror_mode": {
    "name": "ipython",
    "version": 3
   },
   "file_extension": ".py",
   "mimetype": "text/x-python",
   "name": "python",
   "nbconvert_exporter": "python",
   "pygments_lexer": "ipython3",
   "version": "3.7.12"
  },
  "papermill": {
   "default_parameters": {},
   "duration": 24.502739,
   "end_time": "2021-12-19T09:21:34.800621",
   "environment_variables": {},
   "exception": null,
   "input_path": "__notebook__.ipynb",
   "output_path": "__notebook__.ipynb",
   "parameters": {},
   "start_time": "2021-12-19T09:21:10.297882",
   "version": "2.3.3"
  }
 },
 "nbformat": 4,
 "nbformat_minor": 5
}
