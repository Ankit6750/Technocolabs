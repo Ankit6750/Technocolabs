{
 "cells": [
  {
   "cell_type": "markdown",
   "id": "bc011063",
   "metadata": {
    "papermill": {
     "duration": 0.043052,
     "end_time": "2021-12-18T18:22:26.941818",
     "exception": false,
     "start_time": "2021-12-18T18:22:26.898766",
     "status": "completed"
    },
    "tags": []
   },
   "source": [
    "**This notebook is an exercise in the [Intermediate Machine Learning](https://www.kaggle.com/learn/intermediate-machine-learning) course.  You can reference the tutorial at [this link](https://www.kaggle.com/alexisbcook/categorical-variables).**\n",
    "\n",
    "---\n"
   ]
  },
  {
   "cell_type": "markdown",
   "id": "60eea823",
   "metadata": {
    "papermill": {
     "duration": 0.041908,
     "end_time": "2021-12-18T18:22:27.026722",
     "exception": false,
     "start_time": "2021-12-18T18:22:26.984814",
     "status": "completed"
    },
    "tags": []
   },
   "source": [
    "By encoding **categorical variables**, you'll obtain your best results thus far!\n",
    "\n",
    "# Setup\n",
    "\n",
    "The questions below will give you feedback on your work. Run the following cell to set up the feedback system."
   ]
  },
  {
   "cell_type": "code",
   "execution_count": 1,
   "id": "4b83c9f8",
   "metadata": {
    "execution": {
     "iopub.execute_input": "2021-12-18T18:22:27.121706Z",
     "iopub.status.busy": "2021-12-18T18:22:27.120744Z",
     "iopub.status.idle": "2021-12-18T18:22:27.169467Z",
     "shell.execute_reply": "2021-12-18T18:22:27.168608Z",
     "shell.execute_reply.started": "2021-12-18T16:50:01.814249Z"
    },
    "papermill": {
     "duration": 0.101374,
     "end_time": "2021-12-18T18:22:27.169664",
     "exception": false,
     "start_time": "2021-12-18T18:22:27.068290",
     "status": "completed"
    },
    "tags": []
   },
   "outputs": [
    {
     "name": "stdout",
     "output_type": "stream",
     "text": [
      "Setup Complete\n"
     ]
    }
   ],
   "source": [
    "# Set up code checking\n",
    "import os\n",
    "if not os.path.exists(\"../input/train.csv\"):\n",
    "    os.symlink(\"../input/home-data-for-ml-course/train.csv\", \"../input/train.csv\")  \n",
    "    os.symlink(\"../input/home-data-for-ml-course/test.csv\", \"../input/test.csv\") \n",
    "from learntools.core import binder\n",
    "binder.bind(globals())\n",
    "from learntools.ml_intermediate.ex3 import *\n",
    "print(\"Setup Complete\")"
   ]
  },
  {
   "cell_type": "markdown",
   "id": "0bffc8e7",
   "metadata": {
    "papermill": {
     "duration": 0.041522,
     "end_time": "2021-12-18T18:22:27.255526",
     "exception": false,
     "start_time": "2021-12-18T18:22:27.214004",
     "status": "completed"
    },
    "tags": []
   },
   "source": [
    "In this exercise, you will work with data from the [Housing Prices Competition for Kaggle Learn Users](https://www.kaggle.com/c/home-data-for-ml-course). \n",
    "\n",
    "![Ames Housing dataset image](https://i.imgur.com/lTJVG4e.png)\n",
    "\n",
    "Run the next code cell without changes to load the training and validation sets in `X_train`, `X_valid`, `y_train`, and `y_valid`.  The test set is loaded in `X_test`."
   ]
  },
  {
   "cell_type": "code",
   "execution_count": 2,
   "id": "94a2a41b",
   "metadata": {
    "execution": {
     "iopub.execute_input": "2021-12-18T18:22:27.347622Z",
     "iopub.status.busy": "2021-12-18T18:22:27.346751Z",
     "iopub.status.idle": "2021-12-18T18:22:28.628220Z",
     "shell.execute_reply": "2021-12-18T18:22:28.627612Z",
     "shell.execute_reply.started": "2021-12-18T16:50:07.598587Z"
    },
    "papermill": {
     "duration": 1.33158,
     "end_time": "2021-12-18T18:22:28.628404",
     "exception": false,
     "start_time": "2021-12-18T18:22:27.296824",
     "status": "completed"
    },
    "tags": []
   },
   "outputs": [],
   "source": [
    "import pandas as pd\n",
    "from sklearn.model_selection import train_test_split\n",
    "\n",
    "# Read the data\n",
    "X = pd.read_csv('../input/train.csv', index_col='Id') \n",
    "X_test = pd.read_csv('../input/test.csv', index_col='Id')\n",
    "\n",
    "# Remove rows with missing target, separate target from predictors\n",
    "X.dropna(axis=0, subset=['SalePrice'], inplace=True)\n",
    "y = X.SalePrice\n",
    "X.drop(['SalePrice'], axis=1, inplace=True)\n",
    "\n",
    "# To keep things simple, we'll drop columns with missing values\n",
    "cols_with_missing = [col for col in X.columns if X[col].isnull().any()] \n",
    "X.drop(cols_with_missing, axis=1, inplace=True)\n",
    "X_test.drop(cols_with_missing, axis=1, inplace=True)\n",
    "\n",
    "# Break off validation set from training data\n",
    "X_train, X_valid, y_train, y_valid = train_test_split(X, y,\n",
    "                                                      train_size=0.8, test_size=0.2,\n",
    "                                                      random_state=0)"
   ]
  },
  {
   "cell_type": "markdown",
   "id": "643f0f27",
   "metadata": {
    "papermill": {
     "duration": 0.041165,
     "end_time": "2021-12-18T18:22:28.713105",
     "exception": false,
     "start_time": "2021-12-18T18:22:28.671940",
     "status": "completed"
    },
    "tags": []
   },
   "source": [
    "Use the next code cell to print the first five rows of the data."
   ]
  },
  {
   "cell_type": "code",
   "execution_count": 3,
   "id": "a66ba821",
   "metadata": {
    "execution": {
     "iopub.execute_input": "2021-12-18T18:22:28.807026Z",
     "iopub.status.busy": "2021-12-18T18:22:28.806335Z",
     "iopub.status.idle": "2021-12-18T18:22:28.831370Z",
     "shell.execute_reply": "2021-12-18T18:22:28.831863Z",
     "shell.execute_reply.started": "2021-12-18T16:50:11.453945Z"
    },
    "papermill": {
     "duration": 0.077319,
     "end_time": "2021-12-18T18:22:28.832070",
     "exception": false,
     "start_time": "2021-12-18T18:22:28.754751",
     "status": "completed"
    },
    "tags": []
   },
   "outputs": [
    {
     "data": {
      "text/html": [
       "<div>\n",
       "<style scoped>\n",
       "    .dataframe tbody tr th:only-of-type {\n",
       "        vertical-align: middle;\n",
       "    }\n",
       "\n",
       "    .dataframe tbody tr th {\n",
       "        vertical-align: top;\n",
       "    }\n",
       "\n",
       "    .dataframe thead th {\n",
       "        text-align: right;\n",
       "    }\n",
       "</style>\n",
       "<table border=\"1\" class=\"dataframe\">\n",
       "  <thead>\n",
       "    <tr style=\"text-align: right;\">\n",
       "      <th></th>\n",
       "      <th>MSSubClass</th>\n",
       "      <th>MSZoning</th>\n",
       "      <th>LotArea</th>\n",
       "      <th>Street</th>\n",
       "      <th>LotShape</th>\n",
       "      <th>LandContour</th>\n",
       "      <th>Utilities</th>\n",
       "      <th>LotConfig</th>\n",
       "      <th>LandSlope</th>\n",
       "      <th>Neighborhood</th>\n",
       "      <th>...</th>\n",
       "      <th>OpenPorchSF</th>\n",
       "      <th>EnclosedPorch</th>\n",
       "      <th>3SsnPorch</th>\n",
       "      <th>ScreenPorch</th>\n",
       "      <th>PoolArea</th>\n",
       "      <th>MiscVal</th>\n",
       "      <th>MoSold</th>\n",
       "      <th>YrSold</th>\n",
       "      <th>SaleType</th>\n",
       "      <th>SaleCondition</th>\n",
       "    </tr>\n",
       "    <tr>\n",
       "      <th>Id</th>\n",
       "      <th></th>\n",
       "      <th></th>\n",
       "      <th></th>\n",
       "      <th></th>\n",
       "      <th></th>\n",
       "      <th></th>\n",
       "      <th></th>\n",
       "      <th></th>\n",
       "      <th></th>\n",
       "      <th></th>\n",
       "      <th></th>\n",
       "      <th></th>\n",
       "      <th></th>\n",
       "      <th></th>\n",
       "      <th></th>\n",
       "      <th></th>\n",
       "      <th></th>\n",
       "      <th></th>\n",
       "      <th></th>\n",
       "      <th></th>\n",
       "      <th></th>\n",
       "    </tr>\n",
       "  </thead>\n",
       "  <tbody>\n",
       "    <tr>\n",
       "      <th>619</th>\n",
       "      <td>20</td>\n",
       "      <td>RL</td>\n",
       "      <td>11694</td>\n",
       "      <td>Pave</td>\n",
       "      <td>Reg</td>\n",
       "      <td>Lvl</td>\n",
       "      <td>AllPub</td>\n",
       "      <td>Inside</td>\n",
       "      <td>Gtl</td>\n",
       "      <td>NridgHt</td>\n",
       "      <td>...</td>\n",
       "      <td>108</td>\n",
       "      <td>0</td>\n",
       "      <td>0</td>\n",
       "      <td>260</td>\n",
       "      <td>0</td>\n",
       "      <td>0</td>\n",
       "      <td>7</td>\n",
       "      <td>2007</td>\n",
       "      <td>New</td>\n",
       "      <td>Partial</td>\n",
       "    </tr>\n",
       "    <tr>\n",
       "      <th>871</th>\n",
       "      <td>20</td>\n",
       "      <td>RL</td>\n",
       "      <td>6600</td>\n",
       "      <td>Pave</td>\n",
       "      <td>Reg</td>\n",
       "      <td>Lvl</td>\n",
       "      <td>AllPub</td>\n",
       "      <td>Inside</td>\n",
       "      <td>Gtl</td>\n",
       "      <td>NAmes</td>\n",
       "      <td>...</td>\n",
       "      <td>0</td>\n",
       "      <td>0</td>\n",
       "      <td>0</td>\n",
       "      <td>0</td>\n",
       "      <td>0</td>\n",
       "      <td>0</td>\n",
       "      <td>8</td>\n",
       "      <td>2009</td>\n",
       "      <td>WD</td>\n",
       "      <td>Normal</td>\n",
       "    </tr>\n",
       "    <tr>\n",
       "      <th>93</th>\n",
       "      <td>30</td>\n",
       "      <td>RL</td>\n",
       "      <td>13360</td>\n",
       "      <td>Pave</td>\n",
       "      <td>IR1</td>\n",
       "      <td>HLS</td>\n",
       "      <td>AllPub</td>\n",
       "      <td>Inside</td>\n",
       "      <td>Gtl</td>\n",
       "      <td>Crawfor</td>\n",
       "      <td>...</td>\n",
       "      <td>0</td>\n",
       "      <td>44</td>\n",
       "      <td>0</td>\n",
       "      <td>0</td>\n",
       "      <td>0</td>\n",
       "      <td>0</td>\n",
       "      <td>8</td>\n",
       "      <td>2009</td>\n",
       "      <td>WD</td>\n",
       "      <td>Normal</td>\n",
       "    </tr>\n",
       "    <tr>\n",
       "      <th>818</th>\n",
       "      <td>20</td>\n",
       "      <td>RL</td>\n",
       "      <td>13265</td>\n",
       "      <td>Pave</td>\n",
       "      <td>IR1</td>\n",
       "      <td>Lvl</td>\n",
       "      <td>AllPub</td>\n",
       "      <td>CulDSac</td>\n",
       "      <td>Gtl</td>\n",
       "      <td>Mitchel</td>\n",
       "      <td>...</td>\n",
       "      <td>59</td>\n",
       "      <td>0</td>\n",
       "      <td>0</td>\n",
       "      <td>0</td>\n",
       "      <td>0</td>\n",
       "      <td>0</td>\n",
       "      <td>7</td>\n",
       "      <td>2008</td>\n",
       "      <td>WD</td>\n",
       "      <td>Normal</td>\n",
       "    </tr>\n",
       "    <tr>\n",
       "      <th>303</th>\n",
       "      <td>20</td>\n",
       "      <td>RL</td>\n",
       "      <td>13704</td>\n",
       "      <td>Pave</td>\n",
       "      <td>IR1</td>\n",
       "      <td>Lvl</td>\n",
       "      <td>AllPub</td>\n",
       "      <td>Corner</td>\n",
       "      <td>Gtl</td>\n",
       "      <td>CollgCr</td>\n",
       "      <td>...</td>\n",
       "      <td>81</td>\n",
       "      <td>0</td>\n",
       "      <td>0</td>\n",
       "      <td>0</td>\n",
       "      <td>0</td>\n",
       "      <td>0</td>\n",
       "      <td>1</td>\n",
       "      <td>2006</td>\n",
       "      <td>WD</td>\n",
       "      <td>Normal</td>\n",
       "    </tr>\n",
       "  </tbody>\n",
       "</table>\n",
       "<p>5 rows × 60 columns</p>\n",
       "</div>"
      ],
      "text/plain": [
       "     MSSubClass MSZoning  LotArea Street LotShape LandContour Utilities  \\\n",
       "Id                                                                        \n",
       "619          20       RL    11694   Pave      Reg         Lvl    AllPub   \n",
       "871          20       RL     6600   Pave      Reg         Lvl    AllPub   \n",
       "93           30       RL    13360   Pave      IR1         HLS    AllPub   \n",
       "818          20       RL    13265   Pave      IR1         Lvl    AllPub   \n",
       "303          20       RL    13704   Pave      IR1         Lvl    AllPub   \n",
       "\n",
       "    LotConfig LandSlope Neighborhood  ... OpenPorchSF EnclosedPorch 3SsnPorch  \\\n",
       "Id                                    ...                                       \n",
       "619    Inside       Gtl      NridgHt  ...         108             0         0   \n",
       "871    Inside       Gtl        NAmes  ...           0             0         0   \n",
       "93     Inside       Gtl      Crawfor  ...           0            44         0   \n",
       "818   CulDSac       Gtl      Mitchel  ...          59             0         0   \n",
       "303    Corner       Gtl      CollgCr  ...          81             0         0   \n",
       "\n",
       "    ScreenPorch  PoolArea  MiscVal  MoSold  YrSold SaleType SaleCondition  \n",
       "Id                                                                         \n",
       "619         260         0        0       7    2007      New       Partial  \n",
       "871           0         0        0       8    2009       WD        Normal  \n",
       "93            0         0        0       8    2009       WD        Normal  \n",
       "818           0         0        0       7    2008       WD        Normal  \n",
       "303           0         0        0       1    2006       WD        Normal  \n",
       "\n",
       "[5 rows x 60 columns]"
      ]
     },
     "execution_count": 3,
     "metadata": {},
     "output_type": "execute_result"
    }
   ],
   "source": [
    "X_train.head()"
   ]
  },
  {
   "cell_type": "markdown",
   "id": "3c3f5109",
   "metadata": {
    "papermill": {
     "duration": 0.042515,
     "end_time": "2021-12-18T18:22:28.916696",
     "exception": false,
     "start_time": "2021-12-18T18:22:28.874181",
     "status": "completed"
    },
    "tags": []
   },
   "source": [
    "Notice that the dataset contains both numerical and categorical variables.  You'll need to encode the categorical data before training a model.\n",
    "\n",
    "To compare different models, you'll use the same `score_dataset()` function from the tutorial.  This function reports the [mean absolute error](https://en.wikipedia.org/wiki/Mean_absolute_error) (MAE) from a random forest model."
   ]
  },
  {
   "cell_type": "code",
   "execution_count": 4,
   "id": "35df9143",
   "metadata": {
    "execution": {
     "iopub.execute_input": "2021-12-18T18:22:29.009499Z",
     "iopub.status.busy": "2021-12-18T18:22:29.008684Z",
     "iopub.status.idle": "2021-12-18T18:22:29.217008Z",
     "shell.execute_reply": "2021-12-18T18:22:29.216323Z",
     "shell.execute_reply.started": "2021-12-18T16:50:26.244967Z"
    },
    "papermill": {
     "duration": 0.257527,
     "end_time": "2021-12-18T18:22:29.217172",
     "exception": false,
     "start_time": "2021-12-18T18:22:28.959645",
     "status": "completed"
    },
    "tags": []
   },
   "outputs": [],
   "source": [
    "from sklearn.ensemble import RandomForestRegressor\n",
    "from sklearn.metrics import mean_absolute_error\n",
    "\n",
    "# function for comparing different approaches\n",
    "def score_dataset(X_train, X_valid, y_train, y_valid):\n",
    "    model = RandomForestRegressor(n_estimators=100, random_state=0)\n",
    "    model.fit(X_train, y_train)\n",
    "    preds = model.predict(X_valid)\n",
    "    return mean_absolute_error(y_valid, preds)"
   ]
  },
  {
   "cell_type": "markdown",
   "id": "cec84746",
   "metadata": {
    "papermill": {
     "duration": 0.042376,
     "end_time": "2021-12-18T18:22:29.303597",
     "exception": false,
     "start_time": "2021-12-18T18:22:29.261221",
     "status": "completed"
    },
    "tags": []
   },
   "source": [
    "# Step 1: Drop columns with categorical data\n",
    "\n",
    "You'll get started with the most straightforward approach.  Use the code cell below to preprocess the data in `X_train` and `X_valid` to remove columns with categorical data.  Set the preprocessed DataFrames to `drop_X_train` and `drop_X_valid`, respectively.  "
   ]
  },
  {
   "cell_type": "code",
   "execution_count": 5,
   "id": "6a9abad2",
   "metadata": {
    "execution": {
     "iopub.execute_input": "2021-12-18T18:22:29.399028Z",
     "iopub.status.busy": "2021-12-18T18:22:29.398243Z",
     "iopub.status.idle": "2021-12-18T18:22:29.408080Z",
     "shell.execute_reply": "2021-12-18T18:22:29.408653Z",
     "shell.execute_reply.started": "2021-12-18T16:52:37.110646Z"
    },
    "papermill": {
     "duration": 0.062434,
     "end_time": "2021-12-18T18:22:29.408868",
     "exception": false,
     "start_time": "2021-12-18T18:22:29.346434",
     "status": "completed"
    },
    "tags": []
   },
   "outputs": [
    {
     "data": {
      "application/javascript": [
       "parent.postMessage({\"jupyterEvent\": \"custom.exercise_interaction\", \"data\": {\"outcomeType\": 1, \"valueTowardsCompletion\": 0.5, \"interactionType\": 1, \"questionType\": 2, \"questionId\": \"1_Drop\", \"learnToolsVersion\": \"0.3.4\", \"failureMessage\": \"\", \"exceptionClass\": \"\", \"trace\": \"\"}}, \"*\")"
      ],
      "text/plain": [
       "<IPython.core.display.Javascript object>"
      ]
     },
     "metadata": {},
     "output_type": "display_data"
    },
    {
     "data": {
      "text/markdown": [
       "<span style=\"color:#33cc33\">Correct</span>"
      ],
      "text/plain": [
       "Correct"
      ]
     },
     "metadata": {},
     "output_type": "display_data"
    }
   ],
   "source": [
    "# Fill in the lines below: drop columns in training and validation data\n",
    "drop_X_train = X_train.drop(columns=[col for col in X_train.columns if X_train[col].dtypes == 'O'])\n",
    "drop_X_valid = X_valid.drop(columns=[col for col in X_valid.columns if X_valid[col].dtypes == 'O'])\n",
    "\n",
    "# Check your answers\n",
    "step_1.check()"
   ]
  },
  {
   "cell_type": "code",
   "execution_count": 6,
   "id": "27bfe697",
   "metadata": {
    "execution": {
     "iopub.execute_input": "2021-12-18T18:22:29.499394Z",
     "iopub.status.busy": "2021-12-18T18:22:29.498719Z",
     "iopub.status.idle": "2021-12-18T18:22:29.501489Z",
     "shell.execute_reply": "2021-12-18T18:22:29.502034Z",
     "shell.execute_reply.started": "2021-12-18T16:53:25.920399Z"
    },
    "papermill": {
     "duration": 0.049778,
     "end_time": "2021-12-18T18:22:29.502227",
     "exception": false,
     "start_time": "2021-12-18T18:22:29.452449",
     "status": "completed"
    },
    "tags": []
   },
   "outputs": [],
   "source": [
    "# Lines below will give you a hint or solution code\n",
    "#step_1.hint()\n",
    "#step_1.solution()"
   ]
  },
  {
   "cell_type": "markdown",
   "id": "b1015d7e",
   "metadata": {
    "papermill": {
     "duration": 0.042804,
     "end_time": "2021-12-18T18:22:29.588878",
     "exception": false,
     "start_time": "2021-12-18T18:22:29.546074",
     "status": "completed"
    },
    "tags": []
   },
   "source": [
    "Run the next code cell to get the MAE for this approach."
   ]
  },
  {
   "cell_type": "code",
   "execution_count": 7,
   "id": "12e1916b",
   "metadata": {
    "execution": {
     "iopub.execute_input": "2021-12-18T18:22:29.678923Z",
     "iopub.status.busy": "2021-12-18T18:22:29.678246Z",
     "iopub.status.idle": "2021-12-18T18:22:29.698358Z",
     "shell.execute_reply": "2021-12-18T18:22:29.698843Z",
     "shell.execute_reply.started": "2021-12-18T16:53:39.573861Z"
    },
    "papermill": {
     "duration": 0.066839,
     "end_time": "2021-12-18T18:22:29.699050",
     "exception": false,
     "start_time": "2021-12-18T18:22:29.632211",
     "status": "completed"
    },
    "tags": []
   },
   "outputs": [
    {
     "data": {
      "text/html": [
       "<div>\n",
       "<style scoped>\n",
       "    .dataframe tbody tr th:only-of-type {\n",
       "        vertical-align: middle;\n",
       "    }\n",
       "\n",
       "    .dataframe tbody tr th {\n",
       "        vertical-align: top;\n",
       "    }\n",
       "\n",
       "    .dataframe thead th {\n",
       "        text-align: right;\n",
       "    }\n",
       "</style>\n",
       "<table border=\"1\" class=\"dataframe\">\n",
       "  <thead>\n",
       "    <tr style=\"text-align: right;\">\n",
       "      <th></th>\n",
       "      <th>MSSubClass</th>\n",
       "      <th>LotArea</th>\n",
       "      <th>OverallQual</th>\n",
       "      <th>OverallCond</th>\n",
       "      <th>YearBuilt</th>\n",
       "      <th>YearRemodAdd</th>\n",
       "      <th>BsmtFinSF1</th>\n",
       "      <th>BsmtFinSF2</th>\n",
       "      <th>BsmtUnfSF</th>\n",
       "      <th>TotalBsmtSF</th>\n",
       "      <th>...</th>\n",
       "      <th>GarageArea</th>\n",
       "      <th>WoodDeckSF</th>\n",
       "      <th>OpenPorchSF</th>\n",
       "      <th>EnclosedPorch</th>\n",
       "      <th>3SsnPorch</th>\n",
       "      <th>ScreenPorch</th>\n",
       "      <th>PoolArea</th>\n",
       "      <th>MiscVal</th>\n",
       "      <th>MoSold</th>\n",
       "      <th>YrSold</th>\n",
       "    </tr>\n",
       "    <tr>\n",
       "      <th>Id</th>\n",
       "      <th></th>\n",
       "      <th></th>\n",
       "      <th></th>\n",
       "      <th></th>\n",
       "      <th></th>\n",
       "      <th></th>\n",
       "      <th></th>\n",
       "      <th></th>\n",
       "      <th></th>\n",
       "      <th></th>\n",
       "      <th></th>\n",
       "      <th></th>\n",
       "      <th></th>\n",
       "      <th></th>\n",
       "      <th></th>\n",
       "      <th></th>\n",
       "      <th></th>\n",
       "      <th></th>\n",
       "      <th></th>\n",
       "      <th></th>\n",
       "      <th></th>\n",
       "    </tr>\n",
       "  </thead>\n",
       "  <tbody>\n",
       "    <tr>\n",
       "      <th>619</th>\n",
       "      <td>20</td>\n",
       "      <td>11694</td>\n",
       "      <td>9</td>\n",
       "      <td>5</td>\n",
       "      <td>2007</td>\n",
       "      <td>2007</td>\n",
       "      <td>48</td>\n",
       "      <td>0</td>\n",
       "      <td>1774</td>\n",
       "      <td>1822</td>\n",
       "      <td>...</td>\n",
       "      <td>774</td>\n",
       "      <td>0</td>\n",
       "      <td>108</td>\n",
       "      <td>0</td>\n",
       "      <td>0</td>\n",
       "      <td>260</td>\n",
       "      <td>0</td>\n",
       "      <td>0</td>\n",
       "      <td>7</td>\n",
       "      <td>2007</td>\n",
       "    </tr>\n",
       "    <tr>\n",
       "      <th>871</th>\n",
       "      <td>20</td>\n",
       "      <td>6600</td>\n",
       "      <td>5</td>\n",
       "      <td>5</td>\n",
       "      <td>1962</td>\n",
       "      <td>1962</td>\n",
       "      <td>0</td>\n",
       "      <td>0</td>\n",
       "      <td>894</td>\n",
       "      <td>894</td>\n",
       "      <td>...</td>\n",
       "      <td>308</td>\n",
       "      <td>0</td>\n",
       "      <td>0</td>\n",
       "      <td>0</td>\n",
       "      <td>0</td>\n",
       "      <td>0</td>\n",
       "      <td>0</td>\n",
       "      <td>0</td>\n",
       "      <td>8</td>\n",
       "      <td>2009</td>\n",
       "    </tr>\n",
       "    <tr>\n",
       "      <th>93</th>\n",
       "      <td>30</td>\n",
       "      <td>13360</td>\n",
       "      <td>5</td>\n",
       "      <td>7</td>\n",
       "      <td>1921</td>\n",
       "      <td>2006</td>\n",
       "      <td>713</td>\n",
       "      <td>0</td>\n",
       "      <td>163</td>\n",
       "      <td>876</td>\n",
       "      <td>...</td>\n",
       "      <td>432</td>\n",
       "      <td>0</td>\n",
       "      <td>0</td>\n",
       "      <td>44</td>\n",
       "      <td>0</td>\n",
       "      <td>0</td>\n",
       "      <td>0</td>\n",
       "      <td>0</td>\n",
       "      <td>8</td>\n",
       "      <td>2009</td>\n",
       "    </tr>\n",
       "    <tr>\n",
       "      <th>818</th>\n",
       "      <td>20</td>\n",
       "      <td>13265</td>\n",
       "      <td>8</td>\n",
       "      <td>5</td>\n",
       "      <td>2002</td>\n",
       "      <td>2002</td>\n",
       "      <td>1218</td>\n",
       "      <td>0</td>\n",
       "      <td>350</td>\n",
       "      <td>1568</td>\n",
       "      <td>...</td>\n",
       "      <td>857</td>\n",
       "      <td>150</td>\n",
       "      <td>59</td>\n",
       "      <td>0</td>\n",
       "      <td>0</td>\n",
       "      <td>0</td>\n",
       "      <td>0</td>\n",
       "      <td>0</td>\n",
       "      <td>7</td>\n",
       "      <td>2008</td>\n",
       "    </tr>\n",
       "    <tr>\n",
       "      <th>303</th>\n",
       "      <td>20</td>\n",
       "      <td>13704</td>\n",
       "      <td>7</td>\n",
       "      <td>5</td>\n",
       "      <td>2001</td>\n",
       "      <td>2002</td>\n",
       "      <td>0</td>\n",
       "      <td>0</td>\n",
       "      <td>1541</td>\n",
       "      <td>1541</td>\n",
       "      <td>...</td>\n",
       "      <td>843</td>\n",
       "      <td>468</td>\n",
       "      <td>81</td>\n",
       "      <td>0</td>\n",
       "      <td>0</td>\n",
       "      <td>0</td>\n",
       "      <td>0</td>\n",
       "      <td>0</td>\n",
       "      <td>1</td>\n",
       "      <td>2006</td>\n",
       "    </tr>\n",
       "    <tr>\n",
       "      <th>...</th>\n",
       "      <td>...</td>\n",
       "      <td>...</td>\n",
       "      <td>...</td>\n",
       "      <td>...</td>\n",
       "      <td>...</td>\n",
       "      <td>...</td>\n",
       "      <td>...</td>\n",
       "      <td>...</td>\n",
       "      <td>...</td>\n",
       "      <td>...</td>\n",
       "      <td>...</td>\n",
       "      <td>...</td>\n",
       "      <td>...</td>\n",
       "      <td>...</td>\n",
       "      <td>...</td>\n",
       "      <td>...</td>\n",
       "      <td>...</td>\n",
       "      <td>...</td>\n",
       "      <td>...</td>\n",
       "      <td>...</td>\n",
       "      <td>...</td>\n",
       "    </tr>\n",
       "    <tr>\n",
       "      <th>764</th>\n",
       "      <td>60</td>\n",
       "      <td>9430</td>\n",
       "      <td>8</td>\n",
       "      <td>5</td>\n",
       "      <td>1999</td>\n",
       "      <td>1999</td>\n",
       "      <td>1163</td>\n",
       "      <td>0</td>\n",
       "      <td>89</td>\n",
       "      <td>1252</td>\n",
       "      <td>...</td>\n",
       "      <td>856</td>\n",
       "      <td>0</td>\n",
       "      <td>128</td>\n",
       "      <td>0</td>\n",
       "      <td>0</td>\n",
       "      <td>180</td>\n",
       "      <td>0</td>\n",
       "      <td>0</td>\n",
       "      <td>7</td>\n",
       "      <td>2009</td>\n",
       "    </tr>\n",
       "    <tr>\n",
       "      <th>836</th>\n",
       "      <td>20</td>\n",
       "      <td>9600</td>\n",
       "      <td>4</td>\n",
       "      <td>7</td>\n",
       "      <td>1950</td>\n",
       "      <td>1995</td>\n",
       "      <td>442</td>\n",
       "      <td>0</td>\n",
       "      <td>625</td>\n",
       "      <td>1067</td>\n",
       "      <td>...</td>\n",
       "      <td>436</td>\n",
       "      <td>290</td>\n",
       "      <td>0</td>\n",
       "      <td>0</td>\n",
       "      <td>0</td>\n",
       "      <td>0</td>\n",
       "      <td>0</td>\n",
       "      <td>0</td>\n",
       "      <td>2</td>\n",
       "      <td>2010</td>\n",
       "    </tr>\n",
       "    <tr>\n",
       "      <th>1217</th>\n",
       "      <td>90</td>\n",
       "      <td>8930</td>\n",
       "      <td>6</td>\n",
       "      <td>5</td>\n",
       "      <td>1978</td>\n",
       "      <td>1978</td>\n",
       "      <td>0</td>\n",
       "      <td>0</td>\n",
       "      <td>0</td>\n",
       "      <td>0</td>\n",
       "      <td>...</td>\n",
       "      <td>539</td>\n",
       "      <td>0</td>\n",
       "      <td>0</td>\n",
       "      <td>0</td>\n",
       "      <td>0</td>\n",
       "      <td>0</td>\n",
       "      <td>0</td>\n",
       "      <td>0</td>\n",
       "      <td>4</td>\n",
       "      <td>2010</td>\n",
       "    </tr>\n",
       "    <tr>\n",
       "      <th>560</th>\n",
       "      <td>120</td>\n",
       "      <td>3196</td>\n",
       "      <td>7</td>\n",
       "      <td>5</td>\n",
       "      <td>2003</td>\n",
       "      <td>2004</td>\n",
       "      <td>0</td>\n",
       "      <td>0</td>\n",
       "      <td>1374</td>\n",
       "      <td>1374</td>\n",
       "      <td>...</td>\n",
       "      <td>420</td>\n",
       "      <td>143</td>\n",
       "      <td>20</td>\n",
       "      <td>0</td>\n",
       "      <td>0</td>\n",
       "      <td>0</td>\n",
       "      <td>0</td>\n",
       "      <td>0</td>\n",
       "      <td>10</td>\n",
       "      <td>2006</td>\n",
       "    </tr>\n",
       "    <tr>\n",
       "      <th>685</th>\n",
       "      <td>60</td>\n",
       "      <td>16770</td>\n",
       "      <td>7</td>\n",
       "      <td>5</td>\n",
       "      <td>1998</td>\n",
       "      <td>1998</td>\n",
       "      <td>0</td>\n",
       "      <td>0</td>\n",
       "      <td>1195</td>\n",
       "      <td>1195</td>\n",
       "      <td>...</td>\n",
       "      <td>486</td>\n",
       "      <td>0</td>\n",
       "      <td>81</td>\n",
       "      <td>0</td>\n",
       "      <td>0</td>\n",
       "      <td>0</td>\n",
       "      <td>0</td>\n",
       "      <td>0</td>\n",
       "      <td>6</td>\n",
       "      <td>2010</td>\n",
       "    </tr>\n",
       "  </tbody>\n",
       "</table>\n",
       "<p>1168 rows × 33 columns</p>\n",
       "</div>"
      ],
      "text/plain": [
       "      MSSubClass  LotArea  OverallQual  OverallCond  YearBuilt  YearRemodAdd  \\\n",
       "Id                                                                             \n",
       "619           20    11694            9            5       2007          2007   \n",
       "871           20     6600            5            5       1962          1962   \n",
       "93            30    13360            5            7       1921          2006   \n",
       "818           20    13265            8            5       2002          2002   \n",
       "303           20    13704            7            5       2001          2002   \n",
       "...          ...      ...          ...          ...        ...           ...   \n",
       "764           60     9430            8            5       1999          1999   \n",
       "836           20     9600            4            7       1950          1995   \n",
       "1217          90     8930            6            5       1978          1978   \n",
       "560          120     3196            7            5       2003          2004   \n",
       "685           60    16770            7            5       1998          1998   \n",
       "\n",
       "      BsmtFinSF1  BsmtFinSF2  BsmtUnfSF  TotalBsmtSF  ...  GarageArea  \\\n",
       "Id                                                    ...               \n",
       "619           48           0       1774         1822  ...         774   \n",
       "871            0           0        894          894  ...         308   \n",
       "93           713           0        163          876  ...         432   \n",
       "818         1218           0        350         1568  ...         857   \n",
       "303            0           0       1541         1541  ...         843   \n",
       "...          ...         ...        ...          ...  ...         ...   \n",
       "764         1163           0         89         1252  ...         856   \n",
       "836          442           0        625         1067  ...         436   \n",
       "1217           0           0          0            0  ...         539   \n",
       "560            0           0       1374         1374  ...         420   \n",
       "685            0           0       1195         1195  ...         486   \n",
       "\n",
       "      WoodDeckSF  OpenPorchSF  EnclosedPorch  3SsnPorch  ScreenPorch  \\\n",
       "Id                                                                     \n",
       "619            0          108              0          0          260   \n",
       "871            0            0              0          0            0   \n",
       "93             0            0             44          0            0   \n",
       "818          150           59              0          0            0   \n",
       "303          468           81              0          0            0   \n",
       "...          ...          ...            ...        ...          ...   \n",
       "764            0          128              0          0          180   \n",
       "836          290            0              0          0            0   \n",
       "1217           0            0              0          0            0   \n",
       "560          143           20              0          0            0   \n",
       "685            0           81              0          0            0   \n",
       "\n",
       "      PoolArea  MiscVal  MoSold  YrSold  \n",
       "Id                                       \n",
       "619          0        0       7    2007  \n",
       "871          0        0       8    2009  \n",
       "93           0        0       8    2009  \n",
       "818          0        0       7    2008  \n",
       "303          0        0       1    2006  \n",
       "...        ...      ...     ...     ...  \n",
       "764          0        0       7    2009  \n",
       "836          0        0       2    2010  \n",
       "1217         0        0       4    2010  \n",
       "560          0        0      10    2006  \n",
       "685          0        0       6    2010  \n",
       "\n",
       "[1168 rows x 33 columns]"
      ]
     },
     "execution_count": 7,
     "metadata": {},
     "output_type": "execute_result"
    }
   ],
   "source": [
    "drop_X_train"
   ]
  },
  {
   "cell_type": "code",
   "execution_count": 8,
   "id": "b820c1d4",
   "metadata": {
    "execution": {
     "iopub.execute_input": "2021-12-18T18:22:29.791207Z",
     "iopub.status.busy": "2021-12-18T18:22:29.790373Z",
     "iopub.status.idle": "2021-12-18T18:22:29.809548Z",
     "shell.execute_reply": "2021-12-18T18:22:29.810040Z",
     "shell.execute_reply.started": "2021-12-18T16:53:51.834264Z"
    },
    "papermill": {
     "duration": 0.067105,
     "end_time": "2021-12-18T18:22:29.810247",
     "exception": false,
     "start_time": "2021-12-18T18:22:29.743142",
     "status": "completed"
    },
    "tags": []
   },
   "outputs": [
    {
     "data": {
      "text/html": [
       "<div>\n",
       "<style scoped>\n",
       "    .dataframe tbody tr th:only-of-type {\n",
       "        vertical-align: middle;\n",
       "    }\n",
       "\n",
       "    .dataframe tbody tr th {\n",
       "        vertical-align: top;\n",
       "    }\n",
       "\n",
       "    .dataframe thead th {\n",
       "        text-align: right;\n",
       "    }\n",
       "</style>\n",
       "<table border=\"1\" class=\"dataframe\">\n",
       "  <thead>\n",
       "    <tr style=\"text-align: right;\">\n",
       "      <th></th>\n",
       "      <th>MSSubClass</th>\n",
       "      <th>LotArea</th>\n",
       "      <th>OverallQual</th>\n",
       "      <th>OverallCond</th>\n",
       "      <th>YearBuilt</th>\n",
       "      <th>YearRemodAdd</th>\n",
       "      <th>BsmtFinSF1</th>\n",
       "      <th>BsmtFinSF2</th>\n",
       "      <th>BsmtUnfSF</th>\n",
       "      <th>TotalBsmtSF</th>\n",
       "      <th>...</th>\n",
       "      <th>GarageArea</th>\n",
       "      <th>WoodDeckSF</th>\n",
       "      <th>OpenPorchSF</th>\n",
       "      <th>EnclosedPorch</th>\n",
       "      <th>3SsnPorch</th>\n",
       "      <th>ScreenPorch</th>\n",
       "      <th>PoolArea</th>\n",
       "      <th>MiscVal</th>\n",
       "      <th>MoSold</th>\n",
       "      <th>YrSold</th>\n",
       "    </tr>\n",
       "    <tr>\n",
       "      <th>Id</th>\n",
       "      <th></th>\n",
       "      <th></th>\n",
       "      <th></th>\n",
       "      <th></th>\n",
       "      <th></th>\n",
       "      <th></th>\n",
       "      <th></th>\n",
       "      <th></th>\n",
       "      <th></th>\n",
       "      <th></th>\n",
       "      <th></th>\n",
       "      <th></th>\n",
       "      <th></th>\n",
       "      <th></th>\n",
       "      <th></th>\n",
       "      <th></th>\n",
       "      <th></th>\n",
       "      <th></th>\n",
       "      <th></th>\n",
       "      <th></th>\n",
       "      <th></th>\n",
       "    </tr>\n",
       "  </thead>\n",
       "  <tbody>\n",
       "    <tr>\n",
       "      <th>530</th>\n",
       "      <td>20</td>\n",
       "      <td>32668</td>\n",
       "      <td>6</td>\n",
       "      <td>3</td>\n",
       "      <td>1957</td>\n",
       "      <td>1975</td>\n",
       "      <td>1219</td>\n",
       "      <td>0</td>\n",
       "      <td>816</td>\n",
       "      <td>2035</td>\n",
       "      <td>...</td>\n",
       "      <td>484</td>\n",
       "      <td>0</td>\n",
       "      <td>0</td>\n",
       "      <td>200</td>\n",
       "      <td>0</td>\n",
       "      <td>0</td>\n",
       "      <td>0</td>\n",
       "      <td>0</td>\n",
       "      <td>3</td>\n",
       "      <td>2007</td>\n",
       "    </tr>\n",
       "    <tr>\n",
       "      <th>492</th>\n",
       "      <td>50</td>\n",
       "      <td>9490</td>\n",
       "      <td>6</td>\n",
       "      <td>7</td>\n",
       "      <td>1941</td>\n",
       "      <td>1950</td>\n",
       "      <td>403</td>\n",
       "      <td>165</td>\n",
       "      <td>238</td>\n",
       "      <td>806</td>\n",
       "      <td>...</td>\n",
       "      <td>240</td>\n",
       "      <td>0</td>\n",
       "      <td>0</td>\n",
       "      <td>32</td>\n",
       "      <td>0</td>\n",
       "      <td>0</td>\n",
       "      <td>0</td>\n",
       "      <td>0</td>\n",
       "      <td>8</td>\n",
       "      <td>2006</td>\n",
       "    </tr>\n",
       "    <tr>\n",
       "      <th>460</th>\n",
       "      <td>50</td>\n",
       "      <td>7015</td>\n",
       "      <td>5</td>\n",
       "      <td>4</td>\n",
       "      <td>1950</td>\n",
       "      <td>1950</td>\n",
       "      <td>185</td>\n",
       "      <td>0</td>\n",
       "      <td>524</td>\n",
       "      <td>709</td>\n",
       "      <td>...</td>\n",
       "      <td>352</td>\n",
       "      <td>0</td>\n",
       "      <td>0</td>\n",
       "      <td>248</td>\n",
       "      <td>0</td>\n",
       "      <td>0</td>\n",
       "      <td>0</td>\n",
       "      <td>0</td>\n",
       "      <td>7</td>\n",
       "      <td>2009</td>\n",
       "    </tr>\n",
       "    <tr>\n",
       "      <th>280</th>\n",
       "      <td>60</td>\n",
       "      <td>10005</td>\n",
       "      <td>7</td>\n",
       "      <td>5</td>\n",
       "      <td>1977</td>\n",
       "      <td>1977</td>\n",
       "      <td>392</td>\n",
       "      <td>0</td>\n",
       "      <td>768</td>\n",
       "      <td>1160</td>\n",
       "      <td>...</td>\n",
       "      <td>505</td>\n",
       "      <td>288</td>\n",
       "      <td>117</td>\n",
       "      <td>0</td>\n",
       "      <td>0</td>\n",
       "      <td>0</td>\n",
       "      <td>0</td>\n",
       "      <td>0</td>\n",
       "      <td>3</td>\n",
       "      <td>2008</td>\n",
       "    </tr>\n",
       "    <tr>\n",
       "      <th>656</th>\n",
       "      <td>160</td>\n",
       "      <td>1680</td>\n",
       "      <td>6</td>\n",
       "      <td>5</td>\n",
       "      <td>1971</td>\n",
       "      <td>1971</td>\n",
       "      <td>0</td>\n",
       "      <td>0</td>\n",
       "      <td>525</td>\n",
       "      <td>525</td>\n",
       "      <td>...</td>\n",
       "      <td>264</td>\n",
       "      <td>0</td>\n",
       "      <td>0</td>\n",
       "      <td>0</td>\n",
       "      <td>0</td>\n",
       "      <td>0</td>\n",
       "      <td>0</td>\n",
       "      <td>0</td>\n",
       "      <td>3</td>\n",
       "      <td>2010</td>\n",
       "    </tr>\n",
       "    <tr>\n",
       "      <th>...</th>\n",
       "      <td>...</td>\n",
       "      <td>...</td>\n",
       "      <td>...</td>\n",
       "      <td>...</td>\n",
       "      <td>...</td>\n",
       "      <td>...</td>\n",
       "      <td>...</td>\n",
       "      <td>...</td>\n",
       "      <td>...</td>\n",
       "      <td>...</td>\n",
       "      <td>...</td>\n",
       "      <td>...</td>\n",
       "      <td>...</td>\n",
       "      <td>...</td>\n",
       "      <td>...</td>\n",
       "      <td>...</td>\n",
       "      <td>...</td>\n",
       "      <td>...</td>\n",
       "      <td>...</td>\n",
       "      <td>...</td>\n",
       "      <td>...</td>\n",
       "    </tr>\n",
       "    <tr>\n",
       "      <th>327</th>\n",
       "      <td>120</td>\n",
       "      <td>10846</td>\n",
       "      <td>8</td>\n",
       "      <td>5</td>\n",
       "      <td>1993</td>\n",
       "      <td>1993</td>\n",
       "      <td>1619</td>\n",
       "      <td>0</td>\n",
       "      <td>100</td>\n",
       "      <td>1719</td>\n",
       "      <td>...</td>\n",
       "      <td>473</td>\n",
       "      <td>122</td>\n",
       "      <td>30</td>\n",
       "      <td>0</td>\n",
       "      <td>0</td>\n",
       "      <td>0</td>\n",
       "      <td>0</td>\n",
       "      <td>0</td>\n",
       "      <td>5</td>\n",
       "      <td>2008</td>\n",
       "    </tr>\n",
       "    <tr>\n",
       "      <th>441</th>\n",
       "      <td>20</td>\n",
       "      <td>15431</td>\n",
       "      <td>10</td>\n",
       "      <td>5</td>\n",
       "      <td>2008</td>\n",
       "      <td>2008</td>\n",
       "      <td>1767</td>\n",
       "      <td>539</td>\n",
       "      <td>788</td>\n",
       "      <td>3094</td>\n",
       "      <td>...</td>\n",
       "      <td>672</td>\n",
       "      <td>0</td>\n",
       "      <td>72</td>\n",
       "      <td>0</td>\n",
       "      <td>0</td>\n",
       "      <td>170</td>\n",
       "      <td>0</td>\n",
       "      <td>0</td>\n",
       "      <td>4</td>\n",
       "      <td>2009</td>\n",
       "    </tr>\n",
       "    <tr>\n",
       "      <th>1388</th>\n",
       "      <td>50</td>\n",
       "      <td>8520</td>\n",
       "      <td>6</td>\n",
       "      <td>7</td>\n",
       "      <td>1916</td>\n",
       "      <td>1950</td>\n",
       "      <td>168</td>\n",
       "      <td>546</td>\n",
       "      <td>0</td>\n",
       "      <td>714</td>\n",
       "      <td>...</td>\n",
       "      <td>216</td>\n",
       "      <td>88</td>\n",
       "      <td>15</td>\n",
       "      <td>0</td>\n",
       "      <td>0</td>\n",
       "      <td>0</td>\n",
       "      <td>0</td>\n",
       "      <td>0</td>\n",
       "      <td>8</td>\n",
       "      <td>2007</td>\n",
       "    </tr>\n",
       "    <tr>\n",
       "      <th>1324</th>\n",
       "      <td>30</td>\n",
       "      <td>5330</td>\n",
       "      <td>4</td>\n",
       "      <td>7</td>\n",
       "      <td>1940</td>\n",
       "      <td>1950</td>\n",
       "      <td>280</td>\n",
       "      <td>0</td>\n",
       "      <td>140</td>\n",
       "      <td>420</td>\n",
       "      <td>...</td>\n",
       "      <td>0</td>\n",
       "      <td>164</td>\n",
       "      <td>0</td>\n",
       "      <td>0</td>\n",
       "      <td>0</td>\n",
       "      <td>0</td>\n",
       "      <td>0</td>\n",
       "      <td>0</td>\n",
       "      <td>12</td>\n",
       "      <td>2009</td>\n",
       "    </tr>\n",
       "    <tr>\n",
       "      <th>62</th>\n",
       "      <td>75</td>\n",
       "      <td>7200</td>\n",
       "      <td>5</td>\n",
       "      <td>7</td>\n",
       "      <td>1920</td>\n",
       "      <td>1996</td>\n",
       "      <td>0</td>\n",
       "      <td>0</td>\n",
       "      <td>530</td>\n",
       "      <td>530</td>\n",
       "      <td>...</td>\n",
       "      <td>288</td>\n",
       "      <td>0</td>\n",
       "      <td>0</td>\n",
       "      <td>144</td>\n",
       "      <td>0</td>\n",
       "      <td>0</td>\n",
       "      <td>0</td>\n",
       "      <td>0</td>\n",
       "      <td>3</td>\n",
       "      <td>2007</td>\n",
       "    </tr>\n",
       "  </tbody>\n",
       "</table>\n",
       "<p>292 rows × 33 columns</p>\n",
       "</div>"
      ],
      "text/plain": [
       "      MSSubClass  LotArea  OverallQual  OverallCond  YearBuilt  YearRemodAdd  \\\n",
       "Id                                                                             \n",
       "530           20    32668            6            3       1957          1975   \n",
       "492           50     9490            6            7       1941          1950   \n",
       "460           50     7015            5            4       1950          1950   \n",
       "280           60    10005            7            5       1977          1977   \n",
       "656          160     1680            6            5       1971          1971   \n",
       "...          ...      ...          ...          ...        ...           ...   \n",
       "327          120    10846            8            5       1993          1993   \n",
       "441           20    15431           10            5       2008          2008   \n",
       "1388          50     8520            6            7       1916          1950   \n",
       "1324          30     5330            4            7       1940          1950   \n",
       "62            75     7200            5            7       1920          1996   \n",
       "\n",
       "      BsmtFinSF1  BsmtFinSF2  BsmtUnfSF  TotalBsmtSF  ...  GarageArea  \\\n",
       "Id                                                    ...               \n",
       "530         1219           0        816         2035  ...         484   \n",
       "492          403         165        238          806  ...         240   \n",
       "460          185           0        524          709  ...         352   \n",
       "280          392           0        768         1160  ...         505   \n",
       "656            0           0        525          525  ...         264   \n",
       "...          ...         ...        ...          ...  ...         ...   \n",
       "327         1619           0        100         1719  ...         473   \n",
       "441         1767         539        788         3094  ...         672   \n",
       "1388         168         546          0          714  ...         216   \n",
       "1324         280           0        140          420  ...           0   \n",
       "62             0           0        530          530  ...         288   \n",
       "\n",
       "      WoodDeckSF  OpenPorchSF  EnclosedPorch  3SsnPorch  ScreenPorch  \\\n",
       "Id                                                                     \n",
       "530            0            0            200          0            0   \n",
       "492            0            0             32          0            0   \n",
       "460            0            0            248          0            0   \n",
       "280          288          117              0          0            0   \n",
       "656            0            0              0          0            0   \n",
       "...          ...          ...            ...        ...          ...   \n",
       "327          122           30              0          0            0   \n",
       "441            0           72              0          0          170   \n",
       "1388          88           15              0          0            0   \n",
       "1324         164            0              0          0            0   \n",
       "62             0            0            144          0            0   \n",
       "\n",
       "      PoolArea  MiscVal  MoSold  YrSold  \n",
       "Id                                       \n",
       "530          0        0       3    2007  \n",
       "492          0        0       8    2006  \n",
       "460          0        0       7    2009  \n",
       "280          0        0       3    2008  \n",
       "656          0        0       3    2010  \n",
       "...        ...      ...     ...     ...  \n",
       "327          0        0       5    2008  \n",
       "441          0        0       4    2009  \n",
       "1388         0        0       8    2007  \n",
       "1324         0        0      12    2009  \n",
       "62           0        0       3    2007  \n",
       "\n",
       "[292 rows x 33 columns]"
      ]
     },
     "execution_count": 8,
     "metadata": {},
     "output_type": "execute_result"
    }
   ],
   "source": [
    "drop_X_valid"
   ]
  },
  {
   "cell_type": "code",
   "execution_count": 9,
   "id": "91fd406b",
   "metadata": {
    "execution": {
     "iopub.execute_input": "2021-12-18T18:22:29.905442Z",
     "iopub.status.busy": "2021-12-18T18:22:29.904742Z",
     "iopub.status.idle": "2021-12-18T18:22:29.925535Z",
     "shell.execute_reply": "2021-12-18T18:22:29.926075Z",
     "shell.execute_reply.started": "2021-12-18T16:55:37.029806Z"
    },
    "papermill": {
     "duration": 0.071143,
     "end_time": "2021-12-18T18:22:29.926285",
     "exception": false,
     "start_time": "2021-12-18T18:22:29.855142",
     "status": "completed"
    },
    "tags": []
   },
   "outputs": [
    {
     "name": "stdout",
     "output_type": "stream",
     "text": [
      "<class 'pandas.core.frame.DataFrame'>\n",
      "Int64Index: 1168 entries, 619 to 685\n",
      "Data columns (total 60 columns):\n",
      " #   Column         Non-Null Count  Dtype \n",
      "---  ------         --------------  ----- \n",
      " 0   MSSubClass     1168 non-null   int64 \n",
      " 1   MSZoning       1168 non-null   object\n",
      " 2   LotArea        1168 non-null   int64 \n",
      " 3   Street         1168 non-null   object\n",
      " 4   LotShape       1168 non-null   object\n",
      " 5   LandContour    1168 non-null   object\n",
      " 6   Utilities      1168 non-null   object\n",
      " 7   LotConfig      1168 non-null   object\n",
      " 8   LandSlope      1168 non-null   object\n",
      " 9   Neighborhood   1168 non-null   object\n",
      " 10  Condition1     1168 non-null   object\n",
      " 11  Condition2     1168 non-null   object\n",
      " 12  BldgType       1168 non-null   object\n",
      " 13  HouseStyle     1168 non-null   object\n",
      " 14  OverallQual    1168 non-null   int64 \n",
      " 15  OverallCond    1168 non-null   int64 \n",
      " 16  YearBuilt      1168 non-null   int64 \n",
      " 17  YearRemodAdd   1168 non-null   int64 \n",
      " 18  RoofStyle      1168 non-null   object\n",
      " 19  RoofMatl       1168 non-null   object\n",
      " 20  Exterior1st    1168 non-null   object\n",
      " 21  Exterior2nd    1168 non-null   object\n",
      " 22  ExterQual      1168 non-null   object\n",
      " 23  ExterCond      1168 non-null   object\n",
      " 24  Foundation     1168 non-null   object\n",
      " 25  BsmtFinSF1     1168 non-null   int64 \n",
      " 26  BsmtFinSF2     1168 non-null   int64 \n",
      " 27  BsmtUnfSF      1168 non-null   int64 \n",
      " 28  TotalBsmtSF    1168 non-null   int64 \n",
      " 29  Heating        1168 non-null   object\n",
      " 30  HeatingQC      1168 non-null   object\n",
      " 31  CentralAir     1168 non-null   object\n",
      " 32  1stFlrSF       1168 non-null   int64 \n",
      " 33  2ndFlrSF       1168 non-null   int64 \n",
      " 34  LowQualFinSF   1168 non-null   int64 \n",
      " 35  GrLivArea      1168 non-null   int64 \n",
      " 36  BsmtFullBath   1168 non-null   int64 \n",
      " 37  BsmtHalfBath   1168 non-null   int64 \n",
      " 38  FullBath       1168 non-null   int64 \n",
      " 39  HalfBath       1168 non-null   int64 \n",
      " 40  BedroomAbvGr   1168 non-null   int64 \n",
      " 41  KitchenAbvGr   1168 non-null   int64 \n",
      " 42  KitchenQual    1168 non-null   object\n",
      " 43  TotRmsAbvGrd   1168 non-null   int64 \n",
      " 44  Functional     1168 non-null   object\n",
      " 45  Fireplaces     1168 non-null   int64 \n",
      " 46  GarageCars     1168 non-null   int64 \n",
      " 47  GarageArea     1168 non-null   int64 \n",
      " 48  PavedDrive     1168 non-null   object\n",
      " 49  WoodDeckSF     1168 non-null   int64 \n",
      " 50  OpenPorchSF    1168 non-null   int64 \n",
      " 51  EnclosedPorch  1168 non-null   int64 \n",
      " 52  3SsnPorch      1168 non-null   int64 \n",
      " 53  ScreenPorch    1168 non-null   int64 \n",
      " 54  PoolArea       1168 non-null   int64 \n",
      " 55  MiscVal        1168 non-null   int64 \n",
      " 56  MoSold         1168 non-null   int64 \n",
      " 57  YrSold         1168 non-null   int64 \n",
      " 58  SaleType       1168 non-null   object\n",
      " 59  SaleCondition  1168 non-null   object\n",
      "dtypes: int64(33), object(27)\n",
      "memory usage: 556.6+ KB\n"
     ]
    }
   ],
   "source": [
    "X_train.info()"
   ]
  },
  {
   "cell_type": "code",
   "execution_count": 10,
   "id": "b5ced38d",
   "metadata": {
    "execution": {
     "iopub.execute_input": "2021-12-18T18:22:30.020527Z",
     "iopub.status.busy": "2021-12-18T18:22:30.019862Z",
     "iopub.status.idle": "2021-12-18T18:22:31.269573Z",
     "shell.execute_reply": "2021-12-18T18:22:31.269021Z",
     "shell.execute_reply.started": "2021-12-18T16:54:00.534287Z"
    },
    "papermill": {
     "duration": 1.297962,
     "end_time": "2021-12-18T18:22:31.269724",
     "exception": false,
     "start_time": "2021-12-18T18:22:29.971762",
     "status": "completed"
    },
    "tags": []
   },
   "outputs": [
    {
     "name": "stdout",
     "output_type": "stream",
     "text": [
      "MAE from Approach 1 (Drop categorical variables):\n",
      "17837.82570776256\n"
     ]
    }
   ],
   "source": [
    "print(\"MAE from Approach 1 (Drop categorical variables):\")\n",
    "print(score_dataset(drop_X_train, drop_X_valid, y_train, y_valid))"
   ]
  },
  {
   "cell_type": "markdown",
   "id": "d57a9982",
   "metadata": {
    "papermill": {
     "duration": 0.045599,
     "end_time": "2021-12-18T18:22:31.362122",
     "exception": false,
     "start_time": "2021-12-18T18:22:31.316523",
     "status": "completed"
    },
    "tags": []
   },
   "source": [
    "Before jumping into ordinal encoding, we'll investigate the dataset.  Specifically, we'll look at the `'Condition2'` column.  The code cell below prints the unique entries in both the training and validation sets."
   ]
  },
  {
   "cell_type": "code",
   "execution_count": 11,
   "id": "d847b31b",
   "metadata": {
    "execution": {
     "iopub.execute_input": "2021-12-18T18:22:31.461324Z",
     "iopub.status.busy": "2021-12-18T18:22:31.460667Z",
     "iopub.status.idle": "2021-12-18T18:22:31.464877Z",
     "shell.execute_reply": "2021-12-18T18:22:31.464239Z",
     "shell.execute_reply.started": "2021-12-18T16:54:37.169858Z"
    },
    "papermill": {
     "duration": 0.057336,
     "end_time": "2021-12-18T18:22:31.465017",
     "exception": false,
     "start_time": "2021-12-18T18:22:31.407681",
     "status": "completed"
    },
    "tags": []
   },
   "outputs": [
    {
     "name": "stdout",
     "output_type": "stream",
     "text": [
      "Unique values in 'Condition2' column in training data: ['Norm' 'PosA' 'Feedr' 'PosN' 'Artery' 'RRAe']\n",
      "\n",
      "Unique values in 'Condition2' column in validation data: ['Norm' 'RRAn' 'RRNn' 'Artery' 'Feedr' 'PosN']\n"
     ]
    }
   ],
   "source": [
    "print(\"Unique values in 'Condition2' column in training data:\", X_train['Condition2'].unique())\n",
    "print(\"\\nUnique values in 'Condition2' column in validation data:\", X_valid['Condition2'].unique())"
   ]
  },
  {
   "cell_type": "code",
   "execution_count": 12,
   "id": "a95a76cc",
   "metadata": {
    "execution": {
     "iopub.execute_input": "2021-12-18T18:22:31.564535Z",
     "iopub.status.busy": "2021-12-18T18:22:31.563896Z",
     "iopub.status.idle": "2021-12-18T18:22:31.567598Z",
     "shell.execute_reply": "2021-12-18T18:22:31.566911Z",
     "shell.execute_reply.started": "2021-12-18T16:58:57.239275Z"
    },
    "papermill": {
     "duration": 0.056334,
     "end_time": "2021-12-18T18:22:31.567751",
     "exception": false,
     "start_time": "2021-12-18T18:22:31.511417",
     "status": "completed"
    },
    "tags": []
   },
   "outputs": [
    {
     "data": {
      "text/plain": [
       "array(['Norm', 'PosA', 'Feedr', 'PosN', 'Artery', 'RRAe'], dtype=object)"
      ]
     },
     "execution_count": 12,
     "metadata": {},
     "output_type": "execute_result"
    }
   ],
   "source": [
    "X_train['Condition2'].unique()"
   ]
  },
  {
   "cell_type": "code",
   "execution_count": 13,
   "id": "85993fb5",
   "metadata": {
    "execution": {
     "iopub.execute_input": "2021-12-18T18:22:31.667846Z",
     "iopub.status.busy": "2021-12-18T18:22:31.667168Z",
     "iopub.status.idle": "2021-12-18T18:22:31.671960Z",
     "shell.execute_reply": "2021-12-18T18:22:31.671464Z",
     "shell.execute_reply.started": "2021-12-18T17:15:51.625509Z"
    },
    "papermill": {
     "duration": 0.057962,
     "end_time": "2021-12-18T18:22:31.672101",
     "exception": false,
     "start_time": "2021-12-18T18:22:31.614139",
     "status": "completed"
    },
    "tags": []
   },
   "outputs": [
    {
     "data": {
      "text/plain": [
       "array(['Norm', 'RRAn', 'RRNn', 'Artery', 'Feedr', 'PosN'], dtype=object)"
      ]
     },
     "execution_count": 13,
     "metadata": {},
     "output_type": "execute_result"
    }
   ],
   "source": [
    "X_valid['Condition2'].unique()"
   ]
  },
  {
   "cell_type": "markdown",
   "id": "3d97043e",
   "metadata": {
    "papermill": {
     "duration": 0.045812,
     "end_time": "2021-12-18T18:22:31.764614",
     "exception": false,
     "start_time": "2021-12-18T18:22:31.718802",
     "status": "completed"
    },
    "tags": []
   },
   "source": [
    "# Step 2: Ordinal encoding\n",
    "\n",
    "### Part A\n",
    "\n",
    "If you now write code to: \n",
    "- fit an ordinal encoder to the training data, and then \n",
    "- use it to transform both the training and validation data, \n",
    "\n",
    "you'll get an error.  Can you see why this is the case?  (_You'll need  to use the above output to answer this question._)"
   ]
  },
  {
   "cell_type": "code",
   "execution_count": 14,
   "id": "c2da4723",
   "metadata": {
    "execution": {
     "iopub.execute_input": "2021-12-18T18:22:31.863068Z",
     "iopub.status.busy": "2021-12-18T18:22:31.862365Z",
     "iopub.status.idle": "2021-12-18T18:22:31.876454Z",
     "shell.execute_reply": "2021-12-18T18:22:31.875852Z",
     "shell.execute_reply.started": "2021-12-18T17:08:56.959411Z"
    },
    "papermill": {
     "duration": 0.064233,
     "end_time": "2021-12-18T18:22:31.876602",
     "exception": false,
     "start_time": "2021-12-18T18:22:31.812369",
     "status": "completed"
    },
    "tags": []
   },
   "outputs": [],
   "source": [
    "tr_features=[i for i in X_train.columns if X_train[i].dtypes == 'O' and X_train[i].nunique()<10]\n",
    "te_features=[i for i in X_valid.columns if X_valid[i].dtypes == 'O' and X_valid[i].nunique()<10]"
   ]
  },
  {
   "cell_type": "code",
   "execution_count": 15,
   "id": "ec8aea97",
   "metadata": {
    "execution": {
     "iopub.execute_input": "2021-12-18T18:22:31.977751Z",
     "iopub.status.busy": "2021-12-18T18:22:31.977065Z",
     "iopub.status.idle": "2021-12-18T18:22:32.099410Z",
     "shell.execute_reply": "2021-12-18T18:22:32.098694Z",
     "shell.execute_reply.started": "2021-12-18T17:11:52.860108Z"
    },
    "papermill": {
     "duration": 0.175465,
     "end_time": "2021-12-18T18:22:32.099784",
     "exception": true,
     "start_time": "2021-12-18T18:22:31.924319",
     "status": "failed"
    },
    "tags": []
   },
   "outputs": [
    {
     "ename": "AttributeError",
     "evalue": "'list' object has no attribute 'reshape'",
     "output_type": "error",
     "traceback": [
      "\u001b[0;31m---------------------------------------------------------------------------\u001b[0m",
      "\u001b[0;31mAttributeError\u001b[0m                            Traceback (most recent call last)",
      "\u001b[0;32m/tmp/ipykernel_20/202708359.py\u001b[0m in \u001b[0;36m<module>\u001b[0;34m\u001b[0m\n\u001b[1;32m      7\u001b[0m \u001b[0;31m# Apply ordinal encoder to each column with categorical data\u001b[0m\u001b[0;34m\u001b[0m\u001b[0;34m\u001b[0m\u001b[0;34m\u001b[0m\u001b[0m\n\u001b[1;32m      8\u001b[0m \u001b[0mordinal_encoder\u001b[0m \u001b[0;34m=\u001b[0m \u001b[0mOrdinalEncoder\u001b[0m\u001b[0;34m(\u001b[0m\u001b[0;34m)\u001b[0m\u001b[0;34m\u001b[0m\u001b[0;34m\u001b[0m\u001b[0m\n\u001b[0;32m----> 9\u001b[0;31m \u001b[0mlabel_X_train\u001b[0m\u001b[0;34m[\u001b[0m\u001b[0mtr_features\u001b[0m\u001b[0;34m]\u001b[0m \u001b[0;34m=\u001b[0m \u001b[0mordinal_encoder\u001b[0m\u001b[0;34m.\u001b[0m\u001b[0mfit_transform\u001b[0m\u001b[0;34m(\u001b[0m\u001b[0mtr_features\u001b[0m\u001b[0;34m.\u001b[0m\u001b[0mreshape\u001b[0m\u001b[0;34m(\u001b[0m\u001b[0;36m1\u001b[0m\u001b[0;34m,\u001b[0m\u001b[0;34m-\u001b[0m\u001b[0;36m1\u001b[0m\u001b[0;34m)\u001b[0m\u001b[0;34m)\u001b[0m\u001b[0;34m\u001b[0m\u001b[0;34m\u001b[0m\u001b[0m\n\u001b[0m\u001b[1;32m     10\u001b[0m \u001b[0mlabel_X_valid\u001b[0m\u001b[0;34m[\u001b[0m\u001b[0mte_features\u001b[0m\u001b[0;34m]\u001b[0m \u001b[0;34m=\u001b[0m \u001b[0mordinal_encoder\u001b[0m\u001b[0;34m.\u001b[0m\u001b[0mtransform\u001b[0m\u001b[0;34m(\u001b[0m\u001b[0mte_features\u001b[0m\u001b[0;34m.\u001b[0m\u001b[0mreshape\u001b[0m\u001b[0;34m(\u001b[0m\u001b[0;36m1\u001b[0m\u001b[0;34m,\u001b[0m\u001b[0;34m-\u001b[0m\u001b[0;36m1\u001b[0m\u001b[0;34m)\u001b[0m\u001b[0;34m)\u001b[0m\u001b[0;34m\u001b[0m\u001b[0;34m\u001b[0m\u001b[0m\n",
      "\u001b[0;31mAttributeError\u001b[0m: 'list' object has no attribute 'reshape'"
     ]
    }
   ],
   "source": [
    "from sklearn.preprocessing import OrdinalEncoder\n",
    "\n",
    "# Make copy to avoid changing original data \n",
    "label_X_train = X_train.copy()\n",
    "label_X_valid = X_valid.copy()\n",
    "\n",
    "# Apply ordinal encoder to each column with categorical data\n",
    "ordinal_encoder = OrdinalEncoder()\n",
    "label_X_train[tr_features] = ordinal_encoder.fit_transform(tr_features.reshape(1,-1))\n",
    "label_X_valid[te_features] = ordinal_encoder.transform(te_features.reshape(1,-1))"
   ]
  },
  {
   "cell_type": "code",
   "execution_count": null,
   "id": "5c516163",
   "metadata": {
    "execution": {
     "iopub.execute_input": "2021-12-18T17:09:36.169412Z",
     "iopub.status.busy": "2021-12-18T17:09:36.168695Z",
     "iopub.status.idle": "2021-12-18T17:09:36.177085Z",
     "shell.execute_reply": "2021-12-18T17:09:36.176398Z",
     "shell.execute_reply.started": "2021-12-18T17:09:36.169356Z"
    },
    "papermill": {
     "duration": null,
     "end_time": null,
     "exception": null,
     "start_time": null,
     "status": "pending"
    },
    "tags": []
   },
   "outputs": [],
   "source": [
    "# Check your answer (Run this code cell to receive credit!)\n",
    "step_2.a.check()"
   ]
  },
  {
   "cell_type": "code",
   "execution_count": null,
   "id": "5b594389",
   "metadata": {
    "papermill": {
     "duration": null,
     "end_time": null,
     "exception": null,
     "start_time": null,
     "status": "pending"
    },
    "tags": []
   },
   "outputs": [],
   "source": [
    "#step_2.a.hint()"
   ]
  },
  {
   "cell_type": "markdown",
   "id": "c58f73a0",
   "metadata": {
    "papermill": {
     "duration": null,
     "end_time": null,
     "exception": null,
     "start_time": null,
     "status": "pending"
    },
    "tags": []
   },
   "source": [
    "This is a common problem that you'll encounter with real-world data, and there are many approaches to fixing this issue.  For instance, you can write a custom ordinal encoder to deal with new categories.  The simplest approach, however, is to drop the problematic categorical columns.  \n",
    "\n",
    "Run the code cell below to save the problematic columns to a Python list `bad_label_cols`.  Likewise, columns that can be safely ordinal encoded are stored in `good_label_cols`."
   ]
  },
  {
   "cell_type": "code",
   "execution_count": null,
   "id": "8e3030e3",
   "metadata": {
    "execution": {
     "iopub.execute_input": "2021-12-18T17:13:10.409768Z",
     "iopub.status.busy": "2021-12-18T17:13:10.409096Z",
     "iopub.status.idle": "2021-12-18T17:13:10.426281Z",
     "shell.execute_reply": "2021-12-18T17:13:10.425414Z",
     "shell.execute_reply.started": "2021-12-18T17:13:10.409732Z"
    },
    "papermill": {
     "duration": null,
     "end_time": null,
     "exception": null,
     "start_time": null,
     "status": "pending"
    },
    "tags": []
   },
   "outputs": [],
   "source": [
    "# Categorical columns in the training data\n",
    "object_cols = [col for col in X_train.columns if X_train[col].dtype == \"object\"]\n",
    "\n",
    "# Columns that can be safely ordinal encoded\n",
    "good_label_cols = [col for col in object_cols if \n",
    "                   set(X_valid[col]).issubset(set(X_train[col]))]\n",
    "        \n",
    "# Problematic columns that will be dropped from the dataset\n",
    "bad_label_cols = list(set(object_cols)-set(good_label_cols))\n",
    "        \n",
    "print('Categorical columns that will be ordinal encoded:', good_label_cols)\n",
    "print('\\nCategorical columns that will be dropped from the dataset:', bad_label_cols)"
   ]
  },
  {
   "cell_type": "markdown",
   "id": "0d2da875",
   "metadata": {
    "papermill": {
     "duration": null,
     "end_time": null,
     "exception": null,
     "start_time": null,
     "status": "pending"
    },
    "tags": []
   },
   "source": [
    "### Part B\n",
    "\n",
    "Use the next code cell to ordinal encode the data in `X_train` and `X_valid`.  Set the preprocessed DataFrames to `label_X_train` and `label_X_valid`, respectively.  \n",
    "- We have provided code below to drop the categorical columns in `bad_label_cols` from the dataset. \n",
    "- You should ordinal encode the categorical columns in `good_label_cols`.  "
   ]
  },
  {
   "cell_type": "code",
   "execution_count": null,
   "id": "196d9572",
   "metadata": {
    "execution": {
     "iopub.execute_input": "2021-12-18T17:19:07.571255Z",
     "iopub.status.busy": "2021-12-18T17:19:07.570970Z",
     "iopub.status.idle": "2021-12-18T17:19:07.623269Z",
     "shell.execute_reply": "2021-12-18T17:19:07.622532Z",
     "shell.execute_reply.started": "2021-12-18T17:19:07.571227Z"
    },
    "papermill": {
     "duration": null,
     "end_time": null,
     "exception": null,
     "start_time": null,
     "status": "pending"
    },
    "tags": []
   },
   "outputs": [],
   "source": [
    "from sklearn.preprocessing import OrdinalEncoder\n",
    "\n",
    "# Drop categorical columns that will not be encoded\n",
    "label_X_train = X_train.drop(bad_label_cols, axis=1)\n",
    "label_X_valid = X_valid.drop(bad_label_cols, axis=1)\n",
    "\n",
    "# Apply ordinal encoder \n",
    "label_X_train[good_label_cols] = ordinal_encoder.fit_transform(X_train[good_label_cols])\n",
    "label_X_valid[good_label_cols] = ordinal_encoder.transform(X_valid[good_label_cols])\n",
    "# Your code here\n",
    "    \n",
    "# Check your answer\n",
    "step_2.b.check()"
   ]
  },
  {
   "cell_type": "code",
   "execution_count": null,
   "id": "62e2e18f",
   "metadata": {
    "papermill": {
     "duration": null,
     "end_time": null,
     "exception": null,
     "start_time": null,
     "status": "pending"
    },
    "tags": []
   },
   "outputs": [],
   "source": [
    "# Lines below will give you a hint or solution code\n",
    "#step_2.b.hint()\n",
    "#step_2.b.solution()"
   ]
  },
  {
   "cell_type": "markdown",
   "id": "31d6d382",
   "metadata": {
    "papermill": {
     "duration": null,
     "end_time": null,
     "exception": null,
     "start_time": null,
     "status": "pending"
    },
    "tags": []
   },
   "source": [
    "Run the next code cell to get the MAE for this approach."
   ]
  },
  {
   "cell_type": "code",
   "execution_count": null,
   "id": "55d8e9f2",
   "metadata": {
    "execution": {
     "iopub.execute_input": "2021-12-18T17:21:54.419728Z",
     "iopub.status.busy": "2021-12-18T17:21:54.419418Z",
     "iopub.status.idle": "2021-12-18T17:21:55.989223Z",
     "shell.execute_reply": "2021-12-18T17:21:55.987960Z",
     "shell.execute_reply.started": "2021-12-18T17:21:54.419697Z"
    },
    "papermill": {
     "duration": null,
     "end_time": null,
     "exception": null,
     "start_time": null,
     "status": "pending"
    },
    "tags": []
   },
   "outputs": [],
   "source": [
    "print(\"MAE from Approach 2 (Ordinal Encoding):\") \n",
    "print(score_dataset(label_X_train, label_X_valid, y_train, y_valid))"
   ]
  },
  {
   "cell_type": "markdown",
   "id": "cc6ffe01",
   "metadata": {
    "papermill": {
     "duration": null,
     "end_time": null,
     "exception": null,
     "start_time": null,
     "status": "pending"
    },
    "tags": []
   },
   "source": [
    "So far, you've tried two different approaches to dealing with categorical variables.  And, you've seen that encoding categorical data yields better results than removing columns from the dataset.\n",
    "\n",
    "Soon, you'll try one-hot encoding.  Before then, there's one additional topic we need to cover.  Begin by running the next code cell without changes.  "
   ]
  },
  {
   "cell_type": "code",
   "execution_count": null,
   "id": "c234cf67",
   "metadata": {
    "execution": {
     "iopub.execute_input": "2021-12-18T17:25:09.714796Z",
     "iopub.status.busy": "2021-12-18T17:25:09.714467Z",
     "iopub.status.idle": "2021-12-18T17:25:09.730261Z",
     "shell.execute_reply": "2021-12-18T17:25:09.729271Z",
     "shell.execute_reply.started": "2021-12-18T17:25:09.714762Z"
    },
    "papermill": {
     "duration": null,
     "end_time": null,
     "exception": null,
     "start_time": null,
     "status": "pending"
    },
    "tags": []
   },
   "outputs": [],
   "source": [
    "### Get number of unique entries in each column with categorical data\n",
    "object_nunique = list(map(lambda col: X_train[col].nunique(), object_cols))\n",
    "d = dict(zip(object_cols, object_nunique))\n",
    "\n",
    "# Print number of unique entries by column, in ascending order\n",
    "sorted(d.items(), key=lambda x: x[1])"
   ]
  },
  {
   "cell_type": "markdown",
   "id": "de131695",
   "metadata": {
    "papermill": {
     "duration": null,
     "end_time": null,
     "exception": null,
     "start_time": null,
     "status": "pending"
    },
    "tags": []
   },
   "source": [
    "# Step 3: Investigating cardinality\n",
    "\n",
    "### Part A\n",
    "\n",
    "The output above shows, for each column with categorical data, the number of unique values in the column.  For instance, the `'Street'` column in the training data has two unique values: `'Grvl'` and `'Pave'`, corresponding to a gravel road and a paved road, respectively.\n",
    "\n",
    "We refer to the number of unique entries of a categorical variable as the **cardinality** of that categorical variable.  For instance, the `'Street'` variable has cardinality 2.\n",
    "\n",
    "Use the output above to answer the questions below."
   ]
  },
  {
   "cell_type": "code",
   "execution_count": null,
   "id": "fcb49635",
   "metadata": {
    "execution": {
     "iopub.execute_input": "2021-12-18T17:45:58.529013Z",
     "iopub.status.busy": "2021-12-18T17:45:58.528350Z",
     "iopub.status.idle": "2021-12-18T17:45:58.541621Z",
     "shell.execute_reply": "2021-12-18T17:45:58.540613Z",
     "shell.execute_reply.started": "2021-12-18T17:45:58.528971Z"
    },
    "papermill": {
     "duration": null,
     "end_time": null,
     "exception": null,
     "start_time": null,
     "status": "pending"
    },
    "tags": []
   },
   "outputs": [],
   "source": [
    "high_cardinality_numcols = [i for i in X_train.columns if X_train[i].dtypes == 'O' and X_train[i].nunique()>10]\n",
    "high_cardinality_numcols"
   ]
  },
  {
   "cell_type": "code",
   "execution_count": null,
   "id": "3e04b92e",
   "metadata": {
    "execution": {
     "iopub.execute_input": "2021-12-18T17:57:15.220334Z",
     "iopub.status.busy": "2021-12-18T17:57:15.219512Z",
     "iopub.status.idle": "2021-12-18T17:57:15.227045Z",
     "shell.execute_reply": "2021-12-18T17:57:15.226226Z",
     "shell.execute_reply.started": "2021-12-18T17:57:15.220286Z"
    },
    "papermill": {
     "duration": null,
     "end_time": null,
     "exception": null,
     "start_time": null,
     "status": "pending"
    },
    "tags": []
   },
   "outputs": [],
   "source": [
    "X_train['Neighborhood'].nunique()"
   ]
  },
  {
   "cell_type": "code",
   "execution_count": null,
   "id": "bc6b3f3a",
   "metadata": {
    "execution": {
     "iopub.execute_input": "2021-12-18T17:46:58.844766Z",
     "iopub.status.busy": "2021-12-18T17:46:58.843949Z",
     "iopub.status.idle": "2021-12-18T17:46:58.851279Z",
     "shell.execute_reply": "2021-12-18T17:46:58.850400Z",
     "shell.execute_reply.started": "2021-12-18T17:46:58.844723Z"
    },
    "papermill": {
     "duration": null,
     "end_time": null,
     "exception": null,
     "start_time": null,
     "status": "pending"
    },
    "tags": []
   },
   "outputs": [],
   "source": [
    "num=[i for i in X_train.columns if X_train[i].dtypes != 'O']\n",
    "len(num)"
   ]
  },
  {
   "cell_type": "code",
   "execution_count": null,
   "id": "ad1f112c",
   "metadata": {
    "execution": {
     "iopub.execute_input": "2021-12-18T17:57:21.279967Z",
     "iopub.status.busy": "2021-12-18T17:57:21.279464Z",
     "iopub.status.idle": "2021-12-18T17:57:21.288514Z",
     "shell.execute_reply": "2021-12-18T17:57:21.287473Z",
     "shell.execute_reply.started": "2021-12-18T17:57:21.279933Z"
    },
    "papermill": {
     "duration": null,
     "end_time": null,
     "exception": null,
     "start_time": null,
     "status": "pending"
    },
    "tags": []
   },
   "outputs": [],
   "source": [
    "# Fill in the line below: How many categorical variables in the training data\n",
    "# have cardinality greater than 10?\n",
    "high_cardinality_numcols = 3\n",
    "\n",
    "# Fill in the line below: How many columns are needed to one-hot encode the \n",
    "# 'Neighborhood' variable in the training data?\n",
    "num_cols_neighborhood = 25\n",
    "\n",
    "# Check your answers\n",
    "step_3.a.check()"
   ]
  },
  {
   "cell_type": "code",
   "execution_count": null,
   "id": "18c789fc",
   "metadata": {
    "execution": {
     "iopub.execute_input": "2021-12-18T17:45:28.438989Z",
     "iopub.status.busy": "2021-12-18T17:45:28.438720Z",
     "iopub.status.idle": "2021-12-18T17:45:28.444417Z",
     "shell.execute_reply": "2021-12-18T17:45:28.443493Z",
     "shell.execute_reply.started": "2021-12-18T17:45:28.438961Z"
    },
    "papermill": {
     "duration": null,
     "end_time": null,
     "exception": null,
     "start_time": null,
     "status": "pending"
    },
    "tags": []
   },
   "outputs": [],
   "source": [
    "high_cardinality_numcols"
   ]
  },
  {
   "cell_type": "code",
   "execution_count": null,
   "id": "905c886c",
   "metadata": {
    "execution": {
     "iopub.execute_input": "2021-12-18T17:58:52.639532Z",
     "iopub.status.busy": "2021-12-18T17:58:52.639148Z",
     "iopub.status.idle": "2021-12-18T17:58:52.646338Z",
     "shell.execute_reply": "2021-12-18T17:58:52.645466Z",
     "shell.execute_reply.started": "2021-12-18T17:58:52.639503Z"
    },
    "papermill": {
     "duration": null,
     "end_time": null,
     "exception": null,
     "start_time": null,
     "status": "pending"
    },
    "tags": []
   },
   "outputs": [],
   "source": [
    "# Lines below will give you a hint or solution code\n",
    "step_3.a.hint()\n",
    "#step_3.a.solution()"
   ]
  },
  {
   "cell_type": "markdown",
   "id": "25e47df6",
   "metadata": {
    "papermill": {
     "duration": null,
     "end_time": null,
     "exception": null,
     "start_time": null,
     "status": "pending"
    },
    "tags": []
   },
   "source": [
    "### Part B\n",
    "\n",
    "For large datasets with many rows, one-hot encoding can greatly expand the size of the dataset.  For this reason, we typically will only one-hot encode columns with relatively low cardinality.  Then, high cardinality columns can either be dropped from the dataset, or we can use ordinal encoding.\n",
    "\n",
    "As an example, consider a dataset with 10,000 rows, and containing one categorical column with 100 unique entries.  \n",
    "- If this column is replaced with the corresponding one-hot encoding, how many entries are added to the dataset?  \n",
    "- If we instead replace the column with the ordinal encoding, how many entries are added?  \n",
    "\n",
    "Use your answers to fill in the lines below."
   ]
  },
  {
   "cell_type": "code",
   "execution_count": null,
   "id": "3b924c3e",
   "metadata": {
    "execution": {
     "iopub.execute_input": "2021-12-18T18:07:06.240219Z",
     "iopub.status.busy": "2021-12-18T18:07:06.239330Z",
     "iopub.status.idle": "2021-12-18T18:07:06.254390Z",
     "shell.execute_reply": "2021-12-18T18:07:06.253195Z",
     "shell.execute_reply.started": "2021-12-18T18:07:06.240167Z"
    },
    "papermill": {
     "duration": null,
     "end_time": null,
     "exception": null,
     "start_time": null,
     "status": "pending"
    },
    "tags": []
   },
   "outputs": [],
   "source": [
    "low_cardinality_numcols = [i for i in X_train.columns if X_train[i].dtypes == 'O' and X_train[i].nunique()<10]\n",
    "len(low_cardinality_numcols)"
   ]
  },
  {
   "cell_type": "code",
   "execution_count": null,
   "id": "5caa8efe",
   "metadata": {
    "execution": {
     "iopub.execute_input": "2021-12-18T18:08:56.714854Z",
     "iopub.status.busy": "2021-12-18T18:08:56.714583Z",
     "iopub.status.idle": "2021-12-18T18:08:56.723871Z",
     "shell.execute_reply": "2021-12-18T18:08:56.723142Z",
     "shell.execute_reply.started": "2021-12-18T18:08:56.714825Z"
    },
    "papermill": {
     "duration": null,
     "end_time": null,
     "exception": null,
     "start_time": null,
     "status": "pending"
    },
    "tags": []
   },
   "outputs": [],
   "source": [
    "# Fill in the line below: How many entries are added to the dataset by \n",
    "# replacing the column with a one-hot encoding?\n",
    "OH_entries_added = 1e4*100-1e4\n",
    "\n",
    "# Fill in the line below: How many entries are added to the dataset by\n",
    "# replacing the column with an ordinal encoding?\n",
    "label_entries_added = 0\n",
    "\n",
    "# Check your answers\n",
    "step_3.b.check()"
   ]
  },
  {
   "cell_type": "code",
   "execution_count": null,
   "id": "8119607e",
   "metadata": {
    "execution": {
     "iopub.execute_input": "2021-12-18T18:09:17.758041Z",
     "iopub.status.busy": "2021-12-18T18:09:17.757550Z",
     "iopub.status.idle": "2021-12-18T18:09:17.764272Z",
     "shell.execute_reply": "2021-12-18T18:09:17.763419Z",
     "shell.execute_reply.started": "2021-12-18T18:09:17.757991Z"
    },
    "papermill": {
     "duration": null,
     "end_time": null,
     "exception": null,
     "start_time": null,
     "status": "pending"
    },
    "tags": []
   },
   "outputs": [],
   "source": [
    "OH_entries_added"
   ]
  },
  {
   "cell_type": "code",
   "execution_count": null,
   "id": "179f32a3",
   "metadata": {
    "execution": {
     "iopub.execute_input": "2021-12-18T18:05:34.489389Z",
     "iopub.status.busy": "2021-12-18T18:05:34.489052Z",
     "iopub.status.idle": "2021-12-18T18:05:34.495340Z",
     "shell.execute_reply": "2021-12-18T18:05:34.494606Z",
     "shell.execute_reply.started": "2021-12-18T18:05:34.489359Z"
    },
    "papermill": {
     "duration": null,
     "end_time": null,
     "exception": null,
     "start_time": null,
     "status": "pending"
    },
    "tags": []
   },
   "outputs": [],
   "source": [
    "X_train.shape"
   ]
  },
  {
   "cell_type": "code",
   "execution_count": null,
   "id": "b268691f",
   "metadata": {
    "execution": {
     "iopub.execute_input": "2021-12-18T18:04:27.549403Z",
     "iopub.status.busy": "2021-12-18T18:04:27.549107Z",
     "iopub.status.idle": "2021-12-18T18:04:27.561994Z",
     "shell.execute_reply": "2021-12-18T18:04:27.560963Z",
     "shell.execute_reply.started": "2021-12-18T18:04:27.549374Z"
    },
    "papermill": {
     "duration": null,
     "end_time": null,
     "exception": null,
     "start_time": null,
     "status": "pending"
    },
    "tags": []
   },
   "outputs": [],
   "source": [
    "# Lines below will give you a hint or solution code\n",
    "step_3.b.hint()\n",
    "step_3.b.solution()"
   ]
  },
  {
   "cell_type": "markdown",
   "id": "675ea6f8",
   "metadata": {
    "papermill": {
     "duration": null,
     "end_time": null,
     "exception": null,
     "start_time": null,
     "status": "pending"
    },
    "tags": []
   },
   "source": [
    "Next, you'll experiment with one-hot encoding.  But, instead of encoding all of the categorical variables in the dataset, you'll only create a one-hot encoding for columns with cardinality less than 10.\n",
    "\n",
    "Run the code cell below without changes to set `low_cardinality_cols` to a Python list containing the columns that will be one-hot encoded.  Likewise, `high_cardinality_cols` contains a list of categorical columns that will be dropped from the dataset."
   ]
  },
  {
   "cell_type": "code",
   "execution_count": null,
   "id": "a2464213",
   "metadata": {
    "execution": {
     "iopub.execute_input": "2021-12-18T18:13:05.649377Z",
     "iopub.status.busy": "2021-12-18T18:13:05.649058Z",
     "iopub.status.idle": "2021-12-18T18:13:05.662618Z",
     "shell.execute_reply": "2021-12-18T18:13:05.661862Z",
     "shell.execute_reply.started": "2021-12-18T18:13:05.649331Z"
    },
    "papermill": {
     "duration": null,
     "end_time": null,
     "exception": null,
     "start_time": null,
     "status": "pending"
    },
    "tags": []
   },
   "outputs": [],
   "source": [
    "# Columns that will be one-hot encoded\n",
    "low_cardinality_cols = [col for col in object_cols if X_train[col].nunique() < 10]\n",
    "\n",
    "# Columns that will be dropped from the dataset\n",
    "high_cardinality_cols = list(set(object_cols)-set(low_cardinality_cols))\n",
    "\n",
    "print('Categorical columns that will be one-hot encoded:', low_cardinality_cols)\n",
    "print('\\nCategorical columns that will be dropped from the dataset:', high_cardinality_cols)"
   ]
  },
  {
   "cell_type": "markdown",
   "id": "5e9507ae",
   "metadata": {
    "papermill": {
     "duration": null,
     "end_time": null,
     "exception": null,
     "start_time": null,
     "status": "pending"
    },
    "tags": []
   },
   "source": [
    "# Step 4: One-hot encoding\n",
    "\n",
    "Use the next code cell to one-hot encode the data in `X_train` and `X_valid`.  Set the preprocessed DataFrames to `OH_X_train` and `OH_X_valid`, respectively.  \n",
    "- The full list of categorical columns in the dataset can be found in the Python list `object_cols`.\n",
    "- You should only one-hot encode the categorical columns in `low_cardinality_cols`.  All other categorical columns should be dropped from the dataset. "
   ]
  },
  {
   "cell_type": "code",
   "execution_count": null,
   "id": "c8650916",
   "metadata": {
    "execution": {
     "iopub.execute_input": "2021-12-18T18:14:33.768711Z",
     "iopub.status.busy": "2021-12-18T18:14:33.767927Z",
     "iopub.status.idle": "2021-12-18T18:14:33.776006Z",
     "shell.execute_reply": "2021-12-18T18:14:33.775142Z",
     "shell.execute_reply.started": "2021-12-18T18:14:33.768661Z"
    },
    "papermill": {
     "duration": null,
     "end_time": null,
     "exception": null,
     "start_time": null,
     "status": "pending"
    },
    "tags": []
   },
   "outputs": [],
   "source": [
    "object_cols"
   ]
  },
  {
   "cell_type": "code",
   "execution_count": null,
   "id": "3ae725a3",
   "metadata": {
    "execution": {
     "iopub.execute_input": "2021-12-18T18:21:40.630079Z",
     "iopub.status.busy": "2021-12-18T18:21:40.629611Z",
     "iopub.status.idle": "2021-12-18T18:21:40.673518Z",
     "shell.execute_reply": "2021-12-18T18:21:40.672974Z",
     "shell.execute_reply.started": "2021-12-18T18:21:40.630042Z"
    },
    "papermill": {
     "duration": null,
     "end_time": null,
     "exception": null,
     "start_time": null,
     "status": "pending"
    },
    "tags": []
   },
   "outputs": [],
   "source": [
    "from sklearn.preprocessing import OneHotEncoder\n",
    "\n",
    "# Use as many lines of code as you need!\n",
    "\n",
    "OH_encoder = OneHotEncoder(handle_unknown='ignore', sparse=False)\n",
    "OH_X_train = pd.DataFrame(OH_encoder.fit_transform(X_train[low_cardinality_cols]))\n",
    "OH_X_valid = pd.DataFrame(OH_encoder.transform(X_valid[low_cardinality_cols]))\n",
    "\n",
    "OH_X_train.index = X_train.index\n",
    "OH_X_valid.index = X_valid.index\n",
    "\n",
    "num_X_train = X_train.drop(object_cols, axis=1)\n",
    "num_X_valid = X_valid.drop(object_cols, axis=1)\n",
    "\n",
    "OH_X_train = pd.concat([num_X_train, OH_X_train], axis=1)\n",
    "OH_X_valid = pd.concat([num_X_valid, OH_X_valid], axis=1)\n",
    "# Your code here\n",
    "# Your code here\n",
    "\n",
    "# Check your answer\n",
    "step_4.check()"
   ]
  },
  {
   "cell_type": "code",
   "execution_count": null,
   "id": "93e92610",
   "metadata": {
    "execution": {
     "iopub.execute_input": "2021-12-18T18:21:53.469057Z",
     "iopub.status.busy": "2021-12-18T18:21:53.468757Z",
     "iopub.status.idle": "2021-12-18T18:21:53.475591Z",
     "shell.execute_reply": "2021-12-18T18:21:53.474999Z",
     "shell.execute_reply.started": "2021-12-18T18:21:53.469023Z"
    },
    "papermill": {
     "duration": null,
     "end_time": null,
     "exception": null,
     "start_time": null,
     "status": "pending"
    },
    "tags": []
   },
   "outputs": [],
   "source": [
    "# Lines below will give you a hint or solution code\n",
    "step_4.hint()\n",
    "#step_4.solution()"
   ]
  },
  {
   "cell_type": "markdown",
   "id": "241ebd25",
   "metadata": {
    "papermill": {
     "duration": null,
     "end_time": null,
     "exception": null,
     "start_time": null,
     "status": "pending"
    },
    "tags": []
   },
   "source": [
    "Run the next code cell to get the MAE for this approach."
   ]
  },
  {
   "cell_type": "code",
   "execution_count": null,
   "id": "deff1666",
   "metadata": {
    "execution": {
     "iopub.execute_input": "2021-12-18T18:21:45.278146Z",
     "iopub.status.busy": "2021-12-18T18:21:45.277867Z",
     "iopub.status.idle": "2021-12-18T18:21:47.319565Z",
     "shell.execute_reply": "2021-12-18T18:21:47.318570Z",
     "shell.execute_reply.started": "2021-12-18T18:21:45.278119Z"
    },
    "papermill": {
     "duration": null,
     "end_time": null,
     "exception": null,
     "start_time": null,
     "status": "pending"
    },
    "tags": []
   },
   "outputs": [],
   "source": [
    "print(\"MAE from Approach 3 (One-Hot Encoding):\") \n",
    "print(score_dataset(OH_X_train, OH_X_valid, y_train, y_valid))"
   ]
  },
  {
   "cell_type": "markdown",
   "id": "a7886ce4",
   "metadata": {
    "papermill": {
     "duration": null,
     "end_time": null,
     "exception": null,
     "start_time": null,
     "status": "pending"
    },
    "tags": []
   },
   "source": [
    "# Generate test predictions and submit your results\n",
    "\n",
    "After you complete Step 4, if you'd like to use what you've learned to submit your results to the leaderboard, you'll need to preprocess the test data before generating predictions.\n",
    "\n",
    "**This step is completely optional, and you do not need to submit results to the leaderboard to successfully complete the exercise.**\n",
    "\n",
    "Check out the previous exercise if you need help with remembering how to [join the competition](https://www.kaggle.com/c/home-data-for-ml-course) or save your results to CSV.  Once you have generated a file with your results, follow the instructions below:\n",
    "1. Begin by clicking on the **Save Version** button in the top right corner of the window.  This will generate a pop-up window.  \n",
    "2. Ensure that the **Save and Run All** option is selected, and then click on the **Save** button.\n",
    "3. This generates a window in the bottom left corner of the notebook.  After it has finished running, click on the number to the right of the **Save Version** button.  This pulls up a list of versions on the right of the screen.  Click on the ellipsis **(...)** to the right of the most recent version, and select **Open in Viewer**.  This brings you into view mode of the same page. You will need to scroll down to get back to these instructions.\n",
    "4. Click on the **Output** tab on the right of the screen.  Then, click on the file you would like to submit, and click on the **Submit** button to submit your results to the leaderboard.\n",
    "\n",
    "You have now successfully submitted to the competition!\n",
    "\n",
    "If you want to keep working to improve your performance, select the **Edit** button in the top right of the screen. Then you can change your code and repeat the process. There's a lot of room to improve, and you will climb up the leaderboard as you work.\n"
   ]
  },
  {
   "cell_type": "code",
   "execution_count": null,
   "id": "e290b204",
   "metadata": {
    "papermill": {
     "duration": null,
     "end_time": null,
     "exception": null,
     "start_time": null,
     "status": "pending"
    },
    "tags": []
   },
   "outputs": [],
   "source": [
    "# (Optional) Your code here"
   ]
  },
  {
   "cell_type": "markdown",
   "id": "68bbc982",
   "metadata": {
    "papermill": {
     "duration": null,
     "end_time": null,
     "exception": null,
     "start_time": null,
     "status": "pending"
    },
    "tags": []
   },
   "source": [
    "# Keep going\n",
    "\n",
    "With missing value handling and categorical encoding, your modeling process is getting complex. This complexity gets worse when you want to save your model to use in the future. The key to managing this complexity is something called **pipelines**. \n",
    "\n",
    "**[Learn to use pipelines](https://www.kaggle.com/alexisbcook/pipelines)** to preprocess datasets with categorical variables, missing values and any other messiness your data throws at you."
   ]
  },
  {
   "cell_type": "markdown",
   "id": "2de533d5",
   "metadata": {
    "papermill": {
     "duration": null,
     "end_time": null,
     "exception": null,
     "start_time": null,
     "status": "pending"
    },
    "tags": []
   },
   "source": [
    "---\n",
    "\n",
    "\n",
    "\n",
    "\n",
    "*Have questions or comments? Visit the [course discussion forum](https://www.kaggle.com/learn/intermediate-machine-learning/discussion) to chat with other learners.*"
   ]
  }
 ],
 "metadata": {
  "kernelspec": {
   "display_name": "Python 3",
   "language": "python",
   "name": "python3"
  },
  "language_info": {
   "codemirror_mode": {
    "name": "ipython",
    "version": 3
   },
   "file_extension": ".py",
   "mimetype": "text/x-python",
   "name": "python",
   "nbconvert_exporter": "python",
   "pygments_lexer": "ipython3",
   "version": "3.7.12"
  },
  "papermill": {
   "default_parameters": {},
   "duration": 17.476272,
   "end_time": "2021-12-18T18:22:33.060147",
   "environment_variables": {},
   "exception": true,
   "input_path": "__notebook__.ipynb",
   "output_path": "__notebook__.ipynb",
   "parameters": {},
   "start_time": "2021-12-18T18:22:15.583875",
   "version": "2.3.3"
  }
 },
 "nbformat": 4,
 "nbformat_minor": 5
}
